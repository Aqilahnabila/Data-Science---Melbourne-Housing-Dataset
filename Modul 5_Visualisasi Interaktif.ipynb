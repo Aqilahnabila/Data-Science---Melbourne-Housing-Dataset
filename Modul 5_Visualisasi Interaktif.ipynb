{
  "nbformat": 4,
  "nbformat_minor": 0,
  "metadata": {
    "colab": {
      "provenance": []
    },
    "kernelspec": {
      "name": "python3",
      "display_name": "Python 3"
    },
    "language_info": {
      "name": "python"
    },
    "widgets": {
      "application/vnd.jupyter.widget-state+json": {
        "bac3dec642354520b287f8f663f23208": {
          "model_module": "@jupyter-widgets/controls",
          "model_name": "VBoxModel",
          "model_module_version": "1.5.0",
          "state": {
            "_dom_classes": [],
            "_model_module": "@jupyter-widgets/controls",
            "_model_module_version": "1.5.0",
            "_model_name": "VBoxModel",
            "_view_count": null,
            "_view_module": "@jupyter-widgets/controls",
            "_view_module_version": "1.5.0",
            "_view_name": "VBoxView",
            "box_style": "",
            "children": [
              "IPY_MODEL_8d89c7f17a4749a194354622b6b1901d",
              "IPY_MODEL_308d8afac0674bec98329a61ffa4c014",
              "IPY_MODEL_0ad437fb9a3748f8919f074570a897ff"
            ],
            "layout": "IPY_MODEL_e3b2b4dc2b104c39979936fc7bfa6b53"
          }
        },
        "8d89c7f17a4749a194354622b6b1901d": {
          "model_module": "@jupyter-widgets/controls",
          "model_name": "HBoxModel",
          "model_module_version": "1.5.0",
          "state": {
            "_dom_classes": [],
            "_model_module": "@jupyter-widgets/controls",
            "_model_module_version": "1.5.0",
            "_model_name": "HBoxModel",
            "_view_count": null,
            "_view_module": "@jupyter-widgets/controls",
            "_view_module_version": "1.5.0",
            "_view_name": "HBoxView",
            "box_style": "",
            "children": [
              "IPY_MODEL_90264187eed64e6db607d7baab0eb80c",
              "IPY_MODEL_ca46c4669c1c4b02aa0ab660c01391c0"
            ],
            "layout": "IPY_MODEL_85c7f025d090480b888d43d8d46af424"
          }
        },
        "308d8afac0674bec98329a61ffa4c014": {
          "model_module": "@jupyter-widgets/output",
          "model_name": "OutputModel",
          "model_module_version": "1.0.0",
          "state": {
            "_dom_classes": [],
            "_model_module": "@jupyter-widgets/output",
            "_model_module_version": "1.0.0",
            "_model_name": "OutputModel",
            "_view_count": null,
            "_view_module": "@jupyter-widgets/output",
            "_view_module_version": "1.0.0",
            "_view_name": "OutputView",
            "layout": "IPY_MODEL_47fc02ed07d746b6aafa2f1bcbb57a96",
            "msg_id": "",
            "outputs": [
              {
                "output_type": "display_data",
                "data": {
                  "application/vnd.jupyter.widget-view+json": {
                    "version_major": 2,
                    "version_minor": 0,
                    "model_id": "5d5f322c4b4b4beda6bdd06b59def7ab"
                  },
                  "text/plain": "FigureWidget({\n    'data': [{'customdata': array([['Richmond', '7/81 Edinburgh St', 1.0, ..., 870000.0, '2016-05-14',\n                                    'Northern Metropolitan'],\n                                   ['Thornbury', '2/54 Pender St', 1.0, ..., 365000.0, '2016-12-10',\n                                    'Northern Metropolitan'],\n                                   ['Melbourne', '5/27 Flinders La', 1.0, ..., 575000.0, '2017-11-25',\n                                    'Northern Metropolitan'],\n                                   ...,\n                                   ['Cremorne', '218/140 Swan St', 1.0, ..., 525000.0, '2018-03-17',\n                                    'Northern Metropolitan'],\n                                   ['Richmond', '2/28 Davison St', 1.0, ..., 305000.0, '2017-10-21',\n                                    'Northern Metropolitan'],\n                                   ['Richmond', '11/9 Tennyson St', 1.0, ..., 485000.0, '2017-09-16',\n                                    'Northern Metropolitan']], dtype=object),\n              'hovertemplate': ('<b>%{customdata[0]}</b><br>%{c' ... '{customdata[7]}<extra></extra>'),\n              'marker': {'color': '#8dd3c7',\n                         'line': {'color': 'DimGray', 'width': 0.5},\n                         'opacity': 0.65,\n                         'size': array([4.        , 4.        , 4.56508488, 4.56508488, 6.04979338, 4.        ,\n                                        6.1951594 , 4.56508488, 4.56508488, 6.1951594 , 4.56508488, 4.56508488,\n                                        4.56508488, 4.56508488, 4.56508488, 4.56508488, 4.        , 4.56508488,\n                                        4.4810713 , 4.56508488, 4.        , 4.56508488, 6.15792173, 4.56508488,\n                                        4.        , 4.56508488, 4.        , 4.56508488, 4.56508488, 4.        ,\n                                        4.        , 4.56508488, 4.        , 4.56508488, 4.56508488, 4.56508488])},\n              'mode': 'markers',\n              'name': 'Rooms 1',\n              'selected': {'marker': {'color': 'black', 'opacity': 1, 'size': 14}},\n              'type': 'scatter',\n              'uid': 'a8988e02-6ca0-405b-a900-0242579fed4d',\n              'unselected': {'marker': {'opacity': 0.15}},\n              'x': array([ 2.6,  6.5,  0. ,  2.3,  6.4, 14.6,  5.2,  2.6,  2.8,  2.6, 12. ,  2.4,\n                           5.2,  5.2,  5.9, 12. , 13.1,  3. ,  2.6,  2.6,  1.8, 12. ,  6.5,  3.4,\n                           3.2,  5.5,  5.2,  1.6,  3.4,  8.8,  5.2,  2.8,  1.5,  2.4,  2.4,  2.4]),\n              'y': array([ 870000.,  365000.,  575000.,  420000.,  320000.,  530000.,  275000.,\n                           370000.,  870000.,  370000.,  405000.,  870000.,  250000.,  380000.,\n                           300000.,  300000.,  340000.,  415000.,  370000.,  280000., 1000000.,\n                           870000.,  300000.,  300000.,  390000.,  310000.,  240000.,  412000.,\n                           538000.,  830000.,  870000.,  870000.,  750000.,  525000.,  305000.,\n                           485000.])},\n             {'customdata': array([['Blackburn North', '2/1 Grosvenor St', 2.0, ..., 870000.0,\n                                    '2017-11-11', 'Eastern Metropolitan'],\n                                   ['Fairfield', '2/115 Gillies St', 2.0, ..., 505000.0, '2016-11-07',\n                                    'Northern Metropolitan'],\n                                   ['Brunswick', '11/757 Park St', 2.0, ..., 692000.0, '2017-07-01',\n                                    'Northern Metropolitan'],\n                                   ...,\n                                   ['Fairfield', '8/35 Grange Rd', 2.0, ..., 450000.0, '2017-10-21',\n                                    'Northern Metropolitan'],\n                                   ['Northcote', '18/70 Gadd St', 2.0, ..., 680000.0, '2017-03-11',\n                                    'Northern Metropolitan'],\n                                   ['Carlton North', '16 Fenwick St', 2.0, ..., 910000.0, '2016-06-18',\n                                    'Northern Metropolitan']], dtype=object),\n              'hovertemplate': ('<b>%{customdata[0]}</b><br>%{c' ... '{customdata[7]}<extra></extra>'),\n              'marker': {'color': '#ffffb3',\n                         'line': {'color': 'DimGray', 'width': 0.5},\n                         'opacity': 0.65,\n                         'size': array([4.56508488, 4.        , 4.        , ..., 4.56508488, 4.56508488,\n                                        4.        ])},\n              'mode': 'markers',\n              'name': 'Rooms 2',\n              'selected': {'marker': {'color': 'black', 'opacity': 1, 'size': 14}},\n              'type': 'scatter',\n              'uid': '172502fe-2ff7-4457-a5ad-09577df30f16',\n              'unselected': {'marker': {'opacity': 0.15}},\n              'x': array([13.4,  5.8,  5.2, ...,  5.7,  5.5,  3.2]),\n              'y': array([870000., 505000., 692000., ..., 450000., 680000., 910000.])},\n             {'customdata': array([['Vermont South', '3 Winslow Gr', 3.0, ..., 768000.0, '2017-09-03',\n                                    'Eastern Metropolitan'],\n                                   ['Eltham', '13 Elsa Ct', 3.0, ..., 870000.0, '2017-09-03',\n                                    'Eastern Metropolitan'],\n                                   ['Coburg', '99 Rose St', 3.0, ..., 790000.0, '2017-04-08',\n                                    'Northern Metropolitan'],\n                                   ...,\n                                   ['Craigieburn', '8 Woodgrove St', 3.0, ..., 516000.0, '2017-12-09',\n                                    'Northern Metropolitan'],\n                                   ['Brunswick West', '16 Foden St', 3.0, ..., 870000.0, '2016-05-22',\n                                    'Northern Metropolitan'],\n                                   ['Kingsbury', '2/20 Bradshaw St', 3.0, ..., 660000.0, '2017-09-23',\n                                    'Northern Metropolitan']], dtype=object),\n              'hovertemplate': ('<b>%{customdata[0]}</b><br>%{c' ... '{customdata[7]}<extra></extra>'),\n              'marker': {'color': '#bebada',\n                         'line': {'color': 'DimGray', 'width': 0.5},\n                         'opacity': 0.65,\n                         'size': array([4.56508488, 4.56508488, 4.        , ..., 4.        , 4.        ,\n                                        4.56508488])},\n              'mode': 'markers',\n              'name': 'Rooms 3',\n              'selected': {'marker': {'color': 'black', 'opacity': 1, 'size': 14}},\n              'type': 'scatter',\n              'uid': 'f35c944f-6482-4799-8135-2d3c6c625aaa',\n              'unselected': {'marker': {'opacity': 0.15}},\n              'x': array([17.2, 18. ,  7.8, ..., 20.6,  5.9, 12.1]),\n              'y': array([768000., 870000., 790000., ..., 516000., 870000., 660000.])},\n             {'customdata': array([['Coburg', '36 Stockade Av', 4.0, ..., 1082000.0, '2018-02-24',\n                                    'Northern Metropolitan'],\n                                   ['North Melbourne', '306/720 Queensberry St', 4.0, ..., 870000.0,\n                                    '2017-09-03', 'Northern Metropolitan'],\n                                   ['Glenroy', '33 Maude Av', 4.0, ..., 640000.0, '2016-05-28',\n                                    'Northern Metropolitan'],\n                                   ...,\n                                   ['Richmond', '5a Waltham Pl', 4.0, ..., 870000.0, '2016-08-22',\n                                    'Northern Metropolitan'],\n                                   ['Preston', '88 Bruce St', 4.0, ..., 870000.0, '2016-06-18',\n                                    'Northern Metropolitan'],\n                                   ['Mernda', '55 Sackville St', 4.0, ..., 573500.0, '2018-02-10',\n                                    'Northern Metropolitan']], dtype=object),\n              'hovertemplate': ('<b>%{customdata[0]}</b><br>%{c' ... '{customdata[7]}<extra></extra>'),\n              'marker': {'color': '#fb8072',\n                         'line': {'color': 'DimGray', 'width': 0.5},\n                         'opacity': 0.65,\n                         'size': array([4.        , 4.56508488, 4.56508488, 4.97995984, 4.56508488, 4.5475268 ,\n                                        5.83095189, 4.        , 6.1951594 , 4.95580468, 5.05173238, 4.        ,\n                                        4.60868745, 4.56508488, 4.56508488, 4.56508488, 4.2332021 , 6.1951594 ,\n                                        4.        , 4.56508488, 4.56508488, 4.56508488, 4.56508488, 5.10685813,\n                                        4.56508488, 5.09509568, 4.85386444, 5.3141321 , 4.        , 5.14975728,\n                                        5.80689246, 5.07543102, 5.64269439, 4.30813185, 4.2332021 , 5.64269439,\n                                        4.6260134 , 4.        , 4.56508488, 5.72013986, 5.83438086, 4.56508488,\n                                        5.81033562, 5.96657356, 4.56508488, 4.56508488, 4.59129611, 4.68187996,\n                                        4.56508488, 4.56508488, 4.56508488, 5.10685813, 4.56508488, 4.56508488,\n                                        4.56508488, 5.55337735, 5.45893763, 4.56508488, 4.56508488, 6.1951594 ,\n                                        5.82752091, 4.5254834 , 4.80416486, 5.65685425, 4.621688  , 5.27636238,\n                                        4.56508488, 4.56508488, 4.56508488, 5.34789678, 6.19354503, 6.1951594 ,\n                                        5.78964593, 4.        , 5.45527268, 5.26877595, 4.        , 4.60434577,\n                                        4.        , 5.05964426, 4.        , 4.56508488, 5.11468474, 4.56508488,\n                                        4.56508488, 5.84465568, 5.06359556, 4.56508488, 5.98331012, 4.56508488,\n                                        5.65331761, 5.16913919, 5.61426754, 4.76655012, 5.70263097, 5.89915248,\n                                        4.56508488, 5.86515132, 5.3141321 , 4.00998753, 4.96789694, 4.        ,\n                                        5.58211429, 4.56508488, 4.52106182, 4.7581509 , 4.02492236, 4.        ,\n                                        4.56508488, 4.        , 5.18459256, 5.39629503, 4.56508488, 4.11825206,\n                                        4.6260134 , 5.29150262, 5.20768663, 4.56508488, 4.82493523, 4.56508488,\n                                        4.8948953 , 4.56508488, 5.46260011, 4.56508488, 4.56508488, 4.4810713 ,\n                                        5.59285258, 4.56508488, 4.56508488, 4.        , 5.89236795, 5.08330601,\n                                        5.13809303, 4.56508488, 6.1951594 , 5.87537233, 6.1951594 , 5.13809303,\n                                        4.8       , 4.        , 5.98331012, 5.08330601, 5.34415569, 5.37028863,\n                                        4.56508488, 5.60357029, 5.5569776 , 5.26497863, 4.        , 5.24213697,\n                                        5.18073354, 4.56508488, 5.57494395, 4.56508488, 5.40370243, 4.73708771,\n                                        5.78273292, 4.26145515, 4.56508488, 4.56508488, 4.56508488, 4.82907859,\n                                        4.47213595, 5.18844871, 4.65188134, 4.56508488, 4.56508488, 5.72363521,\n                                        5.23450093, 4.56508488, 4.56508488, 5.62849891, 5.09901951, 4.56508488,\n                                        4.56508488, 4.56508488, 5.4110997 , 5.55337735, 5.29150262, 4.56508488,\n                                        4.56508488, 4.77493455, 4.        , 5.12640225, 6.1951594 , 4.1521079 ,\n                                        5.08723894, 4.56508488, 4.40908154, 4.35889894, 4.56508488, 5.3591044 ,\n                                        4.56508488, 5.58927544, 5.9126982 , 4.56508488, 6.1951594 , 4.25205833])},\n              'mode': 'markers',\n              'name': 'Rooms 4+',\n              'selected': {'marker': {'color': 'black', 'opacity': 1, 'size': 14}},\n              'type': 'scatter',\n              'uid': '729be36a-a703-4ae8-b476-15b7d187d595',\n              'unselected': {'marker': {'opacity': 0.15}},\n              'x': array([ 6.7,  1.8, 13. , 23.3, 14.7, 20.5, 12. , 20.6, 16.1, 12. ,  7.8, 25.4,\n                          15. ,  8.9, 20.4, 25.4, 20.6, 25. , 20.5, 19.9,  8.4, 23. , 19.9, 20.4,\n                          19.9, 11.2, 17.9, 17.2,  2.5, 13.4, 11.4,  5.2, 17.2, 12.1, 25.4, 25.4,\n                           6.7, 13.8, 19.9, 16.7, 18. , 25.4, 21.3, 12. , 19.9, 17.2, 15.3, 11.2,\n                          10.8, 20.6, 15.5, 17.9, 13.4, 25.4, 23.2, 20.6, 14.2, 13.4, 18. , 11.4,\n                          11.5, 20.5,  8.8, 13.8, 14.5, 14. , 25.4, 20.4,  2.6, 13. , 17.2, 21.3,\n                          11.2, 20.4, 16.5,  6.7, 12.1, 17.9,  7.8, 25.4, 13.9, 11.2, 13.8, 18. ,\n                          13.8, 25.4, 13.8, 13.4, 23. , 23. , 12.4, 12.4, 16.1, 12.1, 16.5, 16.2,\n                          12.4, 13.1,  9.9,  6.5, 13.4,  8.8,  9. , 20.4, 20.6, 20.4,  4.5, 20.6,\n                          16.7,  5.2, 12.1, 24.8, 20.6, 12.4, 12.1, 13.8,  8.4, 25.4, 20.5, 17.9,\n                          14.7, 23.2, 14.7,  8.9, 20.6, 20.6, 11.4, 20.6, 23.2, 20.6, 21.3, 12. ,\n                          13.8,  8.4, 12. , 14.2, 18. , 25.4,  7.8, 25.4, 16.7, 15.3, 14.2, 14.2,\n                          12.7, 19.9, 14.7, 14. , 12.1, 13.1,  6.5, 16.1, 23. , 12.7, 25. , 15.3,\n                          12. ,  5.2, 23.3, 17.2, 21.3, 11.4, 20.5, 16.1, 16.3, 16.2, 12.4, 14.2,\n                          15.4, 20.5, 10.8, 25.4, 12. , 14.5, 13.8, 25.4, 13.1, 11.2, 12. , 14.7,\n                          16.1, 19.6,  8.8, 13.4, 10.6, 20.6, 19.6, 12.7,  6.5, 20.6, 14. , 16.1,\n                          20.6, 22.2, 14.7,  2.6,  8.8, 25.4]),\n              'y': array([1082000.,  870000.,  640000., 1010000.,  870000.,  774000.,  950000.,\n                           640000.,  870000.,  870000.,  870000.,  870000.,  915000.,  895000.,\n                           870000.,  570000.,  590000.,  995000.,  870000.,  965000.,  870000.,\n                           825000., 1015000.,  690000.,  870000.,  835000.,  665000.,  870000.,\n                           870000.,  870000., 1020000.,  870000.,  870000.,  830000.,  610000.,\n                           740000.,  870000.,  870000.,  926000.,  870000.,  870000.,  592000.,\n                           870000.,  912000.,  870000.,  870000.,  750000.,  762500.,  870000.,\n                           622000.,  870000.,  800000.,  870000.,  870000.,  860000.,  735000.,\n                           870000.,  870000.,  770000.,  870000.,  870000.,  870000.,  910000.,\n                           750000.,  806000.,  753000., 1000000.,  870000.,  870000., 1050000.,\n                           870000., 1031000.,  955000.,  620000.,  675000.,  800000.,  755000.,\n                           790000.,  870000.,  672000.,  985000.,  870000., 1100000.,  860000.,\n                          1100000.,  651000.,  870000.,  870000.,  870000.,  965000., 1100000.,\n                          1030000.,  988000.,  870000.,  791000.,  940000.,  870000.,  870000.,\n                           958000.,  795000.,  870000.,  870000.,  870000.,  870000.,  800000.,\n                           679000.,  870000.,  580000.,  995000.,  870000.,  815000.,  820000.,\n                           566000.,  870000.,  800000.,  895000.,  950000.,  870000.,  597000.,\n                           666000., 1032000.,  875000.,  870000.,  870000.,  560000.,  700000.,\n                          1021000.,  560000.,  640000.,  870000.,  870000., 1000000., 1050000.,\n                           800000.,  870000.,  870000.,  975000.,  690000.,  838000.,  870000.,\n                           815000.,  931000.,  870000.,  870000.,  870000., 1005000., 1036000.,\n                           650000.,  685000.,  874000.,  870000.,  920000.,  870000.,  760000.,\n                           783000.,  870000.,  900000.,  870000.,  870000.,  870000., 1006000.,\n                           890000.,  637500.,  870000.,  766000.,  926000., 1075000.,  870000.,\n                           870000.,  630500.,  870000.,  667000.,  861000.,  870000., 1097500.,\n                           870000.,  870000.,  801000.,  902000.,  870000.,  870000.,  656000.,\n                           920000.,  870000.,  870000.,  619500.,  681000.,  841000.,  870000.,\n                           477000.,  605000., 1025000.,  536000.,  952000., 1065800.,  870000.,\n                           870000.,  573500.])}],\n    'layout': {'dragmode': 'lasso',\n               'height': 650,\n               'legend': {'orientation': 'h', 'title': {'text': 'Rooms'}, 'y': -0.2},\n               'paper_bgcolor': 'rgba(250,250,250,1)',\n               'plot_bgcolor': 'rgba(245,245,245,0.95)',\n               'template': '...',\n               'title': {'font': {'size': 20},\n                         'text': '<b>Pengaruh Distance, Landsize, dan Rooms terhadap Price</b>',\n                         'x': 0.5,\n                         'xanchor': 'center'},\n               'xaxis': {'gridcolor': 'LightGrey', 'title': {'text': 'Distance dari CBD (km)'}},\n               'yaxis': {'gridcolor': 'LightGrey', 'tickprefix': '$', 'title': {'text': 'Price (AUD)'}}}\n})"
                },
                "metadata": {
                  "application/vnd.jupyter.widget-view+json": {
                    "colab": {
                      "custom_widget_manager": {
                        "url": "https://ssl.gstatic.com/colaboratory-static/widgets/colab-cdn-widget-manager/2b70e893a8ba7c0f/manager.min.js"
                      }
                    }
                  }
                }
              }
            ]
          }
        },
        "0ad437fb9a3748f8919f074570a897ff": {
          "model_module": "@jupyter-widgets/output",
          "model_name": "OutputModel",
          "model_module_version": "1.0.0",
          "state": {
            "_dom_classes": [],
            "_model_module": "@jupyter-widgets/output",
            "_model_module_version": "1.0.0",
            "_model_name": "OutputModel",
            "_view_count": null,
            "_view_module": "@jupyter-widgets/output",
            "_view_module_version": "1.0.0",
            "_view_name": "OutputView",
            "layout": "IPY_MODEL_af60750a0cb145b5b1dc96ca742ff2c4",
            "msg_id": "",
            "outputs": []
          }
        },
        "e3b2b4dc2b104c39979936fc7bfa6b53": {
          "model_module": "@jupyter-widgets/base",
          "model_name": "LayoutModel",
          "model_module_version": "1.2.0",
          "state": {
            "_model_module": "@jupyter-widgets/base",
            "_model_module_version": "1.2.0",
            "_model_name": "LayoutModel",
            "_view_count": null,
            "_view_module": "@jupyter-widgets/base",
            "_view_module_version": "1.2.0",
            "_view_name": "LayoutView",
            "align_content": null,
            "align_items": null,
            "align_self": null,
            "border": null,
            "bottom": null,
            "display": null,
            "flex": null,
            "flex_flow": null,
            "grid_area": null,
            "grid_auto_columns": null,
            "grid_auto_flow": null,
            "grid_auto_rows": null,
            "grid_column": null,
            "grid_gap": null,
            "grid_row": null,
            "grid_template_areas": null,
            "grid_template_columns": null,
            "grid_template_rows": null,
            "height": null,
            "justify_content": null,
            "justify_items": null,
            "left": null,
            "margin": null,
            "max_height": null,
            "max_width": null,
            "min_height": null,
            "min_width": null,
            "object_fit": null,
            "object_position": null,
            "order": null,
            "overflow": null,
            "overflow_x": null,
            "overflow_y": null,
            "padding": null,
            "right": null,
            "top": null,
            "visibility": null,
            "width": null
          }
        },
        "90264187eed64e6db607d7baab0eb80c": {
          "model_module": "@jupyter-widgets/controls",
          "model_name": "SelectMultipleModel",
          "model_module_version": "1.5.0",
          "state": {
            "_dom_classes": [],
            "_model_module": "@jupyter-widgets/controls",
            "_model_module_version": "1.5.0",
            "_model_name": "SelectMultipleModel",
            "_options_labels": [
              "Eastern Metropolitan",
              "Eastern Victoria",
              "Northern Metropolitan",
              "Northern Victoria",
              "South-Eastern Metropolitan",
              "Southern Metropolitan",
              "Western Metropolitan",
              "Western Victoria"
            ],
            "_view_count": null,
            "_view_module": "@jupyter-widgets/controls",
            "_view_module_version": "1.5.0",
            "_view_name": "SelectMultipleView",
            "description": "Region",
            "description_tooltip": null,
            "disabled": false,
            "index": [
              0,
              1,
              2
            ],
            "layout": "IPY_MODEL_018132c748794bc989c2b409fcf689a9",
            "rows": 5,
            "style": "IPY_MODEL_8cbeda3ee63c490bab1cb3dc1db95db5"
          }
        },
        "ca46c4669c1c4b02aa0ab660c01391c0": {
          "model_module": "@jupyter-widgets/controls",
          "model_name": "IntRangeSliderModel",
          "model_module_version": "1.5.0",
          "state": {
            "_dom_classes": [],
            "_model_module": "@jupyter-widgets/controls",
            "_model_module_version": "1.5.0",
            "_model_name": "IntRangeSliderModel",
            "_view_count": null,
            "_view_module": "@jupyter-widgets/controls",
            "_view_module_version": "1.5.0",
            "_view_name": "IntRangeSliderView",
            "continuous_update": true,
            "description": "Price range",
            "description_tooltip": null,
            "disabled": false,
            "layout": "IPY_MODEL_9e2673fc00134315816ccd6b01df3724",
            "max": 1832500,
            "min": 160000,
            "orientation": "horizontal",
            "readout": true,
            "readout_format": "d",
            "step": 10000,
            "style": "IPY_MODEL_32d9bee1fa61414a9fc09bf2e9a5ce91",
            "value": [
              160000,
              1100000
            ]
          }
        },
        "85c7f025d090480b888d43d8d46af424": {
          "model_module": "@jupyter-widgets/base",
          "model_name": "LayoutModel",
          "model_module_version": "1.2.0",
          "state": {
            "_model_module": "@jupyter-widgets/base",
            "_model_module_version": "1.2.0",
            "_model_name": "LayoutModel",
            "_view_count": null,
            "_view_module": "@jupyter-widgets/base",
            "_view_module_version": "1.2.0",
            "_view_name": "LayoutView",
            "align_content": null,
            "align_items": null,
            "align_self": null,
            "border": null,
            "bottom": null,
            "display": null,
            "flex": null,
            "flex_flow": null,
            "grid_area": null,
            "grid_auto_columns": null,
            "grid_auto_flow": null,
            "grid_auto_rows": null,
            "grid_column": null,
            "grid_gap": null,
            "grid_row": null,
            "grid_template_areas": null,
            "grid_template_columns": null,
            "grid_template_rows": null,
            "height": null,
            "justify_content": null,
            "justify_items": null,
            "left": null,
            "margin": null,
            "max_height": null,
            "max_width": null,
            "min_height": null,
            "min_width": null,
            "object_fit": null,
            "object_position": null,
            "order": null,
            "overflow": null,
            "overflow_x": null,
            "overflow_y": null,
            "padding": null,
            "right": null,
            "top": null,
            "visibility": null,
            "width": null
          }
        },
        "47fc02ed07d746b6aafa2f1bcbb57a96": {
          "model_module": "@jupyter-widgets/base",
          "model_name": "LayoutModel",
          "model_module_version": "1.2.0",
          "state": {
            "_model_module": "@jupyter-widgets/base",
            "_model_module_version": "1.2.0",
            "_model_name": "LayoutModel",
            "_view_count": null,
            "_view_module": "@jupyter-widgets/base",
            "_view_module_version": "1.2.0",
            "_view_name": "LayoutView",
            "align_content": null,
            "align_items": null,
            "align_self": null,
            "border": null,
            "bottom": null,
            "display": null,
            "flex": null,
            "flex_flow": null,
            "grid_area": null,
            "grid_auto_columns": null,
            "grid_auto_flow": null,
            "grid_auto_rows": null,
            "grid_column": null,
            "grid_gap": null,
            "grid_row": null,
            "grid_template_areas": null,
            "grid_template_columns": null,
            "grid_template_rows": null,
            "height": null,
            "justify_content": null,
            "justify_items": null,
            "left": null,
            "margin": null,
            "max_height": null,
            "max_width": null,
            "min_height": null,
            "min_width": null,
            "object_fit": null,
            "object_position": null,
            "order": null,
            "overflow": null,
            "overflow_x": null,
            "overflow_y": null,
            "padding": null,
            "right": null,
            "top": null,
            "visibility": null,
            "width": null
          }
        },
        "af60750a0cb145b5b1dc96ca742ff2c4": {
          "model_module": "@jupyter-widgets/base",
          "model_name": "LayoutModel",
          "model_module_version": "1.2.0",
          "state": {
            "_model_module": "@jupyter-widgets/base",
            "_model_module_version": "1.2.0",
            "_model_name": "LayoutModel",
            "_view_count": null,
            "_view_module": "@jupyter-widgets/base",
            "_view_module_version": "1.2.0",
            "_view_name": "LayoutView",
            "align_content": null,
            "align_items": null,
            "align_self": null,
            "border": null,
            "bottom": null,
            "display": null,
            "flex": null,
            "flex_flow": null,
            "grid_area": null,
            "grid_auto_columns": null,
            "grid_auto_flow": null,
            "grid_auto_rows": null,
            "grid_column": null,
            "grid_gap": null,
            "grid_row": null,
            "grid_template_areas": null,
            "grid_template_columns": null,
            "grid_template_rows": null,
            "height": null,
            "justify_content": null,
            "justify_items": null,
            "left": null,
            "margin": null,
            "max_height": null,
            "max_width": null,
            "min_height": null,
            "min_width": null,
            "object_fit": null,
            "object_position": null,
            "order": null,
            "overflow": null,
            "overflow_x": null,
            "overflow_y": null,
            "padding": null,
            "right": null,
            "top": null,
            "visibility": null,
            "width": null
          }
        },
        "018132c748794bc989c2b409fcf689a9": {
          "model_module": "@jupyter-widgets/base",
          "model_name": "LayoutModel",
          "model_module_version": "1.2.0",
          "state": {
            "_model_module": "@jupyter-widgets/base",
            "_model_module_version": "1.2.0",
            "_model_name": "LayoutModel",
            "_view_count": null,
            "_view_module": "@jupyter-widgets/base",
            "_view_module_version": "1.2.0",
            "_view_name": "LayoutView",
            "align_content": null,
            "align_items": null,
            "align_self": null,
            "border": null,
            "bottom": null,
            "display": null,
            "flex": null,
            "flex_flow": null,
            "grid_area": null,
            "grid_auto_columns": null,
            "grid_auto_flow": null,
            "grid_auto_rows": null,
            "grid_column": null,
            "grid_gap": null,
            "grid_row": null,
            "grid_template_areas": null,
            "grid_template_columns": null,
            "grid_template_rows": null,
            "height": null,
            "justify_content": null,
            "justify_items": null,
            "left": null,
            "margin": null,
            "max_height": null,
            "max_width": null,
            "min_height": null,
            "min_width": null,
            "object_fit": null,
            "object_position": null,
            "order": null,
            "overflow": null,
            "overflow_x": null,
            "overflow_y": null,
            "padding": null,
            "right": null,
            "top": null,
            "visibility": null,
            "width": "260px"
          }
        },
        "8cbeda3ee63c490bab1cb3dc1db95db5": {
          "model_module": "@jupyter-widgets/controls",
          "model_name": "DescriptionStyleModel",
          "model_module_version": "1.5.0",
          "state": {
            "_model_module": "@jupyter-widgets/controls",
            "_model_module_version": "1.5.0",
            "_model_name": "DescriptionStyleModel",
            "_view_count": null,
            "_view_module": "@jupyter-widgets/base",
            "_view_module_version": "1.2.0",
            "_view_name": "StyleView",
            "description_width": ""
          }
        },
        "9e2673fc00134315816ccd6b01df3724": {
          "model_module": "@jupyter-widgets/base",
          "model_name": "LayoutModel",
          "model_module_version": "1.2.0",
          "state": {
            "_model_module": "@jupyter-widgets/base",
            "_model_module_version": "1.2.0",
            "_model_name": "LayoutModel",
            "_view_count": null,
            "_view_module": "@jupyter-widgets/base",
            "_view_module_version": "1.2.0",
            "_view_name": "LayoutView",
            "align_content": null,
            "align_items": null,
            "align_self": null,
            "border": null,
            "bottom": null,
            "display": null,
            "flex": null,
            "flex_flow": null,
            "grid_area": null,
            "grid_auto_columns": null,
            "grid_auto_flow": null,
            "grid_auto_rows": null,
            "grid_column": null,
            "grid_gap": null,
            "grid_row": null,
            "grid_template_areas": null,
            "grid_template_columns": null,
            "grid_template_rows": null,
            "height": null,
            "justify_content": null,
            "justify_items": null,
            "left": null,
            "margin": null,
            "max_height": null,
            "max_width": null,
            "min_height": null,
            "min_width": null,
            "object_fit": null,
            "object_position": null,
            "order": null,
            "overflow": null,
            "overflow_x": null,
            "overflow_y": null,
            "padding": null,
            "right": null,
            "top": null,
            "visibility": null,
            "width": "600px"
          }
        },
        "32d9bee1fa61414a9fc09bf2e9a5ce91": {
          "model_module": "@jupyter-widgets/controls",
          "model_name": "SliderStyleModel",
          "model_module_version": "1.5.0",
          "state": {
            "_model_module": "@jupyter-widgets/controls",
            "_model_module_version": "1.5.0",
            "_model_name": "SliderStyleModel",
            "_view_count": null,
            "_view_module": "@jupyter-widgets/base",
            "_view_module_version": "1.2.0",
            "_view_name": "StyleView",
            "description_width": "",
            "handle_color": null
          }
        },
        "35dc168dc994437badf3a8c25e1a1d74": {
          "model_module": "jupyterlab-plotly",
          "model_name": "FigureModel",
          "model_module_version": "^5.24.1",
          "state": {
            "_config": {
              "plotlyServerURL": "https://plot.ly"
            },
            "_data": [
              {
                "customdata": [
                  [
                    "Richmond",
                    "7/81 Edinburgh St",
                    1,
                    0,
                    2.6,
                    870000,
                    "2016-05-14",
                    "Northern Metropolitan"
                  ],
                  [
                    "Thornbury",
                    "2/54 Pender St",
                    1,
                    0,
                    6.5,
                    365000,
                    "2016-12-10",
                    "Northern Metropolitan"
                  ],
                  [
                    "Melbourne",
                    "5/27 Flinders La",
                    1,
                    521,
                    0,
                    575000,
                    "2017-11-25",
                    "Northern Metropolitan"
                  ],
                  [
                    "North Melbourne",
                    "407/5 Stawell St",
                    1,
                    521,
                    2.3,
                    420000,
                    "2016-08-22",
                    "Northern Metropolitan"
                  ],
                  [
                    "Alphington",
                    "10/90 Yarralea St",
                    1,
                    915,
                    6.4,
                    320000,
                    "2017-05-06",
                    "Northern Metropolitan"
                  ],
                  [
                    "Lower Plenty",
                    "20A Lincoln Dr",
                    1,
                    380,
                    14.6,
                    530000,
                    "2018-03-03",
                    "Eastern Metropolitan"
                  ],
                  [
                    "Brunswick West",
                    "10/3 Allard St",
                    1,
                    959.5,
                    5.2,
                    275000,
                    "2017-07-15",
                    "Northern Metropolitan"
                  ],
                  [
                    "Richmond",
                    "3/40 Bridge Rd",
                    1,
                    521,
                    2.6,
                    370000,
                    "2016-06-18",
                    "Northern Metropolitan"
                  ],
                  [
                    "Melbourne",
                    "1701/568 St Kilda Rd",
                    1,
                    521,
                    2.8,
                    870000,
                    "2016-08-06",
                    "Northern Metropolitan"
                  ],
                  [
                    "Richmond",
                    "213/253 Bridge Rd",
                    1,
                    959.5,
                    2.6,
                    370000,
                    "2017-04-08",
                    "Northern Metropolitan"
                  ],
                  [
                    "Reservoir",
                    "1/27 Willoughby St",
                    1,
                    521,
                    12,
                    405000,
                    "2017-10-07",
                    "Northern Metropolitan"
                  ],
                  [
                    "Richmond",
                    "3/5 Kennedy Av",
                    1,
                    521,
                    2.4,
                    870000,
                    "2017-09-09",
                    "Northern Metropolitan"
                  ],
                  [
                    "Brunswick",
                    "14/6 Garnet St",
                    1,
                    521,
                    5.2,
                    250000,
                    "2017-09-23",
                    "Northern Metropolitan"
                  ],
                  [
                    "Brunswick",
                    "5/24 Stewart St",
                    1,
                    521,
                    5.2,
                    380000,
                    "2018-03-17",
                    "Northern Metropolitan"
                  ],
                  [
                    "Brunswick West",
                    "2/39 Murray St",
                    1,
                    521,
                    5.9,
                    300000,
                    "2016-08-06",
                    "Northern Metropolitan"
                  ],
                  [
                    "Reservoir",
                    "4/72 Pine St",
                    1,
                    521,
                    12,
                    300000,
                    "2017-11-25",
                    "Northern Metropolitan"
                  ],
                  [
                    "Box Hill",
                    "7/12 Oxford St",
                    1,
                    29,
                    13.1,
                    340000,
                    "2017-03-18",
                    "Eastern Metropolitan"
                  ],
                  [
                    "Abbotsford",
                    "801/1 Acacia Pl",
                    1,
                    521,
                    3,
                    415000,
                    "2017-09-23",
                    "Northern Metropolitan"
                  ],
                  [
                    "Richmond",
                    "3/11 Brougham St",
                    1,
                    502,
                    2.6,
                    370000,
                    "2016-12-03",
                    "Northern Metropolitan"
                  ],
                  [
                    "Richmond",
                    "12/9 Westbank Tce",
                    1,
                    521,
                    2.6,
                    280000,
                    "2016-07-16",
                    "Northern Metropolitan"
                  ],
                  [
                    "North Melbourne",
                    "8 Baillie St",
                    1,
                    133,
                    1.8,
                    1000000,
                    "2017-06-17",
                    "Northern Metropolitan"
                  ],
                  [
                    "Reservoir",
                    "5/1 Griffiths St",
                    1,
                    521,
                    12,
                    870000,
                    "2017-07-01",
                    "Northern Metropolitan"
                  ],
                  [
                    "Thornbury",
                    "199 Mansfield St",
                    1,
                    948,
                    6.5,
                    300000,
                    "2017-04-22",
                    "Northern Metropolitan"
                  ],
                  [
                    "Kensington",
                    "4/63 Eastwood St",
                    1,
                    521,
                    3.4,
                    300000,
                    "2017-11-18",
                    "Northern Metropolitan"
                  ],
                  [
                    "Carlton North",
                    "26/174 Lee St",
                    1,
                    0,
                    3.2,
                    390000,
                    "2016-07-16",
                    "Northern Metropolitan"
                  ],
                  [
                    "Northcote",
                    "5/175 Gladstone Av",
                    1,
                    521,
                    5.5,
                    310000,
                    "2017-03-18",
                    "Northern Metropolitan"
                  ],
                  [
                    "Brunswick",
                    "10/150 Brunswick Rd",
                    1,
                    0,
                    5.2,
                    240000,
                    "2016-11-27",
                    "Northern Metropolitan"
                  ],
                  [
                    "Carlton",
                    "21/34 Neill St",
                    1,
                    521,
                    1.6,
                    412000,
                    "2018-03-03",
                    "Northern Metropolitan"
                  ],
                  [
                    "Clifton Hill",
                    "101/51 Ramsden St",
                    1,
                    521,
                    3.4,
                    538000,
                    "2017-04-08",
                    "Northern Metropolitan"
                  ],
                  [
                    "Preston",
                    "7 Wilcox St",
                    1,
                    397,
                    8.8,
                    830000,
                    "2016-07-16",
                    "Northern Metropolitan"
                  ],
                  [
                    "Brunswick",
                    "9/789 Park St",
                    1,
                    0,
                    5.2,
                    870000,
                    "2016-06-04",
                    "Northern Metropolitan"
                  ],
                  [
                    "Melbourne",
                    "431/539 St Kilda Rd",
                    1,
                    521,
                    2.8,
                    870000,
                    "2016-05-28",
                    "Northern Metropolitan"
                  ],
                  [
                    "East Melbourne",
                    "7/45 Gipps St",
                    1,
                    0,
                    1.5,
                    750000,
                    "2016-05-28",
                    "Northern Metropolitan"
                  ],
                  [
                    "Cremorne",
                    "218/140 Swan St",
                    1,
                    521,
                    2.4,
                    525000,
                    "2018-03-17",
                    "Northern Metropolitan"
                  ],
                  [
                    "Richmond",
                    "2/28 Davison St",
                    1,
                    521,
                    2.4,
                    305000,
                    "2017-10-21",
                    "Northern Metropolitan"
                  ],
                  [
                    "Richmond",
                    "11/9 Tennyson St",
                    1,
                    521,
                    2.4,
                    485000,
                    "2017-09-16",
                    "Northern Metropolitan"
                  ]
                ],
                "hovertemplate": "<b>%{customdata[0]}</b><br>%{customdata[1]}<br>Rooms: %{customdata[2]} • Landsize: %{customdata[3]} m²<br>Distance: %{x} km • Price: $%{y}<br>Region: %{customdata[7]}<extra></extra>",
                "marker": {
                  "color": "#8dd3c7",
                  "line": {
                    "color": "DimGray",
                    "width": 0.5
                  },
                  "opacity": 0.65,
                  "size": {
                    "dtype": "float64",
                    "shape": [
                      36
                    ]
                  }
                },
                "mode": "markers",
                "name": "Rooms 1",
                "selected": {
                  "marker": {
                    "color": "black",
                    "opacity": 1,
                    "size": 14
                  }
                },
                "unselected": {
                  "marker": {
                    "opacity": 0.15
                  }
                },
                "x": {
                  "dtype": "float64",
                  "shape": [
                    36
                  ]
                },
                "y": {
                  "dtype": "float64",
                  "shape": [
                    36
                  ]
                },
                "type": "scatter",
                "uid": "2bd87ceb-aefe-4356-ae1c-7ca0da18210c"
              },
              {
                "customdata": [
                  [
                    "Blackburn North",
                    "2/1 Grosvenor St",
                    2,
                    521,
                    13.4,
                    870000,
                    "2017-11-11",
                    "Eastern Metropolitan"
                  ],
                  [
                    "Fairfield",
                    "2/115 Gillies St",
                    2,
                    0,
                    5.8,
                    505000,
                    "2016-11-07",
                    "Northern Metropolitan"
                  ],
                  [
                    "Brunswick",
                    "11/757 Park St",
                    2,
                    0,
                    5.2,
                    692000,
                    "2017-07-01",
                    "Northern Metropolitan"
                  ],
                  [
                    "Fitzroy",
                    "1/43 Argyle St",
                    2,
                    521,
                    2.1,
                    753000,
                    "2018-02-10",
                    "Northern Metropolitan"
                  ],
                  [
                    "Northcote",
                    "58 Herbert St",
                    2,
                    191,
                    5.5,
                    950000,
                    "2016-11-07",
                    "Northern Metropolitan"
                  ],
                  [
                    "Brunswick",
                    "6 Rose St",
                    2,
                    521,
                    5.2,
                    970000,
                    "2017-10-28",
                    "Northern Metropolitan"
                  ],
                  [
                    "Clifton Hill",
                    "5 George St",
                    2,
                    161,
                    3.6,
                    870000,
                    "2018-02-24",
                    "Northern Metropolitan"
                  ],
                  [
                    "Clifton Hill",
                    "3/30 Edmund St",
                    2,
                    515,
                    3.4,
                    495000,
                    "2016-08-13",
                    "Northern Metropolitan"
                  ],
                  [
                    "Richmond",
                    "219/6 Lord St",
                    2,
                    0,
                    2.6,
                    790000,
                    "2016-08-28",
                    "Northern Metropolitan"
                  ],
                  [
                    "Thornbury",
                    "83/337 Station St",
                    2,
                    521,
                    7,
                    870000,
                    "2018-02-24",
                    "Northern Metropolitan"
                  ],
                  [
                    "Epping",
                    "10/81 Rufus St",
                    2,
                    161,
                    19.6,
                    291000,
                    "2017-09-09",
                    "Northern Metropolitan"
                  ],
                  [
                    "Richmond",
                    "49 Garfield St",
                    2,
                    113,
                    2.6,
                    950000,
                    "2017-05-06",
                    "Northern Metropolitan"
                  ],
                  [
                    "Reservoir",
                    "2/27 Erskine Av",
                    2,
                    521,
                    11.2,
                    363000,
                    "2016-06-18",
                    "Northern Metropolitan"
                  ],
                  [
                    "Fitzroy North",
                    "50 Freeman St",
                    2,
                    107,
                    3.5,
                    870000,
                    "2016-09-03",
                    "Northern Metropolitan"
                  ],
                  [
                    "Brunswick East",
                    "10/5 Barkly St",
                    2,
                    66,
                    4.5,
                    870000,
                    "2016-11-27",
                    "Northern Metropolitan"
                  ],
                  [
                    "South Morang",
                    "5 Mavora Pl",
                    2,
                    521,
                    20.5,
                    451000,
                    "2017-11-11",
                    "Northern Metropolitan"
                  ],
                  [
                    "Ivanhoe",
                    "2/16 Green St",
                    2,
                    521,
                    7.8,
                    755000,
                    "2018-03-17",
                    "Eastern Metropolitan"
                  ],
                  [
                    "Richmond",
                    "10/9 Westbank Tce",
                    2,
                    521,
                    2.6,
                    440000,
                    "2017-04-22",
                    "Northern Metropolitan"
                  ],
                  [
                    "Abbotsford",
                    "200 Nicholson St",
                    2,
                    182,
                    2.5,
                    1012500,
                    "2016-05-28",
                    "Northern Metropolitan"
                  ],
                  [
                    "Thomastown",
                    "2/18 Waratah St",
                    2,
                    521,
                    15.3,
                    475000,
                    "2017-11-25",
                    "Northern Metropolitan"
                  ],
                  [
                    "Kensington",
                    "509/72 Altona St",
                    2,
                    959.5,
                    3.4,
                    501000,
                    "2017-07-29",
                    "Northern Metropolitan"
                  ],
                  [
                    "Melbourne",
                    "1814/250 Elizabeth St",
                    2,
                    0,
                    0,
                    720000,
                    "2017-05-27",
                    "Northern Metropolitan"
                  ],
                  [
                    "North Melbourne",
                    "5/97 Oshanassy St",
                    2,
                    0,
                    2.3,
                    591500,
                    "2016-09-17",
                    "Northern Metropolitan"
                  ],
                  [
                    "Brunswick",
                    "3/269 Albion St",
                    2,
                    0,
                    5.2,
                    870000,
                    "2016-09-24",
                    "Northern Metropolitan"
                  ],
                  [
                    "Clifton Hill",
                    "119 Roseneath St",
                    2,
                    174,
                    3.4,
                    1075000,
                    "2016-10-08",
                    "Northern Metropolitan"
                  ],
                  [
                    "Brunswick East",
                    "503/200 Lygon St",
                    2,
                    959.5,
                    4.5,
                    500000,
                    "2017-05-13",
                    "Northern Metropolitan"
                  ],
                  [
                    "Reservoir",
                    "85 Summerhill Rd",
                    2,
                    552,
                    12,
                    870000,
                    "2018-03-03",
                    "Northern Metropolitan"
                  ],
                  [
                    "Kensington",
                    "9/11 Smith St",
                    2,
                    0,
                    4.2,
                    525000,
                    "2017-05-13",
                    "Northern Metropolitan"
                  ],
                  [
                    "West Melbourne",
                    "5/467 King St",
                    2,
                    0,
                    1.9,
                    620000,
                    "2016-05-28",
                    "Northern Metropolitan"
                  ],
                  [
                    "Research",
                    "2/24 Raglan Rd",
                    2,
                    521,
                    18,
                    650000,
                    "2018-02-17",
                    "Eastern Metropolitan"
                  ],
                  [
                    "Preston",
                    "7 Leopold St",
                    2,
                    521,
                    8.4,
                    732000,
                    "2017-10-21",
                    "Northern Metropolitan"
                  ],
                  [
                    "Heidelberg West",
                    "116 Southern Rd",
                    2,
                    586,
                    9.4,
                    590000,
                    "2016-06-27",
                    "Eastern Metropolitan"
                  ],
                  [
                    "Clifton Hill",
                    "89 Noone St",
                    2,
                    208,
                    3.4,
                    870000,
                    "2017-03-18",
                    "Northern Metropolitan"
                  ],
                  [
                    "Melbourne",
                    "2905/639 Lonsdale St",
                    2,
                    0,
                    2.8,
                    870000,
                    "2016-12-10",
                    "Northern Metropolitan"
                  ],
                  [
                    "Brunswick East",
                    "3 Linden St",
                    2,
                    145,
                    4,
                    1045000,
                    "2017-12-09",
                    "Northern Metropolitan"
                  ],
                  [
                    "Reservoir",
                    "1/65 Thackeray Rd",
                    2,
                    73,
                    12,
                    470000,
                    "2017-06-24",
                    "Northern Metropolitan"
                  ],
                  [
                    "Ringwood",
                    "33 William St",
                    2,
                    370,
                    19.9,
                    870000,
                    "2017-11-11",
                    "Eastern Metropolitan"
                  ],
                  [
                    "Coburg",
                    "5A Hardwick St",
                    2,
                    134,
                    6.7,
                    876000,
                    "2017-07-08",
                    "Northern Metropolitan"
                  ],
                  [
                    "Heidelberg Heights",
                    "7 Flinders St",
                    2,
                    577,
                    10.5,
                    725000,
                    "2016-12-10",
                    "Eastern Metropolitan"
                  ],
                  [
                    "Ivanhoe",
                    "4/24 St Elmo Rd",
                    2,
                    152,
                    7.9,
                    779000,
                    "2016-09-17",
                    "Eastern Metropolitan"
                  ],
                  [
                    "Coburg",
                    "41a Rennie St",
                    2,
                    388,
                    7.8,
                    495000,
                    "2017-05-06",
                    "Northern Metropolitan"
                  ],
                  [
                    "Brunswick West",
                    "1/288 Hope St",
                    2,
                    521,
                    5.2,
                    600000,
                    "2017-11-11",
                    "Northern Metropolitan"
                  ],
                  [
                    "Pascoe Vale",
                    "1 Dorset Rd",
                    2,
                    602,
                    9.9,
                    630000,
                    "2016-04-23",
                    "Northern Metropolitan"
                  ],
                  [
                    "Coburg",
                    "34 Soudan St",
                    2,
                    476,
                    6.7,
                    996000,
                    "2017-06-24",
                    "Northern Metropolitan"
                  ],
                  [
                    "Brunswick",
                    "157 Albion St",
                    2,
                    152,
                    5.2,
                    770000,
                    "2016-10-15",
                    "Northern Metropolitan"
                  ],
                  [
                    "Glenroy",
                    "77 Hubert Av",
                    2,
                    707,
                    11.2,
                    870000,
                    "2017-09-16",
                    "Northern Metropolitan"
                  ],
                  [
                    "Reservoir",
                    "2/56 Orrong Av",
                    2,
                    521,
                    11.2,
                    550000,
                    "2016-08-13",
                    "Northern Metropolitan"
                  ],
                  [
                    "Kensington",
                    "420 Arden St",
                    2,
                    159,
                    4.2,
                    1000000,
                    "2017-04-29",
                    "Northern Metropolitan"
                  ],
                  [
                    "Brunswick East",
                    "906/330 Lygon St",
                    2,
                    959.5,
                    4.5,
                    550000,
                    "2017-05-13",
                    "Northern Metropolitan"
                  ],
                  [
                    "Greensborough",
                    "1/5 Adeline St",
                    2,
                    521,
                    16.1,
                    705000,
                    "2017-09-23",
                    "Northern Metropolitan"
                  ],
                  [
                    "Mill Park",
                    "5 Olsen Wk",
                    2,
                    521,
                    17.9,
                    458000,
                    "2018-03-03",
                    "Northern Metropolitan"
                  ],
                  [
                    "Preston",
                    "14 Arthur St",
                    2,
                    507,
                    8.8,
                    1065000,
                    "2016-10-15",
                    "Northern Metropolitan"
                  ],
                  [
                    "Nunawading",
                    "50 McCulloch St",
                    2,
                    521,
                    15.4,
                    879000,
                    "2017-11-18",
                    "Eastern Metropolitan"
                  ],
                  [
                    "Ivanhoe",
                    "6/105 Locksley Rd",
                    2,
                    0,
                    7.9,
                    490000,
                    "2016-05-07",
                    "Eastern Metropolitan"
                  ],
                  [
                    "Heidelberg West",
                    "4/9 Exeter Ct",
                    2,
                    521,
                    8.8,
                    471000,
                    "2018-01-06",
                    "Eastern Metropolitan"
                  ],
                  [
                    "North Melbourne",
                    "3/369 Abbotsford St",
                    2,
                    0,
                    2.3,
                    540000,
                    "2016-08-22",
                    "Northern Metropolitan"
                  ],
                  [
                    "Ringwood East",
                    "2/5 Mines Rd",
                    2,
                    190,
                    21.3,
                    609000,
                    "2017-05-27",
                    "Eastern Metropolitan"
                  ],
                  [
                    "Richmond",
                    "7/42 Baker St",
                    2,
                    0,
                    2.6,
                    391000,
                    "2016-08-13",
                    "Northern Metropolitan"
                  ],
                  [
                    "Glenroy",
                    "79 Glen St",
                    2,
                    643,
                    13,
                    530000,
                    "2016-11-07",
                    "Northern Metropolitan"
                  ],
                  [
                    "Thornbury",
                    "3/11 Clarendon St",
                    2,
                    521,
                    7,
                    870000,
                    "2017-12-09",
                    "Northern Metropolitan"
                  ],
                  [
                    "North Melbourne",
                    "3 Wilson Mw",
                    2,
                    521,
                    2.3,
                    700000,
                    "2016-05-22",
                    "Northern Metropolitan"
                  ],
                  [
                    "Heidelberg Heights",
                    "3/47 Southern Rd",
                    2,
                    174,
                    10.5,
                    510000,
                    "2016-11-27",
                    "Eastern Metropolitan"
                  ],
                  [
                    "Hadfield",
                    "23 Surrey St",
                    2,
                    591,
                    12.1,
                    545000,
                    "2016-05-14",
                    "Northern Metropolitan"
                  ],
                  [
                    "Flemington",
                    "5/69 Edinburgh St",
                    2,
                    0,
                    4.4,
                    350000,
                    "2016-07-26",
                    "Northern Metropolitan"
                  ],
                  [
                    "South Morang",
                    "2/5 Briar Ct",
                    2,
                    521,
                    20.5,
                    310000,
                    "2017-08-26",
                    "Northern Metropolitan"
                  ],
                  [
                    "MacLeod",
                    "2/88 Torbay St",
                    2,
                    521,
                    12.7,
                    677000,
                    "2018-03-03",
                    "Northern Metropolitan"
                  ],
                  [
                    "Coburg North",
                    "1/97 Shorts Rd",
                    2,
                    521,
                    9.2,
                    522500,
                    "2016-05-14",
                    "Northern Metropolitan"
                  ],
                  [
                    "Northcote",
                    "119 Bent St",
                    2,
                    186,
                    5.5,
                    870000,
                    "2016-12-03",
                    "Northern Metropolitan"
                  ],
                  [
                    "Donvale",
                    "6/5 Sunray Ct",
                    2,
                    196,
                    16.1,
                    630000,
                    "2017-07-08",
                    "Eastern Metropolitan"
                  ],
                  [
                    "Abbotsford",
                    "3 Paterson St",
                    2,
                    146,
                    3,
                    870000,
                    "2017-07-08",
                    "Northern Metropolitan"
                  ],
                  [
                    "Fitzroy North",
                    "22 Coleman St",
                    2,
                    116,
                    3.5,
                    870000,
                    "2016-10-15",
                    "Northern Metropolitan"
                  ],
                  [
                    "Coburg North",
                    "13 Norris St",
                    2,
                    390,
                    6.7,
                    730000,
                    "2018-01-06",
                    "Northern Metropolitan"
                  ],
                  [
                    "Pascoe Vale",
                    "2/8 Stewart St",
                    2,
                    103,
                    8.5,
                    580000,
                    "2017-07-22",
                    "Northern Metropolitan"
                  ],
                  [
                    "Parkville",
                    "17/248 The Avenue",
                    2,
                    959.5,
                    2.6,
                    750000,
                    "2016-07-30",
                    "Northern Metropolitan"
                  ],
                  [
                    "Coburg",
                    "3/25 Belgrave St",
                    2,
                    521,
                    7.8,
                    655000,
                    "2016-12-03",
                    "Northern Metropolitan"
                  ],
                  [
                    "Heidelberg",
                    "2/98 Hawdon St",
                    2,
                    130,
                    8.9,
                    870000,
                    "2017-05-27",
                    "Eastern Metropolitan"
                  ],
                  [
                    "Greensborough",
                    "8/83 Nell St",
                    2,
                    521,
                    16.1,
                    558000,
                    "2018-02-24",
                    "Northern Metropolitan"
                  ],
                  [
                    "Thornbury",
                    "6 Aviary Gr",
                    2,
                    521,
                    7,
                    585000,
                    "2018-02-10",
                    "Northern Metropolitan"
                  ],
                  [
                    "Croydon",
                    "11 Alwyn St",
                    2,
                    352,
                    23,
                    664000,
                    "2018-03-17",
                    "Eastern Metropolitan"
                  ],
                  [
                    "North Melbourne",
                    "6/8 Tyrone St",
                    2,
                    521,
                    1.8,
                    580000,
                    "2017-07-01",
                    "Northern Metropolitan"
                  ],
                  [
                    "Brunswick West",
                    "1/478 Albion St",
                    2,
                    521,
                    5.2,
                    530000,
                    "2018-02-10",
                    "Northern Metropolitan"
                  ],
                  [
                    "Preston",
                    "10/397 Murray Rd",
                    2,
                    521,
                    8.4,
                    695000,
                    "2017-10-14",
                    "Northern Metropolitan"
                  ],
                  [
                    "Cremorne",
                    "44 Balmain St",
                    2,
                    959.5,
                    2.4,
                    945000,
                    "2017-11-18",
                    "Northern Metropolitan"
                  ],
                  [
                    "Pascoe Vale",
                    "3/16 Bristol Rd",
                    2,
                    521,
                    9.9,
                    440000,
                    "2016-06-27",
                    "Northern Metropolitan"
                  ],
                  [
                    "Brunswick West",
                    "1/26 Hopetoun Av",
                    2,
                    521,
                    5.2,
                    580000,
                    "2018-03-10",
                    "Northern Metropolitan"
                  ],
                  [
                    "Ivanhoe",
                    "6/14 Athelstane Gr",
                    2,
                    721,
                    7.9,
                    587000,
                    "2016-11-12",
                    "Eastern Metropolitan"
                  ],
                  [
                    "Kensington",
                    "13 Wight St",
                    2,
                    110,
                    3.4,
                    855000,
                    "2018-02-10",
                    "Northern Metropolitan"
                  ],
                  [
                    "Melbourne",
                    "506/23 Queens Rd",
                    2,
                    521,
                    0,
                    648000,
                    "2017-10-28",
                    "Northern Metropolitan"
                  ],
                  [
                    "Kensington",
                    "1/16 Mawbey St",
                    2,
                    0,
                    4.2,
                    395000,
                    "2016-04-23",
                    "Northern Metropolitan"
                  ],
                  [
                    "Pascoe Vale",
                    "2/297 Cumberland Rd",
                    2,
                    521,
                    8.5,
                    520000,
                    "2018-01-06",
                    "Northern Metropolitan"
                  ],
                  [
                    "Parkville",
                    "26/248 The Avenue",
                    2,
                    521,
                    1.8,
                    650000,
                    "2017-10-14",
                    "Northern Metropolitan"
                  ],
                  [
                    "Richmond",
                    "7/69 Palmer St",
                    2,
                    0,
                    2.6,
                    870000,
                    "2016-05-07",
                    "Northern Metropolitan"
                  ],
                  [
                    "Bayswater",
                    "3/23 Begonia Av",
                    2,
                    521,
                    23.2,
                    425000,
                    "2017-08-19",
                    "Eastern Metropolitan"
                  ],
                  [
                    "Thomastown",
                    "4/327 High St",
                    2,
                    521,
                    15.3,
                    261500,
                    "2018-01-06",
                    "Northern Metropolitan"
                  ],
                  [
                    "MacLeod",
                    "31 Stewart Tce",
                    2,
                    521,
                    12.7,
                    870000,
                    "2017-09-16",
                    "Northern Metropolitan"
                  ],
                  [
                    "Preston",
                    "178 Raglan St",
                    2,
                    516,
                    8.8,
                    920000,
                    "2016-04-16",
                    "Northern Metropolitan"
                  ],
                  [
                    "Thornbury",
                    "1/73 Flinders St",
                    2,
                    0,
                    6.5,
                    462000,
                    "2017-05-13",
                    "Northern Metropolitan"
                  ],
                  [
                    "Doncaster",
                    "6/14 Firth St",
                    2,
                    0,
                    13.9,
                    400000,
                    "2016-10-08",
                    "Eastern Metropolitan"
                  ],
                  [
                    "Preston",
                    "198 Raglan St",
                    2,
                    352,
                    8.8,
                    910000,
                    "2017-03-18",
                    "Northern Metropolitan"
                  ],
                  [
                    "Coburg",
                    "2 Franklin St",
                    2,
                    457,
                    7.8,
                    1008000,
                    "2016-09-24",
                    "Northern Metropolitan"
                  ],
                  [
                    "Coburg",
                    "4/2 Vincent St",
                    2,
                    0,
                    7.8,
                    537500,
                    "2016-11-19",
                    "Northern Metropolitan"
                  ],
                  [
                    "Clifton Hill",
                    "5 Noone St",
                    2,
                    189,
                    3.6,
                    980000,
                    "2017-09-16",
                    "Northern Metropolitan"
                  ],
                  [
                    "Lalor",
                    "2/26 Messmate St",
                    2,
                    521,
                    16.3,
                    360000,
                    "2017-06-24",
                    "Northern Metropolitan"
                  ],
                  [
                    "MacLeod",
                    "8/30 Strathallan Rd",
                    2,
                    521,
                    12.7,
                    660000,
                    "2017-10-28",
                    "Northern Metropolitan"
                  ],
                  [
                    "Heidelberg West",
                    "35 Timor Pde",
                    2,
                    521,
                    8.8,
                    790000,
                    "2017-09-23",
                    "Eastern Metropolitan"
                  ],
                  [
                    "Fitzroy",
                    "194 Moor St",
                    2,
                    83,
                    2.1,
                    870000,
                    "2018-03-03",
                    "Northern Metropolitan"
                  ],
                  [
                    "Reservoir",
                    "83 Whitelaw St",
                    2,
                    705,
                    11.2,
                    852000,
                    "2017-05-06",
                    "Northern Metropolitan"
                  ],
                  [
                    "Thomastown",
                    "4/56 Heyington Av",
                    2,
                    521,
                    15.3,
                    385000,
                    "2018-03-03",
                    "Northern Metropolitan"
                  ],
                  [
                    "Preston",
                    "1/5 Spring St",
                    2,
                    521,
                    8.4,
                    530000,
                    "2017-10-21",
                    "Northern Metropolitan"
                  ],
                  [
                    "Collingwood",
                    "24 Mater St",
                    2,
                    108,
                    2,
                    1025000,
                    "2017-06-03",
                    "Northern Metropolitan"
                  ],
                  [
                    "Reservoir",
                    "2/45 St Vigeons Rd",
                    2,
                    521,
                    12,
                    870000,
                    "2018-02-24",
                    "Northern Metropolitan"
                  ],
                  [
                    "Pascoe Vale",
                    "1/153 Essex St",
                    2,
                    521,
                    8.5,
                    651000,
                    "2018-03-10",
                    "Northern Metropolitan"
                  ],
                  [
                    "Mitcham",
                    "1/5 McGhee Av",
                    2,
                    521,
                    17.2,
                    650000,
                    "2018-03-17",
                    "Eastern Metropolitan"
                  ],
                  [
                    "Melbourne",
                    "215/39 Lonsdale St",
                    2,
                    0,
                    2.8,
                    870000,
                    "2016-05-14",
                    "Northern Metropolitan"
                  ],
                  [
                    "Reservoir",
                    "5/2 Griffiths St",
                    2,
                    207,
                    11.2,
                    420000,
                    "2016-12-10",
                    "Northern Metropolitan"
                  ],
                  [
                    "Epping",
                    "9 Inverloch St",
                    2,
                    149,
                    19.6,
                    401500,
                    "2017-07-15",
                    "Northern Metropolitan"
                  ],
                  [
                    "Reservoir",
                    "1/126 St Vigeons Rd",
                    2,
                    521,
                    11.2,
                    350000,
                    "2016-05-22",
                    "Northern Metropolitan"
                  ],
                  [
                    "Kensington",
                    "79 McCracken St",
                    2,
                    157,
                    3.4,
                    881000,
                    "2017-10-07",
                    "Northern Metropolitan"
                  ],
                  [
                    "Cremorne",
                    "13 Gough Pl",
                    2,
                    110,
                    2.5,
                    870000,
                    "2016-11-07",
                    "Northern Metropolitan"
                  ],
                  [
                    "Kensington",
                    "302/18 Bent St",
                    2,
                    0,
                    4.2,
                    870000,
                    "2016-11-27",
                    "Northern Metropolitan"
                  ],
                  [
                    "Heidelberg",
                    "7/75 Rosanna Rd",
                    2,
                    187,
                    10.6,
                    490000,
                    "2016-12-10",
                    "Eastern Metropolitan"
                  ],
                  [
                    "Melbourne",
                    "7/458 St Kilda Rd",
                    2,
                    521,
                    0,
                    870000,
                    "2017-09-16",
                    "Northern Metropolitan"
                  ],
                  [
                    "Fitzroy North",
                    "470 Brunswick St",
                    2,
                    104,
                    3.5,
                    860000,
                    "2016-09-03",
                    "Northern Metropolitan"
                  ],
                  [
                    "Glenroy",
                    "49 Plumpton Av",
                    2,
                    362,
                    11.2,
                    685000,
                    "2018-02-03",
                    "Northern Metropolitan"
                  ],
                  [
                    "Mont Albert",
                    "4/3 Rowland St",
                    2,
                    521,
                    10.2,
                    776000,
                    "2018-03-03",
                    "Eastern Metropolitan"
                  ],
                  [
                    "Doncaster",
                    "116/6 Thiele St",
                    2,
                    521,
                    12.4,
                    478000,
                    "2017-07-29",
                    "Eastern Metropolitan"
                  ],
                  [
                    "Kensington",
                    "70 Hardiman St",
                    2,
                    174,
                    4.2,
                    960000,
                    "2016-10-08",
                    "Northern Metropolitan"
                  ],
                  [
                    "Brunswick East",
                    "18 Lord St",
                    2,
                    521,
                    4,
                    1010000,
                    "2017-06-17",
                    "Northern Metropolitan"
                  ],
                  [
                    "Thornbury",
                    "2/121 Darebin Rd",
                    2,
                    133,
                    6.5,
                    605000,
                    "2016-05-22",
                    "Northern Metropolitan"
                  ],
                  [
                    "Pascoe Vale",
                    "4/37 Arndt Rd",
                    2,
                    147,
                    9.9,
                    500000,
                    "2016-08-13",
                    "Northern Metropolitan"
                  ],
                  [
                    "Oak Park",
                    "13 Kiama St",
                    2,
                    182,
                    11.2,
                    610000,
                    "2017-07-01",
                    "Northern Metropolitan"
                  ],
                  [
                    "MacLeod",
                    "2/62 May St",
                    2,
                    521,
                    12.7,
                    870000,
                    "2018-02-24",
                    "Northern Metropolitan"
                  ],
                  [
                    "Mickleham",
                    "3 Selkirk Wy",
                    2,
                    521,
                    20.6,
                    335000,
                    "2017-08-26",
                    "Northern Metropolitan"
                  ],
                  [
                    "Clifton Hill",
                    "137 Gold St",
                    2,
                    193,
                    3.4,
                    1000000,
                    "2017-05-20",
                    "Northern Metropolitan"
                  ],
                  [
                    "Northcote",
                    "23A Johnson St",
                    2,
                    228,
                    5.5,
                    995000,
                    "2017-04-08",
                    "Northern Metropolitan"
                  ],
                  [
                    "Preston",
                    "1/46 Tyler St",
                    2,
                    178,
                    8.8,
                    520000,
                    "2017-02-25",
                    "Northern Metropolitan"
                  ],
                  [
                    "Heidelberg West",
                    "2/14 Koitaki Ct",
                    2,
                    521,
                    8.8,
                    480000,
                    "2017-09-16",
                    "Eastern Metropolitan"
                  ],
                  [
                    "Epping",
                    "2/33 Wedge St",
                    2,
                    214,
                    19.6,
                    503000,
                    "2017-07-29",
                    "Northern Metropolitan"
                  ],
                  [
                    "Brunswick",
                    "73 Mitchell St",
                    2,
                    138,
                    5.2,
                    890000,
                    "2017-06-17",
                    "Northern Metropolitan"
                  ],
                  [
                    "Preston",
                    "174 Gilbert Rd",
                    2,
                    388,
                    8.8,
                    870000,
                    "2016-11-12",
                    "Northern Metropolitan"
                  ],
                  [
                    "Ringwood",
                    "1/13 Maidstone St",
                    2,
                    123,
                    19.9,
                    633000,
                    "2017-07-08",
                    "Eastern Metropolitan"
                  ],
                  [
                    "Rosanna",
                    "221 Rosanna Rd",
                    2,
                    739,
                    11.4,
                    870000,
                    "2016-05-28",
                    "Eastern Metropolitan"
                  ],
                  [
                    "Coburg",
                    "13 Carron St",
                    2,
                    97,
                    7.8,
                    635000,
                    "2017-03-18",
                    "Northern Metropolitan"
                  ],
                  [
                    "Northcote",
                    "1/24 Johnson St",
                    2,
                    521,
                    5.3,
                    801000,
                    "2018-02-10",
                    "Northern Metropolitan"
                  ],
                  [
                    "Brunswick West",
                    "5/8 Murray St",
                    2,
                    0,
                    5.9,
                    500000,
                    "2016-07-16",
                    "Northern Metropolitan"
                  ],
                  [
                    "Pascoe Vale",
                    "4/9 Austin Cr",
                    2,
                    521,
                    8.5,
                    555000,
                    "2017-12-09",
                    "Northern Metropolitan"
                  ],
                  [
                    "Ivanhoe East",
                    "2/3 Rotherwood Rd",
                    2,
                    0,
                    7.8,
                    535000,
                    "2017-06-03",
                    "Eastern Metropolitan"
                  ],
                  [
                    "Reservoir",
                    "3/39 Chaleyer St",
                    2,
                    147,
                    11.2,
                    870000,
                    "2016-09-03",
                    "Northern Metropolitan"
                  ],
                  [
                    "Clifton Hill",
                    "1 John St",
                    2,
                    103,
                    3.4,
                    730000,
                    "2016-05-22",
                    "Northern Metropolitan"
                  ],
                  [
                    "Fitzroy North",
                    "412/4 Bik La",
                    2,
                    959.5,
                    3.5,
                    870000,
                    "2017-04-22",
                    "Northern Metropolitan"
                  ],
                  [
                    "Pascoe Vale",
                    "21/12 Surrey St",
                    2,
                    521,
                    8.5,
                    320000,
                    "2017-10-07",
                    "Northern Metropolitan"
                  ],
                  [
                    "Abbotsford",
                    "16 Park St",
                    2,
                    521,
                    3,
                    870000,
                    "2017-11-11",
                    "Northern Metropolitan"
                  ],
                  [
                    "Preston",
                    "9 Ambon St",
                    2,
                    349,
                    8.8,
                    565000,
                    "2016-06-18",
                    "Northern Metropolitan"
                  ],
                  [
                    "Kensington",
                    "45 Hardiman St",
                    2,
                    521,
                    3.4,
                    1023000,
                    "2017-09-23",
                    "Northern Metropolitan"
                  ],
                  [
                    "Brunswick",
                    "4/33 Austral Av",
                    2,
                    521,
                    5.2,
                    465000,
                    "2016-08-28",
                    "Northern Metropolitan"
                  ],
                  [
                    "Brunswick East",
                    "14 Gale St",
                    2,
                    521,
                    4,
                    765000,
                    "2018-02-10",
                    "Northern Metropolitan"
                  ],
                  [
                    "Abbotsford",
                    "44 Lulie St",
                    2,
                    105,
                    3,
                    970000,
                    "2017-12-09",
                    "Northern Metropolitan"
                  ],
                  [
                    "Northcote",
                    "2/195 Clarke St",
                    2,
                    0,
                    5.5,
                    692000,
                    "2017-02-25",
                    "Northern Metropolitan"
                  ],
                  [
                    "Reservoir",
                    "4/37 Oconnor St",
                    2,
                    521,
                    12,
                    515000,
                    "2018-02-24",
                    "Northern Metropolitan"
                  ],
                  [
                    "Eaglemont",
                    "2/12 Ashby Gr",
                    2,
                    112,
                    10.3,
                    600000,
                    "2016-04-23",
                    "Eastern Metropolitan"
                  ],
                  [
                    "North Melbourne",
                    "1/20 Bedford St",
                    2,
                    0,
                    1.8,
                    870000,
                    "2017-06-17",
                    "Northern Metropolitan"
                  ],
                  [
                    "Coburg",
                    "14a Hardwick St",
                    2,
                    174,
                    7.8,
                    870000,
                    "2016-10-15",
                    "Northern Metropolitan"
                  ],
                  [
                    "Brunswick East",
                    "7/2 Albion St",
                    2,
                    0,
                    4,
                    570000,
                    "2017-06-03",
                    "Northern Metropolitan"
                  ],
                  [
                    "North Melbourne",
                    "22 Melrose St",
                    2,
                    102,
                    1.8,
                    970000,
                    "2017-06-03",
                    "Northern Metropolitan"
                  ],
                  [
                    "Preston",
                    "30 Flett St",
                    2,
                    79,
                    8.8,
                    635000,
                    "2016-05-14",
                    "Northern Metropolitan"
                  ],
                  [
                    "Clifton Hill",
                    "1 Peckville St",
                    2,
                    128,
                    3.6,
                    1010000,
                    "2018-03-03",
                    "Northern Metropolitan"
                  ],
                  [
                    "Ivanhoe East",
                    "5/3 Rotherwood Rd",
                    2,
                    959.5,
                    9,
                    470000,
                    "2016-08-06",
                    "Eastern Metropolitan"
                  ],
                  [
                    "Preston",
                    "5 Wurruk Av",
                    2,
                    521,
                    8.8,
                    745000,
                    "2016-07-30",
                    "Northern Metropolitan"
                  ],
                  [
                    "Brunswick",
                    "1/339 Brunswick Rd",
                    2,
                    521,
                    5.2,
                    870000,
                    "2017-09-23",
                    "Northern Metropolitan"
                  ],
                  [
                    "Rosanna",
                    "6/3 Lower Plenty Rd",
                    2,
                    256,
                    8.9,
                    870000,
                    "2017-06-03",
                    "Eastern Metropolitan"
                  ],
                  [
                    "Preston",
                    "6/110 David St",
                    2,
                    521,
                    8.8,
                    457500,
                    "2016-12-10",
                    "Northern Metropolitan"
                  ],
                  [
                    "Collingwood",
                    "6 Forest St",
                    2,
                    188,
                    1.6,
                    981000,
                    "2016-09-17",
                    "Northern Metropolitan"
                  ],
                  [
                    "North Melbourne",
                    "3/680 Victoria St",
                    2,
                    521,
                    1.8,
                    790000,
                    "2017-09-16",
                    "Northern Metropolitan"
                  ],
                  [
                    "Reservoir",
                    "1a Fordham Rd",
                    2,
                    234,
                    11.2,
                    468000,
                    "2016-10-08",
                    "Northern Metropolitan"
                  ],
                  [
                    "Glenroy",
                    "4/10 Gladstone Pde",
                    2,
                    193,
                    11.2,
                    565000,
                    "2017-08-12",
                    "Northern Metropolitan"
                  ],
                  [
                    "Westmeadows",
                    "2/4 Avion Pl",
                    2,
                    521,
                    16.5,
                    455000,
                    "2017-09-23",
                    "Northern Metropolitan"
                  ],
                  [
                    "Mont Albert",
                    "2/389 Mont Albert Rd",
                    2,
                    521,
                    10.2,
                    870000,
                    "2017-10-07",
                    "Eastern Metropolitan"
                  ],
                  [
                    "Reservoir",
                    "2/102 Rathcown Rd",
                    2,
                    132,
                    11.2,
                    440000,
                    "2016-10-15",
                    "Northern Metropolitan"
                  ],
                  [
                    "North Melbourne",
                    "511/179 Boundary Rd",
                    2,
                    521,
                    1.8,
                    390000,
                    "2017-09-03",
                    "Northern Metropolitan"
                  ],
                  [
                    "Mount Waverley",
                    "5/280 Lawrence Rd",
                    2,
                    521,
                    14.2,
                    730000,
                    "2017-07-15",
                    "Eastern Metropolitan"
                  ],
                  [
                    "Pascoe Vale",
                    "6/3 Plymouth Av",
                    2,
                    521,
                    9.9,
                    567000,
                    "2016-07-26",
                    "Northern Metropolitan"
                  ],
                  [
                    "Glen Waverley",
                    "2/5 Janice Rd",
                    2,
                    521,
                    16.7,
                    870000,
                    "2017-11-25",
                    "Eastern Metropolitan"
                  ],
                  [
                    "Mitcham",
                    "47 Quarry Rd",
                    2,
                    525,
                    17.2,
                    870000,
                    "2017-06-03",
                    "Eastern Metropolitan"
                  ],
                  [
                    "Reservoir",
                    "129 Spring St",
                    2,
                    452,
                    11.2,
                    623500,
                    "2016-08-22",
                    "Northern Metropolitan"
                  ],
                  [
                    "Reservoir",
                    "3/30 George St",
                    2,
                    521,
                    11.2,
                    420000,
                    "2016-07-16",
                    "Northern Metropolitan"
                  ],
                  [
                    "Montmorency",
                    "2/31 Hoban Av",
                    2,
                    521,
                    16.2,
                    690000,
                    "2017-11-11",
                    "Eastern Metropolitan"
                  ],
                  [
                    "Brunswick",
                    "19 Barry St",
                    2,
                    186,
                    5.2,
                    805000,
                    "2018-02-24",
                    "Northern Metropolitan"
                  ],
                  [
                    "Jacana",
                    "5 Bessell Ct",
                    2,
                    796,
                    14,
                    870000,
                    "2018-01-06",
                    "Northern Metropolitan"
                  ],
                  [
                    "Carlton North",
                    "125 Newry St",
                    2,
                    97,
                    3.5,
                    950000,
                    "2017-09-09",
                    "Northern Metropolitan"
                  ],
                  [
                    "Princes Hill",
                    "26 Paterson St",
                    2,
                    533,
                    3.5,
                    957000,
                    "2017-11-25",
                    "Northern Metropolitan"
                  ],
                  [
                    "Richmond",
                    "60 Somerset St",
                    2,
                    67,
                    2.6,
                    935000,
                    "2016-12-03",
                    "Northern Metropolitan"
                  ],
                  [
                    "Northcote",
                    "35 Kellett St",
                    2,
                    205,
                    5.3,
                    960000,
                    "2018-02-10",
                    "Northern Metropolitan"
                  ],
                  [
                    "Thornbury",
                    "58 Leinster Gr",
                    2,
                    158,
                    6.5,
                    960000,
                    "2017-04-29",
                    "Northern Metropolitan"
                  ],
                  [
                    "Boronia",
                    "117 Dorset Rd",
                    2,
                    521,
                    25,
                    870000,
                    "2017-09-23",
                    "Eastern Metropolitan"
                  ],
                  [
                    "Thornbury",
                    "7/42 Pender St",
                    2,
                    521,
                    7,
                    625000,
                    "2017-08-19",
                    "Northern Metropolitan"
                  ],
                  [
                    "Flemington",
                    "2/91 High St",
                    2,
                    521,
                    4.4,
                    668000,
                    "2017-05-06",
                    "Northern Metropolitan"
                  ],
                  [
                    "Brunswick",
                    "22/74 Tinning St",
                    2,
                    521,
                    5.2,
                    725000,
                    "2017-07-29",
                    "Northern Metropolitan"
                  ],
                  [
                    "Fitzroy",
                    "46 Webb St",
                    2,
                    521,
                    2.1,
                    870000,
                    "2017-09-30",
                    "Northern Metropolitan"
                  ],
                  [
                    "Brunswick West",
                    "8/80 Hopetoun Av",
                    2,
                    521,
                    5.2,
                    870000,
                    "2017-11-25",
                    "Northern Metropolitan"
                  ],
                  [
                    "Heidelberg Heights",
                    "55 McEwan Rd",
                    2,
                    588,
                    8.8,
                    780000,
                    "2017-07-01",
                    "Eastern Metropolitan"
                  ],
                  [
                    "Heidelberg Heights",
                    "12 Terry St",
                    2,
                    521,
                    8.8,
                    640000,
                    "2018-01-06",
                    "Eastern Metropolitan"
                  ],
                  [
                    "Greensborough",
                    "2/18 Vermont Pde",
                    2,
                    704,
                    16.1,
                    670000,
                    "2017-08-26",
                    "Northern Metropolitan"
                  ],
                  [
                    "Mont Albert",
                    "2/394 Mont Albert Rd",
                    2,
                    521,
                    10.2,
                    541500,
                    "2018-01-06",
                    "Eastern Metropolitan"
                  ],
                  [
                    "Preston",
                    "1/30 Ruby St",
                    2,
                    521,
                    8.4,
                    705000,
                    "2017-12-09",
                    "Northern Metropolitan"
                  ],
                  [
                    "Brunswick",
                    "1/15 Cassels Rd",
                    2,
                    0,
                    5.2,
                    520000,
                    "2017-06-24",
                    "Northern Metropolitan"
                  ],
                  [
                    "Epping",
                    "14A Supply Dr",
                    2,
                    279,
                    19.6,
                    452500,
                    "2017-05-27",
                    "Northern Metropolitan"
                  ],
                  [
                    "Northcote",
                    "101/231 St Georges St",
                    2,
                    521,
                    5.3,
                    782500,
                    "2017-07-22",
                    "Northern Metropolitan"
                  ],
                  [
                    "Thornbury",
                    "25 Hobson St",
                    2,
                    150,
                    7,
                    830000,
                    "2017-11-11",
                    "Northern Metropolitan"
                  ],
                  [
                    "Northcote",
                    "53 Bent St",
                    2,
                    240,
                    5.3,
                    1010000,
                    "2018-03-17",
                    "Northern Metropolitan"
                  ],
                  [
                    "Brunswick",
                    "1/46 Davies St",
                    2,
                    108,
                    5.2,
                    650000,
                    "2017-07-29",
                    "Northern Metropolitan"
                  ],
                  [
                    "Westmeadows",
                    "215 Johnstone St",
                    2,
                    243,
                    16.5,
                    466000,
                    "2018-03-17",
                    "Northern Metropolitan"
                  ],
                  [
                    "Glenroy",
                    "21 Langton St",
                    2,
                    521,
                    13,
                    758000,
                    "2017-03-04",
                    "Northern Metropolitan"
                  ],
                  [
                    "Fawkner",
                    "5/134 Lorne St",
                    2,
                    521,
                    13.1,
                    475000,
                    "2017-09-09",
                    "Northern Metropolitan"
                  ],
                  [
                    "Fitzroy North",
                    "12/262 Barkly St",
                    2,
                    0,
                    3.5,
                    602000,
                    "2016-08-28",
                    "Northern Metropolitan"
                  ],
                  [
                    "Northcote",
                    "112/405 High St",
                    2,
                    521,
                    5.3,
                    585000,
                    "2017-10-14",
                    "Northern Metropolitan"
                  ],
                  [
                    "Mont Albert",
                    "3/42 Zetland Rd",
                    2,
                    521,
                    10.2,
                    700000,
                    "2018-03-17",
                    "Eastern Metropolitan"
                  ],
                  [
                    "Brunswick",
                    "8/705 Park St",
                    2,
                    0,
                    5.2,
                    601000,
                    "2017-03-18",
                    "Northern Metropolitan"
                  ],
                  [
                    "Eltham",
                    "1/44 Arthur St",
                    2,
                    132,
                    18,
                    540000,
                    "2017-07-15",
                    "Eastern Metropolitan"
                  ],
                  [
                    "Princes Hill",
                    "112 Paterson St",
                    2,
                    134,
                    3.7,
                    870000,
                    "2016-08-28",
                    "Northern Metropolitan"
                  ],
                  [
                    "Richmond",
                    "503/6 Lord St",
                    2,
                    0,
                    2.6,
                    1040000,
                    "2016-09-10",
                    "Northern Metropolitan"
                  ],
                  [
                    "Thornbury",
                    "2/38 Woolton Av",
                    2,
                    521,
                    6.5,
                    422000,
                    "2016-11-19",
                    "Northern Metropolitan"
                  ],
                  [
                    "Preston",
                    "2/584 Murray Rd",
                    2,
                    521,
                    8.4,
                    500000,
                    "2018-02-24",
                    "Northern Metropolitan"
                  ],
                  [
                    "Box Hill",
                    "1A Maple St",
                    2,
                    257,
                    13.1,
                    990000,
                    "2017-05-20",
                    "Eastern Metropolitan"
                  ],
                  [
                    "Coburg",
                    "373 Moreland Rd",
                    2,
                    600,
                    6.7,
                    770000,
                    "2017-08-26",
                    "Northern Metropolitan"
                  ],
                  [
                    "Thornbury",
                    "84 Raleigh St",
                    2,
                    0,
                    6.5,
                    760000,
                    "2016-04-16",
                    "Northern Metropolitan"
                  ],
                  [
                    "Brunswick",
                    "1/11 Millward St",
                    2,
                    521,
                    5.2,
                    515000,
                    "2017-09-03",
                    "Northern Metropolitan"
                  ],
                  [
                    "Preston",
                    "4/111 Regent St",
                    2,
                    157,
                    8.8,
                    870000,
                    "2016-06-12",
                    "Northern Metropolitan"
                  ],
                  [
                    "Viewbank",
                    "3/23 Christine St",
                    2,
                    195,
                    13.8,
                    556000,
                    "2016-12-03",
                    "Eastern Metropolitan"
                  ],
                  [
                    "Brunswick West",
                    "1 Marion Av",
                    2,
                    521,
                    5.9,
                    989000,
                    "2016-11-12",
                    "Northern Metropolitan"
                  ],
                  [
                    "Heidelberg West",
                    "163 Dougharty Rd",
                    2,
                    368,
                    9.4,
                    440500,
                    "2016-07-16",
                    "Eastern Metropolitan"
                  ],
                  [
                    "Bundoora",
                    "6/70 Grange Bvd",
                    2,
                    90,
                    12.1,
                    505000,
                    "2017-08-12",
                    "Northern Metropolitan"
                  ],
                  [
                    "Preston",
                    "7/33 Cramer St",
                    2,
                    521,
                    8.4,
                    665000,
                    "2017-11-25",
                    "Northern Metropolitan"
                  ],
                  [
                    "Ivanhoe",
                    "2/8 Oriel Rd",
                    2,
                    521,
                    7.8,
                    870000,
                    "2017-10-28",
                    "Eastern Metropolitan"
                  ],
                  [
                    "Brunswick",
                    "3/30 Heller St",
                    2,
                    156,
                    5.2,
                    801000,
                    "2017-02-25",
                    "Northern Metropolitan"
                  ],
                  [
                    "Flemington",
                    "19/60 Farnham St",
                    2,
                    521,
                    3.4,
                    452000,
                    "2018-03-17",
                    "Northern Metropolitan"
                  ],
                  [
                    "Melbourne",
                    "11/8 Louise St",
                    2,
                    521,
                    0,
                    550000,
                    "2017-09-16",
                    "Northern Metropolitan"
                  ],
                  [
                    "Mitcham",
                    "395 Mitcham Rd",
                    2,
                    370,
                    17.2,
                    890000,
                    "2017-06-24",
                    "Eastern Metropolitan"
                  ],
                  [
                    "Coburg",
                    "18 Industry La",
                    2,
                    0,
                    7.8,
                    570000,
                    "2016-08-28",
                    "Northern Metropolitan"
                  ],
                  [
                    "Watsonia",
                    "1/16 Lambourn Rd",
                    2,
                    521,
                    14.5,
                    640000,
                    "2017-09-16",
                    "Northern Metropolitan"
                  ],
                  [
                    "Richmond",
                    "9/343 Church St",
                    2,
                    959.5,
                    2.4,
                    715000,
                    "2017-07-08",
                    "Northern Metropolitan"
                  ],
                  [
                    "Heidelberg Heights",
                    "29 Monash St",
                    2,
                    521,
                    8.8,
                    780000,
                    "2017-11-25",
                    "Eastern Metropolitan"
                  ],
                  [
                    "Blackburn South",
                    "12/5 Travellyn Ct",
                    2,
                    959.5,
                    13.4,
                    615000,
                    "2017-07-29",
                    "Eastern Metropolitan"
                  ],
                  [
                    "Fitzroy",
                    "4/113 Cecil St",
                    2,
                    0,
                    1.6,
                    810000,
                    "2016-08-06",
                    "Northern Metropolitan"
                  ],
                  [
                    "Northcote",
                    "502/8 Breavington Wy",
                    2,
                    521,
                    5.5,
                    641000,
                    "2016-10-08",
                    "Northern Metropolitan"
                  ],
                  [
                    "Richmond",
                    "54 Mary St",
                    2,
                    120,
                    2.6,
                    870000,
                    "2017-04-29",
                    "Northern Metropolitan"
                  ],
                  [
                    "Greensborough",
                    "1/22 Louis St",
                    2,
                    521,
                    16.1,
                    870000,
                    "2017-12-09",
                    "Northern Metropolitan"
                  ],
                  [
                    "Richmond",
                    "32 Jubilee Pl",
                    2,
                    80,
                    2.6,
                    1042500,
                    "2017-03-04",
                    "Northern Metropolitan"
                  ],
                  [
                    "Fawkner",
                    "2/55 Marlborough St",
                    2,
                    521,
                    13.1,
                    560000,
                    "2018-02-17",
                    "Northern Metropolitan"
                  ],
                  [
                    "Flemington",
                    "85 Shields St",
                    2,
                    521,
                    3.4,
                    905000,
                    "2017-11-25",
                    "Northern Metropolitan"
                  ],
                  [
                    "Northcote",
                    "19 Hunter St",
                    2,
                    225,
                    5.5,
                    890000,
                    "2016-05-14",
                    "Northern Metropolitan"
                  ],
                  [
                    "Forest Hill",
                    "52 Parkmore Rd",
                    2,
                    581,
                    15.4,
                    1020000,
                    "2017-07-15",
                    "Eastern Metropolitan"
                  ],
                  [
                    "Thomastown",
                    "3/3 Travers St",
                    2,
                    148,
                    15.3,
                    460000,
                    "2017-10-21",
                    "Northern Metropolitan"
                  ],
                  [
                    "Brunswick",
                    "45b Garnet St",
                    2,
                    521,
                    5.2,
                    849000,
                    "2017-11-25",
                    "Northern Metropolitan"
                  ],
                  [
                    "Brunswick West",
                    "1/464 Victoria St",
                    2,
                    120,
                    5.9,
                    735000,
                    "2016-09-24",
                    "Northern Metropolitan"
                  ],
                  [
                    "Richmond",
                    "25 Canterbury St",
                    2,
                    164,
                    2.4,
                    1000000,
                    "2017-05-27",
                    "Northern Metropolitan"
                  ],
                  [
                    "Reservoir",
                    "3/7 Mattea Ct",
                    2,
                    220,
                    11.2,
                    380000,
                    "2016-08-13",
                    "Northern Metropolitan"
                  ],
                  [
                    "Reservoir",
                    "3/154 Leamington St",
                    2,
                    146,
                    11.2,
                    870000,
                    "2016-08-06",
                    "Northern Metropolitan"
                  ],
                  [
                    "Lalor",
                    "3/115 Messmate St",
                    2,
                    521,
                    16.3,
                    500000,
                    "2018-02-24",
                    "Northern Metropolitan"
                  ],
                  [
                    "Reservoir",
                    "3/170 Spring St",
                    2,
                    521,
                    11.2,
                    575000,
                    "2016-06-04",
                    "Northern Metropolitan"
                  ],
                  [
                    "East Melbourne",
                    "101/166 Wellington Pde",
                    2,
                    0,
                    1.3,
                    870000,
                    "2017-06-03",
                    "Northern Metropolitan"
                  ],
                  [
                    "Brunswick",
                    "46 Tinning St",
                    2,
                    199,
                    5.2,
                    765000,
                    "2016-05-28",
                    "Northern Metropolitan"
                  ],
                  [
                    "Ferntree Gully",
                    "24a Helen Rd",
                    2,
                    306,
                    24.8,
                    617000,
                    "2017-05-27",
                    "Eastern Metropolitan"
                  ],
                  [
                    "Reservoir",
                    "165 Spring St",
                    2,
                    556,
                    12,
                    762000,
                    "2017-09-03",
                    "Northern Metropolitan"
                  ],
                  [
                    "Box Hill",
                    "1/1 Cherryhinton St",
                    2,
                    195,
                    13.1,
                    790000,
                    "2017-03-04",
                    "Eastern Metropolitan"
                  ],
                  [
                    "East Melbourne",
                    "29/22 Agnes St",
                    2,
                    959.5,
                    1.3,
                    870000,
                    "2017-07-22",
                    "Northern Metropolitan"
                  ],
                  [
                    "Brunswick West",
                    "522 Victoria St",
                    2,
                    300,
                    5.2,
                    870000,
                    "2018-03-17",
                    "Northern Metropolitan"
                  ],
                  [
                    "Richmond",
                    "25/9 Tennyson St",
                    2,
                    521,
                    2.4,
                    870000,
                    "2017-12-09",
                    "Northern Metropolitan"
                  ],
                  [
                    "Collingwood",
                    "102/6 Mater St",
                    2,
                    521,
                    1.6,
                    500000,
                    "2017-04-22",
                    "Northern Metropolitan"
                  ],
                  [
                    "Fairfield",
                    "8/35 Grange Rd",
                    2,
                    521,
                    5.7,
                    450000,
                    "2017-10-21",
                    "Northern Metropolitan"
                  ],
                  [
                    "Northcote",
                    "18/70 Gadd St",
                    2,
                    521,
                    5.5,
                    680000,
                    "2017-03-11",
                    "Northern Metropolitan"
                  ],
                  [
                    "Carlton North",
                    "16 Fenwick St",
                    2,
                    100,
                    3.2,
                    910000,
                    "2016-06-18",
                    "Northern Metropolitan"
                  ]
                ],
                "hovertemplate": "<b>%{customdata[0]}</b><br>%{customdata[1]}<br>Rooms: %{customdata[2]} • Landsize: %{customdata[3]} m²<br>Distance: %{x} km • Price: $%{y}<br>Region: %{customdata[7]}<extra></extra>",
                "marker": {
                  "color": "#ffffb3",
                  "line": {
                    "color": "DimGray",
                    "width": 0.5
                  },
                  "opacity": 0.65,
                  "size": {
                    "dtype": "float64",
                    "shape": [
                      271
                    ]
                  }
                },
                "mode": "markers",
                "name": "Rooms 2",
                "selected": {
                  "marker": {
                    "color": "black",
                    "opacity": 1,
                    "size": 14
                  }
                },
                "unselected": {
                  "marker": {
                    "opacity": 0.15
                  }
                },
                "x": {
                  "dtype": "float64",
                  "shape": [
                    271
                  ]
                },
                "y": {
                  "dtype": "float64",
                  "shape": [
                    271
                  ]
                },
                "type": "scatter",
                "uid": "9a190e9a-3b4a-464e-a1d3-40fdfba3c0c6"
              },
              {
                "customdata": [
                  [
                    "Vermont South",
                    "3 Winslow Gr",
                    3,
                    521,
                    17.2,
                    768000,
                    "2017-09-03",
                    "Eastern Metropolitan"
                  ],
                  [
                    "Eltham",
                    "13 Elsa Ct",
                    3,
                    521,
                    18,
                    870000,
                    "2017-09-03",
                    "Eastern Metropolitan"
                  ],
                  [
                    "Coburg",
                    "99 Rose St",
                    3,
                    399,
                    7.8,
                    790000,
                    "2017-04-08",
                    "Northern Metropolitan"
                  ],
                  [
                    "Rosanna",
                    "2/236 Lower Plenty Rd",
                    3,
                    213,
                    11.4,
                    560000,
                    "2016-05-07",
                    "Eastern Metropolitan"
                  ],
                  [
                    "Epping",
                    "4 Longwood Dr",
                    3,
                    654,
                    19.6,
                    557500,
                    "2017-09-03",
                    "Northern Metropolitan"
                  ],
                  [
                    "Cremorne",
                    "36 Dover St",
                    3,
                    143,
                    2.4,
                    870000,
                    "2017-09-03",
                    "Northern Metropolitan"
                  ],
                  [
                    "Viewbank",
                    "178 Graham Rd",
                    3,
                    658,
                    8.9,
                    825000,
                    "2017-06-24",
                    "Eastern Metropolitan"
                  ],
                  [
                    "Mooroolbark",
                    "25 Neville St",
                    3,
                    862,
                    25.4,
                    940000,
                    "2018-03-17",
                    "Eastern Victoria"
                  ],
                  [
                    "Dallas",
                    "3 Donald St",
                    3,
                    552,
                    14,
                    870000,
                    "2018-01-06",
                    "Northern Metropolitan"
                  ],
                  [
                    "Thornbury",
                    "352 Gooch St",
                    3,
                    521,
                    7,
                    800000,
                    "2017-07-15",
                    "Northern Metropolitan"
                  ],
                  [
                    "Eltham",
                    "8 Ibsley Sq",
                    3,
                    959.5,
                    18,
                    960000,
                    "2017-10-28",
                    "Eastern Metropolitan"
                  ],
                  [
                    "Carlton",
                    "56/39 Rathdowne St",
                    3,
                    521,
                    1.6,
                    830000,
                    "2017-09-23",
                    "Northern Metropolitan"
                  ],
                  [
                    "Glen Waverley",
                    "1/1 Landridge St",
                    3,
                    521,
                    16.7,
                    870000,
                    "2018-03-03",
                    "Eastern Metropolitan"
                  ],
                  [
                    "Ringwood East",
                    "24 Gracedale Av",
                    3,
                    582,
                    21.3,
                    790000,
                    "2018-03-17",
                    "Eastern Metropolitan"
                  ],
                  [
                    "Mill Park",
                    "9 Conifer Cl",
                    3,
                    304,
                    17.9,
                    553000,
                    "2017-12-09",
                    "Northern Metropolitan"
                  ],
                  [
                    "Fairfield",
                    "128 Christmas St",
                    3,
                    521,
                    5.7,
                    870000,
                    "2017-10-21",
                    "Northern Metropolitan"
                  ],
                  [
                    "Donvale",
                    "2/9 Standring Cl",
                    3,
                    243,
                    16.1,
                    988000,
                    "2017-08-19",
                    "Eastern Metropolitan"
                  ],
                  [
                    "Mount Waverley",
                    "2/392 Stephensons Rd",
                    3,
                    236,
                    14.2,
                    1035000,
                    "2017-08-26",
                    "Eastern Metropolitan"
                  ],
                  [
                    "Glenroy",
                    "68 Moonee Bvd",
                    3,
                    656,
                    13,
                    870000,
                    "2016-11-07",
                    "Northern Metropolitan"
                  ],
                  [
                    "Glenroy",
                    "1a Stella St",
                    3,
                    521,
                    13,
                    482500,
                    "2016-06-18",
                    "Northern Metropolitan"
                  ],
                  [
                    "Reservoir",
                    "30 Boldrewood Pde",
                    3,
                    654,
                    11.2,
                    670500,
                    "2016-08-22",
                    "Northern Metropolitan"
                  ],
                  [
                    "Coburg",
                    "16 Tanderum Dr",
                    3,
                    184,
                    6.7,
                    730000,
                    "2017-10-07",
                    "Northern Metropolitan"
                  ],
                  [
                    "Bundoora",
                    "14 Shelley Av",
                    3,
                    521,
                    12.1,
                    700000,
                    "2017-11-25",
                    "Northern Metropolitan"
                  ],
                  [
                    "Boronia",
                    "2/24 Springfield Rd",
                    3,
                    521,
                    25,
                    701000,
                    "2017-09-09",
                    "Eastern Metropolitan"
                  ],
                  [
                    "Viewbank",
                    "81 Rutherford Rd",
                    3,
                    521,
                    8.9,
                    870000,
                    "2017-11-25",
                    "Eastern Metropolitan"
                  ],
                  [
                    "Lalor",
                    "34 Cyprus St",
                    3,
                    651,
                    16.3,
                    716000,
                    "2017-06-17",
                    "Northern Metropolitan"
                  ],
                  [
                    "Reservoir",
                    "27 Henty St",
                    3,
                    550,
                    11.2,
                    870000,
                    "2016-11-27",
                    "Northern Metropolitan"
                  ],
                  [
                    "Yallambie",
                    "252 Yallambie Rd",
                    3,
                    535,
                    15,
                    720000,
                    "2016-09-24",
                    "Northern Metropolitan"
                  ],
                  [
                    "Kensington",
                    "2B Wight St",
                    3,
                    120,
                    3.4,
                    976000,
                    "2018-02-24",
                    "Northern Metropolitan"
                  ],
                  [
                    "Reservoir",
                    "2/37 Shand Rd",
                    3,
                    521,
                    11.2,
                    620000,
                    "2016-10-15",
                    "Northern Metropolitan"
                  ],
                  [
                    "Coburg",
                    "3 Suffolk Av",
                    3,
                    521,
                    7.8,
                    870000,
                    "2017-03-18",
                    "Northern Metropolitan"
                  ],
                  [
                    "Nunawading",
                    "4/4 Koroit St",
                    3,
                    521,
                    15.4,
                    860000,
                    "2017-08-19",
                    "Eastern Metropolitan"
                  ],
                  [
                    "Reservoir",
                    "1/9 Loddon Av",
                    3,
                    521,
                    11.2,
                    668000,
                    "2017-04-08",
                    "Northern Metropolitan"
                  ],
                  [
                    "Eltham",
                    "2/72 Bible St",
                    3,
                    521,
                    18,
                    685000,
                    "2017-10-21",
                    "Eastern Metropolitan"
                  ],
                  [
                    "Brunswick East",
                    "256 Stewart St",
                    3,
                    138,
                    4.5,
                    930000,
                    "2017-03-04",
                    "Northern Metropolitan"
                  ],
                  [
                    "Craigieburn",
                    "53 Thoresby Cct",
                    3,
                    521,
                    20.6,
                    515000,
                    "2017-12-09",
                    "Northern Metropolitan"
                  ],
                  [
                    "Preston",
                    "38 Spring St",
                    3,
                    521,
                    8.4,
                    947500,
                    "2017-09-09",
                    "Northern Metropolitan"
                  ],
                  [
                    "Donvale",
                    "14 Amys Gr",
                    3,
                    393,
                    16.1,
                    900000,
                    "2018-03-17",
                    "Eastern Metropolitan"
                  ],
                  [
                    "Ivanhoe",
                    "16 Ayton St",
                    3,
                    290,
                    7.9,
                    950000,
                    "2016-11-19",
                    "Eastern Metropolitan"
                  ],
                  [
                    "Thomastown",
                    "3 Chesney Ct",
                    3,
                    500,
                    15.3,
                    870000,
                    "2018-01-06",
                    "Northern Metropolitan"
                  ],
                  [
                    "Mill Park",
                    "6 Bean Ct",
                    3,
                    269,
                    17.9,
                    530500,
                    "2018-03-03",
                    "Northern Metropolitan"
                  ],
                  [
                    "Fitzroy",
                    "71 Bell St",
                    3,
                    112,
                    2.1,
                    870000,
                    "2018-02-24",
                    "Northern Metropolitan"
                  ],
                  [
                    "Westmeadows",
                    "19 Forman St",
                    3,
                    521,
                    16.5,
                    715000,
                    "2017-11-18",
                    "Northern Metropolitan"
                  ],
                  [
                    "Northcote",
                    "182 Separation St",
                    3,
                    530,
                    5.3,
                    1050000,
                    "2017-07-15",
                    "Northern Metropolitan"
                  ],
                  [
                    "Preston",
                    "11 Jackman St",
                    3,
                    464,
                    8.4,
                    1001000,
                    "2017-08-19",
                    "Northern Metropolitan"
                  ],
                  [
                    "Wollert",
                    "66 Fulham Wy",
                    3,
                    395,
                    25.4,
                    640000,
                    "2018-01-06",
                    "Northern Metropolitan"
                  ],
                  [
                    "Clyde North",
                    "19 Fleuve Ri",
                    3,
                    521,
                    25.4,
                    870000,
                    "2018-03-17",
                    "Eastern Victoria"
                  ],
                  [
                    "Heidelberg Heights",
                    "14 Sackville St",
                    3,
                    592,
                    10.5,
                    785000,
                    "2016-12-10",
                    "Eastern Metropolitan"
                  ],
                  [
                    "Northcote",
                    "130 Darebin Rd",
                    3,
                    521,
                    5.3,
                    870000,
                    "2017-11-25",
                    "Northern Metropolitan"
                  ],
                  [
                    "Glenroy",
                    "1/83 Maude Av",
                    3,
                    521,
                    13,
                    480000,
                    "2016-09-03",
                    "Northern Metropolitan"
                  ],
                  [
                    "Meadow Heights",
                    "118 Malmsbury Dr",
                    3,
                    521,
                    17.4,
                    870000,
                    "2017-07-29",
                    "Northern Metropolitan"
                  ],
                  [
                    "Fawkner",
                    "110 Jukes Rd",
                    3,
                    593,
                    12.4,
                    870000,
                    "2016-11-12",
                    "Northern Metropolitan"
                  ],
                  [
                    "Brunswick West",
                    "6 Shamrock St",
                    3,
                    323,
                    5.9,
                    870000,
                    "2016-06-04",
                    "Northern Metropolitan"
                  ],
                  [
                    "Oak Park",
                    "19 Valdoone Ct",
                    3,
                    719,
                    11.5,
                    727500,
                    "2016-08-13",
                    "Northern Metropolitan"
                  ],
                  [
                    "Templestowe Lower",
                    "1/51 John St",
                    3,
                    521,
                    12.4,
                    960000,
                    "2017-11-18",
                    "Eastern Metropolitan"
                  ],
                  [
                    "Forest Hill",
                    "104 Husband Rd",
                    3,
                    521,
                    15.4,
                    870000,
                    "2017-09-09",
                    "Eastern Metropolitan"
                  ],
                  [
                    "Eltham",
                    "44 John St",
                    3,
                    677,
                    18,
                    821000,
                    "2018-02-10",
                    "Eastern Metropolitan"
                  ],
                  [
                    "Rosanna",
                    "38 Grove Rd",
                    3,
                    521,
                    8.9,
                    805000,
                    "2017-10-07",
                    "Eastern Metropolitan"
                  ],
                  [
                    "Richmond",
                    "65 Church St",
                    3,
                    116,
                    2.4,
                    951000,
                    "2017-11-25",
                    "Northern Metropolitan"
                  ],
                  [
                    "Fawkner",
                    "25 William St",
                    3,
                    583,
                    12.4,
                    870000,
                    "2016-05-28",
                    "Northern Metropolitan"
                  ],
                  [
                    "Heathmont",
                    "38 Daisy St",
                    3,
                    756,
                    21.3,
                    1040000,
                    "2017-08-12",
                    "Eastern Metropolitan"
                  ],
                  [
                    "Epping",
                    "23 Epsom Av",
                    3,
                    521,
                    19.6,
                    601000,
                    "2017-09-23",
                    "Northern Metropolitan"
                  ],
                  [
                    "Fairfield",
                    "192 Gillies St",
                    3,
                    235,
                    5.8,
                    1064000,
                    "2016-08-06",
                    "Northern Metropolitan"
                  ],
                  [
                    "Boronia",
                    "36 Landscape Dr",
                    3,
                    521,
                    25,
                    815000,
                    "2017-10-14",
                    "Eastern Metropolitan"
                  ],
                  [
                    "Heidelberg West",
                    "8 Kanimbla Ct",
                    3,
                    521,
                    8.8,
                    860000,
                    "2017-11-11",
                    "Eastern Metropolitan"
                  ],
                  [
                    "Bulleen",
                    "6 Gisborne St",
                    3,
                    822,
                    10.8,
                    870000,
                    "2018-03-10",
                    "Eastern Metropolitan"
                  ],
                  [
                    "Reservoir",
                    "9 Odonnell St",
                    3,
                    521,
                    12,
                    876000,
                    "2017-11-18",
                    "Northern Metropolitan"
                  ],
                  [
                    "Glenroy",
                    "55 Paget Av",
                    3,
                    521,
                    13,
                    582000,
                    "2016-08-22",
                    "Northern Metropolitan"
                  ],
                  [
                    "Yallambie",
                    "340 Yallambie Rd",
                    3,
                    586,
                    15,
                    602500,
                    "2016-08-13",
                    "Northern Metropolitan"
                  ],
                  [
                    "MacLeod",
                    "43 Wungan St",
                    3,
                    521,
                    12.7,
                    710000,
                    "2017-07-22",
                    "Northern Metropolitan"
                  ],
                  [
                    "Thornbury",
                    "188A Dundas St",
                    3,
                    521,
                    7,
                    915000,
                    "2017-11-25",
                    "Northern Metropolitan"
                  ],
                  [
                    "Hadfield",
                    "27 West St",
                    3,
                    543,
                    11.2,
                    772500,
                    "2018-01-06",
                    "Northern Metropolitan"
                  ],
                  [
                    "Thornbury",
                    "20 Mansfield St",
                    3,
                    351,
                    6.5,
                    870000,
                    "2016-07-30",
                    "Northern Metropolitan"
                  ],
                  [
                    "North Melbourne",
                    "11 Bakery La",
                    3,
                    84,
                    2.3,
                    870000,
                    "2017-05-20",
                    "Northern Metropolitan"
                  ],
                  [
                    "Fawkner",
                    "100 Anderson Rd",
                    3,
                    587,
                    13.1,
                    670000,
                    "2018-03-17",
                    "Northern Metropolitan"
                  ],
                  [
                    "Brunswick West",
                    "25 McGregor Av",
                    3,
                    501,
                    5.2,
                    870000,
                    "2018-02-10",
                    "Northern Metropolitan"
                  ],
                  [
                    "Craigieburn",
                    "22 Moresby Ct",
                    3,
                    514,
                    20.6,
                    870000,
                    "2017-07-22",
                    "Northern Metropolitan"
                  ],
                  [
                    "Fawkner",
                    "2/11 Dowling St",
                    3,
                    195,
                    12.4,
                    422500,
                    "2016-07-30",
                    "Northern Metropolitan"
                  ],
                  [
                    "Preston",
                    "35a Austral Av",
                    3,
                    521,
                    8.8,
                    962000,
                    "2016-09-10",
                    "Northern Metropolitan"
                  ],
                  [
                    "Doncaster",
                    "13 Carnarvon St",
                    3,
                    0,
                    12.4,
                    840000,
                    "2017-07-01",
                    "Eastern Metropolitan"
                  ],
                  [
                    "Vermont South",
                    "28 Tullimbar Cct",
                    3,
                    655,
                    17.2,
                    870000,
                    "2018-02-24",
                    "Eastern Metropolitan"
                  ],
                  [
                    "Brunswick East",
                    "33 Roberts St",
                    3,
                    100,
                    4,
                    870000,
                    "2018-03-10",
                    "Northern Metropolitan"
                  ],
                  [
                    "Glenroy",
                    "89 John St",
                    3,
                    696,
                    13,
                    610000,
                    "2016-09-03",
                    "Northern Metropolitan"
                  ],
                  [
                    "Ringwood North",
                    "8 Montalbo Rd",
                    3,
                    521,
                    19.9,
                    845000,
                    "2017-11-18",
                    "Eastern Metropolitan"
                  ],
                  [
                    "Fawkner",
                    "77 Argyle St",
                    3,
                    641,
                    13.1,
                    870000,
                    "2017-12-09",
                    "Northern Metropolitan"
                  ],
                  [
                    "Jacana",
                    "29 Robinson St",
                    3,
                    604,
                    14,
                    870000,
                    "2017-07-22",
                    "Northern Metropolitan"
                  ],
                  [
                    "Brunswick West",
                    "549 Albion St",
                    3,
                    532,
                    5.2,
                    950000,
                    "2018-03-03",
                    "Northern Metropolitan"
                  ],
                  [
                    "Lalor",
                    "28 Duncan Rd",
                    3,
                    548,
                    16.3,
                    685000,
                    "2017-09-09",
                    "Northern Metropolitan"
                  ],
                  [
                    "Lalor",
                    "87 Kingsway Dr",
                    3,
                    391,
                    16.3,
                    540000,
                    "2018-02-17",
                    "Northern Metropolitan"
                  ],
                  [
                    "Wantirna",
                    "2/3 Cassia Ct",
                    3,
                    521,
                    14.7,
                    870000,
                    "2017-10-14",
                    "Eastern Metropolitan"
                  ],
                  [
                    "Greensborough",
                    "9 Tangari Ct",
                    3,
                    873,
                    16.1,
                    842000,
                    "2017-08-26",
                    "Northern Metropolitan"
                  ],
                  [
                    "Mill Park",
                    "140 Roycroft Av",
                    3,
                    628,
                    17.9,
                    598000,
                    "2017-12-09",
                    "Northern Metropolitan"
                  ],
                  [
                    "Reservoir",
                    "72 Oconnor St",
                    3,
                    677,
                    11.2,
                    762500,
                    "2016-11-27",
                    "Northern Metropolitan"
                  ],
                  [
                    "Heidelberg West",
                    "21 Pacific Dr",
                    3,
                    594,
                    9.4,
                    710000,
                    "2016-12-10",
                    "Eastern Metropolitan"
                  ],
                  [
                    "Coburg",
                    "11 Ryan St",
                    3,
                    521,
                    6.7,
                    870000,
                    "2017-11-25",
                    "Northern Metropolitan"
                  ],
                  [
                    "Mitcham",
                    "8/12 Irvine St",
                    3,
                    343,
                    17.2,
                    800000,
                    "2017-06-17",
                    "Eastern Metropolitan"
                  ],
                  [
                    "Glenroy",
                    "1/83 Daley St",
                    3,
                    521,
                    11.2,
                    591000,
                    "2017-12-09",
                    "Northern Metropolitan"
                  ],
                  [
                    "Coburg",
                    "17 Ryan St",
                    3,
                    486,
                    7.8,
                    870000,
                    "2016-07-30",
                    "Northern Metropolitan"
                  ],
                  [
                    "Wantirna",
                    "12/765 Boronia Rd",
                    3,
                    228,
                    14.7,
                    870000,
                    "2017-06-03",
                    "Eastern Metropolitan"
                  ],
                  [
                    "Coburg",
                    "15 Bishop St",
                    3,
                    480,
                    7.8,
                    940500,
                    "2017-05-13",
                    "Northern Metropolitan"
                  ],
                  [
                    "Heidelberg Heights",
                    "4/28 Myrtle St",
                    3,
                    521,
                    10.5,
                    620000,
                    "2016-04-23",
                    "Eastern Metropolitan"
                  ],
                  [
                    "Rosanna",
                    "2/23 Ruthven St",
                    3,
                    521,
                    8.9,
                    745000,
                    "2017-10-21",
                    "Eastern Metropolitan"
                  ],
                  [
                    "Watsonia North",
                    "151 Cameron Pde",
                    3,
                    521,
                    14.5,
                    870000,
                    "2018-01-06",
                    "Northern Metropolitan"
                  ],
                  [
                    "Bundoora",
                    "28 Greenwood Dr",
                    3,
                    669,
                    12.1,
                    805000,
                    "2017-07-01",
                    "Northern Metropolitan"
                  ],
                  [
                    "Croydon",
                    "11 Aminga Ct",
                    3,
                    850,
                    23,
                    840500,
                    "2017-09-23",
                    "Eastern Metropolitan"
                  ],
                  [
                    "Reservoir",
                    "107 Hickford St",
                    3,
                    869,
                    11.2,
                    870000,
                    "2016-09-24",
                    "Northern Metropolitan"
                  ],
                  [
                    "Brunswick East",
                    "9 Sedgman St",
                    3,
                    152,
                    4.5,
                    870000,
                    "2016-05-07",
                    "Northern Metropolitan"
                  ],
                  [
                    "Berwick",
                    "5 Gretel Pl",
                    3,
                    703,
                    25.4,
                    690000,
                    "2017-06-24",
                    "Eastern Victoria"
                  ],
                  [
                    "Frankston North",
                    "17 Windoo St",
                    3,
                    691,
                    25.4,
                    611000,
                    "2017-07-01",
                    "Eastern Victoria"
                  ],
                  [
                    "Mitcham",
                    "10 Alexander St",
                    3,
                    667,
                    17.2,
                    1070000,
                    "2017-11-25",
                    "Eastern Metropolitan"
                  ],
                  [
                    "Glenroy",
                    "2/12 Rowan St",
                    3,
                    521,
                    11.2,
                    655000,
                    "2017-10-28",
                    "Northern Metropolitan"
                  ],
                  [
                    "Mernda",
                    "20 Hillgrove Wy",
                    3,
                    521,
                    25.4,
                    440000,
                    "2017-06-24",
                    "Northern Metropolitan"
                  ],
                  [
                    "Coburg",
                    "1B Crozier St",
                    3,
                    190,
                    6.7,
                    890000,
                    "2017-07-22",
                    "Northern Metropolitan"
                  ],
                  [
                    "Brunswick",
                    "2C Donald St",
                    3,
                    521,
                    5.2,
                    870000,
                    "2017-09-09",
                    "Northern Metropolitan"
                  ],
                  [
                    "Frankston North",
                    "9 Candlebark Cr",
                    3,
                    521,
                    25.4,
                    870000,
                    "2017-10-14",
                    "Eastern Victoria"
                  ],
                  [
                    "Reservoir",
                    "1/54 Cheddar Rd",
                    3,
                    521,
                    12,
                    600000,
                    "2017-10-28",
                    "Northern Metropolitan"
                  ],
                  [
                    "Mernda",
                    "17 Annandale Dr",
                    3,
                    521,
                    25.4,
                    470000,
                    "2017-09-23",
                    "Northern Metropolitan"
                  ],
                  [
                    "Bayswater North",
                    "20 Blandford Cr",
                    3,
                    787,
                    23.2,
                    650000,
                    "2017-07-15",
                    "Eastern Metropolitan"
                  ],
                  [
                    "Heidelberg Heights",
                    "79 Bamfield Rd",
                    3,
                    592,
                    8.8,
                    885000,
                    "2017-06-03",
                    "Eastern Metropolitan"
                  ],
                  [
                    "Reservoir",
                    "57 Newton St",
                    3,
                    569,
                    11.2,
                    866000,
                    "2016-09-24",
                    "Northern Metropolitan"
                  ],
                  [
                    "Brunswick",
                    "1 Davison St",
                    3,
                    370,
                    5.2,
                    1000000,
                    "2016-09-24",
                    "Northern Metropolitan"
                  ],
                  [
                    "Fawkner",
                    "149 Anderson Rd",
                    3,
                    427,
                    13.1,
                    725000,
                    "2018-02-17",
                    "Northern Metropolitan"
                  ],
                  [
                    "Croydon",
                    "3 Silvergrass Ct",
                    3,
                    319,
                    23,
                    630000,
                    "2017-06-17",
                    "Eastern Metropolitan"
                  ],
                  [
                    "Reservoir",
                    "20 Kennedy St",
                    3,
                    521,
                    12,
                    889000,
                    "2017-09-09",
                    "Northern Metropolitan"
                  ],
                  [
                    "Ringwood",
                    "3/330 Canterbury Rd",
                    3,
                    521,
                    19.9,
                    760000,
                    "2018-03-17",
                    "Eastern Metropolitan"
                  ],
                  [
                    "Campbellfield",
                    "62 Sycamore Cr",
                    3,
                    521,
                    14.5,
                    435000,
                    "2016-11-19",
                    "Northern Metropolitan"
                  ],
                  [
                    "Craigieburn",
                    "8 Mosman Wy",
                    3,
                    400,
                    20.6,
                    535000,
                    "2018-02-17",
                    "Northern Metropolitan"
                  ],
                  [
                    "Reservoir",
                    "28 Crookston Rd",
                    3,
                    521,
                    12,
                    645000,
                    "2017-11-18",
                    "Northern Metropolitan"
                  ],
                  [
                    "Craigieburn",
                    "22 Rockwall Dr",
                    3,
                    294,
                    20.6,
                    473000,
                    "2017-10-14",
                    "Northern Metropolitan"
                  ],
                  [
                    "Clifton Hill",
                    "126 Hodgkinson St",
                    3,
                    346,
                    3.6,
                    870000,
                    "2017-06-24",
                    "Northern Metropolitan"
                  ],
                  [
                    "Lalor",
                    "13 Curtin Av",
                    3,
                    722,
                    16.3,
                    779000,
                    "2017-10-07",
                    "Northern Metropolitan"
                  ],
                  [
                    "Melbourne",
                    "901/469 St Kilda Rd",
                    3,
                    521,
                    2.8,
                    870000,
                    "2016-07-30",
                    "Northern Metropolitan"
                  ],
                  [
                    "Preston",
                    "15 Leicester St",
                    3,
                    582,
                    8.4,
                    870000,
                    "2018-02-24",
                    "Northern Metropolitan"
                  ],
                  [
                    "Preston",
                    "3 Avondale Rd",
                    3,
                    479,
                    8.8,
                    980000,
                    "2016-09-17",
                    "Northern Metropolitan"
                  ],
                  [
                    "Brunswick West",
                    "191 Hope St",
                    3,
                    591,
                    5.9,
                    870000,
                    "2017-04-08",
                    "Northern Metropolitan"
                  ],
                  [
                    "Richmond",
                    "18 Buckingham St",
                    3,
                    58,
                    2.6,
                    900000,
                    "2016-09-17",
                    "Northern Metropolitan"
                  ],
                  [
                    "Fawkner",
                    "1/26 Disney St",
                    3,
                    195,
                    12.4,
                    870000,
                    "2016-09-17",
                    "Northern Metropolitan"
                  ],
                  [
                    "Mooroolbark",
                    "130 Manchester Rd",
                    3,
                    521,
                    25.4,
                    645000,
                    "2017-11-18",
                    "Eastern Victoria"
                  ],
                  [
                    "Forest Hill",
                    "9 Leddy St",
                    3,
                    540,
                    15.4,
                    870000,
                    "2017-09-03",
                    "Eastern Metropolitan"
                  ],
                  [
                    "Bulleen",
                    "7 Mangan St",
                    3,
                    353,
                    11.8,
                    794000,
                    "2017-05-20",
                    "Eastern Metropolitan"
                  ],
                  [
                    "Reservoir",
                    "47 Henty St",
                    3,
                    552,
                    12,
                    795000,
                    "2018-03-03",
                    "Northern Metropolitan"
                  ],
                  [
                    "Craigieburn",
                    "30 Beckett Wy",
                    3,
                    521,
                    20.6,
                    421000,
                    "2017-06-24",
                    "Northern Metropolitan"
                  ],
                  [
                    "Box Hill",
                    "1 Maple St",
                    3,
                    228,
                    13.1,
                    836000,
                    "2016-11-19",
                    "Eastern Metropolitan"
                  ],
                  [
                    "Preston",
                    "10 Tyler St",
                    3,
                    164,
                    8.8,
                    550000,
                    "2016-10-08",
                    "Northern Metropolitan"
                  ],
                  [
                    "Pascoe Vale",
                    "9 Kevin St",
                    3,
                    438,
                    9.9,
                    815000,
                    "2016-10-08",
                    "Northern Metropolitan"
                  ],
                  [
                    "Hadfield",
                    "6 Mikado St",
                    3,
                    696,
                    12.1,
                    870000,
                    "2016-06-27",
                    "Northern Metropolitan"
                  ],
                  [
                    "Glenroy",
                    "83 View St",
                    3,
                    664,
                    11.2,
                    725000,
                    "2017-11-25",
                    "Northern Metropolitan"
                  ],
                  [
                    "Glenroy",
                    "83 Beatty Av",
                    3,
                    521,
                    13,
                    645000,
                    "2017-02-25",
                    "Northern Metropolitan"
                  ],
                  [
                    "Glenroy",
                    "1 Granville St",
                    3,
                    639,
                    11.2,
                    932000,
                    "2017-09-09",
                    "Northern Metropolitan"
                  ],
                  [
                    "Thornbury",
                    "108 Wales St",
                    3,
                    176,
                    6.5,
                    870000,
                    "2017-02-25",
                    "Northern Metropolitan"
                  ],
                  [
                    "Wantirna South",
                    "13 Mockridge St",
                    3,
                    630,
                    14.7,
                    940000,
                    "2017-11-11",
                    "Eastern Metropolitan"
                  ],
                  [
                    "Greensborough",
                    "5 Cam St",
                    3,
                    610,
                    16.1,
                    817000,
                    "2017-06-03",
                    "Northern Metropolitan"
                  ],
                  [
                    "Kilsyth",
                    "22 Colchester Rd",
                    3,
                    623,
                    25.4,
                    650000,
                    "2018-01-20",
                    "Eastern Metropolitan"
                  ],
                  [
                    "Collingwood",
                    "21 Vere St",
                    3,
                    133,
                    2,
                    870000,
                    "2017-10-07",
                    "Northern Metropolitan"
                  ],
                  [
                    "Meadow Heights",
                    "111 Malmsbury Dr",
                    3,
                    667,
                    17.4,
                    870000,
                    "2017-11-25",
                    "Northern Metropolitan"
                  ],
                  [
                    "Reservoir",
                    "20 Locher Av",
                    3,
                    521,
                    12,
                    790000,
                    "2017-06-24",
                    "Northern Metropolitan"
                  ],
                  [
                    "Croydon",
                    "4/7 Newman Rd",
                    3,
                    521,
                    23,
                    630000,
                    "2017-08-26",
                    "Eastern Metropolitan"
                  ],
                  [
                    "Preston",
                    "42 Kathleen St",
                    3,
                    520,
                    8.8,
                    810000,
                    "2016-06-27",
                    "Northern Metropolitan"
                  ],
                  [
                    "Glenroy",
                    "1/75 Morley St",
                    3,
                    521,
                    11.2,
                    870000,
                    "2018-02-17",
                    "Northern Metropolitan"
                  ],
                  [
                    "Mont Albert",
                    "12 Carrick St",
                    3,
                    604,
                    10.2,
                    870000,
                    "2018-03-17",
                    "Eastern Metropolitan"
                  ],
                  [
                    "Eltham",
                    "132 Franklin St",
                    3,
                    817,
                    18,
                    830000,
                    "2017-08-12",
                    "Eastern Metropolitan"
                  ],
                  [
                    "Preston",
                    "428 Plenty Rd",
                    3,
                    581,
                    8.4,
                    996000,
                    "2017-05-27",
                    "Northern Metropolitan"
                  ],
                  [
                    "Montmorency",
                    "1/30 Baldwin Av",
                    3,
                    521,
                    16.2,
                    745000,
                    "2018-02-17",
                    "Eastern Metropolitan"
                  ],
                  [
                    "Preston",
                    "65 Albert St",
                    3,
                    493,
                    8.8,
                    615000,
                    "2016-10-08",
                    "Northern Metropolitan"
                  ],
                  [
                    "Glenroy",
                    "64 Valley Cr",
                    3,
                    521,
                    13,
                    570000,
                    "2016-04-16",
                    "Northern Metropolitan"
                  ],
                  [
                    "Greensborough",
                    "2 Warralong Av",
                    3,
                    610,
                    16.1,
                    775000,
                    "2018-02-24",
                    "Northern Metropolitan"
                  ],
                  [
                    "Mill Park",
                    "79 Freeman Cr",
                    3,
                    531,
                    17.9,
                    705000,
                    "2017-07-08",
                    "Northern Metropolitan"
                  ],
                  [
                    "Blackburn",
                    "41 Blackburn Rd",
                    3,
                    607,
                    13.4,
                    870000,
                    "2017-09-09",
                    "Eastern Metropolitan"
                  ],
                  [
                    "Rosanna",
                    "1/66 Grandview Gr",
                    3,
                    521,
                    8.9,
                    870000,
                    "2018-01-06",
                    "Eastern Metropolitan"
                  ],
                  [
                    "Carlton",
                    "46/121 Rathdowne St",
                    3,
                    959.5,
                    1.8,
                    735000,
                    "2016-12-03",
                    "Northern Metropolitan"
                  ],
                  [
                    "croydon",
                    "81 hull Rd",
                    3,
                    521,
                    23,
                    730000,
                    "2017-08-26",
                    "Eastern Metropolitan"
                  ],
                  [
                    "Yallambie",
                    "9 Marigolds Rd",
                    3,
                    420,
                    12.7,
                    781000,
                    "2017-11-11",
                    "Northern Metropolitan"
                  ],
                  [
                    "Preston",
                    "33 Austral Av",
                    3,
                    521,
                    8.8,
                    860000,
                    "2017-03-11",
                    "Northern Metropolitan"
                  ],
                  [
                    "Reservoir",
                    "16 Jess St",
                    3,
                    521,
                    12,
                    921000,
                    "2017-10-14",
                    "Northern Metropolitan"
                  ],
                  [
                    "Greenvale",
                    "28 Frontier Av",
                    3,
                    313,
                    20.4,
                    588000,
                    "2018-03-17",
                    "Northern Metropolitan"
                  ],
                  [
                    "Fitzroy North",
                    "200 Miller St",
                    3,
                    285,
                    3.5,
                    870000,
                    "2016-10-15",
                    "Northern Metropolitan"
                  ],
                  [
                    "Reservoir",
                    "1 Cameron St",
                    3,
                    488,
                    12,
                    861000,
                    "2017-09-03",
                    "Northern Metropolitan"
                  ],
                  [
                    "Bayswater",
                    "1/8 Tracey St",
                    3,
                    521,
                    23.2,
                    610000,
                    "2017-05-27",
                    "Eastern Metropolitan"
                  ],
                  [
                    "Coburg North",
                    "48 Golf Rd",
                    3,
                    521,
                    6.7,
                    950000,
                    "2017-10-21",
                    "Northern Metropolitan"
                  ],
                  [
                    "Epping",
                    "635 Dalton Rd",
                    3,
                    583,
                    19.6,
                    570000,
                    "2017-10-07",
                    "Northern Metropolitan"
                  ],
                  [
                    "Broadmeadows",
                    "12 Osway St",
                    3,
                    647,
                    14,
                    653000,
                    "2018-03-03",
                    "Northern Metropolitan"
                  ],
                  [
                    "Reservoir",
                    "25/15 Seaver Gr",
                    3,
                    521,
                    12,
                    481000,
                    "2017-10-07",
                    "Northern Metropolitan"
                  ],
                  [
                    "Research",
                    "15 Valley Rd",
                    3,
                    521,
                    18,
                    720000,
                    "2017-10-28",
                    "Eastern Metropolitan"
                  ],
                  [
                    "Mernda",
                    "12 Dalwhinnie Cl",
                    3,
                    521,
                    25.4,
                    485000,
                    "2017-11-11",
                    "Northern Metropolitan"
                  ],
                  [
                    "Epping",
                    "53 Hayston Bvd",
                    3,
                    606,
                    19.6,
                    465000,
                    "2017-05-27",
                    "Northern Metropolitan"
                  ],
                  [
                    "Bellfield",
                    "26 Davidson St",
                    3,
                    521,
                    8.8,
                    810000,
                    "2018-01-06",
                    "Eastern Metropolitan"
                  ],
                  [
                    "Hadfield",
                    "5 Regent St",
                    3,
                    650,
                    11.2,
                    870000,
                    "2017-07-22",
                    "Northern Metropolitan"
                  ],
                  [
                    "Croydon",
                    "1/4 Haig St",
                    3,
                    521,
                    23,
                    722000,
                    "2017-10-28",
                    "Eastern Metropolitan"
                  ],
                  [
                    "Montmorency",
                    "4 Station Rd",
                    3,
                    521,
                    16.2,
                    790000,
                    "2017-11-11",
                    "Eastern Metropolitan"
                  ],
                  [
                    "Fawkner",
                    "16b Victory St",
                    3,
                    521,
                    12.4,
                    870000,
                    "2016-08-22",
                    "Northern Metropolitan"
                  ],
                  [
                    "Watsonia",
                    "17 Longmuir Rd",
                    3,
                    0,
                    14.9,
                    785000,
                    "2017-03-04",
                    "Northern Metropolitan"
                  ],
                  [
                    "Reservoir",
                    "10 Dumbarton St",
                    3,
                    826,
                    11.2,
                    851000,
                    "2016-11-27",
                    "Northern Metropolitan"
                  ],
                  [
                    "Viewbank",
                    "1/9 Willa Av",
                    3,
                    521,
                    8.9,
                    870000,
                    "2017-07-01",
                    "Eastern Metropolitan"
                  ],
                  [
                    "Bundoora",
                    "228 Greenhills Rd",
                    3,
                    539,
                    12.1,
                    660000,
                    "2018-03-17",
                    "Northern Metropolitan"
                  ],
                  [
                    "Greensborough",
                    "25 Booyan Cr",
                    3,
                    359,
                    16.1,
                    750000,
                    "2017-11-18",
                    "Northern Metropolitan"
                  ],
                  [
                    "Northcote",
                    "10 Oldis Av",
                    3,
                    618,
                    5.3,
                    870000,
                    "2018-03-17",
                    "Northern Metropolitan"
                  ],
                  [
                    "Reservoir",
                    "1 Balfour St",
                    3,
                    0,
                    12,
                    630000,
                    "2017-06-24",
                    "Northern Metropolitan"
                  ],
                  [
                    "Blackburn North",
                    "7 Kent Cl",
                    3,
                    568,
                    13.4,
                    1030000,
                    "2017-12-09",
                    "Eastern Metropolitan"
                  ],
                  [
                    "Reservoir",
                    "1/14 Sturdee St",
                    3,
                    521,
                    12,
                    678913,
                    "2017-12-09",
                    "Northern Metropolitan"
                  ],
                  [
                    "Richmond",
                    "48 Bennett St",
                    3,
                    165,
                    2.4,
                    870000,
                    "2018-03-17",
                    "Northern Metropolitan"
                  ],
                  [
                    "Box Hill",
                    "2/38 Margaret St",
                    3,
                    238,
                    13.1,
                    822500,
                    "2016-05-28",
                    "Eastern Metropolitan"
                  ],
                  [
                    "MacLeod",
                    "2/26 Strathallan Rd",
                    3,
                    521,
                    12.7,
                    800000,
                    "2018-02-10",
                    "Northern Metropolitan"
                  ],
                  [
                    "Meadow Heights",
                    "10 Castella Ct",
                    3,
                    702,
                    17.4,
                    450000,
                    "2017-07-08",
                    "Northern Metropolitan"
                  ],
                  [
                    "Ivanhoe",
                    "6 Edwin St",
                    3,
                    360,
                    7.8,
                    950000,
                    "2017-08-12",
                    "Eastern Metropolitan"
                  ],
                  [
                    "Pascoe Vale",
                    "344 Gaffney St",
                    3,
                    470,
                    9.9,
                    810000,
                    "2017-02-11",
                    "Northern Metropolitan"
                  ],
                  [
                    "Bellfield",
                    "1/10 Poplar Cr",
                    3,
                    521,
                    9.5,
                    870000,
                    "2016-06-04",
                    "Eastern Metropolitan"
                  ],
                  [
                    "Pascoe Vale",
                    "6/55 Pleasant St",
                    3,
                    521,
                    8.5,
                    706000,
                    "2017-07-08",
                    "Northern Metropolitan"
                  ],
                  [
                    "Oak Park",
                    "96 Winifred St",
                    3,
                    790,
                    11.5,
                    815500,
                    "2016-07-16",
                    "Northern Metropolitan"
                  ],
                  [
                    "South Morang",
                    "1 Vincent Dr",
                    3,
                    521,
                    20.5,
                    870000,
                    "2017-08-26",
                    "Northern Metropolitan"
                  ],
                  [
                    "Heidelberg Heights",
                    "2/76 Porter Rd",
                    3,
                    192,
                    10.5,
                    575000,
                    "2017-04-08",
                    "Eastern Metropolitan"
                  ],
                  [
                    "Langwarrin",
                    "41 Alder St",
                    3,
                    648,
                    25.4,
                    870000,
                    "2017-09-23",
                    "Eastern Victoria"
                  ],
                  [
                    "Fawkner",
                    "10 Patricia Dr",
                    3,
                    540,
                    12.4,
                    617000,
                    "2016-04-23",
                    "Northern Metropolitan"
                  ],
                  [
                    "Heidelberg Heights",
                    "1/8 Mary Av",
                    3,
                    521,
                    10.5,
                    870000,
                    "2016-05-07",
                    "Eastern Metropolitan"
                  ],
                  [
                    "Templestowe Lower",
                    "13 Tasker St",
                    3,
                    751,
                    13.8,
                    1010000,
                    "2016-04-16",
                    "Eastern Metropolitan"
                  ],
                  [
                    "Bulleen",
                    "73 Latrobe St",
                    3,
                    521,
                    10.8,
                    870000,
                    "2017-10-07",
                    "Eastern Metropolitan"
                  ],
                  [
                    "Reservoir",
                    "24 MacLagan Cr",
                    3,
                    521,
                    11.2,
                    870000,
                    "2016-06-12",
                    "Northern Metropolitan"
                  ],
                  [
                    "Coburg",
                    "45 Portland St",
                    3,
                    370,
                    7.8,
                    1000000,
                    "2017-03-04",
                    "Northern Metropolitan"
                  ],
                  [
                    "Preston",
                    "11 Murphy St",
                    3,
                    620,
                    8.8,
                    801000,
                    "2017-04-22",
                    "Northern Metropolitan"
                  ],
                  [
                    "Meadow Heights",
                    "2/11 Elgata Cl",
                    3,
                    521,
                    17.4,
                    420000,
                    "2017-11-11",
                    "Northern Metropolitan"
                  ],
                  [
                    "Coburg",
                    "12 Geake St",
                    3,
                    559,
                    7.8,
                    830000,
                    "2016-07-30",
                    "Northern Metropolitan"
                  ],
                  [
                    "Richmond",
                    "35/69 River St",
                    3,
                    521,
                    2.4,
                    850000,
                    "2018-03-03",
                    "Northern Metropolitan"
                  ],
                  [
                    "Mill Park",
                    "38 Wenden Rd",
                    3,
                    528,
                    17.9,
                    635000,
                    "2017-07-29",
                    "Northern Metropolitan"
                  ],
                  [
                    "Kilsyth",
                    "30 Cherylnne Cr",
                    3,
                    894,
                    25.4,
                    870000,
                    "2017-12-09",
                    "Eastern Metropolitan"
                  ],
                  [
                    "Reservoir",
                    "6 MacKenzie St",
                    3,
                    807,
                    11.2,
                    718500,
                    "2016-05-28",
                    "Northern Metropolitan"
                  ],
                  [
                    "Mount Waverley",
                    "126 Huntingdale Rd",
                    3,
                    727,
                    14.2,
                    870000,
                    "2017-10-07",
                    "Eastern Metropolitan"
                  ],
                  [
                    "Nunawading",
                    "9 Nott St",
                    3,
                    226,
                    15.4,
                    900000,
                    "2018-02-24",
                    "Eastern Metropolitan"
                  ],
                  [
                    "Montmorency",
                    "3/96 Para Rd",
                    3,
                    521,
                    16.2,
                    627500,
                    "2017-10-28",
                    "Eastern Metropolitan"
                  ],
                  [
                    "Ringwood",
                    "6 Garden St",
                    3,
                    521,
                    19.9,
                    870000,
                    "2017-11-25",
                    "Eastern Metropolitan"
                  ],
                  [
                    "Bulleen",
                    "13 Montgomery Pl",
                    3,
                    585,
                    11.8,
                    990000,
                    "2016-08-06",
                    "Eastern Metropolitan"
                  ],
                  [
                    "Lalor",
                    "1 Willard Ct",
                    3,
                    555,
                    16.3,
                    685500,
                    "2017-10-14",
                    "Northern Metropolitan"
                  ],
                  [
                    "Reservoir",
                    "6 Mattea Ct",
                    3,
                    855,
                    11.2,
                    672000,
                    "2016-06-27",
                    "Northern Metropolitan"
                  ],
                  [
                    "Fairfield",
                    "139 Christmas St",
                    3,
                    170,
                    5.8,
                    750000,
                    "2016-06-18",
                    "Northern Metropolitan"
                  ],
                  [
                    "Pascoe Vale",
                    "10B Olive Gr",
                    3,
                    259,
                    8.5,
                    743000,
                    "2017-11-25",
                    "Northern Metropolitan"
                  ],
                  [
                    "Viewbank",
                    "174 Graham Rd",
                    3,
                    653,
                    13.8,
                    870000,
                    "2017-04-29",
                    "Eastern Metropolitan"
                  ],
                  [
                    "Mill Park",
                    "411 Childs Rd",
                    3,
                    620,
                    17.9,
                    668000,
                    "2017-10-07",
                    "Northern Metropolitan"
                  ],
                  [
                    "Greensborough",
                    "86 Warralong Av",
                    3,
                    577,
                    16.1,
                    710000,
                    "2017-10-28",
                    "Northern Metropolitan"
                  ],
                  [
                    "Brunswick West",
                    "29 Wales St",
                    3,
                    506,
                    5.2,
                    1085000,
                    "2017-11-11",
                    "Northern Metropolitan"
                  ],
                  [
                    "Watsonia",
                    "1/42 Wattle Dr",
                    3,
                    302,
                    14.9,
                    582000,
                    "2016-10-08",
                    "Northern Metropolitan"
                  ],
                  [
                    "Brunswick West",
                    "64 Pearson St",
                    3,
                    220,
                    5.9,
                    955000,
                    "2016-05-07",
                    "Northern Metropolitan"
                  ],
                  [
                    "Glenroy",
                    "1/25 Morell St",
                    3,
                    0,
                    13,
                    420000,
                    "2016-10-15",
                    "Northern Metropolitan"
                  ],
                  [
                    "Pascoe Vale",
                    "4/143 Sussex St",
                    3,
                    197,
                    9.9,
                    533000,
                    "2016-08-22",
                    "Northern Metropolitan"
                  ],
                  [
                    "Blackburn South",
                    "267 Blackburn Rd",
                    3,
                    542,
                    13.4,
                    870000,
                    "2018-03-03",
                    "Eastern Metropolitan"
                  ],
                  [
                    "Brunswick",
                    "301/1 Dods St",
                    3,
                    521,
                    5.2,
                    898500,
                    "2018-03-17",
                    "Northern Metropolitan"
                  ],
                  [
                    "Coburg",
                    "6 The Avenue",
                    3,
                    521,
                    6.7,
                    861500,
                    "2017-10-14",
                    "Northern Metropolitan"
                  ],
                  [
                    "Thomastown",
                    "1/36 Richardson St",
                    3,
                    521,
                    15.3,
                    480000,
                    "2017-11-25",
                    "Northern Metropolitan"
                  ],
                  [
                    "Brunswick",
                    "152 Edward St",
                    3,
                    338,
                    5.2,
                    870000,
                    "2016-11-27",
                    "Northern Metropolitan"
                  ],
                  [
                    "Preston",
                    "31 Benambra St",
                    3,
                    319,
                    8.8,
                    800000,
                    "2017-05-13",
                    "Northern Metropolitan"
                  ],
                  [
                    "Watsonia",
                    "29 Kenmare St",
                    3,
                    521,
                    14.5,
                    920000,
                    "2017-10-07",
                    "Northern Metropolitan"
                  ],
                  [
                    "Forest Hill",
                    "38A Morloc St",
                    3,
                    519,
                    15.4,
                    965000,
                    "2017-10-21",
                    "Eastern Metropolitan"
                  ],
                  [
                    "Templestowe Lower",
                    "36 Howitt Dr",
                    3,
                    664,
                    13.8,
                    1065000,
                    "2016-12-10",
                    "Eastern Metropolitan"
                  ],
                  [
                    "Briar Hill",
                    "2/15 Greenwood St",
                    3,
                    521,
                    16.1,
                    870000,
                    "2017-09-09",
                    "Eastern Metropolitan"
                  ],
                  [
                    "Coburg",
                    "70 Devon Av",
                    3,
                    497,
                    6.7,
                    870000,
                    "2018-01-06",
                    "Northern Metropolitan"
                  ],
                  [
                    "Northcote",
                    "14 Separation St",
                    3,
                    150,
                    5.3,
                    989000,
                    "2017-11-25",
                    "Northern Metropolitan"
                  ],
                  [
                    "Blackburn",
                    "4 Patricia Rd",
                    3,
                    667,
                    13.4,
                    870000,
                    "2017-07-08",
                    "Eastern Metropolitan"
                  ],
                  [
                    "Northcote",
                    "12 Osborne St",
                    3,
                    521,
                    5.3,
                    870000,
                    "2017-11-11",
                    "Northern Metropolitan"
                  ],
                  [
                    "Glen Waverley",
                    "2/11 Kinnoull Gr",
                    3,
                    248,
                    16.7,
                    870000,
                    "2017-07-22",
                    "Eastern Metropolitan"
                  ],
                  [
                    "Croydon",
                    "2/19 James Rd",
                    3,
                    521,
                    23,
                    645000,
                    "2018-02-17",
                    "Eastern Metropolitan"
                  ],
                  [
                    "Frankston North",
                    "128 Tamarisk Dr",
                    3,
                    521,
                    25.4,
                    467000,
                    "2017-10-21",
                    "Eastern Victoria"
                  ],
                  [
                    "Richmond",
                    "18a Goodwood St",
                    3,
                    213,
                    2.6,
                    870000,
                    "2016-08-28",
                    "Northern Metropolitan"
                  ],
                  [
                    "Jacana",
                    "39 Emu Pde",
                    3,
                    610,
                    14.5,
                    551000,
                    "2017-03-04",
                    "Northern Metropolitan"
                  ],
                  [
                    "Bayswater",
                    "14 Fallons Wy",
                    3,
                    959.5,
                    23.2,
                    910000,
                    "2018-01-06",
                    "Eastern Metropolitan"
                  ],
                  [
                    "Thomastown",
                    "160 Dalton Rd",
                    3,
                    551,
                    15.3,
                    550000,
                    "2017-05-27",
                    "Northern Metropolitan"
                  ],
                  [
                    "Epping",
                    "6 Shields St",
                    3,
                    400,
                    19.6,
                    545000,
                    "2017-07-22",
                    "Northern Metropolitan"
                  ],
                  [
                    "Glenroy",
                    "40 Moonee Bvd",
                    3,
                    586,
                    13,
                    870000,
                    "2016-06-18",
                    "Northern Metropolitan"
                  ],
                  [
                    "Heathmont",
                    "13 Stoda St",
                    3,
                    800,
                    21.3,
                    870000,
                    "2017-09-16",
                    "Eastern Metropolitan"
                  ],
                  [
                    "Glenroy",
                    "1/23 Gordon Ct",
                    3,
                    521,
                    13,
                    500000,
                    "2016-05-07",
                    "Northern Metropolitan"
                  ],
                  [
                    "Glenroy",
                    "20A Apsley St",
                    3,
                    650,
                    11.2,
                    820000,
                    "2017-07-29",
                    "Northern Metropolitan"
                  ],
                  [
                    "Rosanna",
                    "17 Greville Rd",
                    3,
                    642,
                    8.9,
                    870000,
                    "2017-07-22",
                    "Eastern Metropolitan"
                  ],
                  [
                    "Kensington",
                    "4 Coopers La",
                    3,
                    258,
                    4.2,
                    785000,
                    "2016-09-03",
                    "Northern Metropolitan"
                  ],
                  [
                    "Pascoe Vale",
                    "5/137 Northumberland Rd",
                    3,
                    141,
                    9.9,
                    560000,
                    "2017-05-20",
                    "Northern Metropolitan"
                  ],
                  [
                    "Preston",
                    "2/15 Percival St",
                    3,
                    210,
                    8.8,
                    715000,
                    "2017-04-08",
                    "Northern Metropolitan"
                  ],
                  [
                    "Rosanna",
                    "9 Greensborough Rd",
                    3,
                    606,
                    11.4,
                    515000,
                    "2016-09-24",
                    "Eastern Metropolitan"
                  ],
                  [
                    "Reservoir",
                    "52 Banbury Rd",
                    3,
                    404,
                    12,
                    870000,
                    "2017-07-22",
                    "Northern Metropolitan"
                  ],
                  [
                    "Glenroy",
                    "44 Widford St",
                    3,
                    700,
                    13,
                    688000,
                    "2016-10-15",
                    "Northern Metropolitan"
                  ],
                  [
                    "Pascoe Vale",
                    "12 Northumberland Rd",
                    3,
                    628,
                    9.9,
                    815000,
                    "2016-10-15",
                    "Northern Metropolitan"
                  ],
                  [
                    "Doncaster",
                    "57 Harvest Ct",
                    3,
                    152,
                    12.4,
                    885000,
                    "2018-02-10",
                    "Eastern Metropolitan"
                  ],
                  [
                    "Reservoir",
                    "3 Frier Av",
                    3,
                    521,
                    11.2,
                    870000,
                    "2016-08-28",
                    "Northern Metropolitan"
                  ],
                  [
                    "Brunswick",
                    "28 Osborne St",
                    3,
                    229,
                    5.2,
                    855000,
                    "2016-10-08",
                    "Northern Metropolitan"
                  ],
                  [
                    "Vermont",
                    "25 Caldwell Rd",
                    3,
                    603,
                    17.2,
                    865000,
                    "2017-08-12",
                    "Eastern Metropolitan"
                  ],
                  [
                    "Pascoe Vale",
                    "46 Snell Gr",
                    3,
                    682,
                    8.5,
                    870000,
                    "2017-10-21",
                    "Northern Metropolitan"
                  ],
                  [
                    "Reservoir",
                    "1/23 Lake St",
                    3,
                    521,
                    12,
                    870000,
                    "2017-06-03",
                    "Northern Metropolitan"
                  ],
                  [
                    "Heathmont",
                    "2 Lisgoold St",
                    3,
                    699,
                    21.3,
                    870000,
                    "2017-09-23",
                    "Eastern Metropolitan"
                  ],
                  [
                    "Mill Park",
                    "74 Roycroft Av",
                    3,
                    534,
                    17.9,
                    585000,
                    "2018-02-24",
                    "Northern Metropolitan"
                  ],
                  [
                    "Mount Waverley",
                    "42 Oakern St",
                    3,
                    287,
                    14.2,
                    870000,
                    "2017-12-09",
                    "Eastern Metropolitan"
                  ],
                  [
                    "Reservoir",
                    "2/7 Colthur St",
                    3,
                    521,
                    11.2,
                    475000,
                    "2016-08-22",
                    "Northern Metropolitan"
                  ],
                  [
                    "Coburg North",
                    "3 Aperture St",
                    3,
                    376,
                    9.2,
                    815000,
                    "2016-06-18",
                    "Northern Metropolitan"
                  ],
                  [
                    "Craigieburn",
                    "109 Creekwood Dr",
                    3,
                    207,
                    20.6,
                    385000,
                    "2018-02-10",
                    "Northern Metropolitan"
                  ],
                  [
                    "Reservoir",
                    "96 Whitelaw St",
                    3,
                    700,
                    11.2,
                    650000,
                    "2016-09-10",
                    "Northern Metropolitan"
                  ],
                  [
                    "Reservoir",
                    "1 Grimwade St",
                    3,
                    521,
                    11.2,
                    738000,
                    "2016-09-03",
                    "Northern Metropolitan"
                  ],
                  [
                    "Ivanhoe",
                    "1 Tudor Ct",
                    3,
                    558,
                    7.9,
                    870000,
                    "2017-02-25",
                    "Eastern Metropolitan"
                  ],
                  [
                    "Rosanna",
                    "20 Alfreda Av",
                    3,
                    521,
                    8.9,
                    870000,
                    "2017-06-17",
                    "Eastern Metropolitan"
                  ],
                  [
                    "Eltham",
                    "119 Dalton St",
                    3,
                    795,
                    18,
                    915000,
                    "2017-09-16",
                    "Eastern Metropolitan"
                  ],
                  [
                    "Princes Hill",
                    "103 Paterson St",
                    3,
                    245,
                    3.5,
                    870000,
                    "2018-03-03",
                    "Northern Metropolitan"
                  ],
                  [
                    "Abbotsford",
                    "20/85 Nicholson St",
                    3,
                    521,
                    3,
                    870000,
                    "2017-10-28",
                    "Northern Metropolitan"
                  ],
                  [
                    "Kensington",
                    "1 Watsons Wk",
                    3,
                    521,
                    4.2,
                    798000,
                    "2016-05-07",
                    "Northern Metropolitan"
                  ],
                  [
                    "Greensborough",
                    "3 Booyan Cr",
                    3,
                    521,
                    16.1,
                    759000,
                    "2018-01-06",
                    "Northern Metropolitan"
                  ],
                  [
                    "Preston",
                    "192 Murray Rd",
                    3,
                    396,
                    8.8,
                    821000,
                    "2016-11-27",
                    "Northern Metropolitan"
                  ],
                  [
                    "Dallas",
                    "3 Donald St",
                    3,
                    552,
                    14,
                    515000,
                    "2018-02-10",
                    "Northern Metropolitan"
                  ],
                  [
                    "Mount Waverley",
                    "6/540 High Street Rd",
                    3,
                    521,
                    14.2,
                    610000,
                    "2017-11-25",
                    "Eastern Metropolitan"
                  ],
                  [
                    "Glen Waverley",
                    "1/703 High Street Rd",
                    3,
                    296,
                    16.7,
                    870000,
                    "2017-06-24",
                    "Eastern Metropolitan"
                  ],
                  [
                    "MacLeod",
                    "16 Jacka St",
                    3,
                    521,
                    12.7,
                    1081000,
                    "2017-06-03",
                    "Northern Metropolitan"
                  ],
                  [
                    "Melbourne",
                    "113/55 Queens Rd",
                    3,
                    521,
                    0,
                    750000,
                    "2017-07-29",
                    "Northern Metropolitan"
                  ],
                  [
                    "Hadfield",
                    "72 Sutherland St",
                    3,
                    605,
                    12.1,
                    740000,
                    "2017-05-20",
                    "Northern Metropolitan"
                  ],
                  [
                    "Bellfield",
                    "1 Garrett Cr",
                    3,
                    368,
                    8.8,
                    795000,
                    "2017-10-07",
                    "Eastern Metropolitan"
                  ],
                  [
                    "Reservoir",
                    "2/15 Delaware St",
                    3,
                    185,
                    11.2,
                    450000,
                    "2016-04-23",
                    "Northern Metropolitan"
                  ],
                  [
                    "Coburg",
                    "6 Stawell St",
                    3,
                    386,
                    7.8,
                    935500,
                    "2017-03-04",
                    "Northern Metropolitan"
                  ],
                  [
                    "Oak Park",
                    "1/43 Watt Av",
                    3,
                    521,
                    11.2,
                    870000,
                    "2017-06-03",
                    "Northern Metropolitan"
                  ],
                  [
                    "Dallas",
                    "2 Melton Ct",
                    3,
                    542,
                    14,
                    465000,
                    "2017-10-28",
                    "Northern Metropolitan"
                  ],
                  [
                    "Bundoora",
                    "6 Avon Ct",
                    3,
                    521,
                    12.1,
                    822000,
                    "2017-11-25",
                    "Northern Metropolitan"
                  ],
                  [
                    "Oak Park",
                    "5/4 Ethel St",
                    3,
                    0,
                    11.5,
                    358500,
                    "2016-09-10",
                    "Northern Metropolitan"
                  ],
                  [
                    "Glen Waverley",
                    "8 Crocus Cr",
                    3,
                    672,
                    16.7,
                    870000,
                    "2017-09-09",
                    "Eastern Metropolitan"
                  ],
                  [
                    "Oak Park",
                    "1/22 Lex Gr",
                    3,
                    272,
                    11.5,
                    770000,
                    "2017-02-11",
                    "Northern Metropolitan"
                  ],
                  [
                    "Glenroy",
                    "23 Tarana Av",
                    3,
                    521,
                    13,
                    625000,
                    "2016-05-07",
                    "Northern Metropolitan"
                  ],
                  [
                    "Reservoir",
                    "181 Albert St",
                    3,
                    521,
                    12,
                    829000,
                    "2017-08-26",
                    "Northern Metropolitan"
                  ],
                  [
                    "Preston",
                    "64 James St",
                    3,
                    521,
                    8.8,
                    717000,
                    "2016-06-04",
                    "Northern Metropolitan"
                  ],
                  [
                    "Preston",
                    "27 South St",
                    3,
                    333,
                    8.8,
                    923000,
                    "2016-06-27",
                    "Northern Metropolitan"
                  ],
                  [
                    "Coburg",
                    "12 Hardwick St",
                    3,
                    278,
                    7.8,
                    1010000,
                    "2017-03-04",
                    "Northern Metropolitan"
                  ],
                  [
                    "Doncaster East",
                    "1/13 Baratta St",
                    3,
                    521,
                    14.3,
                    1050000,
                    "2017-09-03",
                    "Eastern Metropolitan"
                  ],
                  [
                    "Reservoir",
                    "2/16 Allenby Av",
                    3,
                    521,
                    11.2,
                    542000,
                    "2016-11-07",
                    "Northern Metropolitan"
                  ],
                  [
                    "Thornbury",
                    "34 Rossmoyne St",
                    3,
                    192,
                    7,
                    920000,
                    "2018-01-06",
                    "Northern Metropolitan"
                  ],
                  [
                    "Bundoora",
                    "9 Wordsworth Ct",
                    3,
                    349,
                    12.1,
                    870000,
                    "2017-09-09",
                    "Northern Metropolitan"
                  ],
                  [
                    "Mooroolbark",
                    "4 Bulga St",
                    3,
                    940,
                    25.4,
                    835000,
                    "2017-09-23",
                    "Eastern Victoria"
                  ],
                  [
                    "Greensborough",
                    "8 Tonyl Ct",
                    3,
                    521,
                    16.1,
                    870000,
                    "2017-08-19",
                    "Northern Metropolitan"
                  ],
                  [
                    "Coburg North",
                    "38 Shore Gr",
                    3,
                    521,
                    6.7,
                    1012000,
                    "2017-10-14",
                    "Northern Metropolitan"
                  ],
                  [
                    "Greensborough",
                    "9A Scotland Av",
                    3,
                    521,
                    16.1,
                    920000,
                    "2018-01-06",
                    "Northern Metropolitan"
                  ],
                  [
                    "MacLeod",
                    "51 Joynt St",
                    3,
                    521,
                    12.7,
                    870000,
                    "2017-08-26",
                    "Northern Metropolitan"
                  ],
                  [
                    "Glenroy",
                    "1/74 Melbourne Av",
                    3,
                    521,
                    11.2,
                    600000,
                    "2017-07-01",
                    "Northern Metropolitan"
                  ],
                  [
                    "Reservoir",
                    "26 Churchill Av",
                    3,
                    521,
                    11.2,
                    450000,
                    "2016-06-27",
                    "Northern Metropolitan"
                  ],
                  [
                    "Heidelberg Heights",
                    "13 Glover St",
                    3,
                    420,
                    10.5,
                    550000,
                    "2016-11-27",
                    "Eastern Metropolitan"
                  ],
                  [
                    "Glenroy",
                    "39 Morley St",
                    3,
                    766,
                    13,
                    806500,
                    "2016-12-03",
                    "Northern Metropolitan"
                  ],
                  [
                    "Flemington",
                    "10 Crown St",
                    3,
                    167,
                    4.4,
                    870000,
                    "2016-10-08",
                    "Northern Metropolitan"
                  ],
                  [
                    "Pascoe Vale",
                    "53 Kent Rd",
                    3,
                    601,
                    8.5,
                    871000,
                    "2017-10-21",
                    "Northern Metropolitan"
                  ],
                  [
                    "Fawkner",
                    "53 Queens Pde",
                    3,
                    603,
                    12.4,
                    783000,
                    "2016-12-10",
                    "Northern Metropolitan"
                  ],
                  [
                    "Eltham",
                    "67 Arthur St",
                    3,
                    888,
                    18,
                    916500,
                    "2017-11-11",
                    "Eastern Metropolitan"
                  ],
                  [
                    "Reservoir",
                    "2/28 Crookston Rd",
                    3,
                    521,
                    12,
                    870000,
                    "2017-10-07",
                    "Northern Metropolitan"
                  ],
                  [
                    "Epping",
                    "6/7 Houston St",
                    3,
                    227,
                    19.6,
                    392250,
                    "2017-07-08",
                    "Northern Metropolitan"
                  ],
                  [
                    "Pascoe Vale",
                    "26 Shanley St",
                    3,
                    504,
                    9.9,
                    870000,
                    "2016-09-17",
                    "Northern Metropolitan"
                  ],
                  [
                    "Glenroy",
                    "1/40 Morley St",
                    3,
                    521,
                    13,
                    530000,
                    "2016-06-18",
                    "Northern Metropolitan"
                  ],
                  [
                    "Blackburn South",
                    "1 Elemheim Ct",
                    3,
                    560,
                    13.4,
                    870000,
                    "2017-09-09",
                    "Eastern Metropolitan"
                  ],
                  [
                    "Fairfield",
                    "46 Perry St",
                    3,
                    480,
                    5.8,
                    870000,
                    "2016-09-03",
                    "Northern Metropolitan"
                  ],
                  [
                    "South Morang",
                    "102 Vincent Dr",
                    3,
                    330,
                    20.5,
                    500000,
                    "2017-07-22",
                    "Northern Metropolitan"
                  ],
                  [
                    "Vermont",
                    "23 Lusk Dr",
                    3,
                    312,
                    17.2,
                    870000,
                    "2017-09-23",
                    "Eastern Metropolitan"
                  ],
                  [
                    "Wantirna",
                    "15 Chequers Cl",
                    3,
                    560,
                    14.7,
                    812000,
                    "2017-12-09",
                    "Eastern Metropolitan"
                  ],
                  [
                    "Bulleen",
                    "3/9 Amberley Ct",
                    3,
                    521,
                    10.8,
                    820000,
                    "2017-09-03",
                    "Eastern Metropolitan"
                  ],
                  [
                    "Glenroy",
                    "2/148 Hilton St",
                    3,
                    224,
                    13,
                    870000,
                    "2016-10-15",
                    "Northern Metropolitan"
                  ],
                  [
                    "Heathmont",
                    "26 Royal Av",
                    3,
                    521,
                    21.3,
                    870000,
                    "2017-11-25",
                    "Eastern Metropolitan"
                  ],
                  [
                    "Pascoe Vale",
                    "11 Farringdon St",
                    3,
                    858,
                    9.9,
                    1000000,
                    "2016-08-22",
                    "Northern Metropolitan"
                  ],
                  [
                    "Rosanna",
                    "28a Brassey Av",
                    3,
                    521,
                    11.4,
                    765000,
                    "2016-06-04",
                    "Eastern Metropolitan"
                  ],
                  [
                    "Cremorne",
                    "28 Kelso St",
                    3,
                    0,
                    2.5,
                    870000,
                    "2016-07-26",
                    "Northern Metropolitan"
                  ],
                  [
                    "Coburg",
                    "48 Shackell St",
                    3,
                    626,
                    6.7,
                    870000,
                    "2017-11-18",
                    "Northern Metropolitan"
                  ],
                  [
                    "Glenroy",
                    "50 Stanley St",
                    3,
                    594,
                    11.2,
                    690000,
                    "2018-02-17",
                    "Northern Metropolitan"
                  ],
                  [
                    "Pascoe Vale",
                    "1c Adelaide St",
                    3,
                    521,
                    9.9,
                    540000,
                    "2016-11-19",
                    "Northern Metropolitan"
                  ],
                  [
                    "Brunswick",
                    "35 Amelia St",
                    3,
                    521,
                    5.2,
                    822000,
                    "2016-05-28",
                    "Northern Metropolitan"
                  ],
                  [
                    "Rosanna",
                    "44 Bellevue Av",
                    3,
                    521,
                    11.4,
                    870000,
                    "2016-07-30",
                    "Eastern Metropolitan"
                  ],
                  [
                    "Bundoora",
                    "2 Japonica St",
                    3,
                    521,
                    12.1,
                    830000,
                    "2017-09-09",
                    "Northern Metropolitan"
                  ],
                  [
                    "Fawkner",
                    "3 Lovely St",
                    3,
                    587,
                    12.4,
                    670000,
                    "2016-12-03",
                    "Northern Metropolitan"
                  ],
                  [
                    "Viewbank",
                    "65 Duff Pde",
                    3,
                    768,
                    8.9,
                    960000,
                    "2017-10-21",
                    "Eastern Metropolitan"
                  ],
                  [
                    "Reservoir",
                    "649c Gilbert Rd",
                    3,
                    521,
                    12,
                    870000,
                    "2017-07-29",
                    "Northern Metropolitan"
                  ],
                  [
                    "Blackburn North",
                    "1/81 Koonung Rd",
                    3,
                    521,
                    13.4,
                    870000,
                    "2017-08-26",
                    "Eastern Metropolitan"
                  ],
                  [
                    "Ringwood",
                    "353 Maroondah Hwy",
                    3,
                    521,
                    19.9,
                    870000,
                    "2017-11-18",
                    "Eastern Metropolitan"
                  ],
                  [
                    "Greensborough",
                    "15 Carnon St",
                    3,
                    959.5,
                    16.1,
                    895000,
                    "2017-06-24",
                    "Northern Metropolitan"
                  ],
                  [
                    "Blackburn South",
                    "10 Shaun Av",
                    3,
                    623,
                    13.4,
                    870000,
                    "2017-08-26",
                    "Eastern Metropolitan"
                  ],
                  [
                    "Glenroy",
                    "11 Valley Cr",
                    3,
                    521,
                    13,
                    712000,
                    "2016-09-03",
                    "Northern Metropolitan"
                  ],
                  [
                    "Preston",
                    "140 Murray Rd",
                    3,
                    679,
                    8.8,
                    930000,
                    "2016-08-28",
                    "Northern Metropolitan"
                  ],
                  [
                    "Coburg",
                    "20a Clifton Gr",
                    3,
                    0,
                    7.8,
                    870000,
                    "2016-08-28",
                    "Northern Metropolitan"
                  ],
                  [
                    "Craigieburn",
                    "13 Beechville Pl",
                    3,
                    521,
                    20.6,
                    870000,
                    "2017-09-09",
                    "Northern Metropolitan"
                  ],
                  [
                    "Glenroy",
                    "2/923 Pascoe Vale Rd",
                    3,
                    521,
                    11.2,
                    591000,
                    "2017-12-09",
                    "Northern Metropolitan"
                  ],
                  [
                    "Ringwood",
                    "11 Kenwood Cr",
                    3,
                    521,
                    19.9,
                    750000,
                    "2017-07-01",
                    "Eastern Metropolitan"
                  ],
                  [
                    "Croydon",
                    "434 Dorset Rd",
                    3,
                    802,
                    23,
                    725000,
                    "2017-07-08",
                    "Eastern Metropolitan"
                  ],
                  [
                    "Broadmeadows",
                    "58a Cuthbert St",
                    3,
                    521,
                    14,
                    567500,
                    "2017-11-25",
                    "Northern Metropolitan"
                  ],
                  [
                    "Croydon",
                    "6 Eva Ct",
                    3,
                    879,
                    23,
                    870000,
                    "2017-12-09",
                    "Eastern Metropolitan"
                  ],
                  [
                    "Jacana",
                    "81 Johnstone St",
                    3,
                    630,
                    14.5,
                    485000,
                    "2017-04-08",
                    "Northern Metropolitan"
                  ],
                  [
                    "Preston",
                    "60a May St",
                    3,
                    521,
                    8.4,
                    985000,
                    "2017-11-25",
                    "Northern Metropolitan"
                  ],
                  [
                    "Templestowe Lower",
                    "15 Ranleigh Ri",
                    3,
                    521,
                    12.4,
                    1005000,
                    "2017-11-18",
                    "Eastern Metropolitan"
                  ],
                  [
                    "Hadfield",
                    "1 Richmond St",
                    3,
                    641,
                    11.2,
                    840000,
                    "2017-11-25",
                    "Northern Metropolitan"
                  ],
                  [
                    "Glenroy",
                    "61 Hartington St",
                    3,
                    708,
                    11.2,
                    870000,
                    "2017-06-24",
                    "Northern Metropolitan"
                  ],
                  [
                    "Broadmeadows",
                    "158 Widford St",
                    3,
                    630,
                    14,
                    870000,
                    "2017-05-27",
                    "Northern Metropolitan"
                  ],
                  [
                    "Glenroy",
                    "155 Hilton St",
                    3,
                    600,
                    11.2,
                    721000,
                    "2017-07-08",
                    "Northern Metropolitan"
                  ],
                  [
                    "Collingwood",
                    "157 Hotham St",
                    3,
                    521,
                    2,
                    870000,
                    "2017-07-08",
                    "Northern Metropolitan"
                  ],
                  [
                    "Rosanna",
                    "1/35 Millicent St",
                    3,
                    216,
                    11.4,
                    870000,
                    "2016-07-30",
                    "Eastern Metropolitan"
                  ],
                  [
                    "Bayswater",
                    "17 Orange Gr",
                    3,
                    509,
                    23.2,
                    700000,
                    "2017-06-03",
                    "Eastern Metropolitan"
                  ],
                  [
                    "Bellfield",
                    "124 Oriel Rd",
                    3,
                    680,
                    8.8,
                    780000,
                    "2017-05-27",
                    "Eastern Metropolitan"
                  ],
                  [
                    "Reservoir",
                    "1053 High St",
                    3,
                    952,
                    12,
                    732000,
                    "2017-08-12",
                    "Northern Metropolitan"
                  ],
                  [
                    "Thornbury",
                    "8/350 Gooch St",
                    3,
                    521,
                    6.5,
                    750000,
                    "2017-05-06",
                    "Northern Metropolitan"
                  ],
                  [
                    "Fawkner",
                    "3 Brian St",
                    3,
                    585,
                    12.4,
                    660000,
                    "2017-04-08",
                    "Northern Metropolitan"
                  ],
                  [
                    "Bundoora",
                    "74 Arthur St",
                    3,
                    534,
                    12.1,
                    796000,
                    "2017-06-24",
                    "Northern Metropolitan"
                  ],
                  [
                    "Watsonia",
                    "36 Powley Pde",
                    3,
                    828,
                    14.9,
                    838000,
                    "2016-07-30",
                    "Northern Metropolitan"
                  ],
                  [
                    "Mernda",
                    "14 Tarwin Dr",
                    3,
                    521,
                    25.4,
                    595000,
                    "2018-01-06",
                    "Northern Metropolitan"
                  ],
                  [
                    "Box Hill",
                    "837 Canterbury Rd",
                    3,
                    492,
                    13.1,
                    857000,
                    "2016-05-28",
                    "Eastern Metropolitan"
                  ],
                  [
                    "Watsonia",
                    "1/269 Nell St W",
                    3,
                    521,
                    14.5,
                    540000,
                    "2017-09-09",
                    "Northern Metropolitan"
                  ],
                  [
                    "Fawkner",
                    "73 Major Rd",
                    3,
                    404,
                    12.4,
                    526000,
                    "2016-11-07",
                    "Northern Metropolitan"
                  ],
                  [
                    "Pascoe Vale",
                    "14 View St",
                    3,
                    521,
                    8.5,
                    1000000,
                    "2017-12-09",
                    "Northern Metropolitan"
                  ],
                  [
                    "Meadow Heights",
                    "5 Elder Cl",
                    3,
                    521,
                    17.4,
                    870000,
                    "2017-11-11",
                    "Northern Metropolitan"
                  ],
                  [
                    "Greenvale",
                    "12 Dorrington St",
                    3,
                    200,
                    20.4,
                    516000,
                    "2018-03-03",
                    "Northern Metropolitan"
                  ],
                  [
                    "Northcote",
                    "130 Mitchell St",
                    3,
                    318,
                    5.5,
                    1090000,
                    "2016-09-24",
                    "Northern Metropolitan"
                  ],
                  [
                    "Glenroy",
                    "11/900 Pascoe Vale Rd",
                    3,
                    56,
                    13,
                    870000,
                    "2017-04-22",
                    "Northern Metropolitan"
                  ],
                  [
                    "Blackburn South",
                    "11A Donald St",
                    3,
                    345,
                    13.4,
                    870000,
                    "2018-03-03",
                    "Eastern Metropolitan"
                  ],
                  [
                    "Coburg North",
                    "2/5 Lake Gr",
                    3,
                    521,
                    6.7,
                    870000,
                    "2017-05-27",
                    "Northern Metropolitan"
                  ],
                  [
                    "Bellfield",
                    "293 Bell St",
                    3,
                    661,
                    9.5,
                    870000,
                    "2017-03-18",
                    "Eastern Metropolitan"
                  ],
                  [
                    "Campbellfield",
                    "10 Cheviot Rd",
                    3,
                    595,
                    16.6,
                    668000,
                    "2017-11-18",
                    "Northern Metropolitan"
                  ],
                  [
                    "Reservoir",
                    "42 Gellibrand Cr",
                    3,
                    521,
                    11.2,
                    634000,
                    "2016-10-15",
                    "Northern Metropolitan"
                  ],
                  [
                    "Reservoir",
                    "106 Miranda Rd",
                    3,
                    743,
                    12,
                    880000,
                    "2017-07-15",
                    "Northern Metropolitan"
                  ],
                  [
                    "Reservoir",
                    "14 MacKenzie St",
                    3,
                    767,
                    12,
                    780000,
                    "2017-11-25",
                    "Northern Metropolitan"
                  ],
                  [
                    "Pascoe Vale",
                    "2 Kirbister St",
                    3,
                    687,
                    9.9,
                    870000,
                    "2017-05-20",
                    "Northern Metropolitan"
                  ],
                  [
                    "Oak Park",
                    "25 Winifred St",
                    3,
                    588,
                    11.2,
                    891000,
                    "2017-11-25",
                    "Northern Metropolitan"
                  ],
                  [
                    "Epping",
                    "28 Supply Dr",
                    3,
                    553,
                    19.6,
                    678000,
                    "2017-08-19",
                    "Northern Metropolitan"
                  ],
                  [
                    "Burwood East",
                    "1/24 Barry Rd",
                    3,
                    521,
                    14.7,
                    825000,
                    "2018-02-03",
                    "Eastern Metropolitan"
                  ],
                  [
                    "Ringwood East",
                    "9 Alexandra Rd",
                    3,
                    959.5,
                    21.3,
                    870000,
                    "2017-10-07",
                    "Eastern Metropolitan"
                  ],
                  [
                    "The Basin",
                    "5 Democrat Dr",
                    3,
                    795,
                    25.4,
                    700000,
                    "2017-09-23",
                    "Eastern Metropolitan"
                  ],
                  [
                    "Doncaster",
                    "2 Louise Ct",
                    3,
                    827,
                    13.9,
                    1030000,
                    "2016-09-17",
                    "Eastern Metropolitan"
                  ],
                  [
                    "Brunswick",
                    "7 Garnet St",
                    3,
                    343,
                    5.2,
                    1053000,
                    "2016-06-27",
                    "Northern Metropolitan"
                  ],
                  [
                    "Heathmont",
                    "75 Campbell St",
                    3,
                    696,
                    21.3,
                    870000,
                    "2017-12-09",
                    "Eastern Metropolitan"
                  ],
                  [
                    "Bundoora",
                    "12 Janet Cr",
                    3,
                    521,
                    12.1,
                    853000,
                    "2017-11-18",
                    "Northern Metropolitan"
                  ],
                  [
                    "Ringwood",
                    "26 Major St",
                    3,
                    918,
                    19.9,
                    882500,
                    "2017-07-22",
                    "Eastern Metropolitan"
                  ],
                  [
                    "Ringwood",
                    "5 Neville St",
                    3,
                    367,
                    19.9,
                    870000,
                    "2017-07-22",
                    "Eastern Metropolitan"
                  ],
                  [
                    "Viewbank",
                    "28 Kuranga Rd",
                    3,
                    541,
                    8.9,
                    940000,
                    "2017-06-17",
                    "Eastern Metropolitan"
                  ],
                  [
                    "Craigieburn",
                    "5 Riverway Vw",
                    3,
                    521,
                    20.6,
                    500000,
                    "2018-03-03",
                    "Northern Metropolitan"
                  ],
                  [
                    "Forest Hill",
                    "309 Springvale Rd",
                    3,
                    617,
                    15.4,
                    800000,
                    "2017-06-24",
                    "Eastern Metropolitan"
                  ],
                  [
                    "Reservoir",
                    "15 George St",
                    3,
                    570,
                    11.2,
                    800000,
                    "2016-10-08",
                    "Northern Metropolitan"
                  ],
                  [
                    "Coburg",
                    "74 Linda St",
                    3,
                    521,
                    7.8,
                    800000,
                    "2016-09-24",
                    "Northern Metropolitan"
                  ],
                  [
                    "Ivanhoe",
                    "4/10 Oriel Rd",
                    3,
                    521,
                    7.8,
                    920000,
                    "2018-02-17",
                    "Eastern Metropolitan"
                  ],
                  [
                    "Chirnside Park",
                    "10 Parklands Av",
                    3,
                    521,
                    25.4,
                    786000,
                    "2017-06-24",
                    "Eastern Victoria"
                  ],
                  [
                    "Mill Park",
                    "29 Island Pl",
                    3,
                    300,
                    17.9,
                    660000,
                    "2017-11-11",
                    "Northern Metropolitan"
                  ],
                  [
                    "Collingwood",
                    "20 Mater St",
                    3,
                    521,
                    2,
                    1075000,
                    "2017-09-16",
                    "Northern Metropolitan"
                  ],
                  [
                    "Bulleen",
                    "40 Riverview Tce",
                    3,
                    701,
                    11.8,
                    980000,
                    "2016-06-04",
                    "Eastern Metropolitan"
                  ],
                  [
                    "Berwick",
                    "12 Redmore Ct",
                    3,
                    521,
                    25.4,
                    560000,
                    "2017-11-18",
                    "Eastern Victoria"
                  ],
                  [
                    "Viewbank",
                    "9/111 Martins La",
                    3,
                    521,
                    8.9,
                    870000,
                    "2017-10-28",
                    "Eastern Metropolitan"
                  ],
                  [
                    "Bellfield",
                    "19 Plunkett St",
                    3,
                    390,
                    9.5,
                    870000,
                    "2017-04-29",
                    "Eastern Metropolitan"
                  ],
                  [
                    "Craigieburn",
                    "4 Bertrand Ct",
                    3,
                    578,
                    20.6,
                    535000,
                    "2018-02-24",
                    "Northern Metropolitan"
                  ],
                  [
                    "Alphington",
                    "2c Hamilton St",
                    3,
                    180,
                    6.4,
                    865000,
                    "2016-05-22",
                    "Northern Metropolitan"
                  ],
                  [
                    "Ivanhoe",
                    "3/11 Oriel Rd",
                    3,
                    249,
                    7.9,
                    890000,
                    "2016-06-04",
                    "Eastern Metropolitan"
                  ],
                  [
                    "Blackburn North",
                    "58 Kett St",
                    3,
                    541,
                    13.4,
                    870000,
                    "2017-09-03",
                    "Eastern Metropolitan"
                  ],
                  [
                    "Preston",
                    "1/103 Bruce St",
                    3,
                    521,
                    8.4,
                    965000,
                    "2017-07-01",
                    "Northern Metropolitan"
                  ],
                  [
                    "Lower Plenty",
                    "3 Beckett Ct",
                    3,
                    521,
                    14.6,
                    870000,
                    "2017-09-23",
                    "Eastern Metropolitan"
                  ],
                  [
                    "Heidelberg",
                    "1/61 Brown St",
                    3,
                    521,
                    8.9,
                    780000,
                    "2018-02-17",
                    "Eastern Metropolitan"
                  ],
                  [
                    "Greensborough",
                    "3/15 Scotland Av",
                    3,
                    521,
                    16.1,
                    652500,
                    "2017-11-11",
                    "Northern Metropolitan"
                  ],
                  [
                    "Heidelberg West",
                    "18 Tobruk Av",
                    3,
                    521,
                    9.4,
                    675000,
                    "2016-11-12",
                    "Eastern Metropolitan"
                  ],
                  [
                    "Croydon Hills",
                    "4 Merrill Cr",
                    3,
                    659,
                    23,
                    790000,
                    "2017-09-03",
                    "Eastern Metropolitan"
                  ],
                  [
                    "Templestowe Lower",
                    "3/17 Howitt Dr",
                    3,
                    521,
                    13.8,
                    870000,
                    "2016-05-07",
                    "Eastern Metropolitan"
                  ],
                  [
                    "Knoxfield",
                    "12/33 Elliot St",
                    3,
                    521,
                    23.3,
                    870000,
                    "2017-10-07",
                    "Eastern Metropolitan"
                  ],
                  [
                    "Ringwood",
                    "3 Sang Ct",
                    3,
                    651,
                    19.9,
                    910000,
                    "2017-07-22",
                    "Eastern Metropolitan"
                  ],
                  [
                    "Fawkner",
                    "9 Selola Ct",
                    3,
                    593,
                    13.1,
                    783000,
                    "2018-01-06",
                    "Northern Metropolitan"
                  ],
                  [
                    "Ringwood East",
                    "9 Bronhill Rd",
                    3,
                    674,
                    21.3,
                    830000,
                    "2018-02-24",
                    "Eastern Metropolitan"
                  ],
                  [
                    "Croydon",
                    "2/7 Morris Rd",
                    3,
                    521,
                    23,
                    691000,
                    "2018-03-03",
                    "Eastern Metropolitan"
                  ],
                  [
                    "Box Hill",
                    "32 Sweetland Rd",
                    3,
                    414,
                    13.1,
                    910000,
                    "2017-05-13",
                    "Eastern Metropolitan"
                  ],
                  [
                    "Oak Park",
                    "69a Rhodes Pde",
                    3,
                    327,
                    11.5,
                    870000,
                    "2016-10-08",
                    "Northern Metropolitan"
                  ],
                  [
                    "Blackburn",
                    "2/10 Oliver Av",
                    3,
                    521,
                    13.4,
                    800000,
                    "2017-11-18",
                    "Eastern Metropolitan"
                  ],
                  [
                    "Mill Park",
                    "6 Carlita Cl",
                    3,
                    375,
                    17.9,
                    665000,
                    "2017-11-25",
                    "Northern Metropolitan"
                  ],
                  [
                    "Reservoir",
                    "70 Barry St",
                    3,
                    719,
                    11.2,
                    785000,
                    "2016-09-24",
                    "Northern Metropolitan"
                  ],
                  [
                    "Brunswick West",
                    "1/572 Moreland Rd",
                    3,
                    262,
                    5.9,
                    797500,
                    "2017-02-11",
                    "Northern Metropolitan"
                  ],
                  [
                    "Glenroy",
                    "23 Cromwell St",
                    3,
                    657,
                    13,
                    660000,
                    "2016-08-28",
                    "Northern Metropolitan"
                  ],
                  [
                    "Craigieburn",
                    "8 Woodgrove St",
                    3,
                    262,
                    20.6,
                    516000,
                    "2017-12-09",
                    "Northern Metropolitan"
                  ],
                  [
                    "Brunswick West",
                    "16 Foden St",
                    3,
                    378,
                    5.9,
                    870000,
                    "2016-05-22",
                    "Northern Metropolitan"
                  ],
                  [
                    "Kingsbury",
                    "2/20 Bradshaw St",
                    3,
                    521,
                    12.1,
                    660000,
                    "2017-09-23",
                    "Northern Metropolitan"
                  ]
                ],
                "hovertemplate": "<b>%{customdata[0]}</b><br>%{customdata[1]}<br>Rooms: %{customdata[2]} • Landsize: %{customdata[3]} m²<br>Distance: %{x} km • Price: $%{y}<br>Region: %{customdata[7]}<extra></extra>",
                "marker": {
                  "color": "#bebada",
                  "line": {
                    "color": "DimGray",
                    "width": 0.5
                  },
                  "opacity": 0.65,
                  "size": {
                    "dtype": "float64",
                    "shape": [
                      454
                    ]
                  }
                },
                "mode": "markers",
                "name": "Rooms 3",
                "selected": {
                  "marker": {
                    "color": "black",
                    "opacity": 1,
                    "size": 14
                  }
                },
                "unselected": {
                  "marker": {
                    "opacity": 0.15
                  }
                },
                "x": {
                  "dtype": "float64",
                  "shape": [
                    454
                  ]
                },
                "y": {
                  "dtype": "float64",
                  "shape": [
                    454
                  ]
                },
                "type": "scatter",
                "uid": "0bd984c6-38d4-4005-b0d3-e824bf8f1e11"
              },
              {
                "customdata": [
                  [
                    "Coburg",
                    "36 Stockade Av",
                    4,
                    254,
                    6.7,
                    1082000,
                    "2018-02-24",
                    "Northern Metropolitan"
                  ],
                  [
                    "North Melbourne",
                    "306/720 Queensberry St",
                    4,
                    521,
                    1.8,
                    870000,
                    "2017-09-03",
                    "Northern Metropolitan"
                  ],
                  [
                    "Glenroy",
                    "33 Maude Av",
                    4,
                    521,
                    13,
                    640000,
                    "2016-05-28",
                    "Northern Metropolitan"
                  ],
                  [
                    "Knoxfield",
                    "8 Mistletoe Cl",
                    4,
                    620,
                    23.3,
                    1010000,
                    "2017-05-27",
                    "Eastern Metropolitan"
                  ],
                  [
                    "Wantirna",
                    "2/9 Koomba Rd",
                    4,
                    521,
                    14.7,
                    870000,
                    "2018-03-10",
                    "Eastern Metropolitan"
                  ],
                  [
                    "South Morang",
                    "23 Palisades Bvd",
                    4,
                    517,
                    20.5,
                    774000,
                    "2018-03-10",
                    "Northern Metropolitan"
                  ],
                  [
                    "Reservoir",
                    "78 Wilson Bvd",
                    4,
                    850,
                    12,
                    950000,
                    "2017-10-28",
                    "Northern Metropolitan"
                  ],
                  [
                    "Craigieburn",
                    "13 Nobility Rd",
                    4,
                    399,
                    20.6,
                    640000,
                    "2018-01-06",
                    "Northern Metropolitan"
                  ],
                  [
                    "Greensborough",
                    "40 Patrick Cl",
                    5,
                    959.5,
                    16.1,
                    870000,
                    "2017-07-22",
                    "Northern Metropolitan"
                  ],
                  [
                    "Reservoir",
                    "55 Lloyd Av",
                    4,
                    614,
                    12,
                    870000,
                    "2017-07-15",
                    "Northern Metropolitan"
                  ],
                  [
                    "Ivanhoe",
                    "134 Ivanhoe Pde",
                    4,
                    638,
                    7.8,
                    870000,
                    "2017-07-01",
                    "Eastern Metropolitan"
                  ],
                  [
                    "Mooroolbark",
                    "31 Andrew St",
                    4,
                    369,
                    25.4,
                    870000,
                    "2018-03-17",
                    "Eastern Victoria"
                  ],
                  [
                    "Yallambie",
                    "8 Ovata Cl",
                    4,
                    531,
                    15,
                    915000,
                    "2017-03-04",
                    "Northern Metropolitan"
                  ],
                  [
                    "Rosanna",
                    "5/53 Bellevue Av",
                    4,
                    521,
                    8.9,
                    895000,
                    "2017-05-27",
                    "Eastern Metropolitan"
                  ],
                  [
                    "Greenvale",
                    "5 Barrymore Rd",
                    6,
                    521,
                    20.4,
                    870000,
                    "2017-12-09",
                    "Northern Metropolitan"
                  ],
                  [
                    "Mernda",
                    "8 Kernaghan Dr",
                    4,
                    521,
                    25.4,
                    570000,
                    "2017-09-03",
                    "Northern Metropolitan"
                  ],
                  [
                    "Craigieburn",
                    "18 Pymble Gdns",
                    4,
                    448,
                    20.6,
                    590000,
                    "2017-10-07",
                    "Northern Metropolitan"
                  ],
                  [
                    "Boronia",
                    "5 Stoneleigh Av",
                    5,
                    959.5,
                    25,
                    995000,
                    "2018-03-17",
                    "Eastern Metropolitan"
                  ],
                  [
                    "South Morang",
                    "1/14 Kestrel Rd",
                    4,
                    272,
                    20.5,
                    870000,
                    "2017-07-29",
                    "Northern Metropolitan"
                  ],
                  [
                    "Ringwood North",
                    "6 Menzies Cr",
                    4,
                    521,
                    19.9,
                    965000,
                    "2017-08-26",
                    "Eastern Metropolitan"
                  ],
                  [
                    "Preston",
                    "1/56 Eton St",
                    4,
                    521,
                    8.4,
                    870000,
                    "2017-10-07",
                    "Northern Metropolitan"
                  ],
                  [
                    "Croydon",
                    "10 Dumosa Av",
                    4,
                    521,
                    23,
                    825000,
                    "2018-02-10",
                    "Eastern Metropolitan"
                  ],
                  [
                    "Warranwood",
                    "10 Nalinga Ct",
                    5,
                    521,
                    19.9,
                    1015000,
                    "2017-10-07",
                    "Eastern Metropolitan"
                  ],
                  [
                    "Greenvale",
                    "48 Glencairn Dr",
                    4,
                    652,
                    20.4,
                    690000,
                    "2018-01-06",
                    "Northern Metropolitan"
                  ],
                  [
                    "Warranwood",
                    "14 Landau Dr",
                    4,
                    521,
                    19.9,
                    870000,
                    "2017-05-27",
                    "Eastern Metropolitan"
                  ],
                  [
                    "Glenroy",
                    "19 Cromwell St",
                    4,
                    649,
                    11.2,
                    835000,
                    "2017-09-03",
                    "Northern Metropolitan"
                  ],
                  [
                    "Mill Park",
                    "1 Roycroft Av",
                    4,
                    589,
                    17.9,
                    665000,
                    "2017-11-11",
                    "Northern Metropolitan"
                  ],
                  [
                    "Mitcham",
                    "13 Nymph St",
                    4,
                    706,
                    17.2,
                    870000,
                    "2018-02-24",
                    "Eastern Metropolitan"
                  ],
                  [
                    "Abbotsford",
                    "17 Raphael St",
                    4,
                    230,
                    2.5,
                    870000,
                    "2016-11-07",
                    "Northern Metropolitan"
                  ],
                  [
                    "Blackburn",
                    "7 Patricia Rd",
                    4,
                    663,
                    13.4,
                    870000,
                    "2017-11-11",
                    "Eastern Metropolitan"
                  ],
                  [
                    "Rosanna",
                    "101 Ellesmere Pde",
                    4,
                    843,
                    11.4,
                    1020000,
                    "2016-05-07",
                    "Eastern Metropolitan"
                  ],
                  [
                    "Brunswick West",
                    "945 Park St",
                    4,
                    644,
                    5.2,
                    870000,
                    "2017-10-28",
                    "Northern Metropolitan"
                  ],
                  [
                    "Vermont South",
                    "560 Burwood Hwy",
                    4,
                    796,
                    17.2,
                    870000,
                    "2017-05-27",
                    "Eastern Metropolitan"
                  ],
                  [
                    "Kingsbury",
                    "55 The Fairway",
                    4,
                    464,
                    12.1,
                    830000,
                    "2018-02-24",
                    "Northern Metropolitan"
                  ],
                  [
                    "Mernda",
                    "6 Shura Dr",
                    4,
                    448,
                    25.4,
                    610000,
                    "2018-03-10",
                    "Northern Metropolitan"
                  ],
                  [
                    "Berwick",
                    "3 Thornley Dr",
                    4,
                    796,
                    25.4,
                    740000,
                    "2017-05-27",
                    "Eastern Victoria"
                  ],
                  [
                    "Coburg",
                    "223 Bell St",
                    4,
                    535,
                    6.7,
                    870000,
                    "2017-10-07",
                    "Northern Metropolitan"
                  ],
                  [
                    "Templestowe Lower",
                    "24 Corroboree Pl",
                    4,
                    369,
                    13.8,
                    870000,
                    "2016-06-04",
                    "Eastern Metropolitan"
                  ],
                  [
                    "Ringwood",
                    "42 Kalinda Rd",
                    4,
                    521,
                    19.9,
                    926000,
                    "2017-09-03",
                    "Eastern Metropolitan"
                  ],
                  [
                    "Glen Waverley",
                    "12 Kalonga Ct",
                    4,
                    818,
                    16.7,
                    870000,
                    "2017-11-18",
                    "Eastern Metropolitan"
                  ],
                  [
                    "Eltham",
                    "3 Adenmore Ct",
                    4,
                    851,
                    18,
                    870000,
                    "2017-12-09",
                    "Eastern Metropolitan"
                  ],
                  [
                    "Wollert",
                    "3 Chetwynd Gr",
                    4,
                    521,
                    25.4,
                    592000,
                    "2017-09-09",
                    "Northern Metropolitan"
                  ],
                  [
                    "Ringwood East",
                    "19 Eastfield Rd",
                    4,
                    844,
                    21.3,
                    870000,
                    "2017-11-25",
                    "Eastern Metropolitan"
                  ],
                  [
                    "Reservoir",
                    "69 Chauvel St",
                    5,
                    890,
                    12,
                    912000,
                    "2017-06-24",
                    "Northern Metropolitan"
                  ],
                  [
                    "Ringwood",
                    "4 Emerald St",
                    4,
                    521,
                    19.9,
                    870000,
                    "2017-10-21",
                    "Eastern Metropolitan"
                  ],
                  [
                    "Mitcham",
                    "2/8 Percy St",
                    4,
                    521,
                    17.2,
                    870000,
                    "2017-10-14",
                    "Eastern Metropolitan"
                  ],
                  [
                    "Thomastown",
                    "31 Lockwood Gr",
                    4,
                    527,
                    15.3,
                    750000,
                    "2017-10-14",
                    "Northern Metropolitan"
                  ],
                  [
                    "Reservoir",
                    "12 Nutwood St",
                    5,
                    548,
                    11.2,
                    762500,
                    "2016-05-28",
                    "Northern Metropolitan"
                  ],
                  [
                    "Bulleen",
                    "18 Gisborne St",
                    4,
                    521,
                    10.8,
                    870000,
                    "2017-11-25",
                    "Eastern Metropolitan"
                  ],
                  [
                    "Craigieburn",
                    "29 Waterford Av",
                    4,
                    521,
                    20.6,
                    622000,
                    "2017-06-03",
                    "Northern Metropolitan"
                  ],
                  [
                    "Templestowe",
                    "107 The Grange",
                    5,
                    521,
                    15.5,
                    870000,
                    "2017-10-07",
                    "Eastern Metropolitan"
                  ],
                  [
                    "Mill Park",
                    "7 Carlita Cl",
                    5,
                    652,
                    17.9,
                    800000,
                    "2017-10-28",
                    "Northern Metropolitan"
                  ],
                  [
                    "Blackburn",
                    "43 Rosalind Cr",
                    4,
                    521,
                    13.4,
                    870000,
                    "2017-10-14",
                    "Eastern Metropolitan"
                  ],
                  [
                    "Mooroolbark",
                    "4 Akima Tce",
                    4,
                    521,
                    25.4,
                    870000,
                    "2018-01-06",
                    "Eastern Victoria"
                  ],
                  [
                    "Bayswater",
                    "16 Orange Gr",
                    4,
                    521,
                    23.2,
                    860000,
                    "2017-11-25",
                    "Eastern Metropolitan"
                  ],
                  [
                    "Craigieburn",
                    "5 Blackbird Tce",
                    4,
                    771,
                    20.6,
                    735000,
                    "2017-09-23",
                    "Northern Metropolitan"
                  ],
                  [
                    "Mount Waverley",
                    "86 Headingley Rd",
                    4,
                    745,
                    14.2,
                    870000,
                    "2017-07-22",
                    "Eastern Metropolitan"
                  ],
                  [
                    "Blackburn",
                    "61 Maple St",
                    4,
                    521,
                    13.4,
                    870000,
                    "2017-10-07",
                    "Eastern Metropolitan"
                  ],
                  [
                    "Eltham North",
                    "36 Arcadia Wy",
                    4,
                    521,
                    18,
                    770000,
                    "2017-07-01",
                    "Eastern Metropolitan"
                  ],
                  [
                    "Rosanna",
                    "6 Simon Ct",
                    4,
                    959.5,
                    11.4,
                    870000,
                    "2017-05-20",
                    "Eastern Metropolitan"
                  ],
                  [
                    "Oak Park",
                    "61 Vincent St",
                    6,
                    849,
                    11.5,
                    870000,
                    "2016-11-19",
                    "Northern Metropolitan"
                  ],
                  [
                    "South Morang",
                    "6 Mercury Cct",
                    4,
                    512,
                    20.5,
                    870000,
                    "2017-12-09",
                    "Northern Metropolitan"
                  ],
                  [
                    "Preston",
                    "13 Grampian St",
                    4,
                    577,
                    8.8,
                    910000,
                    "2016-11-27",
                    "Northern Metropolitan"
                  ],
                  [
                    "Templestowe Lower",
                    "39 Hazel Dr",
                    5,
                    800,
                    13.8,
                    750000,
                    "2016-11-12",
                    "Eastern Metropolitan"
                  ],
                  [
                    "Watsonia North",
                    "6 Damien Ct",
                    4,
                    534,
                    14.5,
                    806000,
                    "2017-10-07",
                    "Northern Metropolitan"
                  ],
                  [
                    "Broadmeadows",
                    "55 Stanhope St",
                    4,
                    696,
                    14,
                    753000,
                    "2017-09-09",
                    "Northern Metropolitan"
                  ],
                  [
                    "Berwick",
                    "9 Cambridge Dr",
                    4,
                    521,
                    25.4,
                    1000000,
                    "2017-09-23",
                    "Eastern Victoria"
                  ],
                  [
                    "Greenvale",
                    "75 Horizon Bvd",
                    4,
                    521,
                    20.4,
                    870000,
                    "2017-05-27",
                    "Northern Metropolitan"
                  ],
                  [
                    "Richmond",
                    "299 Church St",
                    4,
                    521,
                    2.6,
                    870000,
                    "2017-04-29",
                    "Northern Metropolitan"
                  ],
                  [
                    "Glenroy",
                    "2 Ila St",
                    4,
                    715,
                    13,
                    1050000,
                    "2017-04-22",
                    "Northern Metropolitan"
                  ],
                  [
                    "Mitcham",
                    "52 Owen St",
                    4,
                    959,
                    17.2,
                    870000,
                    "2018-02-24",
                    "Eastern Metropolitan"
                  ],
                  [
                    "Heathmont",
                    "11 Atunga Ct",
                    4,
                    959.5,
                    21.3,
                    1031000,
                    "2017-08-12",
                    "Eastern Metropolitan"
                  ],
                  [
                    "Oak Park",
                    "107 New Rd",
                    5,
                    838,
                    11.2,
                    955000,
                    "2017-09-16",
                    "Northern Metropolitan"
                  ],
                  [
                    "Greenvale",
                    "48 Horizon Bvd",
                    4,
                    316,
                    20.4,
                    620000,
                    "2018-03-17",
                    "Northern Metropolitan"
                  ],
                  [
                    "Westmeadows",
                    "14 Duncan Ct",
                    4,
                    744,
                    16.5,
                    675000,
                    "2017-07-08",
                    "Northern Metropolitan"
                  ],
                  [
                    "Coburg",
                    "14 Grey Ct",
                    4,
                    694,
                    6.7,
                    800000,
                    "2017-10-07",
                    "Northern Metropolitan"
                  ],
                  [
                    "Bundoora",
                    "48 Zara Cl",
                    4,
                    300,
                    12.1,
                    755000,
                    "2017-06-17",
                    "Northern Metropolitan"
                  ],
                  [
                    "Mill Park",
                    "15 Heritage Dr",
                    4,
                    530,
                    17.9,
                    790000,
                    "2017-07-08",
                    "Northern Metropolitan"
                  ],
                  [
                    "Coburg",
                    "21 May St",
                    4,
                    393,
                    7.8,
                    870000,
                    "2016-07-26",
                    "Northern Metropolitan"
                  ],
                  [
                    "Langwarrin",
                    "14 Villosa Cl",
                    4,
                    640,
                    25.4,
                    672000,
                    "2017-10-07",
                    "Eastern Victoria"
                  ],
                  [
                    "Doncaster",
                    "4/98 Church Rd",
                    4,
                    182,
                    13.9,
                    985000,
                    "2017-03-18",
                    "Eastern Metropolitan"
                  ],
                  [
                    "Reservoir",
                    "51 Allenby Av",
                    4,
                    521,
                    11.2,
                    870000,
                    "2016-09-17",
                    "Northern Metropolitan"
                  ],
                  [
                    "Eltham North",
                    "25 Dunbarton Dr",
                    4,
                    521,
                    18,
                    860000,
                    "2017-10-21",
                    "Eastern Metropolitan"
                  ],
                  [
                    "Mooroolbark",
                    "95 Cardigan Rd",
                    4,
                    854,
                    25.4,
                    651000,
                    "2017-06-17",
                    "Eastern Victoria"
                  ],
                  [
                    "Viewbank",
                    "163 Martins La",
                    5,
                    641,
                    13.8,
                    870000,
                    "2016-12-03",
                    "Eastern Metropolitan"
                  ],
                  [
                    "Blackburn South",
                    "1a Wicking Ct",
                    4,
                    521,
                    13.4,
                    870000,
                    "2017-07-29",
                    "Eastern Metropolitan"
                  ],
                  [
                    "Croydon North",
                    "7 Susans Ct",
                    4,
                    895,
                    23,
                    870000,
                    "2018-03-17",
                    "Eastern Metropolitan"
                  ],
                  [
                    "Croydon",
                    "25 Norman Rd",
                    5,
                    521,
                    23,
                    965000,
                    "2017-11-18",
                    "Eastern Metropolitan"
                  ],
                  [
                    "Templestowe Lower",
                    "24 Bilby St",
                    4,
                    668,
                    12.4,
                    1030000,
                    "2018-02-24",
                    "Eastern Metropolitan"
                  ],
                  [
                    "St Helena",
                    "23 Tyrone Ct",
                    4,
                    788,
                    16.1,
                    988000,
                    "2018-02-17",
                    "Eastern Metropolitan"
                  ],
                  [
                    "Bundoora",
                    "4 Nathan Ct",
                    5,
                    568,
                    12.1,
                    870000,
                    "2017-08-12",
                    "Northern Metropolitan"
                  ],
                  [
                    "Westmeadows",
                    "42 Pascoe St",
                    4,
                    813,
                    16.5,
                    791000,
                    "2017-09-30",
                    "Northern Metropolitan"
                  ],
                  [
                    "Montmorency",
                    "21 Sackville St",
                    4,
                    870,
                    16.2,
                    940000,
                    "2017-09-16",
                    "Eastern Metropolitan"
                  ],
                  [
                    "Templestowe Lower",
                    "4 Sylvia St",
                    4,
                    521,
                    12.4,
                    870000,
                    "2017-10-28",
                    "Eastern Metropolitan"
                  ],
                  [
                    "Box Hill",
                    "1089 Whitehorse Rd",
                    7,
                    860,
                    13.1,
                    870000,
                    "2016-09-10",
                    "Eastern Metropolitan"
                  ],
                  [
                    "Pascoe Vale",
                    "16 Hayes Pde",
                    5,
                    706,
                    9.9,
                    958000,
                    "2017-04-29",
                    "Northern Metropolitan"
                  ],
                  [
                    "Thornbury",
                    "269 Mansfield St",
                    4,
                    402,
                    6.5,
                    795000,
                    "2016-05-14",
                    "Northern Metropolitan"
                  ],
                  [
                    "Blackburn North",
                    "1 Gay St",
                    4,
                    617,
                    13.4,
                    870000,
                    "2017-07-15",
                    "Eastern Metropolitan"
                  ],
                  [
                    "Heidelberg Heights",
                    "2/32 Shelley St",
                    4,
                    225,
                    8.8,
                    870000,
                    "2017-05-27",
                    "Eastern Metropolitan"
                  ],
                  [
                    "Ivanhoe East",
                    "34 Charteris Dr",
                    4,
                    779,
                    9,
                    870000,
                    "2016-10-08",
                    "Eastern Metropolitan"
                  ],
                  [
                    "Greenvale",
                    "8 Bridlington Dr",
                    5,
                    521,
                    20.4,
                    870000,
                    "2017-11-11",
                    "Northern Metropolitan"
                  ],
                  [
                    "Craigieburn",
                    "27 Vantage Bvd",
                    4,
                    511,
                    20.6,
                    800000,
                    "2017-08-19",
                    "Northern Metropolitan"
                  ],
                  [
                    "Greenvale",
                    "2 Lysterfield Dr",
                    4,
                    566,
                    20.4,
                    679000,
                    "2018-01-06",
                    "Northern Metropolitan"
                  ],
                  [
                    "Brunswick East",
                    "15 Hickford St",
                    4,
                    405,
                    4.5,
                    870000,
                    "2017-05-13",
                    "Northern Metropolitan"
                  ],
                  [
                    "Craigieburn",
                    "37 Viewside Cr",
                    4,
                    350,
                    20.6,
                    580000,
                    "2017-10-28",
                    "Northern Metropolitan"
                  ],
                  [
                    "Glen Waverley",
                    "6 Silverwood Wy",
                    4,
                    521,
                    16.7,
                    995000,
                    "2017-06-24",
                    "Eastern Metropolitan"
                  ],
                  [
                    "Brunswick",
                    "27 Union St",
                    4,
                    161,
                    5.2,
                    870000,
                    "2016-07-16",
                    "Northern Metropolitan"
                  ],
                  [
                    "Hadfield",
                    "28 Gish Ct",
                    4,
                    672,
                    12.1,
                    815000,
                    "2017-02-25",
                    "Northern Metropolitan"
                  ],
                  [
                    "Ferntree Gully",
                    "24 Greenaway Dr",
                    4,
                    728,
                    24.8,
                    820000,
                    "2017-09-09",
                    "Eastern Metropolitan"
                  ],
                  [
                    "Roxburgh Park",
                    "8 Bonney Pl",
                    4,
                    521,
                    20.6,
                    566000,
                    "2017-10-14",
                    "Northern Metropolitan"
                  ],
                  [
                    "Fawkner",
                    "64 Dowding Cl",
                    4,
                    424,
                    12.4,
                    870000,
                    "2016-10-15",
                    "Northern Metropolitan"
                  ],
                  [
                    "Bundoora",
                    "22 Alma Rd",
                    4,
                    535,
                    12.1,
                    800000,
                    "2017-07-22",
                    "Northern Metropolitan"
                  ],
                  [
                    "Viewbank",
                    "44 Martins La",
                    4,
                    700,
                    13.8,
                    895000,
                    "2016-06-18",
                    "Eastern Metropolitan"
                  ],
                  [
                    "Preston",
                    "340 Plenty Rd",
                    4,
                    678,
                    8.4,
                    950000,
                    "2017-09-23",
                    "Northern Metropolitan"
                  ],
                  [
                    "Mernda",
                    "4 Kilburnie Dr",
                    4,
                    521,
                    25.4,
                    870000,
                    "2017-10-28",
                    "Northern Metropolitan"
                  ],
                  [
                    "South Morang",
                    "3 McArthurs Rd",
                    5,
                    582,
                    20.5,
                    597000,
                    "2017-08-19",
                    "Northern Metropolitan"
                  ],
                  [
                    "Mill Park",
                    "7 Fowler Ct",
                    4,
                    521,
                    17.9,
                    666000,
                    "2017-10-07",
                    "Northern Metropolitan"
                  ],
                  [
                    "Burwood East",
                    "18 Hale Ct",
                    4,
                    599,
                    14.7,
                    1032000,
                    "2017-06-03",
                    "Eastern Metropolitan"
                  ],
                  [
                    "Bayswater",
                    "7 Cousin Dr",
                    5,
                    521,
                    23.2,
                    875000,
                    "2017-11-18",
                    "Eastern Metropolitan"
                  ],
                  [
                    "Wantirna South",
                    "19 Piccadilly Av",
                    4,
                    746,
                    14.7,
                    870000,
                    "2017-09-03",
                    "Eastern Metropolitan"
                  ],
                  [
                    "Heidelberg",
                    "49 Halifax Av",
                    4,
                    521,
                    8.9,
                    870000,
                    "2017-11-11",
                    "Eastern Metropolitan"
                  ],
                  [
                    "Craigieburn",
                    "61 Bowral Lp",
                    4,
                    521,
                    20.6,
                    560000,
                    "2017-12-09",
                    "Northern Metropolitan"
                  ],
                  [
                    "Craigieburn",
                    "64 Newbury Bvd",
                    4,
                    502,
                    20.6,
                    700000,
                    "2018-03-10",
                    "Northern Metropolitan"
                  ],
                  [
                    "Rosanna",
                    "7 Douglas St",
                    4,
                    782,
                    11.4,
                    1021000,
                    "2016-07-30",
                    "Eastern Metropolitan"
                  ],
                  [
                    "Craigieburn",
                    "29 Abercarn Av",
                    4,
                    521,
                    20.6,
                    560000,
                    "2017-09-03",
                    "Northern Metropolitan"
                  ],
                  [
                    "Bayswater",
                    "16 Wiltshire Av",
                    4,
                    521,
                    23.2,
                    640000,
                    "2017-06-03",
                    "Eastern Metropolitan"
                  ],
                  [
                    "Craigieburn",
                    "76 Huntington Dr",
                    4,
                    350,
                    20.6,
                    870000,
                    "2017-06-03",
                    "Northern Metropolitan"
                  ],
                  [
                    "Ringwood East",
                    "5/9 Homebush Ct",
                    4,
                    868,
                    21.3,
                    870000,
                    "2017-07-22",
                    "Eastern Metropolitan"
                  ],
                  [
                    "Reservoir",
                    "12 Wilkinson St",
                    4,
                    646,
                    12,
                    1000000,
                    "2017-10-21",
                    "Northern Metropolitan"
                  ],
                  [
                    "Viewbank",
                    "3 The Nook",
                    4,
                    660,
                    13.8,
                    1050000,
                    "2016-07-26",
                    "Eastern Metropolitan"
                  ],
                  [
                    "Preston",
                    "4 Roseberry Av",
                    4,
                    521,
                    8.4,
                    800000,
                    "2018-01-06",
                    "Northern Metropolitan"
                  ],
                  [
                    "Reservoir",
                    "5 Legh St",
                    4,
                    959.5,
                    12,
                    870000,
                    "2018-01-06",
                    "Northern Metropolitan"
                  ],
                  [
                    "Mount Waverley",
                    "5 Eagle Ct",
                    4,
                    863,
                    14.2,
                    870000,
                    "2018-02-17",
                    "Eastern Metropolitan"
                  ],
                  [
                    "Eltham",
                    "6 Grove St",
                    4,
                    959.5,
                    18,
                    975000,
                    "2017-06-03",
                    "Eastern Metropolitan"
                  ],
                  [
                    "Langwarrin",
                    "12 Cranhaven Rd",
                    5,
                    660,
                    25.4,
                    690000,
                    "2018-03-03",
                    "Eastern Victoria"
                  ],
                  [
                    "Coburg",
                    "13 Kaye Ct",
                    4,
                    576,
                    7.8,
                    838000,
                    "2016-05-28",
                    "Northern Metropolitan"
                  ],
                  [
                    "Mernda",
                    "20 McCubbin Wy",
                    4,
                    335,
                    25.4,
                    870000,
                    "2017-07-08",
                    "Northern Metropolitan"
                  ],
                  [
                    "Glen Waverley",
                    "5 Wilfred Ct",
                    5,
                    895,
                    16.7,
                    815000,
                    "2018-03-10",
                    "Eastern Metropolitan"
                  ],
                  [
                    "Thomastown",
                    "274 Station St",
                    6,
                    646,
                    15.3,
                    931000,
                    "2017-09-09",
                    "Northern Metropolitan"
                  ],
                  [
                    "Mount Waverley",
                    "1 Pascall St",
                    4,
                    714,
                    14.2,
                    870000,
                    "2017-10-28",
                    "Eastern Metropolitan"
                  ],
                  [
                    "Mount Waverley",
                    "31 Valley Rd",
                    4,
                    721,
                    14.2,
                    870000,
                    "2017-07-29",
                    "Eastern Metropolitan"
                  ],
                  [
                    "MacLeod",
                    "3 Laing Pl",
                    4,
                    521,
                    12.7,
                    870000,
                    "2017-11-25",
                    "Northern Metropolitan"
                  ],
                  [
                    "Ringwood North",
                    "81 Kubis Dr",
                    4,
                    785,
                    19.9,
                    1005000,
                    "2017-07-29",
                    "Eastern Metropolitan"
                  ],
                  [
                    "Wantirna South",
                    "81 Sylphide Wy",
                    4,
                    772,
                    14.7,
                    1036000,
                    "2017-10-21",
                    "Eastern Metropolitan"
                  ],
                  [
                    "Jacana",
                    "29 Hendricks Cr",
                    4,
                    693,
                    14,
                    650000,
                    "2017-08-19",
                    "Northern Metropolitan"
                  ],
                  [
                    "Bundoora",
                    "13 Cher Av",
                    4,
                    287,
                    12.1,
                    685000,
                    "2017-08-12",
                    "Northern Metropolitan"
                  ],
                  [
                    "Fawkner",
                    "68 Queens Pde",
                    4,
                    687,
                    13.1,
                    874000,
                    "2017-08-19",
                    "Northern Metropolitan"
                  ],
                  [
                    "Thornbury",
                    "43 Wilmoth St",
                    5,
                    671,
                    6.5,
                    870000,
                    "2017-03-04",
                    "Northern Metropolitan"
                  ],
                  [
                    "Greensborough",
                    "34 Scotland Av",
                    4,
                    521,
                    16.1,
                    920000,
                    "2017-12-09",
                    "Northern Metropolitan"
                  ],
                  [
                    "Croydon Hills",
                    "10 Oxford Cl",
                    4,
                    777,
                    23,
                    870000,
                    "2017-07-29",
                    "Eastern Metropolitan"
                  ],
                  [
                    "MacLeod",
                    "117 Harborne St",
                    4,
                    521,
                    12.7,
                    760000,
                    "2017-11-04",
                    "Northern Metropolitan"
                  ],
                  [
                    "Boronia",
                    "27 Helene Ct",
                    4,
                    730,
                    25,
                    783000,
                    "2017-06-03",
                    "Eastern Metropolitan"
                  ],
                  [
                    "Thomastown",
                    "4 Tamara Ct",
                    4,
                    561,
                    15.3,
                    870000,
                    "2018-03-17",
                    "Northern Metropolitan"
                  ],
                  [
                    "Reservoir",
                    "7 Inverness St",
                    4,
                    836,
                    12,
                    900000,
                    "2017-07-01",
                    "Northern Metropolitan"
                  ],
                  [
                    "Brunswick",
                    "112 Moreland Rd",
                    4,
                    454,
                    5.2,
                    870000,
                    "2018-03-03",
                    "Northern Metropolitan"
                  ],
                  [
                    "Knoxfield",
                    "10 Lakewood Dr",
                    6,
                    521,
                    23.3,
                    870000,
                    "2017-07-15",
                    "Eastern Metropolitan"
                  ],
                  [
                    "Vermont",
                    "10 Abbey Wk",
                    5,
                    521,
                    17.2,
                    870000,
                    "2017-11-25",
                    "Eastern Metropolitan"
                  ],
                  [
                    "Ringwood East",
                    "5 Victoria St",
                    4,
                    521,
                    21.3,
                    1006000,
                    "2017-12-09",
                    "Eastern Metropolitan"
                  ],
                  [
                    "Rosanna",
                    "27 Thomson Dr",
                    4,
                    583,
                    11.4,
                    890000,
                    "2016-05-14",
                    "Eastern Metropolitan"
                  ],
                  [
                    "South Morang",
                    "19 Junor Ct",
                    4,
                    500,
                    20.5,
                    637500,
                    "2017-11-25",
                    "Northern Metropolitan"
                  ],
                  [
                    "Donvale",
                    "86 Darvall St",
                    4,
                    673,
                    16.1,
                    870000,
                    "2018-02-17",
                    "Eastern Metropolitan"
                  ],
                  [
                    "Lalor",
                    "8 Bataan Ct",
                    4,
                    541,
                    16.3,
                    766000,
                    "2017-09-23",
                    "Northern Metropolitan"
                  ],
                  [
                    "Montmorency",
                    "2/193 Rattray Rd",
                    4,
                    521,
                    16.2,
                    926000,
                    "2018-03-03",
                    "Eastern Metropolitan"
                  ],
                  [
                    "Templestowe Lower",
                    "67 Fyfe Dr",
                    4,
                    521,
                    12.4,
                    1075000,
                    "2017-08-26",
                    "Eastern Metropolitan"
                  ],
                  [
                    "Mount Waverley",
                    "70 Leeds Rd",
                    4,
                    819,
                    14.2,
                    870000,
                    "2017-10-28",
                    "Eastern Metropolitan"
                  ],
                  [
                    "Nunawading",
                    "8 Suffolk St",
                    4,
                    685,
                    15.4,
                    870000,
                    "2017-07-08",
                    "Eastern Metropolitan"
                  ],
                  [
                    "South Morang",
                    "43 Astair Av",
                    4,
                    521,
                    20.5,
                    630500,
                    "2017-06-17",
                    "Northern Metropolitan"
                  ],
                  [
                    "Bulleen",
                    "51 Golden Wy",
                    4,
                    521,
                    10.8,
                    870000,
                    "2017-11-25",
                    "Eastern Metropolitan"
                  ],
                  [
                    "Berwick",
                    "2 Greystoke Ct",
                    4,
                    792,
                    25.4,
                    667000,
                    "2017-05-27",
                    "Eastern Victoria"
                  ],
                  [
                    "Reservoir",
                    "39 Gertz Av",
                    5,
                    650,
                    12,
                    861000,
                    "2017-08-12",
                    "Northern Metropolitan"
                  ],
                  [
                    "Campbellfield",
                    "7 Augusta Av",
                    5,
                    521,
                    14.5,
                    870000,
                    "2016-10-15",
                    "Northern Metropolitan"
                  ],
                  [
                    "Templestowe Lower",
                    "5 Fairbank Cr",
                    5,
                    521,
                    13.8,
                    1097500,
                    "2016-11-27",
                    "Eastern Metropolitan"
                  ],
                  [
                    "Berwick",
                    "8 Claremont Gln",
                    4,
                    521,
                    25.4,
                    870000,
                    "2017-10-28",
                    "Eastern Victoria"
                  ],
                  [
                    "Fawkner",
                    "24 Maher St",
                    4,
                    732,
                    13.1,
                    870000,
                    "2017-05-27",
                    "Northern Metropolitan"
                  ],
                  [
                    "Reservoir",
                    "5 Jess St",
                    4,
                    771,
                    11.2,
                    801000,
                    "2016-09-24",
                    "Northern Metropolitan"
                  ],
                  [
                    "Reservoir",
                    "78 McMahon Rd",
                    4,
                    700,
                    12,
                    902000,
                    "2017-07-01",
                    "Northern Metropolitan"
                  ],
                  [
                    "Wantirna South",
                    "7 Sally Cl",
                    5,
                    521,
                    14.7,
                    870000,
                    "2018-01-06",
                    "Eastern Metropolitan"
                  ],
                  [
                    "St Helena",
                    "1 Natasha Cl",
                    5,
                    521,
                    16.1,
                    870000,
                    "2018-01-06",
                    "Eastern Metropolitan"
                  ],
                  [
                    "Epping",
                    "111 Peppercorn Pde",
                    4,
                    570,
                    19.6,
                    656000,
                    "2017-10-28",
                    "Northern Metropolitan"
                  ],
                  [
                    "Preston",
                    "38 Wilcox St",
                    4,
                    396,
                    8.8,
                    920000,
                    "2016-06-27",
                    "Northern Metropolitan"
                  ],
                  [
                    "Blackburn South",
                    "29 Shawlands Av",
                    4,
                    657,
                    13.4,
                    870000,
                    "2017-08-12",
                    "Eastern Metropolitan"
                  ],
                  [
                    "Heidelberg",
                    "137 Hawdon St",
                    5,
                    959.5,
                    10.6,
                    870000,
                    "2016-11-27",
                    "Eastern Metropolitan"
                  ],
                  [
                    "Craigieburn",
                    "22 Evergreen Cr",
                    4,
                    431,
                    20.6,
                    619500,
                    "2018-03-03",
                    "Northern Metropolitan"
                  ],
                  [
                    "Epping",
                    "16 Woodfull Wy",
                    4,
                    647,
                    19.6,
                    681000,
                    "2017-08-19",
                    "Northern Metropolitan"
                  ],
                  [
                    "MacLeod",
                    "69 Yallambie Rd",
                    4,
                    521,
                    12.7,
                    841000,
                    "2017-10-21",
                    "Northern Metropolitan"
                  ],
                  [
                    "Thornbury",
                    "285 Victoria Rd",
                    4,
                    486,
                    6.5,
                    870000,
                    "2016-05-28",
                    "Northern Metropolitan"
                  ],
                  [
                    "Roxburgh Park",
                    "10 Manton Pl",
                    4,
                    475,
                    20.6,
                    477000,
                    "2017-10-28",
                    "Northern Metropolitan"
                  ],
                  [
                    "Broadmeadows",
                    "6 Winton Ct",
                    4,
                    521,
                    14,
                    605000,
                    "2017-11-11",
                    "Northern Metropolitan"
                  ],
                  [
                    "Donvale",
                    "9 Kevin Ct",
                    4,
                    718,
                    16.1,
                    1025000,
                    "2017-10-07",
                    "Eastern Metropolitan"
                  ],
                  [
                    "Roxburgh Park",
                    "31 Aquila Gr",
                    4,
                    521,
                    20.6,
                    536000,
                    "2017-10-21",
                    "Northern Metropolitan"
                  ],
                  [
                    "Scoresby",
                    "35 Zarro St",
                    4,
                    781,
                    22.2,
                    952000,
                    "2018-03-03",
                    "Eastern Metropolitan"
                  ],
                  [
                    "Wantirna",
                    "17 Marlesford Av",
                    4,
                    874,
                    14.7,
                    1065800,
                    "2017-10-07",
                    "Eastern Metropolitan"
                  ],
                  [
                    "Richmond",
                    "5a Waltham Pl",
                    4,
                    521,
                    2.6,
                    870000,
                    "2016-08-22",
                    "Northern Metropolitan"
                  ],
                  [
                    "Preston",
                    "88 Bruce St",
                    4,
                    959.5,
                    8.8,
                    870000,
                    "2016-06-18",
                    "Northern Metropolitan"
                  ],
                  [
                    "Mernda",
                    "55 Sackville St",
                    4,
                    452,
                    25.4,
                    573500,
                    "2018-02-10",
                    "Northern Metropolitan"
                  ]
                ],
                "hovertemplate": "<b>%{customdata[0]}</b><br>%{customdata[1]}<br>Rooms: %{customdata[2]} • Landsize: %{customdata[3]} m²<br>Distance: %{x} km • Price: $%{y}<br>Region: %{customdata[7]}<extra></extra>",
                "marker": {
                  "color": "#fb8072",
                  "line": {
                    "color": "DimGray",
                    "width": 0.5
                  },
                  "opacity": 0.65,
                  "size": {
                    "dtype": "float64",
                    "shape": [
                      195
                    ]
                  }
                },
                "mode": "markers",
                "name": "Rooms 4+",
                "selected": {
                  "marker": {
                    "color": "black",
                    "opacity": 1,
                    "size": 14
                  }
                },
                "unselected": {
                  "marker": {
                    "opacity": 0.15
                  }
                },
                "x": {
                  "dtype": "float64",
                  "shape": [
                    195
                  ]
                },
                "y": {
                  "dtype": "float64",
                  "shape": [
                    195
                  ]
                },
                "type": "scatter",
                "uid": "09d379c3-898e-4528-8872-47fd19971629"
              }
            ],
            "_dom_classes": [],
            "_js2py_layoutDelta": null,
            "_js2py_pointsCallback": {},
            "_js2py_relayout": {},
            "_js2py_restyle": {},
            "_js2py_traceDeltas": null,
            "_js2py_update": {},
            "_last_layout_edit_id": 0,
            "_last_trace_edit_id": 0,
            "_layout": {
              "dragmode": "lasso",
              "height": 650,
              "legend": {
                "orientation": "h",
                "title": {
                  "text": "Rooms"
                },
                "y": -0.2
              },
              "paper_bgcolor": "rgba(250,250,250,1)",
              "plot_bgcolor": "rgba(245,245,245,0.95)",
              "title": {
                "font": {
                  "size": 20
                },
                "text": "<b>Pengaruh Distance, Landsize, dan Rooms terhadap Price</b>",
                "x": 0.5,
                "xanchor": "center"
              },
              "xaxis": {
                "gridcolor": "LightGrey",
                "title": {
                  "text": "Distance dari CBD (km)"
                }
              },
              "yaxis": {
                "gridcolor": "LightGrey",
                "tickprefix": "$",
                "title": {
                  "text": "Price (AUD)"
                }
              }
            },
            "_model_module": "jupyterlab-plotly",
            "_model_module_version": "^5.24.1",
            "_model_name": "FigureModel",
            "_py2js_addTraces": {},
            "_py2js_animate": {},
            "_py2js_deleteTraces": {},
            "_py2js_moveTraces": {},
            "_py2js_relayout": null,
            "_py2js_removeLayoutProps": {},
            "_py2js_removeTraceProps": {},
            "_py2js_restyle": {},
            "_py2js_update": {},
            "_view_count": 1,
            "_view_module": "jupyterlab-plotly",
            "_view_module_version": "^5.24.1",
            "_view_name": "FigureView"
          }
        },
        "5d5f322c4b4b4beda6bdd06b59def7ab": {
          "model_module": "jupyterlab-plotly",
          "model_name": "FigureModel",
          "model_module_version": "^5.24.1",
          "state": {
            "_config": {
              "plotlyServerURL": "https://plot.ly"
            },
            "_data": [
              {
                "customdata": [
                  [
                    "Richmond",
                    "7/81 Edinburgh St",
                    1,
                    0,
                    2.6,
                    870000,
                    "2016-05-14",
                    "Northern Metropolitan"
                  ],
                  [
                    "Thornbury",
                    "2/54 Pender St",
                    1,
                    0,
                    6.5,
                    365000,
                    "2016-12-10",
                    "Northern Metropolitan"
                  ],
                  [
                    "Melbourne",
                    "5/27 Flinders La",
                    1,
                    521,
                    0,
                    575000,
                    "2017-11-25",
                    "Northern Metropolitan"
                  ],
                  [
                    "North Melbourne",
                    "407/5 Stawell St",
                    1,
                    521,
                    2.3,
                    420000,
                    "2016-08-22",
                    "Northern Metropolitan"
                  ],
                  [
                    "Alphington",
                    "10/90 Yarralea St",
                    1,
                    915,
                    6.4,
                    320000,
                    "2017-05-06",
                    "Northern Metropolitan"
                  ],
                  [
                    "Lower Plenty",
                    "20A Lincoln Dr",
                    1,
                    380,
                    14.6,
                    530000,
                    "2018-03-03",
                    "Eastern Metropolitan"
                  ],
                  [
                    "Brunswick West",
                    "10/3 Allard St",
                    1,
                    959.5,
                    5.2,
                    275000,
                    "2017-07-15",
                    "Northern Metropolitan"
                  ],
                  [
                    "Richmond",
                    "3/40 Bridge Rd",
                    1,
                    521,
                    2.6,
                    370000,
                    "2016-06-18",
                    "Northern Metropolitan"
                  ],
                  [
                    "Melbourne",
                    "1701/568 St Kilda Rd",
                    1,
                    521,
                    2.8,
                    870000,
                    "2016-08-06",
                    "Northern Metropolitan"
                  ],
                  [
                    "Richmond",
                    "213/253 Bridge Rd",
                    1,
                    959.5,
                    2.6,
                    370000,
                    "2017-04-08",
                    "Northern Metropolitan"
                  ],
                  [
                    "Reservoir",
                    "1/27 Willoughby St",
                    1,
                    521,
                    12,
                    405000,
                    "2017-10-07",
                    "Northern Metropolitan"
                  ],
                  [
                    "Richmond",
                    "3/5 Kennedy Av",
                    1,
                    521,
                    2.4,
                    870000,
                    "2017-09-09",
                    "Northern Metropolitan"
                  ],
                  [
                    "Brunswick",
                    "14/6 Garnet St",
                    1,
                    521,
                    5.2,
                    250000,
                    "2017-09-23",
                    "Northern Metropolitan"
                  ],
                  [
                    "Brunswick",
                    "5/24 Stewart St",
                    1,
                    521,
                    5.2,
                    380000,
                    "2018-03-17",
                    "Northern Metropolitan"
                  ],
                  [
                    "Brunswick West",
                    "2/39 Murray St",
                    1,
                    521,
                    5.9,
                    300000,
                    "2016-08-06",
                    "Northern Metropolitan"
                  ],
                  [
                    "Reservoir",
                    "4/72 Pine St",
                    1,
                    521,
                    12,
                    300000,
                    "2017-11-25",
                    "Northern Metropolitan"
                  ],
                  [
                    "Box Hill",
                    "7/12 Oxford St",
                    1,
                    29,
                    13.1,
                    340000,
                    "2017-03-18",
                    "Eastern Metropolitan"
                  ],
                  [
                    "Abbotsford",
                    "801/1 Acacia Pl",
                    1,
                    521,
                    3,
                    415000,
                    "2017-09-23",
                    "Northern Metropolitan"
                  ],
                  [
                    "Richmond",
                    "3/11 Brougham St",
                    1,
                    502,
                    2.6,
                    370000,
                    "2016-12-03",
                    "Northern Metropolitan"
                  ],
                  [
                    "Richmond",
                    "12/9 Westbank Tce",
                    1,
                    521,
                    2.6,
                    280000,
                    "2016-07-16",
                    "Northern Metropolitan"
                  ],
                  [
                    "North Melbourne",
                    "8 Baillie St",
                    1,
                    133,
                    1.8,
                    1000000,
                    "2017-06-17",
                    "Northern Metropolitan"
                  ],
                  [
                    "Reservoir",
                    "5/1 Griffiths St",
                    1,
                    521,
                    12,
                    870000,
                    "2017-07-01",
                    "Northern Metropolitan"
                  ],
                  [
                    "Thornbury",
                    "199 Mansfield St",
                    1,
                    948,
                    6.5,
                    300000,
                    "2017-04-22",
                    "Northern Metropolitan"
                  ],
                  [
                    "Kensington",
                    "4/63 Eastwood St",
                    1,
                    521,
                    3.4,
                    300000,
                    "2017-11-18",
                    "Northern Metropolitan"
                  ],
                  [
                    "Carlton North",
                    "26/174 Lee St",
                    1,
                    0,
                    3.2,
                    390000,
                    "2016-07-16",
                    "Northern Metropolitan"
                  ],
                  [
                    "Northcote",
                    "5/175 Gladstone Av",
                    1,
                    521,
                    5.5,
                    310000,
                    "2017-03-18",
                    "Northern Metropolitan"
                  ],
                  [
                    "Brunswick",
                    "10/150 Brunswick Rd",
                    1,
                    0,
                    5.2,
                    240000,
                    "2016-11-27",
                    "Northern Metropolitan"
                  ],
                  [
                    "Carlton",
                    "21/34 Neill St",
                    1,
                    521,
                    1.6,
                    412000,
                    "2018-03-03",
                    "Northern Metropolitan"
                  ],
                  [
                    "Clifton Hill",
                    "101/51 Ramsden St",
                    1,
                    521,
                    3.4,
                    538000,
                    "2017-04-08",
                    "Northern Metropolitan"
                  ],
                  [
                    "Preston",
                    "7 Wilcox St",
                    1,
                    397,
                    8.8,
                    830000,
                    "2016-07-16",
                    "Northern Metropolitan"
                  ],
                  [
                    "Brunswick",
                    "9/789 Park St",
                    1,
                    0,
                    5.2,
                    870000,
                    "2016-06-04",
                    "Northern Metropolitan"
                  ],
                  [
                    "Melbourne",
                    "431/539 St Kilda Rd",
                    1,
                    521,
                    2.8,
                    870000,
                    "2016-05-28",
                    "Northern Metropolitan"
                  ],
                  [
                    "East Melbourne",
                    "7/45 Gipps St",
                    1,
                    0,
                    1.5,
                    750000,
                    "2016-05-28",
                    "Northern Metropolitan"
                  ],
                  [
                    "Cremorne",
                    "218/140 Swan St",
                    1,
                    521,
                    2.4,
                    525000,
                    "2018-03-17",
                    "Northern Metropolitan"
                  ],
                  [
                    "Richmond",
                    "2/28 Davison St",
                    1,
                    521,
                    2.4,
                    305000,
                    "2017-10-21",
                    "Northern Metropolitan"
                  ],
                  [
                    "Richmond",
                    "11/9 Tennyson St",
                    1,
                    521,
                    2.4,
                    485000,
                    "2017-09-16",
                    "Northern Metropolitan"
                  ]
                ],
                "hovertemplate": "<b>%{customdata[0]}</b><br>%{customdata[1]}<br>Rooms: %{customdata[2]} • Landsize: %{customdata[3]} m²<br>Distance: %{x} km • Price: $%{y}<br>Region: %{customdata[7]}<extra></extra>",
                "marker": {
                  "color": "#8dd3c7",
                  "line": {
                    "color": "DimGray",
                    "width": 0.5
                  },
                  "opacity": 0.65,
                  "size": {
                    "dtype": "float64",
                    "shape": [
                      36
                    ]
                  }
                },
                "mode": "markers",
                "name": "Rooms 1",
                "selected": {
                  "marker": {
                    "color": "black",
                    "opacity": 1,
                    "size": 14
                  }
                },
                "unselected": {
                  "marker": {
                    "opacity": 0.15
                  }
                },
                "x": {
                  "dtype": "float64",
                  "shape": [
                    36
                  ]
                },
                "y": {
                  "dtype": "float64",
                  "shape": [
                    36
                  ]
                },
                "type": "scatter",
                "uid": "a8988e02-6ca0-405b-a900-0242579fed4d"
              },
              {
                "customdata": [
                  [
                    "Blackburn North",
                    "2/1 Grosvenor St",
                    2,
                    521,
                    13.4,
                    870000,
                    "2017-11-11",
                    "Eastern Metropolitan"
                  ],
                  [
                    "Fairfield",
                    "2/115 Gillies St",
                    2,
                    0,
                    5.8,
                    505000,
                    "2016-11-07",
                    "Northern Metropolitan"
                  ],
                  [
                    "Brunswick",
                    "11/757 Park St",
                    2,
                    0,
                    5.2,
                    692000,
                    "2017-07-01",
                    "Northern Metropolitan"
                  ],
                  [
                    "Fitzroy",
                    "1/43 Argyle St",
                    2,
                    521,
                    2.1,
                    753000,
                    "2018-02-10",
                    "Northern Metropolitan"
                  ],
                  [
                    "Northcote",
                    "58 Herbert St",
                    2,
                    191,
                    5.5,
                    950000,
                    "2016-11-07",
                    "Northern Metropolitan"
                  ],
                  [
                    "Brunswick",
                    "6 Rose St",
                    2,
                    521,
                    5.2,
                    970000,
                    "2017-10-28",
                    "Northern Metropolitan"
                  ],
                  [
                    "Clifton Hill",
                    "5 George St",
                    2,
                    161,
                    3.6,
                    870000,
                    "2018-02-24",
                    "Northern Metropolitan"
                  ],
                  [
                    "Clifton Hill",
                    "3/30 Edmund St",
                    2,
                    515,
                    3.4,
                    495000,
                    "2016-08-13",
                    "Northern Metropolitan"
                  ],
                  [
                    "Richmond",
                    "219/6 Lord St",
                    2,
                    0,
                    2.6,
                    790000,
                    "2016-08-28",
                    "Northern Metropolitan"
                  ],
                  [
                    "Thornbury",
                    "83/337 Station St",
                    2,
                    521,
                    7,
                    870000,
                    "2018-02-24",
                    "Northern Metropolitan"
                  ],
                  [
                    "Epping",
                    "10/81 Rufus St",
                    2,
                    161,
                    19.6,
                    291000,
                    "2017-09-09",
                    "Northern Metropolitan"
                  ],
                  [
                    "Richmond",
                    "49 Garfield St",
                    2,
                    113,
                    2.6,
                    950000,
                    "2017-05-06",
                    "Northern Metropolitan"
                  ],
                  [
                    "Reservoir",
                    "2/27 Erskine Av",
                    2,
                    521,
                    11.2,
                    363000,
                    "2016-06-18",
                    "Northern Metropolitan"
                  ],
                  [
                    "Fitzroy North",
                    "50 Freeman St",
                    2,
                    107,
                    3.5,
                    870000,
                    "2016-09-03",
                    "Northern Metropolitan"
                  ],
                  [
                    "Brunswick East",
                    "10/5 Barkly St",
                    2,
                    66,
                    4.5,
                    870000,
                    "2016-11-27",
                    "Northern Metropolitan"
                  ],
                  [
                    "South Morang",
                    "5 Mavora Pl",
                    2,
                    521,
                    20.5,
                    451000,
                    "2017-11-11",
                    "Northern Metropolitan"
                  ],
                  [
                    "Ivanhoe",
                    "2/16 Green St",
                    2,
                    521,
                    7.8,
                    755000,
                    "2018-03-17",
                    "Eastern Metropolitan"
                  ],
                  [
                    "Richmond",
                    "10/9 Westbank Tce",
                    2,
                    521,
                    2.6,
                    440000,
                    "2017-04-22",
                    "Northern Metropolitan"
                  ],
                  [
                    "Abbotsford",
                    "200 Nicholson St",
                    2,
                    182,
                    2.5,
                    1012500,
                    "2016-05-28",
                    "Northern Metropolitan"
                  ],
                  [
                    "Thomastown",
                    "2/18 Waratah St",
                    2,
                    521,
                    15.3,
                    475000,
                    "2017-11-25",
                    "Northern Metropolitan"
                  ],
                  [
                    "Kensington",
                    "509/72 Altona St",
                    2,
                    959.5,
                    3.4,
                    501000,
                    "2017-07-29",
                    "Northern Metropolitan"
                  ],
                  [
                    "Melbourne",
                    "1814/250 Elizabeth St",
                    2,
                    0,
                    0,
                    720000,
                    "2017-05-27",
                    "Northern Metropolitan"
                  ],
                  [
                    "North Melbourne",
                    "5/97 Oshanassy St",
                    2,
                    0,
                    2.3,
                    591500,
                    "2016-09-17",
                    "Northern Metropolitan"
                  ],
                  [
                    "Brunswick",
                    "3/269 Albion St",
                    2,
                    0,
                    5.2,
                    870000,
                    "2016-09-24",
                    "Northern Metropolitan"
                  ],
                  [
                    "Clifton Hill",
                    "119 Roseneath St",
                    2,
                    174,
                    3.4,
                    1075000,
                    "2016-10-08",
                    "Northern Metropolitan"
                  ],
                  [
                    "Brunswick East",
                    "503/200 Lygon St",
                    2,
                    959.5,
                    4.5,
                    500000,
                    "2017-05-13",
                    "Northern Metropolitan"
                  ],
                  [
                    "Reservoir",
                    "85 Summerhill Rd",
                    2,
                    552,
                    12,
                    870000,
                    "2018-03-03",
                    "Northern Metropolitan"
                  ],
                  [
                    "Kensington",
                    "9/11 Smith St",
                    2,
                    0,
                    4.2,
                    525000,
                    "2017-05-13",
                    "Northern Metropolitan"
                  ],
                  [
                    "West Melbourne",
                    "5/467 King St",
                    2,
                    0,
                    1.9,
                    620000,
                    "2016-05-28",
                    "Northern Metropolitan"
                  ],
                  [
                    "Research",
                    "2/24 Raglan Rd",
                    2,
                    521,
                    18,
                    650000,
                    "2018-02-17",
                    "Eastern Metropolitan"
                  ],
                  [
                    "Preston",
                    "7 Leopold St",
                    2,
                    521,
                    8.4,
                    732000,
                    "2017-10-21",
                    "Northern Metropolitan"
                  ],
                  [
                    "Heidelberg West",
                    "116 Southern Rd",
                    2,
                    586,
                    9.4,
                    590000,
                    "2016-06-27",
                    "Eastern Metropolitan"
                  ],
                  [
                    "Clifton Hill",
                    "89 Noone St",
                    2,
                    208,
                    3.4,
                    870000,
                    "2017-03-18",
                    "Northern Metropolitan"
                  ],
                  [
                    "Melbourne",
                    "2905/639 Lonsdale St",
                    2,
                    0,
                    2.8,
                    870000,
                    "2016-12-10",
                    "Northern Metropolitan"
                  ],
                  [
                    "Brunswick East",
                    "3 Linden St",
                    2,
                    145,
                    4,
                    1045000,
                    "2017-12-09",
                    "Northern Metropolitan"
                  ],
                  [
                    "Reservoir",
                    "1/65 Thackeray Rd",
                    2,
                    73,
                    12,
                    470000,
                    "2017-06-24",
                    "Northern Metropolitan"
                  ],
                  [
                    "Ringwood",
                    "33 William St",
                    2,
                    370,
                    19.9,
                    870000,
                    "2017-11-11",
                    "Eastern Metropolitan"
                  ],
                  [
                    "Coburg",
                    "5A Hardwick St",
                    2,
                    134,
                    6.7,
                    876000,
                    "2017-07-08",
                    "Northern Metropolitan"
                  ],
                  [
                    "Heidelberg Heights",
                    "7 Flinders St",
                    2,
                    577,
                    10.5,
                    725000,
                    "2016-12-10",
                    "Eastern Metropolitan"
                  ],
                  [
                    "Ivanhoe",
                    "4/24 St Elmo Rd",
                    2,
                    152,
                    7.9,
                    779000,
                    "2016-09-17",
                    "Eastern Metropolitan"
                  ],
                  [
                    "Coburg",
                    "41a Rennie St",
                    2,
                    388,
                    7.8,
                    495000,
                    "2017-05-06",
                    "Northern Metropolitan"
                  ],
                  [
                    "Brunswick West",
                    "1/288 Hope St",
                    2,
                    521,
                    5.2,
                    600000,
                    "2017-11-11",
                    "Northern Metropolitan"
                  ],
                  [
                    "Pascoe Vale",
                    "1 Dorset Rd",
                    2,
                    602,
                    9.9,
                    630000,
                    "2016-04-23",
                    "Northern Metropolitan"
                  ],
                  [
                    "Coburg",
                    "34 Soudan St",
                    2,
                    476,
                    6.7,
                    996000,
                    "2017-06-24",
                    "Northern Metropolitan"
                  ],
                  [
                    "Brunswick",
                    "157 Albion St",
                    2,
                    152,
                    5.2,
                    770000,
                    "2016-10-15",
                    "Northern Metropolitan"
                  ],
                  [
                    "Glenroy",
                    "77 Hubert Av",
                    2,
                    707,
                    11.2,
                    870000,
                    "2017-09-16",
                    "Northern Metropolitan"
                  ],
                  [
                    "Reservoir",
                    "2/56 Orrong Av",
                    2,
                    521,
                    11.2,
                    550000,
                    "2016-08-13",
                    "Northern Metropolitan"
                  ],
                  [
                    "Kensington",
                    "420 Arden St",
                    2,
                    159,
                    4.2,
                    1000000,
                    "2017-04-29",
                    "Northern Metropolitan"
                  ],
                  [
                    "Brunswick East",
                    "906/330 Lygon St",
                    2,
                    959.5,
                    4.5,
                    550000,
                    "2017-05-13",
                    "Northern Metropolitan"
                  ],
                  [
                    "Greensborough",
                    "1/5 Adeline St",
                    2,
                    521,
                    16.1,
                    705000,
                    "2017-09-23",
                    "Northern Metropolitan"
                  ],
                  [
                    "Mill Park",
                    "5 Olsen Wk",
                    2,
                    521,
                    17.9,
                    458000,
                    "2018-03-03",
                    "Northern Metropolitan"
                  ],
                  [
                    "Preston",
                    "14 Arthur St",
                    2,
                    507,
                    8.8,
                    1065000,
                    "2016-10-15",
                    "Northern Metropolitan"
                  ],
                  [
                    "Nunawading",
                    "50 McCulloch St",
                    2,
                    521,
                    15.4,
                    879000,
                    "2017-11-18",
                    "Eastern Metropolitan"
                  ],
                  [
                    "Ivanhoe",
                    "6/105 Locksley Rd",
                    2,
                    0,
                    7.9,
                    490000,
                    "2016-05-07",
                    "Eastern Metropolitan"
                  ],
                  [
                    "Heidelberg West",
                    "4/9 Exeter Ct",
                    2,
                    521,
                    8.8,
                    471000,
                    "2018-01-06",
                    "Eastern Metropolitan"
                  ],
                  [
                    "North Melbourne",
                    "3/369 Abbotsford St",
                    2,
                    0,
                    2.3,
                    540000,
                    "2016-08-22",
                    "Northern Metropolitan"
                  ],
                  [
                    "Ringwood East",
                    "2/5 Mines Rd",
                    2,
                    190,
                    21.3,
                    609000,
                    "2017-05-27",
                    "Eastern Metropolitan"
                  ],
                  [
                    "Richmond",
                    "7/42 Baker St",
                    2,
                    0,
                    2.6,
                    391000,
                    "2016-08-13",
                    "Northern Metropolitan"
                  ],
                  [
                    "Glenroy",
                    "79 Glen St",
                    2,
                    643,
                    13,
                    530000,
                    "2016-11-07",
                    "Northern Metropolitan"
                  ],
                  [
                    "Thornbury",
                    "3/11 Clarendon St",
                    2,
                    521,
                    7,
                    870000,
                    "2017-12-09",
                    "Northern Metropolitan"
                  ],
                  [
                    "North Melbourne",
                    "3 Wilson Mw",
                    2,
                    521,
                    2.3,
                    700000,
                    "2016-05-22",
                    "Northern Metropolitan"
                  ],
                  [
                    "Heidelberg Heights",
                    "3/47 Southern Rd",
                    2,
                    174,
                    10.5,
                    510000,
                    "2016-11-27",
                    "Eastern Metropolitan"
                  ],
                  [
                    "Hadfield",
                    "23 Surrey St",
                    2,
                    591,
                    12.1,
                    545000,
                    "2016-05-14",
                    "Northern Metropolitan"
                  ],
                  [
                    "Flemington",
                    "5/69 Edinburgh St",
                    2,
                    0,
                    4.4,
                    350000,
                    "2016-07-26",
                    "Northern Metropolitan"
                  ],
                  [
                    "South Morang",
                    "2/5 Briar Ct",
                    2,
                    521,
                    20.5,
                    310000,
                    "2017-08-26",
                    "Northern Metropolitan"
                  ],
                  [
                    "MacLeod",
                    "2/88 Torbay St",
                    2,
                    521,
                    12.7,
                    677000,
                    "2018-03-03",
                    "Northern Metropolitan"
                  ],
                  [
                    "Coburg North",
                    "1/97 Shorts Rd",
                    2,
                    521,
                    9.2,
                    522500,
                    "2016-05-14",
                    "Northern Metropolitan"
                  ],
                  [
                    "Northcote",
                    "119 Bent St",
                    2,
                    186,
                    5.5,
                    870000,
                    "2016-12-03",
                    "Northern Metropolitan"
                  ],
                  [
                    "Donvale",
                    "6/5 Sunray Ct",
                    2,
                    196,
                    16.1,
                    630000,
                    "2017-07-08",
                    "Eastern Metropolitan"
                  ],
                  [
                    "Abbotsford",
                    "3 Paterson St",
                    2,
                    146,
                    3,
                    870000,
                    "2017-07-08",
                    "Northern Metropolitan"
                  ],
                  [
                    "Fitzroy North",
                    "22 Coleman St",
                    2,
                    116,
                    3.5,
                    870000,
                    "2016-10-15",
                    "Northern Metropolitan"
                  ],
                  [
                    "Coburg North",
                    "13 Norris St",
                    2,
                    390,
                    6.7,
                    730000,
                    "2018-01-06",
                    "Northern Metropolitan"
                  ],
                  [
                    "Pascoe Vale",
                    "2/8 Stewart St",
                    2,
                    103,
                    8.5,
                    580000,
                    "2017-07-22",
                    "Northern Metropolitan"
                  ],
                  [
                    "Parkville",
                    "17/248 The Avenue",
                    2,
                    959.5,
                    2.6,
                    750000,
                    "2016-07-30",
                    "Northern Metropolitan"
                  ],
                  [
                    "Coburg",
                    "3/25 Belgrave St",
                    2,
                    521,
                    7.8,
                    655000,
                    "2016-12-03",
                    "Northern Metropolitan"
                  ],
                  [
                    "Heidelberg",
                    "2/98 Hawdon St",
                    2,
                    130,
                    8.9,
                    870000,
                    "2017-05-27",
                    "Eastern Metropolitan"
                  ],
                  [
                    "Greensborough",
                    "8/83 Nell St",
                    2,
                    521,
                    16.1,
                    558000,
                    "2018-02-24",
                    "Northern Metropolitan"
                  ],
                  [
                    "Thornbury",
                    "6 Aviary Gr",
                    2,
                    521,
                    7,
                    585000,
                    "2018-02-10",
                    "Northern Metropolitan"
                  ],
                  [
                    "Croydon",
                    "11 Alwyn St",
                    2,
                    352,
                    23,
                    664000,
                    "2018-03-17",
                    "Eastern Metropolitan"
                  ],
                  [
                    "North Melbourne",
                    "6/8 Tyrone St",
                    2,
                    521,
                    1.8,
                    580000,
                    "2017-07-01",
                    "Northern Metropolitan"
                  ],
                  [
                    "Brunswick West",
                    "1/478 Albion St",
                    2,
                    521,
                    5.2,
                    530000,
                    "2018-02-10",
                    "Northern Metropolitan"
                  ],
                  [
                    "Preston",
                    "10/397 Murray Rd",
                    2,
                    521,
                    8.4,
                    695000,
                    "2017-10-14",
                    "Northern Metropolitan"
                  ],
                  [
                    "Cremorne",
                    "44 Balmain St",
                    2,
                    959.5,
                    2.4,
                    945000,
                    "2017-11-18",
                    "Northern Metropolitan"
                  ],
                  [
                    "Pascoe Vale",
                    "3/16 Bristol Rd",
                    2,
                    521,
                    9.9,
                    440000,
                    "2016-06-27",
                    "Northern Metropolitan"
                  ],
                  [
                    "Brunswick West",
                    "1/26 Hopetoun Av",
                    2,
                    521,
                    5.2,
                    580000,
                    "2018-03-10",
                    "Northern Metropolitan"
                  ],
                  [
                    "Ivanhoe",
                    "6/14 Athelstane Gr",
                    2,
                    721,
                    7.9,
                    587000,
                    "2016-11-12",
                    "Eastern Metropolitan"
                  ],
                  [
                    "Kensington",
                    "13 Wight St",
                    2,
                    110,
                    3.4,
                    855000,
                    "2018-02-10",
                    "Northern Metropolitan"
                  ],
                  [
                    "Melbourne",
                    "506/23 Queens Rd",
                    2,
                    521,
                    0,
                    648000,
                    "2017-10-28",
                    "Northern Metropolitan"
                  ],
                  [
                    "Kensington",
                    "1/16 Mawbey St",
                    2,
                    0,
                    4.2,
                    395000,
                    "2016-04-23",
                    "Northern Metropolitan"
                  ],
                  [
                    "Pascoe Vale",
                    "2/297 Cumberland Rd",
                    2,
                    521,
                    8.5,
                    520000,
                    "2018-01-06",
                    "Northern Metropolitan"
                  ],
                  [
                    "Parkville",
                    "26/248 The Avenue",
                    2,
                    521,
                    1.8,
                    650000,
                    "2017-10-14",
                    "Northern Metropolitan"
                  ],
                  [
                    "Richmond",
                    "7/69 Palmer St",
                    2,
                    0,
                    2.6,
                    870000,
                    "2016-05-07",
                    "Northern Metropolitan"
                  ],
                  [
                    "Bayswater",
                    "3/23 Begonia Av",
                    2,
                    521,
                    23.2,
                    425000,
                    "2017-08-19",
                    "Eastern Metropolitan"
                  ],
                  [
                    "Thomastown",
                    "4/327 High St",
                    2,
                    521,
                    15.3,
                    261500,
                    "2018-01-06",
                    "Northern Metropolitan"
                  ],
                  [
                    "MacLeod",
                    "31 Stewart Tce",
                    2,
                    521,
                    12.7,
                    870000,
                    "2017-09-16",
                    "Northern Metropolitan"
                  ],
                  [
                    "Preston",
                    "178 Raglan St",
                    2,
                    516,
                    8.8,
                    920000,
                    "2016-04-16",
                    "Northern Metropolitan"
                  ],
                  [
                    "Thornbury",
                    "1/73 Flinders St",
                    2,
                    0,
                    6.5,
                    462000,
                    "2017-05-13",
                    "Northern Metropolitan"
                  ],
                  [
                    "Doncaster",
                    "6/14 Firth St",
                    2,
                    0,
                    13.9,
                    400000,
                    "2016-10-08",
                    "Eastern Metropolitan"
                  ],
                  [
                    "Preston",
                    "198 Raglan St",
                    2,
                    352,
                    8.8,
                    910000,
                    "2017-03-18",
                    "Northern Metropolitan"
                  ],
                  [
                    "Coburg",
                    "2 Franklin St",
                    2,
                    457,
                    7.8,
                    1008000,
                    "2016-09-24",
                    "Northern Metropolitan"
                  ],
                  [
                    "Coburg",
                    "4/2 Vincent St",
                    2,
                    0,
                    7.8,
                    537500,
                    "2016-11-19",
                    "Northern Metropolitan"
                  ],
                  [
                    "Clifton Hill",
                    "5 Noone St",
                    2,
                    189,
                    3.6,
                    980000,
                    "2017-09-16",
                    "Northern Metropolitan"
                  ],
                  [
                    "Lalor",
                    "2/26 Messmate St",
                    2,
                    521,
                    16.3,
                    360000,
                    "2017-06-24",
                    "Northern Metropolitan"
                  ],
                  [
                    "MacLeod",
                    "8/30 Strathallan Rd",
                    2,
                    521,
                    12.7,
                    660000,
                    "2017-10-28",
                    "Northern Metropolitan"
                  ],
                  [
                    "Heidelberg West",
                    "35 Timor Pde",
                    2,
                    521,
                    8.8,
                    790000,
                    "2017-09-23",
                    "Eastern Metropolitan"
                  ],
                  [
                    "Fitzroy",
                    "194 Moor St",
                    2,
                    83,
                    2.1,
                    870000,
                    "2018-03-03",
                    "Northern Metropolitan"
                  ],
                  [
                    "Reservoir",
                    "83 Whitelaw St",
                    2,
                    705,
                    11.2,
                    852000,
                    "2017-05-06",
                    "Northern Metropolitan"
                  ],
                  [
                    "Thomastown",
                    "4/56 Heyington Av",
                    2,
                    521,
                    15.3,
                    385000,
                    "2018-03-03",
                    "Northern Metropolitan"
                  ],
                  [
                    "Preston",
                    "1/5 Spring St",
                    2,
                    521,
                    8.4,
                    530000,
                    "2017-10-21",
                    "Northern Metropolitan"
                  ],
                  [
                    "Collingwood",
                    "24 Mater St",
                    2,
                    108,
                    2,
                    1025000,
                    "2017-06-03",
                    "Northern Metropolitan"
                  ],
                  [
                    "Reservoir",
                    "2/45 St Vigeons Rd",
                    2,
                    521,
                    12,
                    870000,
                    "2018-02-24",
                    "Northern Metropolitan"
                  ],
                  [
                    "Pascoe Vale",
                    "1/153 Essex St",
                    2,
                    521,
                    8.5,
                    651000,
                    "2018-03-10",
                    "Northern Metropolitan"
                  ],
                  [
                    "Mitcham",
                    "1/5 McGhee Av",
                    2,
                    521,
                    17.2,
                    650000,
                    "2018-03-17",
                    "Eastern Metropolitan"
                  ],
                  [
                    "Melbourne",
                    "215/39 Lonsdale St",
                    2,
                    0,
                    2.8,
                    870000,
                    "2016-05-14",
                    "Northern Metropolitan"
                  ],
                  [
                    "Reservoir",
                    "5/2 Griffiths St",
                    2,
                    207,
                    11.2,
                    420000,
                    "2016-12-10",
                    "Northern Metropolitan"
                  ],
                  [
                    "Epping",
                    "9 Inverloch St",
                    2,
                    149,
                    19.6,
                    401500,
                    "2017-07-15",
                    "Northern Metropolitan"
                  ],
                  [
                    "Reservoir",
                    "1/126 St Vigeons Rd",
                    2,
                    521,
                    11.2,
                    350000,
                    "2016-05-22",
                    "Northern Metropolitan"
                  ],
                  [
                    "Kensington",
                    "79 McCracken St",
                    2,
                    157,
                    3.4,
                    881000,
                    "2017-10-07",
                    "Northern Metropolitan"
                  ],
                  [
                    "Cremorne",
                    "13 Gough Pl",
                    2,
                    110,
                    2.5,
                    870000,
                    "2016-11-07",
                    "Northern Metropolitan"
                  ],
                  [
                    "Kensington",
                    "302/18 Bent St",
                    2,
                    0,
                    4.2,
                    870000,
                    "2016-11-27",
                    "Northern Metropolitan"
                  ],
                  [
                    "Heidelberg",
                    "7/75 Rosanna Rd",
                    2,
                    187,
                    10.6,
                    490000,
                    "2016-12-10",
                    "Eastern Metropolitan"
                  ],
                  [
                    "Melbourne",
                    "7/458 St Kilda Rd",
                    2,
                    521,
                    0,
                    870000,
                    "2017-09-16",
                    "Northern Metropolitan"
                  ],
                  [
                    "Fitzroy North",
                    "470 Brunswick St",
                    2,
                    104,
                    3.5,
                    860000,
                    "2016-09-03",
                    "Northern Metropolitan"
                  ],
                  [
                    "Glenroy",
                    "49 Plumpton Av",
                    2,
                    362,
                    11.2,
                    685000,
                    "2018-02-03",
                    "Northern Metropolitan"
                  ],
                  [
                    "Mont Albert",
                    "4/3 Rowland St",
                    2,
                    521,
                    10.2,
                    776000,
                    "2018-03-03",
                    "Eastern Metropolitan"
                  ],
                  [
                    "Doncaster",
                    "116/6 Thiele St",
                    2,
                    521,
                    12.4,
                    478000,
                    "2017-07-29",
                    "Eastern Metropolitan"
                  ],
                  [
                    "Kensington",
                    "70 Hardiman St",
                    2,
                    174,
                    4.2,
                    960000,
                    "2016-10-08",
                    "Northern Metropolitan"
                  ],
                  [
                    "Brunswick East",
                    "18 Lord St",
                    2,
                    521,
                    4,
                    1010000,
                    "2017-06-17",
                    "Northern Metropolitan"
                  ],
                  [
                    "Thornbury",
                    "2/121 Darebin Rd",
                    2,
                    133,
                    6.5,
                    605000,
                    "2016-05-22",
                    "Northern Metropolitan"
                  ],
                  [
                    "Pascoe Vale",
                    "4/37 Arndt Rd",
                    2,
                    147,
                    9.9,
                    500000,
                    "2016-08-13",
                    "Northern Metropolitan"
                  ],
                  [
                    "Oak Park",
                    "13 Kiama St",
                    2,
                    182,
                    11.2,
                    610000,
                    "2017-07-01",
                    "Northern Metropolitan"
                  ],
                  [
                    "MacLeod",
                    "2/62 May St",
                    2,
                    521,
                    12.7,
                    870000,
                    "2018-02-24",
                    "Northern Metropolitan"
                  ],
                  [
                    "Mickleham",
                    "3 Selkirk Wy",
                    2,
                    521,
                    20.6,
                    335000,
                    "2017-08-26",
                    "Northern Metropolitan"
                  ],
                  [
                    "Clifton Hill",
                    "137 Gold St",
                    2,
                    193,
                    3.4,
                    1000000,
                    "2017-05-20",
                    "Northern Metropolitan"
                  ],
                  [
                    "Northcote",
                    "23A Johnson St",
                    2,
                    228,
                    5.5,
                    995000,
                    "2017-04-08",
                    "Northern Metropolitan"
                  ],
                  [
                    "Preston",
                    "1/46 Tyler St",
                    2,
                    178,
                    8.8,
                    520000,
                    "2017-02-25",
                    "Northern Metropolitan"
                  ],
                  [
                    "Heidelberg West",
                    "2/14 Koitaki Ct",
                    2,
                    521,
                    8.8,
                    480000,
                    "2017-09-16",
                    "Eastern Metropolitan"
                  ],
                  [
                    "Epping",
                    "2/33 Wedge St",
                    2,
                    214,
                    19.6,
                    503000,
                    "2017-07-29",
                    "Northern Metropolitan"
                  ],
                  [
                    "Brunswick",
                    "73 Mitchell St",
                    2,
                    138,
                    5.2,
                    890000,
                    "2017-06-17",
                    "Northern Metropolitan"
                  ],
                  [
                    "North Melbourne",
                    "304/394 Victoria St",
                    2,
                    521,
                    1.8,
                    1100000,
                    "2018-02-24",
                    "Northern Metropolitan"
                  ],
                  [
                    "Preston",
                    "174 Gilbert Rd",
                    2,
                    388,
                    8.8,
                    870000,
                    "2016-11-12",
                    "Northern Metropolitan"
                  ],
                  [
                    "Ringwood",
                    "1/13 Maidstone St",
                    2,
                    123,
                    19.9,
                    633000,
                    "2017-07-08",
                    "Eastern Metropolitan"
                  ],
                  [
                    "Rosanna",
                    "221 Rosanna Rd",
                    2,
                    739,
                    11.4,
                    870000,
                    "2016-05-28",
                    "Eastern Metropolitan"
                  ],
                  [
                    "Coburg",
                    "13 Carron St",
                    2,
                    97,
                    7.8,
                    635000,
                    "2017-03-18",
                    "Northern Metropolitan"
                  ],
                  [
                    "Clifton Hill",
                    "25 Fenwick St",
                    2,
                    118,
                    3.6,
                    1100000,
                    "2017-10-21",
                    "Northern Metropolitan"
                  ],
                  [
                    "Northcote",
                    "1/24 Johnson St",
                    2,
                    521,
                    5.3,
                    801000,
                    "2018-02-10",
                    "Northern Metropolitan"
                  ],
                  [
                    "Brunswick West",
                    "5/8 Murray St",
                    2,
                    0,
                    5.9,
                    500000,
                    "2016-07-16",
                    "Northern Metropolitan"
                  ],
                  [
                    "Pascoe Vale",
                    "4/9 Austin Cr",
                    2,
                    521,
                    8.5,
                    555000,
                    "2017-12-09",
                    "Northern Metropolitan"
                  ],
                  [
                    "Ivanhoe East",
                    "2/3 Rotherwood Rd",
                    2,
                    0,
                    7.8,
                    535000,
                    "2017-06-03",
                    "Eastern Metropolitan"
                  ],
                  [
                    "Reservoir",
                    "3/39 Chaleyer St",
                    2,
                    147,
                    11.2,
                    870000,
                    "2016-09-03",
                    "Northern Metropolitan"
                  ],
                  [
                    "Clifton Hill",
                    "1 John St",
                    2,
                    103,
                    3.4,
                    730000,
                    "2016-05-22",
                    "Northern Metropolitan"
                  ],
                  [
                    "Fitzroy North",
                    "412/4 Bik La",
                    2,
                    959.5,
                    3.5,
                    870000,
                    "2017-04-22",
                    "Northern Metropolitan"
                  ],
                  [
                    "Pascoe Vale",
                    "21/12 Surrey St",
                    2,
                    521,
                    8.5,
                    320000,
                    "2017-10-07",
                    "Northern Metropolitan"
                  ],
                  [
                    "Abbotsford",
                    "16 Park St",
                    2,
                    521,
                    3,
                    870000,
                    "2017-11-11",
                    "Northern Metropolitan"
                  ],
                  [
                    "Preston",
                    "9 Ambon St",
                    2,
                    349,
                    8.8,
                    565000,
                    "2016-06-18",
                    "Northern Metropolitan"
                  ],
                  [
                    "Kensington",
                    "45 Hardiman St",
                    2,
                    521,
                    3.4,
                    1023000,
                    "2017-09-23",
                    "Northern Metropolitan"
                  ],
                  [
                    "Brunswick",
                    "4/33 Austral Av",
                    2,
                    521,
                    5.2,
                    465000,
                    "2016-08-28",
                    "Northern Metropolitan"
                  ],
                  [
                    "Brunswick East",
                    "14 Gale St",
                    2,
                    521,
                    4,
                    765000,
                    "2018-02-10",
                    "Northern Metropolitan"
                  ],
                  [
                    "Abbotsford",
                    "44 Lulie St",
                    2,
                    105,
                    3,
                    970000,
                    "2017-12-09",
                    "Northern Metropolitan"
                  ],
                  [
                    "Northcote",
                    "2/195 Clarke St",
                    2,
                    0,
                    5.5,
                    692000,
                    "2017-02-25",
                    "Northern Metropolitan"
                  ],
                  [
                    "Reservoir",
                    "4/37 Oconnor St",
                    2,
                    521,
                    12,
                    515000,
                    "2018-02-24",
                    "Northern Metropolitan"
                  ],
                  [
                    "Eaglemont",
                    "2/12 Ashby Gr",
                    2,
                    112,
                    10.3,
                    600000,
                    "2016-04-23",
                    "Eastern Metropolitan"
                  ],
                  [
                    "North Melbourne",
                    "1/20 Bedford St",
                    2,
                    0,
                    1.8,
                    870000,
                    "2017-06-17",
                    "Northern Metropolitan"
                  ],
                  [
                    "Coburg",
                    "14a Hardwick St",
                    2,
                    174,
                    7.8,
                    870000,
                    "2016-10-15",
                    "Northern Metropolitan"
                  ],
                  [
                    "Brunswick East",
                    "7/2 Albion St",
                    2,
                    0,
                    4,
                    570000,
                    "2017-06-03",
                    "Northern Metropolitan"
                  ],
                  [
                    "North Melbourne",
                    "22 Melrose St",
                    2,
                    102,
                    1.8,
                    970000,
                    "2017-06-03",
                    "Northern Metropolitan"
                  ],
                  [
                    "Preston",
                    "30 Flett St",
                    2,
                    79,
                    8.8,
                    635000,
                    "2016-05-14",
                    "Northern Metropolitan"
                  ],
                  [
                    "Clifton Hill",
                    "1 Peckville St",
                    2,
                    128,
                    3.6,
                    1010000,
                    "2018-03-03",
                    "Northern Metropolitan"
                  ],
                  [
                    "Ivanhoe East",
                    "5/3 Rotherwood Rd",
                    2,
                    959.5,
                    9,
                    470000,
                    "2016-08-06",
                    "Eastern Metropolitan"
                  ],
                  [
                    "Preston",
                    "5 Wurruk Av",
                    2,
                    521,
                    8.8,
                    745000,
                    "2016-07-30",
                    "Northern Metropolitan"
                  ],
                  [
                    "Brunswick",
                    "1/339 Brunswick Rd",
                    2,
                    521,
                    5.2,
                    870000,
                    "2017-09-23",
                    "Northern Metropolitan"
                  ],
                  [
                    "Rosanna",
                    "6/3 Lower Plenty Rd",
                    2,
                    256,
                    8.9,
                    870000,
                    "2017-06-03",
                    "Eastern Metropolitan"
                  ],
                  [
                    "Preston",
                    "6/110 David St",
                    2,
                    521,
                    8.8,
                    457500,
                    "2016-12-10",
                    "Northern Metropolitan"
                  ],
                  [
                    "Collingwood",
                    "6 Forest St",
                    2,
                    188,
                    1.6,
                    981000,
                    "2016-09-17",
                    "Northern Metropolitan"
                  ],
                  [
                    "North Melbourne",
                    "3/680 Victoria St",
                    2,
                    521,
                    1.8,
                    790000,
                    "2017-09-16",
                    "Northern Metropolitan"
                  ],
                  [
                    "Reservoir",
                    "1a Fordham Rd",
                    2,
                    234,
                    11.2,
                    468000,
                    "2016-10-08",
                    "Northern Metropolitan"
                  ],
                  [
                    "Glenroy",
                    "4/10 Gladstone Pde",
                    2,
                    193,
                    11.2,
                    565000,
                    "2017-08-12",
                    "Northern Metropolitan"
                  ],
                  [
                    "Westmeadows",
                    "2/4 Avion Pl",
                    2,
                    521,
                    16.5,
                    455000,
                    "2017-09-23",
                    "Northern Metropolitan"
                  ],
                  [
                    "Mont Albert",
                    "2/389 Mont Albert Rd",
                    2,
                    521,
                    10.2,
                    870000,
                    "2017-10-07",
                    "Eastern Metropolitan"
                  ],
                  [
                    "Reservoir",
                    "2/102 Rathcown Rd",
                    2,
                    132,
                    11.2,
                    440000,
                    "2016-10-15",
                    "Northern Metropolitan"
                  ],
                  [
                    "North Melbourne",
                    "511/179 Boundary Rd",
                    2,
                    521,
                    1.8,
                    390000,
                    "2017-09-03",
                    "Northern Metropolitan"
                  ],
                  [
                    "Mount Waverley",
                    "5/280 Lawrence Rd",
                    2,
                    521,
                    14.2,
                    730000,
                    "2017-07-15",
                    "Eastern Metropolitan"
                  ],
                  [
                    "Pascoe Vale",
                    "6/3 Plymouth Av",
                    2,
                    521,
                    9.9,
                    567000,
                    "2016-07-26",
                    "Northern Metropolitan"
                  ],
                  [
                    "Glen Waverley",
                    "2/5 Janice Rd",
                    2,
                    521,
                    16.7,
                    870000,
                    "2017-11-25",
                    "Eastern Metropolitan"
                  ],
                  [
                    "Mitcham",
                    "47 Quarry Rd",
                    2,
                    525,
                    17.2,
                    870000,
                    "2017-06-03",
                    "Eastern Metropolitan"
                  ],
                  [
                    "Reservoir",
                    "129 Spring St",
                    2,
                    452,
                    11.2,
                    623500,
                    "2016-08-22",
                    "Northern Metropolitan"
                  ],
                  [
                    "Reservoir",
                    "3/30 George St",
                    2,
                    521,
                    11.2,
                    420000,
                    "2016-07-16",
                    "Northern Metropolitan"
                  ],
                  [
                    "Montmorency",
                    "2/31 Hoban Av",
                    2,
                    521,
                    16.2,
                    690000,
                    "2017-11-11",
                    "Eastern Metropolitan"
                  ],
                  [
                    "Brunswick",
                    "19 Barry St",
                    2,
                    186,
                    5.2,
                    805000,
                    "2018-02-24",
                    "Northern Metropolitan"
                  ],
                  [
                    "Jacana",
                    "5 Bessell Ct",
                    2,
                    796,
                    14,
                    870000,
                    "2018-01-06",
                    "Northern Metropolitan"
                  ],
                  [
                    "Carlton North",
                    "125 Newry St",
                    2,
                    97,
                    3.5,
                    950000,
                    "2017-09-09",
                    "Northern Metropolitan"
                  ],
                  [
                    "Princes Hill",
                    "26 Paterson St",
                    2,
                    533,
                    3.5,
                    957000,
                    "2017-11-25",
                    "Northern Metropolitan"
                  ],
                  [
                    "Richmond",
                    "60 Somerset St",
                    2,
                    67,
                    2.6,
                    935000,
                    "2016-12-03",
                    "Northern Metropolitan"
                  ],
                  [
                    "Northcote",
                    "35 Kellett St",
                    2,
                    205,
                    5.3,
                    960000,
                    "2018-02-10",
                    "Northern Metropolitan"
                  ],
                  [
                    "Thornbury",
                    "58 Leinster Gr",
                    2,
                    158,
                    6.5,
                    960000,
                    "2017-04-29",
                    "Northern Metropolitan"
                  ],
                  [
                    "Boronia",
                    "117 Dorset Rd",
                    2,
                    521,
                    25,
                    870000,
                    "2017-09-23",
                    "Eastern Metropolitan"
                  ],
                  [
                    "Thornbury",
                    "7/42 Pender St",
                    2,
                    521,
                    7,
                    625000,
                    "2017-08-19",
                    "Northern Metropolitan"
                  ],
                  [
                    "Flemington",
                    "2/91 High St",
                    2,
                    521,
                    4.4,
                    668000,
                    "2017-05-06",
                    "Northern Metropolitan"
                  ],
                  [
                    "Brunswick",
                    "22/74 Tinning St",
                    2,
                    521,
                    5.2,
                    725000,
                    "2017-07-29",
                    "Northern Metropolitan"
                  ],
                  [
                    "Fitzroy",
                    "46 Webb St",
                    2,
                    521,
                    2.1,
                    870000,
                    "2017-09-30",
                    "Northern Metropolitan"
                  ],
                  [
                    "Brunswick West",
                    "8/80 Hopetoun Av",
                    2,
                    521,
                    5.2,
                    870000,
                    "2017-11-25",
                    "Northern Metropolitan"
                  ],
                  [
                    "Heidelberg Heights",
                    "55 McEwan Rd",
                    2,
                    588,
                    8.8,
                    780000,
                    "2017-07-01",
                    "Eastern Metropolitan"
                  ],
                  [
                    "Heidelberg Heights",
                    "12 Terry St",
                    2,
                    521,
                    8.8,
                    640000,
                    "2018-01-06",
                    "Eastern Metropolitan"
                  ],
                  [
                    "Greensborough",
                    "2/18 Vermont Pde",
                    2,
                    704,
                    16.1,
                    670000,
                    "2017-08-26",
                    "Northern Metropolitan"
                  ],
                  [
                    "Mont Albert",
                    "2/394 Mont Albert Rd",
                    2,
                    521,
                    10.2,
                    541500,
                    "2018-01-06",
                    "Eastern Metropolitan"
                  ],
                  [
                    "Preston",
                    "1/30 Ruby St",
                    2,
                    521,
                    8.4,
                    705000,
                    "2017-12-09",
                    "Northern Metropolitan"
                  ],
                  [
                    "Brunswick",
                    "1/15 Cassels Rd",
                    2,
                    0,
                    5.2,
                    520000,
                    "2017-06-24",
                    "Northern Metropolitan"
                  ],
                  [
                    "Epping",
                    "14A Supply Dr",
                    2,
                    279,
                    19.6,
                    452500,
                    "2017-05-27",
                    "Northern Metropolitan"
                  ],
                  [
                    "Northcote",
                    "101/231 St Georges St",
                    2,
                    521,
                    5.3,
                    782500,
                    "2017-07-22",
                    "Northern Metropolitan"
                  ],
                  [
                    "Thornbury",
                    "25 Hobson St",
                    2,
                    150,
                    7,
                    830000,
                    "2017-11-11",
                    "Northern Metropolitan"
                  ],
                  [
                    "Northcote",
                    "53 Bent St",
                    2,
                    240,
                    5.3,
                    1010000,
                    "2018-03-17",
                    "Northern Metropolitan"
                  ],
                  [
                    "Brunswick",
                    "1/46 Davies St",
                    2,
                    108,
                    5.2,
                    650000,
                    "2017-07-29",
                    "Northern Metropolitan"
                  ],
                  [
                    "Westmeadows",
                    "215 Johnstone St",
                    2,
                    243,
                    16.5,
                    466000,
                    "2018-03-17",
                    "Northern Metropolitan"
                  ],
                  [
                    "Glenroy",
                    "21 Langton St",
                    2,
                    521,
                    13,
                    758000,
                    "2017-03-04",
                    "Northern Metropolitan"
                  ],
                  [
                    "Fawkner",
                    "5/134 Lorne St",
                    2,
                    521,
                    13.1,
                    475000,
                    "2017-09-09",
                    "Northern Metropolitan"
                  ],
                  [
                    "Fitzroy North",
                    "12/262 Barkly St",
                    2,
                    0,
                    3.5,
                    602000,
                    "2016-08-28",
                    "Northern Metropolitan"
                  ],
                  [
                    "Northcote",
                    "112/405 High St",
                    2,
                    521,
                    5.3,
                    585000,
                    "2017-10-14",
                    "Northern Metropolitan"
                  ],
                  [
                    "Mont Albert",
                    "3/42 Zetland Rd",
                    2,
                    521,
                    10.2,
                    700000,
                    "2018-03-17",
                    "Eastern Metropolitan"
                  ],
                  [
                    "Brunswick",
                    "8/705 Park St",
                    2,
                    0,
                    5.2,
                    601000,
                    "2017-03-18",
                    "Northern Metropolitan"
                  ],
                  [
                    "Eltham",
                    "1/44 Arthur St",
                    2,
                    132,
                    18,
                    540000,
                    "2017-07-15",
                    "Eastern Metropolitan"
                  ],
                  [
                    "Princes Hill",
                    "112 Paterson St",
                    2,
                    134,
                    3.7,
                    870000,
                    "2016-08-28",
                    "Northern Metropolitan"
                  ],
                  [
                    "Richmond",
                    "503/6 Lord St",
                    2,
                    0,
                    2.6,
                    1040000,
                    "2016-09-10",
                    "Northern Metropolitan"
                  ],
                  [
                    "Thornbury",
                    "2/38 Woolton Av",
                    2,
                    521,
                    6.5,
                    422000,
                    "2016-11-19",
                    "Northern Metropolitan"
                  ],
                  [
                    "Preston",
                    "2/584 Murray Rd",
                    2,
                    521,
                    8.4,
                    500000,
                    "2018-02-24",
                    "Northern Metropolitan"
                  ],
                  [
                    "Box Hill",
                    "1A Maple St",
                    2,
                    257,
                    13.1,
                    990000,
                    "2017-05-20",
                    "Eastern Metropolitan"
                  ],
                  [
                    "Coburg",
                    "373 Moreland Rd",
                    2,
                    600,
                    6.7,
                    770000,
                    "2017-08-26",
                    "Northern Metropolitan"
                  ],
                  [
                    "Thornbury",
                    "84 Raleigh St",
                    2,
                    0,
                    6.5,
                    760000,
                    "2016-04-16",
                    "Northern Metropolitan"
                  ],
                  [
                    "Brunswick",
                    "1/11 Millward St",
                    2,
                    521,
                    5.2,
                    515000,
                    "2017-09-03",
                    "Northern Metropolitan"
                  ],
                  [
                    "Preston",
                    "4/111 Regent St",
                    2,
                    157,
                    8.8,
                    870000,
                    "2016-06-12",
                    "Northern Metropolitan"
                  ],
                  [
                    "Viewbank",
                    "3/23 Christine St",
                    2,
                    195,
                    13.8,
                    556000,
                    "2016-12-03",
                    "Eastern Metropolitan"
                  ],
                  [
                    "Brunswick West",
                    "1 Marion Av",
                    2,
                    521,
                    5.9,
                    989000,
                    "2016-11-12",
                    "Northern Metropolitan"
                  ],
                  [
                    "Heidelberg West",
                    "163 Dougharty Rd",
                    2,
                    368,
                    9.4,
                    440500,
                    "2016-07-16",
                    "Eastern Metropolitan"
                  ],
                  [
                    "Bundoora",
                    "6/70 Grange Bvd",
                    2,
                    90,
                    12.1,
                    505000,
                    "2017-08-12",
                    "Northern Metropolitan"
                  ],
                  [
                    "Preston",
                    "7/33 Cramer St",
                    2,
                    521,
                    8.4,
                    665000,
                    "2017-11-25",
                    "Northern Metropolitan"
                  ],
                  [
                    "Ivanhoe",
                    "2/8 Oriel Rd",
                    2,
                    521,
                    7.8,
                    870000,
                    "2017-10-28",
                    "Eastern Metropolitan"
                  ],
                  [
                    "Brunswick",
                    "3/30 Heller St",
                    2,
                    156,
                    5.2,
                    801000,
                    "2017-02-25",
                    "Northern Metropolitan"
                  ],
                  [
                    "Flemington",
                    "19/60 Farnham St",
                    2,
                    521,
                    3.4,
                    452000,
                    "2018-03-17",
                    "Northern Metropolitan"
                  ],
                  [
                    "Melbourne",
                    "11/8 Louise St",
                    2,
                    521,
                    0,
                    550000,
                    "2017-09-16",
                    "Northern Metropolitan"
                  ],
                  [
                    "Mitcham",
                    "395 Mitcham Rd",
                    2,
                    370,
                    17.2,
                    890000,
                    "2017-06-24",
                    "Eastern Metropolitan"
                  ],
                  [
                    "Coburg",
                    "18 Industry La",
                    2,
                    0,
                    7.8,
                    570000,
                    "2016-08-28",
                    "Northern Metropolitan"
                  ],
                  [
                    "Watsonia",
                    "1/16 Lambourn Rd",
                    2,
                    521,
                    14.5,
                    640000,
                    "2017-09-16",
                    "Northern Metropolitan"
                  ],
                  [
                    "Richmond",
                    "9/343 Church St",
                    2,
                    959.5,
                    2.4,
                    715000,
                    "2017-07-08",
                    "Northern Metropolitan"
                  ],
                  [
                    "Heidelberg Heights",
                    "29 Monash St",
                    2,
                    521,
                    8.8,
                    780000,
                    "2017-11-25",
                    "Eastern Metropolitan"
                  ],
                  [
                    "Blackburn South",
                    "12/5 Travellyn Ct",
                    2,
                    959.5,
                    13.4,
                    615000,
                    "2017-07-29",
                    "Eastern Metropolitan"
                  ],
                  [
                    "Fitzroy",
                    "4/113 Cecil St",
                    2,
                    0,
                    1.6,
                    810000,
                    "2016-08-06",
                    "Northern Metropolitan"
                  ],
                  [
                    "Northcote",
                    "502/8 Breavington Wy",
                    2,
                    521,
                    5.5,
                    641000,
                    "2016-10-08",
                    "Northern Metropolitan"
                  ],
                  [
                    "Richmond",
                    "54 Mary St",
                    2,
                    120,
                    2.6,
                    870000,
                    "2017-04-29",
                    "Northern Metropolitan"
                  ],
                  [
                    "Greensborough",
                    "1/22 Louis St",
                    2,
                    521,
                    16.1,
                    870000,
                    "2017-12-09",
                    "Northern Metropolitan"
                  ],
                  [
                    "Richmond",
                    "32 Jubilee Pl",
                    2,
                    80,
                    2.6,
                    1042500,
                    "2017-03-04",
                    "Northern Metropolitan"
                  ],
                  [
                    "Fawkner",
                    "2/55 Marlborough St",
                    2,
                    521,
                    13.1,
                    560000,
                    "2018-02-17",
                    "Northern Metropolitan"
                  ],
                  [
                    "Flemington",
                    "85 Shields St",
                    2,
                    521,
                    3.4,
                    905000,
                    "2017-11-25",
                    "Northern Metropolitan"
                  ],
                  [
                    "Northcote",
                    "19 Hunter St",
                    2,
                    225,
                    5.5,
                    890000,
                    "2016-05-14",
                    "Northern Metropolitan"
                  ],
                  [
                    "Forest Hill",
                    "52 Parkmore Rd",
                    2,
                    581,
                    15.4,
                    1020000,
                    "2017-07-15",
                    "Eastern Metropolitan"
                  ],
                  [
                    "Thomastown",
                    "3/3 Travers St",
                    2,
                    148,
                    15.3,
                    460000,
                    "2017-10-21",
                    "Northern Metropolitan"
                  ],
                  [
                    "Brunswick",
                    "45b Garnet St",
                    2,
                    521,
                    5.2,
                    849000,
                    "2017-11-25",
                    "Northern Metropolitan"
                  ],
                  [
                    "Brunswick West",
                    "1/464 Victoria St",
                    2,
                    120,
                    5.9,
                    735000,
                    "2016-09-24",
                    "Northern Metropolitan"
                  ],
                  [
                    "Richmond",
                    "25 Canterbury St",
                    2,
                    164,
                    2.4,
                    1000000,
                    "2017-05-27",
                    "Northern Metropolitan"
                  ],
                  [
                    "Reservoir",
                    "3/7 Mattea Ct",
                    2,
                    220,
                    11.2,
                    380000,
                    "2016-08-13",
                    "Northern Metropolitan"
                  ],
                  [
                    "Reservoir",
                    "3/154 Leamington St",
                    2,
                    146,
                    11.2,
                    870000,
                    "2016-08-06",
                    "Northern Metropolitan"
                  ],
                  [
                    "Lalor",
                    "3/115 Messmate St",
                    2,
                    521,
                    16.3,
                    500000,
                    "2018-02-24",
                    "Northern Metropolitan"
                  ],
                  [
                    "Reservoir",
                    "3/170 Spring St",
                    2,
                    521,
                    11.2,
                    575000,
                    "2016-06-04",
                    "Northern Metropolitan"
                  ],
                  [
                    "East Melbourne",
                    "101/166 Wellington Pde",
                    2,
                    0,
                    1.3,
                    870000,
                    "2017-06-03",
                    "Northern Metropolitan"
                  ],
                  [
                    "Brunswick",
                    "46 Tinning St",
                    2,
                    199,
                    5.2,
                    765000,
                    "2016-05-28",
                    "Northern Metropolitan"
                  ],
                  [
                    "Ferntree Gully",
                    "24a Helen Rd",
                    2,
                    306,
                    24.8,
                    617000,
                    "2017-05-27",
                    "Eastern Metropolitan"
                  ],
                  [
                    "Reservoir",
                    "165 Spring St",
                    2,
                    556,
                    12,
                    762000,
                    "2017-09-03",
                    "Northern Metropolitan"
                  ],
                  [
                    "Box Hill",
                    "1/1 Cherryhinton St",
                    2,
                    195,
                    13.1,
                    790000,
                    "2017-03-04",
                    "Eastern Metropolitan"
                  ],
                  [
                    "East Melbourne",
                    "29/22 Agnes St",
                    2,
                    959.5,
                    1.3,
                    870000,
                    "2017-07-22",
                    "Northern Metropolitan"
                  ],
                  [
                    "Brunswick West",
                    "522 Victoria St",
                    2,
                    300,
                    5.2,
                    870000,
                    "2018-03-17",
                    "Northern Metropolitan"
                  ],
                  [
                    "Richmond",
                    "25/9 Tennyson St",
                    2,
                    521,
                    2.4,
                    870000,
                    "2017-12-09",
                    "Northern Metropolitan"
                  ],
                  [
                    "Collingwood",
                    "102/6 Mater St",
                    2,
                    521,
                    1.6,
                    500000,
                    "2017-04-22",
                    "Northern Metropolitan"
                  ],
                  [
                    "Fairfield",
                    "8/35 Grange Rd",
                    2,
                    521,
                    5.7,
                    450000,
                    "2017-10-21",
                    "Northern Metropolitan"
                  ],
                  [
                    "Northcote",
                    "18/70 Gadd St",
                    2,
                    521,
                    5.5,
                    680000,
                    "2017-03-11",
                    "Northern Metropolitan"
                  ],
                  [
                    "Carlton North",
                    "16 Fenwick St",
                    2,
                    100,
                    3.2,
                    910000,
                    "2016-06-18",
                    "Northern Metropolitan"
                  ]
                ],
                "hovertemplate": "<b>%{customdata[0]}</b><br>%{customdata[1]}<br>Rooms: %{customdata[2]} • Landsize: %{customdata[3]} m²<br>Distance: %{x} km • Price: $%{y}<br>Region: %{customdata[7]}<extra></extra>",
                "marker": {
                  "color": "#ffffb3",
                  "line": {
                    "color": "DimGray",
                    "width": 0.5
                  },
                  "opacity": 0.65,
                  "size": {
                    "dtype": "float64",
                    "shape": [
                      273
                    ]
                  }
                },
                "mode": "markers",
                "name": "Rooms 2",
                "selected": {
                  "marker": {
                    "color": "black",
                    "opacity": 1,
                    "size": 14
                  }
                },
                "unselected": {
                  "marker": {
                    "opacity": 0.15
                  }
                },
                "x": {
                  "dtype": "float64",
                  "shape": [
                    273
                  ]
                },
                "y": {
                  "dtype": "float64",
                  "shape": [
                    273
                  ]
                },
                "type": "scatter",
                "uid": "172502fe-2ff7-4457-a5ad-09577df30f16"
              },
              {
                "customdata": [
                  [
                    "Vermont South",
                    "3 Winslow Gr",
                    3,
                    521,
                    17.2,
                    768000,
                    "2017-09-03",
                    "Eastern Metropolitan"
                  ],
                  [
                    "Eltham",
                    "13 Elsa Ct",
                    3,
                    521,
                    18,
                    870000,
                    "2017-09-03",
                    "Eastern Metropolitan"
                  ],
                  [
                    "Coburg",
                    "99 Rose St",
                    3,
                    399,
                    7.8,
                    790000,
                    "2017-04-08",
                    "Northern Metropolitan"
                  ],
                  [
                    "Rosanna",
                    "2/236 Lower Plenty Rd",
                    3,
                    213,
                    11.4,
                    560000,
                    "2016-05-07",
                    "Eastern Metropolitan"
                  ],
                  [
                    "Epping",
                    "4 Longwood Dr",
                    3,
                    654,
                    19.6,
                    557500,
                    "2017-09-03",
                    "Northern Metropolitan"
                  ],
                  [
                    "Cremorne",
                    "36 Dover St",
                    3,
                    143,
                    2.4,
                    870000,
                    "2017-09-03",
                    "Northern Metropolitan"
                  ],
                  [
                    "Viewbank",
                    "178 Graham Rd",
                    3,
                    658,
                    8.9,
                    825000,
                    "2017-06-24",
                    "Eastern Metropolitan"
                  ],
                  [
                    "Mooroolbark",
                    "25 Neville St",
                    3,
                    862,
                    25.4,
                    940000,
                    "2018-03-17",
                    "Eastern Victoria"
                  ],
                  [
                    "Dallas",
                    "3 Donald St",
                    3,
                    552,
                    14,
                    870000,
                    "2018-01-06",
                    "Northern Metropolitan"
                  ],
                  [
                    "Thornbury",
                    "352 Gooch St",
                    3,
                    521,
                    7,
                    800000,
                    "2017-07-15",
                    "Northern Metropolitan"
                  ],
                  [
                    "Eltham",
                    "8 Ibsley Sq",
                    3,
                    959.5,
                    18,
                    960000,
                    "2017-10-28",
                    "Eastern Metropolitan"
                  ],
                  [
                    "Carlton",
                    "56/39 Rathdowne St",
                    3,
                    521,
                    1.6,
                    830000,
                    "2017-09-23",
                    "Northern Metropolitan"
                  ],
                  [
                    "Glen Waverley",
                    "1/1 Landridge St",
                    3,
                    521,
                    16.7,
                    870000,
                    "2018-03-03",
                    "Eastern Metropolitan"
                  ],
                  [
                    "Ringwood East",
                    "24 Gracedale Av",
                    3,
                    582,
                    21.3,
                    790000,
                    "2018-03-17",
                    "Eastern Metropolitan"
                  ],
                  [
                    "Mill Park",
                    "9 Conifer Cl",
                    3,
                    304,
                    17.9,
                    553000,
                    "2017-12-09",
                    "Northern Metropolitan"
                  ],
                  [
                    "Fairfield",
                    "128 Christmas St",
                    3,
                    521,
                    5.7,
                    870000,
                    "2017-10-21",
                    "Northern Metropolitan"
                  ],
                  [
                    "Donvale",
                    "2/9 Standring Cl",
                    3,
                    243,
                    16.1,
                    988000,
                    "2017-08-19",
                    "Eastern Metropolitan"
                  ],
                  [
                    "Mount Waverley",
                    "2/392 Stephensons Rd",
                    3,
                    236,
                    14.2,
                    1035000,
                    "2017-08-26",
                    "Eastern Metropolitan"
                  ],
                  [
                    "Glenroy",
                    "68 Moonee Bvd",
                    3,
                    656,
                    13,
                    870000,
                    "2016-11-07",
                    "Northern Metropolitan"
                  ],
                  [
                    "Glenroy",
                    "1a Stella St",
                    3,
                    521,
                    13,
                    482500,
                    "2016-06-18",
                    "Northern Metropolitan"
                  ],
                  [
                    "Reservoir",
                    "30 Boldrewood Pde",
                    3,
                    654,
                    11.2,
                    670500,
                    "2016-08-22",
                    "Northern Metropolitan"
                  ],
                  [
                    "Preston",
                    "39 Malpas St",
                    3,
                    637,
                    8.8,
                    1100000,
                    "2017-04-29",
                    "Northern Metropolitan"
                  ],
                  [
                    "Coburg",
                    "16 Tanderum Dr",
                    3,
                    184,
                    6.7,
                    730000,
                    "2017-10-07",
                    "Northern Metropolitan"
                  ],
                  [
                    "Bundoora",
                    "14 Shelley Av",
                    3,
                    521,
                    12.1,
                    700000,
                    "2017-11-25",
                    "Northern Metropolitan"
                  ],
                  [
                    "Brunswick West",
                    "36 Newman St",
                    3,
                    322,
                    5.2,
                    1100000,
                    "2017-07-01",
                    "Northern Metropolitan"
                  ],
                  [
                    "Boronia",
                    "2/24 Springfield Rd",
                    3,
                    521,
                    25,
                    701000,
                    "2017-09-09",
                    "Eastern Metropolitan"
                  ],
                  [
                    "Viewbank",
                    "81 Rutherford Rd",
                    3,
                    521,
                    8.9,
                    870000,
                    "2017-11-25",
                    "Eastern Metropolitan"
                  ],
                  [
                    "Lalor",
                    "34 Cyprus St",
                    3,
                    651,
                    16.3,
                    716000,
                    "2017-06-17",
                    "Northern Metropolitan"
                  ],
                  [
                    "Reservoir",
                    "27 Henty St",
                    3,
                    550,
                    11.2,
                    870000,
                    "2016-11-27",
                    "Northern Metropolitan"
                  ],
                  [
                    "Yallambie",
                    "252 Yallambie Rd",
                    3,
                    535,
                    15,
                    720000,
                    "2016-09-24",
                    "Northern Metropolitan"
                  ],
                  [
                    "Kensington",
                    "2B Wight St",
                    3,
                    120,
                    3.4,
                    976000,
                    "2018-02-24",
                    "Northern Metropolitan"
                  ],
                  [
                    "Reservoir",
                    "2/37 Shand Rd",
                    3,
                    521,
                    11.2,
                    620000,
                    "2016-10-15",
                    "Northern Metropolitan"
                  ],
                  [
                    "Coburg",
                    "3 Suffolk Av",
                    3,
                    521,
                    7.8,
                    870000,
                    "2017-03-18",
                    "Northern Metropolitan"
                  ],
                  [
                    "Nunawading",
                    "4/4 Koroit St",
                    3,
                    521,
                    15.4,
                    860000,
                    "2017-08-19",
                    "Eastern Metropolitan"
                  ],
                  [
                    "Reservoir",
                    "1/9 Loddon Av",
                    3,
                    521,
                    11.2,
                    668000,
                    "2017-04-08",
                    "Northern Metropolitan"
                  ],
                  [
                    "Eltham",
                    "2/72 Bible St",
                    3,
                    521,
                    18,
                    685000,
                    "2017-10-21",
                    "Eastern Metropolitan"
                  ],
                  [
                    "Brunswick East",
                    "256 Stewart St",
                    3,
                    138,
                    4.5,
                    930000,
                    "2017-03-04",
                    "Northern Metropolitan"
                  ],
                  [
                    "Craigieburn",
                    "53 Thoresby Cct",
                    3,
                    521,
                    20.6,
                    515000,
                    "2017-12-09",
                    "Northern Metropolitan"
                  ],
                  [
                    "Preston",
                    "38 Spring St",
                    3,
                    521,
                    8.4,
                    947500,
                    "2017-09-09",
                    "Northern Metropolitan"
                  ],
                  [
                    "Donvale",
                    "14 Amys Gr",
                    3,
                    393,
                    16.1,
                    900000,
                    "2018-03-17",
                    "Eastern Metropolitan"
                  ],
                  [
                    "Ivanhoe",
                    "16 Ayton St",
                    3,
                    290,
                    7.9,
                    950000,
                    "2016-11-19",
                    "Eastern Metropolitan"
                  ],
                  [
                    "Thomastown",
                    "3 Chesney Ct",
                    3,
                    500,
                    15.3,
                    870000,
                    "2018-01-06",
                    "Northern Metropolitan"
                  ],
                  [
                    "Mill Park",
                    "6 Bean Ct",
                    3,
                    269,
                    17.9,
                    530500,
                    "2018-03-03",
                    "Northern Metropolitan"
                  ],
                  [
                    "Fitzroy",
                    "71 Bell St",
                    3,
                    112,
                    2.1,
                    870000,
                    "2018-02-24",
                    "Northern Metropolitan"
                  ],
                  [
                    "Westmeadows",
                    "19 Forman St",
                    3,
                    521,
                    16.5,
                    715000,
                    "2017-11-18",
                    "Northern Metropolitan"
                  ],
                  [
                    "Northcote",
                    "182 Separation St",
                    3,
                    530,
                    5.3,
                    1050000,
                    "2017-07-15",
                    "Northern Metropolitan"
                  ],
                  [
                    "Preston",
                    "11 Jackman St",
                    3,
                    464,
                    8.4,
                    1001000,
                    "2017-08-19",
                    "Northern Metropolitan"
                  ],
                  [
                    "Wollert",
                    "66 Fulham Wy",
                    3,
                    395,
                    25.4,
                    640000,
                    "2018-01-06",
                    "Northern Metropolitan"
                  ],
                  [
                    "Clyde North",
                    "19 Fleuve Ri",
                    3,
                    521,
                    25.4,
                    870000,
                    "2018-03-17",
                    "Eastern Victoria"
                  ],
                  [
                    "Heidelberg Heights",
                    "14 Sackville St",
                    3,
                    592,
                    10.5,
                    785000,
                    "2016-12-10",
                    "Eastern Metropolitan"
                  ],
                  [
                    "Northcote",
                    "130 Darebin Rd",
                    3,
                    521,
                    5.3,
                    870000,
                    "2017-11-25",
                    "Northern Metropolitan"
                  ],
                  [
                    "Glenroy",
                    "1/83 Maude Av",
                    3,
                    521,
                    13,
                    480000,
                    "2016-09-03",
                    "Northern Metropolitan"
                  ],
                  [
                    "Meadow Heights",
                    "118 Malmsbury Dr",
                    3,
                    521,
                    17.4,
                    870000,
                    "2017-07-29",
                    "Northern Metropolitan"
                  ],
                  [
                    "Fawkner",
                    "110 Jukes Rd",
                    3,
                    593,
                    12.4,
                    870000,
                    "2016-11-12",
                    "Northern Metropolitan"
                  ],
                  [
                    "Brunswick West",
                    "6 Shamrock St",
                    3,
                    323,
                    5.9,
                    870000,
                    "2016-06-04",
                    "Northern Metropolitan"
                  ],
                  [
                    "Oak Park",
                    "19 Valdoone Ct",
                    3,
                    719,
                    11.5,
                    727500,
                    "2016-08-13",
                    "Northern Metropolitan"
                  ],
                  [
                    "Templestowe Lower",
                    "1/51 John St",
                    3,
                    521,
                    12.4,
                    960000,
                    "2017-11-18",
                    "Eastern Metropolitan"
                  ],
                  [
                    "Forest Hill",
                    "104 Husband Rd",
                    3,
                    521,
                    15.4,
                    870000,
                    "2017-09-09",
                    "Eastern Metropolitan"
                  ],
                  [
                    "Eltham",
                    "44 John St",
                    3,
                    677,
                    18,
                    821000,
                    "2018-02-10",
                    "Eastern Metropolitan"
                  ],
                  [
                    "Rosanna",
                    "38 Grove Rd",
                    3,
                    521,
                    8.9,
                    805000,
                    "2017-10-07",
                    "Eastern Metropolitan"
                  ],
                  [
                    "Richmond",
                    "65 Church St",
                    3,
                    116,
                    2.4,
                    951000,
                    "2017-11-25",
                    "Northern Metropolitan"
                  ],
                  [
                    "Fawkner",
                    "25 William St",
                    3,
                    583,
                    12.4,
                    870000,
                    "2016-05-28",
                    "Northern Metropolitan"
                  ],
                  [
                    "Doncaster",
                    "8 Howard Ct",
                    3,
                    771,
                    13.9,
                    1100000,
                    "2016-11-27",
                    "Eastern Metropolitan"
                  ],
                  [
                    "Heathmont",
                    "38 Daisy St",
                    3,
                    756,
                    21.3,
                    1040000,
                    "2017-08-12",
                    "Eastern Metropolitan"
                  ],
                  [
                    "Epping",
                    "23 Epsom Av",
                    3,
                    521,
                    19.6,
                    601000,
                    "2017-09-23",
                    "Northern Metropolitan"
                  ],
                  [
                    "Fairfield",
                    "192 Gillies St",
                    3,
                    235,
                    5.8,
                    1064000,
                    "2016-08-06",
                    "Northern Metropolitan"
                  ],
                  [
                    "Boronia",
                    "36 Landscape Dr",
                    3,
                    521,
                    25,
                    815000,
                    "2017-10-14",
                    "Eastern Metropolitan"
                  ],
                  [
                    "Heidelberg West",
                    "8 Kanimbla Ct",
                    3,
                    521,
                    8.8,
                    860000,
                    "2017-11-11",
                    "Eastern Metropolitan"
                  ],
                  [
                    "Bulleen",
                    "6 Gisborne St",
                    3,
                    822,
                    10.8,
                    870000,
                    "2018-03-10",
                    "Eastern Metropolitan"
                  ],
                  [
                    "Reservoir",
                    "9 Odonnell St",
                    3,
                    521,
                    12,
                    876000,
                    "2017-11-18",
                    "Northern Metropolitan"
                  ],
                  [
                    "Glenroy",
                    "55 Paget Av",
                    3,
                    521,
                    13,
                    582000,
                    "2016-08-22",
                    "Northern Metropolitan"
                  ],
                  [
                    "Yallambie",
                    "340 Yallambie Rd",
                    3,
                    586,
                    15,
                    602500,
                    "2016-08-13",
                    "Northern Metropolitan"
                  ],
                  [
                    "MacLeod",
                    "43 Wungan St",
                    3,
                    521,
                    12.7,
                    710000,
                    "2017-07-22",
                    "Northern Metropolitan"
                  ],
                  [
                    "Thornbury",
                    "188A Dundas St",
                    3,
                    521,
                    7,
                    915000,
                    "2017-11-25",
                    "Northern Metropolitan"
                  ],
                  [
                    "Hadfield",
                    "27 West St",
                    3,
                    543,
                    11.2,
                    772500,
                    "2018-01-06",
                    "Northern Metropolitan"
                  ],
                  [
                    "Thornbury",
                    "20 Mansfield St",
                    3,
                    351,
                    6.5,
                    870000,
                    "2016-07-30",
                    "Northern Metropolitan"
                  ],
                  [
                    "North Melbourne",
                    "11 Bakery La",
                    3,
                    84,
                    2.3,
                    870000,
                    "2017-05-20",
                    "Northern Metropolitan"
                  ],
                  [
                    "Fawkner",
                    "100 Anderson Rd",
                    3,
                    587,
                    13.1,
                    670000,
                    "2018-03-17",
                    "Northern Metropolitan"
                  ],
                  [
                    "Brunswick West",
                    "25 McGregor Av",
                    3,
                    501,
                    5.2,
                    870000,
                    "2018-02-10",
                    "Northern Metropolitan"
                  ],
                  [
                    "Craigieburn",
                    "22 Moresby Ct",
                    3,
                    514,
                    20.6,
                    870000,
                    "2017-07-22",
                    "Northern Metropolitan"
                  ],
                  [
                    "Fawkner",
                    "2/11 Dowling St",
                    3,
                    195,
                    12.4,
                    422500,
                    "2016-07-30",
                    "Northern Metropolitan"
                  ],
                  [
                    "Preston",
                    "35a Austral Av",
                    3,
                    521,
                    8.8,
                    962000,
                    "2016-09-10",
                    "Northern Metropolitan"
                  ],
                  [
                    "Doncaster",
                    "13 Carnarvon St",
                    3,
                    0,
                    12.4,
                    840000,
                    "2017-07-01",
                    "Eastern Metropolitan"
                  ],
                  [
                    "Vermont South",
                    "28 Tullimbar Cct",
                    3,
                    655,
                    17.2,
                    870000,
                    "2018-02-24",
                    "Eastern Metropolitan"
                  ],
                  [
                    "Brunswick East",
                    "33 Roberts St",
                    3,
                    100,
                    4,
                    870000,
                    "2018-03-10",
                    "Northern Metropolitan"
                  ],
                  [
                    "Glenroy",
                    "89 John St",
                    3,
                    696,
                    13,
                    610000,
                    "2016-09-03",
                    "Northern Metropolitan"
                  ],
                  [
                    "Ringwood North",
                    "8 Montalbo Rd",
                    3,
                    521,
                    19.9,
                    845000,
                    "2017-11-18",
                    "Eastern Metropolitan"
                  ],
                  [
                    "Fawkner",
                    "77 Argyle St",
                    3,
                    641,
                    13.1,
                    870000,
                    "2017-12-09",
                    "Northern Metropolitan"
                  ],
                  [
                    "Jacana",
                    "29 Robinson St",
                    3,
                    604,
                    14,
                    870000,
                    "2017-07-22",
                    "Northern Metropolitan"
                  ],
                  [
                    "Brunswick West",
                    "549 Albion St",
                    3,
                    532,
                    5.2,
                    950000,
                    "2018-03-03",
                    "Northern Metropolitan"
                  ],
                  [
                    "Lalor",
                    "28 Duncan Rd",
                    3,
                    548,
                    16.3,
                    685000,
                    "2017-09-09",
                    "Northern Metropolitan"
                  ],
                  [
                    "Lalor",
                    "87 Kingsway Dr",
                    3,
                    391,
                    16.3,
                    540000,
                    "2018-02-17",
                    "Northern Metropolitan"
                  ],
                  [
                    "Wantirna",
                    "2/3 Cassia Ct",
                    3,
                    521,
                    14.7,
                    870000,
                    "2017-10-14",
                    "Eastern Metropolitan"
                  ],
                  [
                    "Greensborough",
                    "9 Tangari Ct",
                    3,
                    873,
                    16.1,
                    842000,
                    "2017-08-26",
                    "Northern Metropolitan"
                  ],
                  [
                    "Mill Park",
                    "140 Roycroft Av",
                    3,
                    628,
                    17.9,
                    598000,
                    "2017-12-09",
                    "Northern Metropolitan"
                  ],
                  [
                    "Reservoir",
                    "72 Oconnor St",
                    3,
                    677,
                    11.2,
                    762500,
                    "2016-11-27",
                    "Northern Metropolitan"
                  ],
                  [
                    "Heidelberg West",
                    "21 Pacific Dr",
                    3,
                    594,
                    9.4,
                    710000,
                    "2016-12-10",
                    "Eastern Metropolitan"
                  ],
                  [
                    "Coburg",
                    "11 Ryan St",
                    3,
                    521,
                    6.7,
                    870000,
                    "2017-11-25",
                    "Northern Metropolitan"
                  ],
                  [
                    "Mitcham",
                    "8/12 Irvine St",
                    3,
                    343,
                    17.2,
                    800000,
                    "2017-06-17",
                    "Eastern Metropolitan"
                  ],
                  [
                    "Glenroy",
                    "1/83 Daley St",
                    3,
                    521,
                    11.2,
                    591000,
                    "2017-12-09",
                    "Northern Metropolitan"
                  ],
                  [
                    "Coburg",
                    "17 Ryan St",
                    3,
                    486,
                    7.8,
                    870000,
                    "2016-07-30",
                    "Northern Metropolitan"
                  ],
                  [
                    "Wantirna",
                    "12/765 Boronia Rd",
                    3,
                    228,
                    14.7,
                    870000,
                    "2017-06-03",
                    "Eastern Metropolitan"
                  ],
                  [
                    "Coburg",
                    "15 Bishop St",
                    3,
                    480,
                    7.8,
                    940500,
                    "2017-05-13",
                    "Northern Metropolitan"
                  ],
                  [
                    "Heidelberg Heights",
                    "4/28 Myrtle St",
                    3,
                    521,
                    10.5,
                    620000,
                    "2016-04-23",
                    "Eastern Metropolitan"
                  ],
                  [
                    "Rosanna",
                    "2/23 Ruthven St",
                    3,
                    521,
                    8.9,
                    745000,
                    "2017-10-21",
                    "Eastern Metropolitan"
                  ],
                  [
                    "Watsonia North",
                    "151 Cameron Pde",
                    3,
                    521,
                    14.5,
                    870000,
                    "2018-01-06",
                    "Northern Metropolitan"
                  ],
                  [
                    "Bundoora",
                    "28 Greenwood Dr",
                    3,
                    669,
                    12.1,
                    805000,
                    "2017-07-01",
                    "Northern Metropolitan"
                  ],
                  [
                    "Croydon",
                    "11 Aminga Ct",
                    3,
                    850,
                    23,
                    840500,
                    "2017-09-23",
                    "Eastern Metropolitan"
                  ],
                  [
                    "Reservoir",
                    "107 Hickford St",
                    3,
                    869,
                    11.2,
                    870000,
                    "2016-09-24",
                    "Northern Metropolitan"
                  ],
                  [
                    "Brunswick East",
                    "9 Sedgman St",
                    3,
                    152,
                    4.5,
                    870000,
                    "2016-05-07",
                    "Northern Metropolitan"
                  ],
                  [
                    "Berwick",
                    "5 Gretel Pl",
                    3,
                    703,
                    25.4,
                    690000,
                    "2017-06-24",
                    "Eastern Victoria"
                  ],
                  [
                    "Frankston North",
                    "17 Windoo St",
                    3,
                    691,
                    25.4,
                    611000,
                    "2017-07-01",
                    "Eastern Victoria"
                  ],
                  [
                    "Mitcham",
                    "10 Alexander St",
                    3,
                    667,
                    17.2,
                    1070000,
                    "2017-11-25",
                    "Eastern Metropolitan"
                  ],
                  [
                    "Glenroy",
                    "2/12 Rowan St",
                    3,
                    521,
                    11.2,
                    655000,
                    "2017-10-28",
                    "Northern Metropolitan"
                  ],
                  [
                    "Mernda",
                    "20 Hillgrove Wy",
                    3,
                    521,
                    25.4,
                    440000,
                    "2017-06-24",
                    "Northern Metropolitan"
                  ],
                  [
                    "Coburg",
                    "1B Crozier St",
                    3,
                    190,
                    6.7,
                    890000,
                    "2017-07-22",
                    "Northern Metropolitan"
                  ],
                  [
                    "Brunswick",
                    "2C Donald St",
                    3,
                    521,
                    5.2,
                    870000,
                    "2017-09-09",
                    "Northern Metropolitan"
                  ],
                  [
                    "Frankston North",
                    "9 Candlebark Cr",
                    3,
                    521,
                    25.4,
                    870000,
                    "2017-10-14",
                    "Eastern Victoria"
                  ],
                  [
                    "Reservoir",
                    "1/54 Cheddar Rd",
                    3,
                    521,
                    12,
                    600000,
                    "2017-10-28",
                    "Northern Metropolitan"
                  ],
                  [
                    "Mernda",
                    "17 Annandale Dr",
                    3,
                    521,
                    25.4,
                    470000,
                    "2017-09-23",
                    "Northern Metropolitan"
                  ],
                  [
                    "Bayswater North",
                    "20 Blandford Cr",
                    3,
                    787,
                    23.2,
                    650000,
                    "2017-07-15",
                    "Eastern Metropolitan"
                  ],
                  [
                    "Heidelberg Heights",
                    "79 Bamfield Rd",
                    3,
                    592,
                    8.8,
                    885000,
                    "2017-06-03",
                    "Eastern Metropolitan"
                  ],
                  [
                    "Reservoir",
                    "57 Newton St",
                    3,
                    569,
                    11.2,
                    866000,
                    "2016-09-24",
                    "Northern Metropolitan"
                  ],
                  [
                    "Brunswick",
                    "1 Davison St",
                    3,
                    370,
                    5.2,
                    1000000,
                    "2016-09-24",
                    "Northern Metropolitan"
                  ],
                  [
                    "Fawkner",
                    "149 Anderson Rd",
                    3,
                    427,
                    13.1,
                    725000,
                    "2018-02-17",
                    "Northern Metropolitan"
                  ],
                  [
                    "Croydon",
                    "3 Silvergrass Ct",
                    3,
                    319,
                    23,
                    630000,
                    "2017-06-17",
                    "Eastern Metropolitan"
                  ],
                  [
                    "Reservoir",
                    "20 Kennedy St",
                    3,
                    521,
                    12,
                    889000,
                    "2017-09-09",
                    "Northern Metropolitan"
                  ],
                  [
                    "Ringwood",
                    "3/330 Canterbury Rd",
                    3,
                    521,
                    19.9,
                    760000,
                    "2018-03-17",
                    "Eastern Metropolitan"
                  ],
                  [
                    "Campbellfield",
                    "62 Sycamore Cr",
                    3,
                    521,
                    14.5,
                    435000,
                    "2016-11-19",
                    "Northern Metropolitan"
                  ],
                  [
                    "Craigieburn",
                    "8 Mosman Wy",
                    3,
                    400,
                    20.6,
                    535000,
                    "2018-02-17",
                    "Northern Metropolitan"
                  ],
                  [
                    "Reservoir",
                    "28 Crookston Rd",
                    3,
                    521,
                    12,
                    645000,
                    "2017-11-18",
                    "Northern Metropolitan"
                  ],
                  [
                    "Craigieburn",
                    "22 Rockwall Dr",
                    3,
                    294,
                    20.6,
                    473000,
                    "2017-10-14",
                    "Northern Metropolitan"
                  ],
                  [
                    "Clifton Hill",
                    "126 Hodgkinson St",
                    3,
                    346,
                    3.6,
                    870000,
                    "2017-06-24",
                    "Northern Metropolitan"
                  ],
                  [
                    "Lalor",
                    "13 Curtin Av",
                    3,
                    722,
                    16.3,
                    779000,
                    "2017-10-07",
                    "Northern Metropolitan"
                  ],
                  [
                    "Melbourne",
                    "901/469 St Kilda Rd",
                    3,
                    521,
                    2.8,
                    870000,
                    "2016-07-30",
                    "Northern Metropolitan"
                  ],
                  [
                    "Preston",
                    "15 Leicester St",
                    3,
                    582,
                    8.4,
                    870000,
                    "2018-02-24",
                    "Northern Metropolitan"
                  ],
                  [
                    "Preston",
                    "3 Avondale Rd",
                    3,
                    479,
                    8.8,
                    980000,
                    "2016-09-17",
                    "Northern Metropolitan"
                  ],
                  [
                    "Brunswick West",
                    "191 Hope St",
                    3,
                    591,
                    5.9,
                    870000,
                    "2017-04-08",
                    "Northern Metropolitan"
                  ],
                  [
                    "Richmond",
                    "18 Buckingham St",
                    3,
                    58,
                    2.6,
                    900000,
                    "2016-09-17",
                    "Northern Metropolitan"
                  ],
                  [
                    "Fawkner",
                    "1/26 Disney St",
                    3,
                    195,
                    12.4,
                    870000,
                    "2016-09-17",
                    "Northern Metropolitan"
                  ],
                  [
                    "Mooroolbark",
                    "130 Manchester Rd",
                    3,
                    521,
                    25.4,
                    645000,
                    "2017-11-18",
                    "Eastern Victoria"
                  ],
                  [
                    "Forest Hill",
                    "9 Leddy St",
                    3,
                    540,
                    15.4,
                    870000,
                    "2017-09-03",
                    "Eastern Metropolitan"
                  ],
                  [
                    "Bulleen",
                    "7 Mangan St",
                    3,
                    353,
                    11.8,
                    794000,
                    "2017-05-20",
                    "Eastern Metropolitan"
                  ],
                  [
                    "Reservoir",
                    "47 Henty St",
                    3,
                    552,
                    12,
                    795000,
                    "2018-03-03",
                    "Northern Metropolitan"
                  ],
                  [
                    "Craigieburn",
                    "30 Beckett Wy",
                    3,
                    521,
                    20.6,
                    421000,
                    "2017-06-24",
                    "Northern Metropolitan"
                  ],
                  [
                    "Box Hill",
                    "1 Maple St",
                    3,
                    228,
                    13.1,
                    836000,
                    "2016-11-19",
                    "Eastern Metropolitan"
                  ],
                  [
                    "Preston",
                    "10 Tyler St",
                    3,
                    164,
                    8.8,
                    550000,
                    "2016-10-08",
                    "Northern Metropolitan"
                  ],
                  [
                    "Pascoe Vale",
                    "9 Kevin St",
                    3,
                    438,
                    9.9,
                    815000,
                    "2016-10-08",
                    "Northern Metropolitan"
                  ],
                  [
                    "Hadfield",
                    "6 Mikado St",
                    3,
                    696,
                    12.1,
                    870000,
                    "2016-06-27",
                    "Northern Metropolitan"
                  ],
                  [
                    "Glenroy",
                    "83 View St",
                    3,
                    664,
                    11.2,
                    725000,
                    "2017-11-25",
                    "Northern Metropolitan"
                  ],
                  [
                    "Glenroy",
                    "83 Beatty Av",
                    3,
                    521,
                    13,
                    645000,
                    "2017-02-25",
                    "Northern Metropolitan"
                  ],
                  [
                    "Glenroy",
                    "1 Granville St",
                    3,
                    639,
                    11.2,
                    932000,
                    "2017-09-09",
                    "Northern Metropolitan"
                  ],
                  [
                    "Thornbury",
                    "108 Wales St",
                    3,
                    176,
                    6.5,
                    870000,
                    "2017-02-25",
                    "Northern Metropolitan"
                  ],
                  [
                    "Wantirna South",
                    "13 Mockridge St",
                    3,
                    630,
                    14.7,
                    940000,
                    "2017-11-11",
                    "Eastern Metropolitan"
                  ],
                  [
                    "Greensborough",
                    "5 Cam St",
                    3,
                    610,
                    16.1,
                    817000,
                    "2017-06-03",
                    "Northern Metropolitan"
                  ],
                  [
                    "Kilsyth",
                    "22 Colchester Rd",
                    3,
                    623,
                    25.4,
                    650000,
                    "2018-01-20",
                    "Eastern Metropolitan"
                  ],
                  [
                    "Collingwood",
                    "21 Vere St",
                    3,
                    133,
                    2,
                    870000,
                    "2017-10-07",
                    "Northern Metropolitan"
                  ],
                  [
                    "Meadow Heights",
                    "111 Malmsbury Dr",
                    3,
                    667,
                    17.4,
                    870000,
                    "2017-11-25",
                    "Northern Metropolitan"
                  ],
                  [
                    "Reservoir",
                    "20 Locher Av",
                    3,
                    521,
                    12,
                    790000,
                    "2017-06-24",
                    "Northern Metropolitan"
                  ],
                  [
                    "Croydon",
                    "4/7 Newman Rd",
                    3,
                    521,
                    23,
                    630000,
                    "2017-08-26",
                    "Eastern Metropolitan"
                  ],
                  [
                    "Preston",
                    "42 Kathleen St",
                    3,
                    520,
                    8.8,
                    810000,
                    "2016-06-27",
                    "Northern Metropolitan"
                  ],
                  [
                    "Glenroy",
                    "1/75 Morley St",
                    3,
                    521,
                    11.2,
                    870000,
                    "2018-02-17",
                    "Northern Metropolitan"
                  ],
                  [
                    "Mont Albert",
                    "12 Carrick St",
                    3,
                    604,
                    10.2,
                    870000,
                    "2018-03-17",
                    "Eastern Metropolitan"
                  ],
                  [
                    "Eltham",
                    "132 Franklin St",
                    3,
                    817,
                    18,
                    830000,
                    "2017-08-12",
                    "Eastern Metropolitan"
                  ],
                  [
                    "Preston",
                    "428 Plenty Rd",
                    3,
                    581,
                    8.4,
                    996000,
                    "2017-05-27",
                    "Northern Metropolitan"
                  ],
                  [
                    "Montmorency",
                    "1/30 Baldwin Av",
                    3,
                    521,
                    16.2,
                    745000,
                    "2018-02-17",
                    "Eastern Metropolitan"
                  ],
                  [
                    "Preston",
                    "65 Albert St",
                    3,
                    493,
                    8.8,
                    615000,
                    "2016-10-08",
                    "Northern Metropolitan"
                  ],
                  [
                    "Glenroy",
                    "64 Valley Cr",
                    3,
                    521,
                    13,
                    570000,
                    "2016-04-16",
                    "Northern Metropolitan"
                  ],
                  [
                    "Greensborough",
                    "2 Warralong Av",
                    3,
                    610,
                    16.1,
                    775000,
                    "2018-02-24",
                    "Northern Metropolitan"
                  ],
                  [
                    "Mill Park",
                    "79 Freeman Cr",
                    3,
                    531,
                    17.9,
                    705000,
                    "2017-07-08",
                    "Northern Metropolitan"
                  ],
                  [
                    "Blackburn",
                    "41 Blackburn Rd",
                    3,
                    607,
                    13.4,
                    870000,
                    "2017-09-09",
                    "Eastern Metropolitan"
                  ],
                  [
                    "Rosanna",
                    "1/66 Grandview Gr",
                    3,
                    521,
                    8.9,
                    870000,
                    "2018-01-06",
                    "Eastern Metropolitan"
                  ],
                  [
                    "Carlton",
                    "46/121 Rathdowne St",
                    3,
                    959.5,
                    1.8,
                    735000,
                    "2016-12-03",
                    "Northern Metropolitan"
                  ],
                  [
                    "croydon",
                    "81 hull Rd",
                    3,
                    521,
                    23,
                    730000,
                    "2017-08-26",
                    "Eastern Metropolitan"
                  ],
                  [
                    "Yallambie",
                    "9 Marigolds Rd",
                    3,
                    420,
                    12.7,
                    781000,
                    "2017-11-11",
                    "Northern Metropolitan"
                  ],
                  [
                    "Preston",
                    "33 Austral Av",
                    3,
                    521,
                    8.8,
                    860000,
                    "2017-03-11",
                    "Northern Metropolitan"
                  ],
                  [
                    "Reservoir",
                    "16 Jess St",
                    3,
                    521,
                    12,
                    921000,
                    "2017-10-14",
                    "Northern Metropolitan"
                  ],
                  [
                    "Greenvale",
                    "28 Frontier Av",
                    3,
                    313,
                    20.4,
                    588000,
                    "2018-03-17",
                    "Northern Metropolitan"
                  ],
                  [
                    "Fitzroy North",
                    "200 Miller St",
                    3,
                    285,
                    3.5,
                    870000,
                    "2016-10-15",
                    "Northern Metropolitan"
                  ],
                  [
                    "Reservoir",
                    "1 Cameron St",
                    3,
                    488,
                    12,
                    861000,
                    "2017-09-03",
                    "Northern Metropolitan"
                  ],
                  [
                    "Bayswater",
                    "1/8 Tracey St",
                    3,
                    521,
                    23.2,
                    610000,
                    "2017-05-27",
                    "Eastern Metropolitan"
                  ],
                  [
                    "Coburg North",
                    "48 Golf Rd",
                    3,
                    521,
                    6.7,
                    950000,
                    "2017-10-21",
                    "Northern Metropolitan"
                  ],
                  [
                    "Epping",
                    "635 Dalton Rd",
                    3,
                    583,
                    19.6,
                    570000,
                    "2017-10-07",
                    "Northern Metropolitan"
                  ],
                  [
                    "Broadmeadows",
                    "12 Osway St",
                    3,
                    647,
                    14,
                    653000,
                    "2018-03-03",
                    "Northern Metropolitan"
                  ],
                  [
                    "Reservoir",
                    "25/15 Seaver Gr",
                    3,
                    521,
                    12,
                    481000,
                    "2017-10-07",
                    "Northern Metropolitan"
                  ],
                  [
                    "Research",
                    "15 Valley Rd",
                    3,
                    521,
                    18,
                    720000,
                    "2017-10-28",
                    "Eastern Metropolitan"
                  ],
                  [
                    "Mernda",
                    "12 Dalwhinnie Cl",
                    3,
                    521,
                    25.4,
                    485000,
                    "2017-11-11",
                    "Northern Metropolitan"
                  ],
                  [
                    "Epping",
                    "53 Hayston Bvd",
                    3,
                    606,
                    19.6,
                    465000,
                    "2017-05-27",
                    "Northern Metropolitan"
                  ],
                  [
                    "Bellfield",
                    "26 Davidson St",
                    3,
                    521,
                    8.8,
                    810000,
                    "2018-01-06",
                    "Eastern Metropolitan"
                  ],
                  [
                    "Hadfield",
                    "5 Regent St",
                    3,
                    650,
                    11.2,
                    870000,
                    "2017-07-22",
                    "Northern Metropolitan"
                  ],
                  [
                    "Croydon",
                    "1/4 Haig St",
                    3,
                    521,
                    23,
                    722000,
                    "2017-10-28",
                    "Eastern Metropolitan"
                  ],
                  [
                    "Montmorency",
                    "4 Station Rd",
                    3,
                    521,
                    16.2,
                    790000,
                    "2017-11-11",
                    "Eastern Metropolitan"
                  ],
                  [
                    "Fawkner",
                    "16b Victory St",
                    3,
                    521,
                    12.4,
                    870000,
                    "2016-08-22",
                    "Northern Metropolitan"
                  ],
                  [
                    "Watsonia",
                    "17 Longmuir Rd",
                    3,
                    0,
                    14.9,
                    785000,
                    "2017-03-04",
                    "Northern Metropolitan"
                  ],
                  [
                    "Reservoir",
                    "10 Dumbarton St",
                    3,
                    826,
                    11.2,
                    851000,
                    "2016-11-27",
                    "Northern Metropolitan"
                  ],
                  [
                    "Viewbank",
                    "1/9 Willa Av",
                    3,
                    521,
                    8.9,
                    870000,
                    "2017-07-01",
                    "Eastern Metropolitan"
                  ],
                  [
                    "Bundoora",
                    "228 Greenhills Rd",
                    3,
                    539,
                    12.1,
                    660000,
                    "2018-03-17",
                    "Northern Metropolitan"
                  ],
                  [
                    "Greensborough",
                    "25 Booyan Cr",
                    3,
                    359,
                    16.1,
                    750000,
                    "2017-11-18",
                    "Northern Metropolitan"
                  ],
                  [
                    "Northcote",
                    "10 Oldis Av",
                    3,
                    618,
                    5.3,
                    870000,
                    "2018-03-17",
                    "Northern Metropolitan"
                  ],
                  [
                    "Reservoir",
                    "1 Balfour St",
                    3,
                    0,
                    12,
                    630000,
                    "2017-06-24",
                    "Northern Metropolitan"
                  ],
                  [
                    "Blackburn North",
                    "7 Kent Cl",
                    3,
                    568,
                    13.4,
                    1030000,
                    "2017-12-09",
                    "Eastern Metropolitan"
                  ],
                  [
                    "Reservoir",
                    "1/14 Sturdee St",
                    3,
                    521,
                    12,
                    678913,
                    "2017-12-09",
                    "Northern Metropolitan"
                  ],
                  [
                    "Richmond",
                    "48 Bennett St",
                    3,
                    165,
                    2.4,
                    870000,
                    "2018-03-17",
                    "Northern Metropolitan"
                  ],
                  [
                    "Box Hill",
                    "2/38 Margaret St",
                    3,
                    238,
                    13.1,
                    822500,
                    "2016-05-28",
                    "Eastern Metropolitan"
                  ],
                  [
                    "MacLeod",
                    "2/26 Strathallan Rd",
                    3,
                    521,
                    12.7,
                    800000,
                    "2018-02-10",
                    "Northern Metropolitan"
                  ],
                  [
                    "Meadow Heights",
                    "10 Castella Ct",
                    3,
                    702,
                    17.4,
                    450000,
                    "2017-07-08",
                    "Northern Metropolitan"
                  ],
                  [
                    "Ivanhoe",
                    "6 Edwin St",
                    3,
                    360,
                    7.8,
                    950000,
                    "2017-08-12",
                    "Eastern Metropolitan"
                  ],
                  [
                    "Pascoe Vale",
                    "344 Gaffney St",
                    3,
                    470,
                    9.9,
                    810000,
                    "2017-02-11",
                    "Northern Metropolitan"
                  ],
                  [
                    "Bellfield",
                    "1/10 Poplar Cr",
                    3,
                    521,
                    9.5,
                    870000,
                    "2016-06-04",
                    "Eastern Metropolitan"
                  ],
                  [
                    "Pascoe Vale",
                    "6/55 Pleasant St",
                    3,
                    521,
                    8.5,
                    706000,
                    "2017-07-08",
                    "Northern Metropolitan"
                  ],
                  [
                    "Oak Park",
                    "96 Winifred St",
                    3,
                    790,
                    11.5,
                    815500,
                    "2016-07-16",
                    "Northern Metropolitan"
                  ],
                  [
                    "South Morang",
                    "1 Vincent Dr",
                    3,
                    521,
                    20.5,
                    870000,
                    "2017-08-26",
                    "Northern Metropolitan"
                  ],
                  [
                    "Heidelberg Heights",
                    "2/76 Porter Rd",
                    3,
                    192,
                    10.5,
                    575000,
                    "2017-04-08",
                    "Eastern Metropolitan"
                  ],
                  [
                    "Langwarrin",
                    "41 Alder St",
                    3,
                    648,
                    25.4,
                    870000,
                    "2017-09-23",
                    "Eastern Victoria"
                  ],
                  [
                    "Fawkner",
                    "10 Patricia Dr",
                    3,
                    540,
                    12.4,
                    617000,
                    "2016-04-23",
                    "Northern Metropolitan"
                  ],
                  [
                    "Heidelberg Heights",
                    "1/8 Mary Av",
                    3,
                    521,
                    10.5,
                    870000,
                    "2016-05-07",
                    "Eastern Metropolitan"
                  ],
                  [
                    "Templestowe Lower",
                    "13 Tasker St",
                    3,
                    751,
                    13.8,
                    1010000,
                    "2016-04-16",
                    "Eastern Metropolitan"
                  ],
                  [
                    "Bulleen",
                    "73 Latrobe St",
                    3,
                    521,
                    10.8,
                    870000,
                    "2017-10-07",
                    "Eastern Metropolitan"
                  ],
                  [
                    "Reservoir",
                    "24 MacLagan Cr",
                    3,
                    521,
                    11.2,
                    870000,
                    "2016-06-12",
                    "Northern Metropolitan"
                  ],
                  [
                    "Coburg",
                    "45 Portland St",
                    3,
                    370,
                    7.8,
                    1000000,
                    "2017-03-04",
                    "Northern Metropolitan"
                  ],
                  [
                    "Preston",
                    "11 Murphy St",
                    3,
                    620,
                    8.8,
                    801000,
                    "2017-04-22",
                    "Northern Metropolitan"
                  ],
                  [
                    "Meadow Heights",
                    "2/11 Elgata Cl",
                    3,
                    521,
                    17.4,
                    420000,
                    "2017-11-11",
                    "Northern Metropolitan"
                  ],
                  [
                    "Coburg",
                    "12 Geake St",
                    3,
                    559,
                    7.8,
                    830000,
                    "2016-07-30",
                    "Northern Metropolitan"
                  ],
                  [
                    "Richmond",
                    "35/69 River St",
                    3,
                    521,
                    2.4,
                    850000,
                    "2018-03-03",
                    "Northern Metropolitan"
                  ],
                  [
                    "Mill Park",
                    "38 Wenden Rd",
                    3,
                    528,
                    17.9,
                    635000,
                    "2017-07-29",
                    "Northern Metropolitan"
                  ],
                  [
                    "Kilsyth",
                    "30 Cherylnne Cr",
                    3,
                    894,
                    25.4,
                    870000,
                    "2017-12-09",
                    "Eastern Metropolitan"
                  ],
                  [
                    "Reservoir",
                    "6 MacKenzie St",
                    3,
                    807,
                    11.2,
                    718500,
                    "2016-05-28",
                    "Northern Metropolitan"
                  ],
                  [
                    "Mount Waverley",
                    "126 Huntingdale Rd",
                    3,
                    727,
                    14.2,
                    870000,
                    "2017-10-07",
                    "Eastern Metropolitan"
                  ],
                  [
                    "Nunawading",
                    "9 Nott St",
                    3,
                    226,
                    15.4,
                    900000,
                    "2018-02-24",
                    "Eastern Metropolitan"
                  ],
                  [
                    "Montmorency",
                    "3/96 Para Rd",
                    3,
                    521,
                    16.2,
                    627500,
                    "2017-10-28",
                    "Eastern Metropolitan"
                  ],
                  [
                    "Ringwood",
                    "6 Garden St",
                    3,
                    521,
                    19.9,
                    870000,
                    "2017-11-25",
                    "Eastern Metropolitan"
                  ],
                  [
                    "Bulleen",
                    "13 Montgomery Pl",
                    3,
                    585,
                    11.8,
                    990000,
                    "2016-08-06",
                    "Eastern Metropolitan"
                  ],
                  [
                    "Lalor",
                    "1 Willard Ct",
                    3,
                    555,
                    16.3,
                    685500,
                    "2017-10-14",
                    "Northern Metropolitan"
                  ],
                  [
                    "Reservoir",
                    "6 Mattea Ct",
                    3,
                    855,
                    11.2,
                    672000,
                    "2016-06-27",
                    "Northern Metropolitan"
                  ],
                  [
                    "Fairfield",
                    "139 Christmas St",
                    3,
                    170,
                    5.8,
                    750000,
                    "2016-06-18",
                    "Northern Metropolitan"
                  ],
                  [
                    "Pascoe Vale",
                    "10B Olive Gr",
                    3,
                    259,
                    8.5,
                    743000,
                    "2017-11-25",
                    "Northern Metropolitan"
                  ],
                  [
                    "Viewbank",
                    "174 Graham Rd",
                    3,
                    653,
                    13.8,
                    870000,
                    "2017-04-29",
                    "Eastern Metropolitan"
                  ],
                  [
                    "Mill Park",
                    "411 Childs Rd",
                    3,
                    620,
                    17.9,
                    668000,
                    "2017-10-07",
                    "Northern Metropolitan"
                  ],
                  [
                    "Greensborough",
                    "86 Warralong Av",
                    3,
                    577,
                    16.1,
                    710000,
                    "2017-10-28",
                    "Northern Metropolitan"
                  ],
                  [
                    "Brunswick West",
                    "29 Wales St",
                    3,
                    506,
                    5.2,
                    1085000,
                    "2017-11-11",
                    "Northern Metropolitan"
                  ],
                  [
                    "Watsonia",
                    "1/42 Wattle Dr",
                    3,
                    302,
                    14.9,
                    582000,
                    "2016-10-08",
                    "Northern Metropolitan"
                  ],
                  [
                    "Brunswick West",
                    "64 Pearson St",
                    3,
                    220,
                    5.9,
                    955000,
                    "2016-05-07",
                    "Northern Metropolitan"
                  ],
                  [
                    "Glenroy",
                    "1/25 Morell St",
                    3,
                    0,
                    13,
                    420000,
                    "2016-10-15",
                    "Northern Metropolitan"
                  ],
                  [
                    "Forest Hill",
                    "14 Jolimont Rd",
                    3,
                    521,
                    15.4,
                    1100000,
                    "2017-09-23",
                    "Eastern Metropolitan"
                  ],
                  [
                    "Pascoe Vale",
                    "4/143 Sussex St",
                    3,
                    197,
                    9.9,
                    533000,
                    "2016-08-22",
                    "Northern Metropolitan"
                  ],
                  [
                    "Blackburn South",
                    "267 Blackburn Rd",
                    3,
                    542,
                    13.4,
                    870000,
                    "2018-03-03",
                    "Eastern Metropolitan"
                  ],
                  [
                    "Brunswick",
                    "301/1 Dods St",
                    3,
                    521,
                    5.2,
                    898500,
                    "2018-03-17",
                    "Northern Metropolitan"
                  ],
                  [
                    "Coburg",
                    "6 The Avenue",
                    3,
                    521,
                    6.7,
                    861500,
                    "2017-10-14",
                    "Northern Metropolitan"
                  ],
                  [
                    "Thomastown",
                    "1/36 Richardson St",
                    3,
                    521,
                    15.3,
                    480000,
                    "2017-11-25",
                    "Northern Metropolitan"
                  ],
                  [
                    "Brunswick",
                    "152 Edward St",
                    3,
                    338,
                    5.2,
                    870000,
                    "2016-11-27",
                    "Northern Metropolitan"
                  ],
                  [
                    "Preston",
                    "31 Benambra St",
                    3,
                    319,
                    8.8,
                    800000,
                    "2017-05-13",
                    "Northern Metropolitan"
                  ],
                  [
                    "Watsonia",
                    "29 Kenmare St",
                    3,
                    521,
                    14.5,
                    920000,
                    "2017-10-07",
                    "Northern Metropolitan"
                  ],
                  [
                    "Forest Hill",
                    "38A Morloc St",
                    3,
                    519,
                    15.4,
                    965000,
                    "2017-10-21",
                    "Eastern Metropolitan"
                  ],
                  [
                    "Templestowe Lower",
                    "36 Howitt Dr",
                    3,
                    664,
                    13.8,
                    1065000,
                    "2016-12-10",
                    "Eastern Metropolitan"
                  ],
                  [
                    "Briar Hill",
                    "2/15 Greenwood St",
                    3,
                    521,
                    16.1,
                    870000,
                    "2017-09-09",
                    "Eastern Metropolitan"
                  ],
                  [
                    "Coburg",
                    "70 Devon Av",
                    3,
                    497,
                    6.7,
                    870000,
                    "2018-01-06",
                    "Northern Metropolitan"
                  ],
                  [
                    "Northcote",
                    "14 Separation St",
                    3,
                    150,
                    5.3,
                    989000,
                    "2017-11-25",
                    "Northern Metropolitan"
                  ],
                  [
                    "Blackburn",
                    "4 Patricia Rd",
                    3,
                    667,
                    13.4,
                    870000,
                    "2017-07-08",
                    "Eastern Metropolitan"
                  ],
                  [
                    "Northcote",
                    "12 Osborne St",
                    3,
                    521,
                    5.3,
                    870000,
                    "2017-11-11",
                    "Northern Metropolitan"
                  ],
                  [
                    "Glen Waverley",
                    "2/11 Kinnoull Gr",
                    3,
                    248,
                    16.7,
                    870000,
                    "2017-07-22",
                    "Eastern Metropolitan"
                  ],
                  [
                    "Preston",
                    "19 Latona Av",
                    3,
                    521,
                    8.4,
                    1100000,
                    "2018-02-17",
                    "Northern Metropolitan"
                  ],
                  [
                    "Croydon",
                    "2/19 James Rd",
                    3,
                    521,
                    23,
                    645000,
                    "2018-02-17",
                    "Eastern Metropolitan"
                  ],
                  [
                    "Frankston North",
                    "128 Tamarisk Dr",
                    3,
                    521,
                    25.4,
                    467000,
                    "2017-10-21",
                    "Eastern Victoria"
                  ],
                  [
                    "Richmond",
                    "18a Goodwood St",
                    3,
                    213,
                    2.6,
                    870000,
                    "2016-08-28",
                    "Northern Metropolitan"
                  ],
                  [
                    "Jacana",
                    "39 Emu Pde",
                    3,
                    610,
                    14.5,
                    551000,
                    "2017-03-04",
                    "Northern Metropolitan"
                  ],
                  [
                    "Bayswater",
                    "14 Fallons Wy",
                    3,
                    959.5,
                    23.2,
                    910000,
                    "2018-01-06",
                    "Eastern Metropolitan"
                  ],
                  [
                    "Thomastown",
                    "160 Dalton Rd",
                    3,
                    551,
                    15.3,
                    550000,
                    "2017-05-27",
                    "Northern Metropolitan"
                  ],
                  [
                    "Epping",
                    "6 Shields St",
                    3,
                    400,
                    19.6,
                    545000,
                    "2017-07-22",
                    "Northern Metropolitan"
                  ],
                  [
                    "Glenroy",
                    "40 Moonee Bvd",
                    3,
                    586,
                    13,
                    870000,
                    "2016-06-18",
                    "Northern Metropolitan"
                  ],
                  [
                    "Heathmont",
                    "13 Stoda St",
                    3,
                    800,
                    21.3,
                    870000,
                    "2017-09-16",
                    "Eastern Metropolitan"
                  ],
                  [
                    "Glenroy",
                    "1/23 Gordon Ct",
                    3,
                    521,
                    13,
                    500000,
                    "2016-05-07",
                    "Northern Metropolitan"
                  ],
                  [
                    "Glenroy",
                    "20A Apsley St",
                    3,
                    650,
                    11.2,
                    820000,
                    "2017-07-29",
                    "Northern Metropolitan"
                  ],
                  [
                    "Rosanna",
                    "17 Greville Rd",
                    3,
                    642,
                    8.9,
                    870000,
                    "2017-07-22",
                    "Eastern Metropolitan"
                  ],
                  [
                    "Kensington",
                    "4 Coopers La",
                    3,
                    258,
                    4.2,
                    785000,
                    "2016-09-03",
                    "Northern Metropolitan"
                  ],
                  [
                    "Pascoe Vale",
                    "5/137 Northumberland Rd",
                    3,
                    141,
                    9.9,
                    560000,
                    "2017-05-20",
                    "Northern Metropolitan"
                  ],
                  [
                    "Preston",
                    "2/15 Percival St",
                    3,
                    210,
                    8.8,
                    715000,
                    "2017-04-08",
                    "Northern Metropolitan"
                  ],
                  [
                    "Rosanna",
                    "9 Greensborough Rd",
                    3,
                    606,
                    11.4,
                    515000,
                    "2016-09-24",
                    "Eastern Metropolitan"
                  ],
                  [
                    "Reservoir",
                    "52 Banbury Rd",
                    3,
                    404,
                    12,
                    870000,
                    "2017-07-22",
                    "Northern Metropolitan"
                  ],
                  [
                    "Glenroy",
                    "44 Widford St",
                    3,
                    700,
                    13,
                    688000,
                    "2016-10-15",
                    "Northern Metropolitan"
                  ],
                  [
                    "Pascoe Vale",
                    "12 Northumberland Rd",
                    3,
                    628,
                    9.9,
                    815000,
                    "2016-10-15",
                    "Northern Metropolitan"
                  ],
                  [
                    "Doncaster",
                    "57 Harvest Ct",
                    3,
                    152,
                    12.4,
                    885000,
                    "2018-02-10",
                    "Eastern Metropolitan"
                  ],
                  [
                    "Reservoir",
                    "3 Frier Av",
                    3,
                    521,
                    11.2,
                    870000,
                    "2016-08-28",
                    "Northern Metropolitan"
                  ],
                  [
                    "Brunswick",
                    "28 Osborne St",
                    3,
                    229,
                    5.2,
                    855000,
                    "2016-10-08",
                    "Northern Metropolitan"
                  ],
                  [
                    "Vermont",
                    "25 Caldwell Rd",
                    3,
                    603,
                    17.2,
                    865000,
                    "2017-08-12",
                    "Eastern Metropolitan"
                  ],
                  [
                    "Pascoe Vale",
                    "46 Snell Gr",
                    3,
                    682,
                    8.5,
                    870000,
                    "2017-10-21",
                    "Northern Metropolitan"
                  ],
                  [
                    "Reservoir",
                    "1/23 Lake St",
                    3,
                    521,
                    12,
                    870000,
                    "2017-06-03",
                    "Northern Metropolitan"
                  ],
                  [
                    "Heathmont",
                    "2 Lisgoold St",
                    3,
                    699,
                    21.3,
                    870000,
                    "2017-09-23",
                    "Eastern Metropolitan"
                  ],
                  [
                    "Mill Park",
                    "74 Roycroft Av",
                    3,
                    534,
                    17.9,
                    585000,
                    "2018-02-24",
                    "Northern Metropolitan"
                  ],
                  [
                    "Mount Waverley",
                    "42 Oakern St",
                    3,
                    287,
                    14.2,
                    870000,
                    "2017-12-09",
                    "Eastern Metropolitan"
                  ],
                  [
                    "Reservoir",
                    "2/7 Colthur St",
                    3,
                    521,
                    11.2,
                    475000,
                    "2016-08-22",
                    "Northern Metropolitan"
                  ],
                  [
                    "Coburg North",
                    "3 Aperture St",
                    3,
                    376,
                    9.2,
                    815000,
                    "2016-06-18",
                    "Northern Metropolitan"
                  ],
                  [
                    "Craigieburn",
                    "109 Creekwood Dr",
                    3,
                    207,
                    20.6,
                    385000,
                    "2018-02-10",
                    "Northern Metropolitan"
                  ],
                  [
                    "Reservoir",
                    "96 Whitelaw St",
                    3,
                    700,
                    11.2,
                    650000,
                    "2016-09-10",
                    "Northern Metropolitan"
                  ],
                  [
                    "Reservoir",
                    "1 Grimwade St",
                    3,
                    521,
                    11.2,
                    738000,
                    "2016-09-03",
                    "Northern Metropolitan"
                  ],
                  [
                    "Ivanhoe",
                    "1 Tudor Ct",
                    3,
                    558,
                    7.9,
                    870000,
                    "2017-02-25",
                    "Eastern Metropolitan"
                  ],
                  [
                    "Rosanna",
                    "20 Alfreda Av",
                    3,
                    521,
                    8.9,
                    870000,
                    "2017-06-17",
                    "Eastern Metropolitan"
                  ],
                  [
                    "Eltham",
                    "119 Dalton St",
                    3,
                    795,
                    18,
                    915000,
                    "2017-09-16",
                    "Eastern Metropolitan"
                  ],
                  [
                    "Princes Hill",
                    "103 Paterson St",
                    3,
                    245,
                    3.5,
                    870000,
                    "2018-03-03",
                    "Northern Metropolitan"
                  ],
                  [
                    "Abbotsford",
                    "20/85 Nicholson St",
                    3,
                    521,
                    3,
                    870000,
                    "2017-10-28",
                    "Northern Metropolitan"
                  ],
                  [
                    "Kensington",
                    "1 Watsons Wk",
                    3,
                    521,
                    4.2,
                    798000,
                    "2016-05-07",
                    "Northern Metropolitan"
                  ],
                  [
                    "Greensborough",
                    "3 Booyan Cr",
                    3,
                    521,
                    16.1,
                    759000,
                    "2018-01-06",
                    "Northern Metropolitan"
                  ],
                  [
                    "Preston",
                    "192 Murray Rd",
                    3,
                    396,
                    8.8,
                    821000,
                    "2016-11-27",
                    "Northern Metropolitan"
                  ],
                  [
                    "Dallas",
                    "3 Donald St",
                    3,
                    552,
                    14,
                    515000,
                    "2018-02-10",
                    "Northern Metropolitan"
                  ],
                  [
                    "Mount Waverley",
                    "6/540 High Street Rd",
                    3,
                    521,
                    14.2,
                    610000,
                    "2017-11-25",
                    "Eastern Metropolitan"
                  ],
                  [
                    "Glen Waverley",
                    "1/703 High Street Rd",
                    3,
                    296,
                    16.7,
                    870000,
                    "2017-06-24",
                    "Eastern Metropolitan"
                  ],
                  [
                    "MacLeod",
                    "16 Jacka St",
                    3,
                    521,
                    12.7,
                    1081000,
                    "2017-06-03",
                    "Northern Metropolitan"
                  ],
                  [
                    "Melbourne",
                    "113/55 Queens Rd",
                    3,
                    521,
                    0,
                    750000,
                    "2017-07-29",
                    "Northern Metropolitan"
                  ],
                  [
                    "Hadfield",
                    "72 Sutherland St",
                    3,
                    605,
                    12.1,
                    740000,
                    "2017-05-20",
                    "Northern Metropolitan"
                  ],
                  [
                    "Bellfield",
                    "1 Garrett Cr",
                    3,
                    368,
                    8.8,
                    795000,
                    "2017-10-07",
                    "Eastern Metropolitan"
                  ],
                  [
                    "Reservoir",
                    "2/15 Delaware St",
                    3,
                    185,
                    11.2,
                    450000,
                    "2016-04-23",
                    "Northern Metropolitan"
                  ],
                  [
                    "Coburg",
                    "6 Stawell St",
                    3,
                    386,
                    7.8,
                    935500,
                    "2017-03-04",
                    "Northern Metropolitan"
                  ],
                  [
                    "Oak Park",
                    "1/43 Watt Av",
                    3,
                    521,
                    11.2,
                    870000,
                    "2017-06-03",
                    "Northern Metropolitan"
                  ],
                  [
                    "Dallas",
                    "2 Melton Ct",
                    3,
                    542,
                    14,
                    465000,
                    "2017-10-28",
                    "Northern Metropolitan"
                  ],
                  [
                    "Bundoora",
                    "6 Avon Ct",
                    3,
                    521,
                    12.1,
                    822000,
                    "2017-11-25",
                    "Northern Metropolitan"
                  ],
                  [
                    "Oak Park",
                    "5/4 Ethel St",
                    3,
                    0,
                    11.5,
                    358500,
                    "2016-09-10",
                    "Northern Metropolitan"
                  ],
                  [
                    "Glen Waverley",
                    "8 Crocus Cr",
                    3,
                    672,
                    16.7,
                    870000,
                    "2017-09-09",
                    "Eastern Metropolitan"
                  ],
                  [
                    "Oak Park",
                    "1/22 Lex Gr",
                    3,
                    272,
                    11.5,
                    770000,
                    "2017-02-11",
                    "Northern Metropolitan"
                  ],
                  [
                    "Glenroy",
                    "23 Tarana Av",
                    3,
                    521,
                    13,
                    625000,
                    "2016-05-07",
                    "Northern Metropolitan"
                  ],
                  [
                    "Reservoir",
                    "181 Albert St",
                    3,
                    521,
                    12,
                    829000,
                    "2017-08-26",
                    "Northern Metropolitan"
                  ],
                  [
                    "Preston",
                    "64 James St",
                    3,
                    521,
                    8.8,
                    717000,
                    "2016-06-04",
                    "Northern Metropolitan"
                  ],
                  [
                    "Preston",
                    "27 South St",
                    3,
                    333,
                    8.8,
                    923000,
                    "2016-06-27",
                    "Northern Metropolitan"
                  ],
                  [
                    "Coburg",
                    "12 Hardwick St",
                    3,
                    278,
                    7.8,
                    1010000,
                    "2017-03-04",
                    "Northern Metropolitan"
                  ],
                  [
                    "Doncaster East",
                    "1/13 Baratta St",
                    3,
                    521,
                    14.3,
                    1050000,
                    "2017-09-03",
                    "Eastern Metropolitan"
                  ],
                  [
                    "Reservoir",
                    "2/16 Allenby Av",
                    3,
                    521,
                    11.2,
                    542000,
                    "2016-11-07",
                    "Northern Metropolitan"
                  ],
                  [
                    "Thornbury",
                    "34 Rossmoyne St",
                    3,
                    192,
                    7,
                    920000,
                    "2018-01-06",
                    "Northern Metropolitan"
                  ],
                  [
                    "Bundoora",
                    "9 Wordsworth Ct",
                    3,
                    349,
                    12.1,
                    870000,
                    "2017-09-09",
                    "Northern Metropolitan"
                  ],
                  [
                    "Mooroolbark",
                    "4 Bulga St",
                    3,
                    940,
                    25.4,
                    835000,
                    "2017-09-23",
                    "Eastern Victoria"
                  ],
                  [
                    "Greensborough",
                    "8 Tonyl Ct",
                    3,
                    521,
                    16.1,
                    870000,
                    "2017-08-19",
                    "Northern Metropolitan"
                  ],
                  [
                    "Coburg North",
                    "38 Shore Gr",
                    3,
                    521,
                    6.7,
                    1012000,
                    "2017-10-14",
                    "Northern Metropolitan"
                  ],
                  [
                    "Greensborough",
                    "9A Scotland Av",
                    3,
                    521,
                    16.1,
                    920000,
                    "2018-01-06",
                    "Northern Metropolitan"
                  ],
                  [
                    "MacLeod",
                    "51 Joynt St",
                    3,
                    521,
                    12.7,
                    870000,
                    "2017-08-26",
                    "Northern Metropolitan"
                  ],
                  [
                    "Glenroy",
                    "1/74 Melbourne Av",
                    3,
                    521,
                    11.2,
                    600000,
                    "2017-07-01",
                    "Northern Metropolitan"
                  ],
                  [
                    "Reservoir",
                    "26 Churchill Av",
                    3,
                    521,
                    11.2,
                    450000,
                    "2016-06-27",
                    "Northern Metropolitan"
                  ],
                  [
                    "Heidelberg Heights",
                    "13 Glover St",
                    3,
                    420,
                    10.5,
                    550000,
                    "2016-11-27",
                    "Eastern Metropolitan"
                  ],
                  [
                    "Glenroy",
                    "39 Morley St",
                    3,
                    766,
                    13,
                    806500,
                    "2016-12-03",
                    "Northern Metropolitan"
                  ],
                  [
                    "Flemington",
                    "10 Crown St",
                    3,
                    167,
                    4.4,
                    870000,
                    "2016-10-08",
                    "Northern Metropolitan"
                  ],
                  [
                    "Pascoe Vale",
                    "53 Kent Rd",
                    3,
                    601,
                    8.5,
                    871000,
                    "2017-10-21",
                    "Northern Metropolitan"
                  ],
                  [
                    "Fawkner",
                    "53 Queens Pde",
                    3,
                    603,
                    12.4,
                    783000,
                    "2016-12-10",
                    "Northern Metropolitan"
                  ],
                  [
                    "Eltham",
                    "67 Arthur St",
                    3,
                    888,
                    18,
                    916500,
                    "2017-11-11",
                    "Eastern Metropolitan"
                  ],
                  [
                    "Reservoir",
                    "2/28 Crookston Rd",
                    3,
                    521,
                    12,
                    870000,
                    "2017-10-07",
                    "Northern Metropolitan"
                  ],
                  [
                    "Epping",
                    "6/7 Houston St",
                    3,
                    227,
                    19.6,
                    392250,
                    "2017-07-08",
                    "Northern Metropolitan"
                  ],
                  [
                    "Pascoe Vale",
                    "26 Shanley St",
                    3,
                    504,
                    9.9,
                    870000,
                    "2016-09-17",
                    "Northern Metropolitan"
                  ],
                  [
                    "Glenroy",
                    "1/40 Morley St",
                    3,
                    521,
                    13,
                    530000,
                    "2016-06-18",
                    "Northern Metropolitan"
                  ],
                  [
                    "Blackburn South",
                    "1 Elemheim Ct",
                    3,
                    560,
                    13.4,
                    870000,
                    "2017-09-09",
                    "Eastern Metropolitan"
                  ],
                  [
                    "Fairfield",
                    "46 Perry St",
                    3,
                    480,
                    5.8,
                    870000,
                    "2016-09-03",
                    "Northern Metropolitan"
                  ],
                  [
                    "South Morang",
                    "102 Vincent Dr",
                    3,
                    330,
                    20.5,
                    500000,
                    "2017-07-22",
                    "Northern Metropolitan"
                  ],
                  [
                    "Vermont",
                    "23 Lusk Dr",
                    3,
                    312,
                    17.2,
                    870000,
                    "2017-09-23",
                    "Eastern Metropolitan"
                  ],
                  [
                    "Wantirna",
                    "15 Chequers Cl",
                    3,
                    560,
                    14.7,
                    812000,
                    "2017-12-09",
                    "Eastern Metropolitan"
                  ],
                  [
                    "Bulleen",
                    "3/9 Amberley Ct",
                    3,
                    521,
                    10.8,
                    820000,
                    "2017-09-03",
                    "Eastern Metropolitan"
                  ],
                  [
                    "Glenroy",
                    "2/148 Hilton St",
                    3,
                    224,
                    13,
                    870000,
                    "2016-10-15",
                    "Northern Metropolitan"
                  ],
                  [
                    "Heathmont",
                    "26 Royal Av",
                    3,
                    521,
                    21.3,
                    870000,
                    "2017-11-25",
                    "Eastern Metropolitan"
                  ],
                  [
                    "Pascoe Vale",
                    "11 Farringdon St",
                    3,
                    858,
                    9.9,
                    1000000,
                    "2016-08-22",
                    "Northern Metropolitan"
                  ],
                  [
                    "Rosanna",
                    "28a Brassey Av",
                    3,
                    521,
                    11.4,
                    765000,
                    "2016-06-04",
                    "Eastern Metropolitan"
                  ],
                  [
                    "Cremorne",
                    "28 Kelso St",
                    3,
                    0,
                    2.5,
                    870000,
                    "2016-07-26",
                    "Northern Metropolitan"
                  ],
                  [
                    "Coburg",
                    "48 Shackell St",
                    3,
                    626,
                    6.7,
                    870000,
                    "2017-11-18",
                    "Northern Metropolitan"
                  ],
                  [
                    "Glenroy",
                    "50 Stanley St",
                    3,
                    594,
                    11.2,
                    690000,
                    "2018-02-17",
                    "Northern Metropolitan"
                  ],
                  [
                    "Pascoe Vale",
                    "1c Adelaide St",
                    3,
                    521,
                    9.9,
                    540000,
                    "2016-11-19",
                    "Northern Metropolitan"
                  ],
                  [
                    "Brunswick",
                    "35 Amelia St",
                    3,
                    521,
                    5.2,
                    822000,
                    "2016-05-28",
                    "Northern Metropolitan"
                  ],
                  [
                    "Rosanna",
                    "44 Bellevue Av",
                    3,
                    521,
                    11.4,
                    870000,
                    "2016-07-30",
                    "Eastern Metropolitan"
                  ],
                  [
                    "Bundoora",
                    "2 Japonica St",
                    3,
                    521,
                    12.1,
                    830000,
                    "2017-09-09",
                    "Northern Metropolitan"
                  ],
                  [
                    "Fawkner",
                    "3 Lovely St",
                    3,
                    587,
                    12.4,
                    670000,
                    "2016-12-03",
                    "Northern Metropolitan"
                  ],
                  [
                    "Viewbank",
                    "65 Duff Pde",
                    3,
                    768,
                    8.9,
                    960000,
                    "2017-10-21",
                    "Eastern Metropolitan"
                  ],
                  [
                    "Reservoir",
                    "649c Gilbert Rd",
                    3,
                    521,
                    12,
                    870000,
                    "2017-07-29",
                    "Northern Metropolitan"
                  ],
                  [
                    "Blackburn North",
                    "1/81 Koonung Rd",
                    3,
                    521,
                    13.4,
                    870000,
                    "2017-08-26",
                    "Eastern Metropolitan"
                  ],
                  [
                    "Ringwood",
                    "353 Maroondah Hwy",
                    3,
                    521,
                    19.9,
                    870000,
                    "2017-11-18",
                    "Eastern Metropolitan"
                  ],
                  [
                    "Greensborough",
                    "15 Carnon St",
                    3,
                    959.5,
                    16.1,
                    895000,
                    "2017-06-24",
                    "Northern Metropolitan"
                  ],
                  [
                    "Blackburn South",
                    "10 Shaun Av",
                    3,
                    623,
                    13.4,
                    870000,
                    "2017-08-26",
                    "Eastern Metropolitan"
                  ],
                  [
                    "Glenroy",
                    "11 Valley Cr",
                    3,
                    521,
                    13,
                    712000,
                    "2016-09-03",
                    "Northern Metropolitan"
                  ],
                  [
                    "Preston",
                    "140 Murray Rd",
                    3,
                    679,
                    8.8,
                    930000,
                    "2016-08-28",
                    "Northern Metropolitan"
                  ],
                  [
                    "Coburg",
                    "20a Clifton Gr",
                    3,
                    0,
                    7.8,
                    870000,
                    "2016-08-28",
                    "Northern Metropolitan"
                  ],
                  [
                    "Craigieburn",
                    "13 Beechville Pl",
                    3,
                    521,
                    20.6,
                    870000,
                    "2017-09-09",
                    "Northern Metropolitan"
                  ],
                  [
                    "Glenroy",
                    "2/923 Pascoe Vale Rd",
                    3,
                    521,
                    11.2,
                    591000,
                    "2017-12-09",
                    "Northern Metropolitan"
                  ],
                  [
                    "Ringwood",
                    "11 Kenwood Cr",
                    3,
                    521,
                    19.9,
                    750000,
                    "2017-07-01",
                    "Eastern Metropolitan"
                  ],
                  [
                    "Croydon",
                    "434 Dorset Rd",
                    3,
                    802,
                    23,
                    725000,
                    "2017-07-08",
                    "Eastern Metropolitan"
                  ],
                  [
                    "Broadmeadows",
                    "58a Cuthbert St",
                    3,
                    521,
                    14,
                    567500,
                    "2017-11-25",
                    "Northern Metropolitan"
                  ],
                  [
                    "Croydon",
                    "6 Eva Ct",
                    3,
                    879,
                    23,
                    870000,
                    "2017-12-09",
                    "Eastern Metropolitan"
                  ],
                  [
                    "Jacana",
                    "81 Johnstone St",
                    3,
                    630,
                    14.5,
                    485000,
                    "2017-04-08",
                    "Northern Metropolitan"
                  ],
                  [
                    "Preston",
                    "60a May St",
                    3,
                    521,
                    8.4,
                    985000,
                    "2017-11-25",
                    "Northern Metropolitan"
                  ],
                  [
                    "Templestowe Lower",
                    "15 Ranleigh Ri",
                    3,
                    521,
                    12.4,
                    1005000,
                    "2017-11-18",
                    "Eastern Metropolitan"
                  ],
                  [
                    "Hadfield",
                    "1 Richmond St",
                    3,
                    641,
                    11.2,
                    840000,
                    "2017-11-25",
                    "Northern Metropolitan"
                  ],
                  [
                    "Glenroy",
                    "61 Hartington St",
                    3,
                    708,
                    11.2,
                    870000,
                    "2017-06-24",
                    "Northern Metropolitan"
                  ],
                  [
                    "Broadmeadows",
                    "158 Widford St",
                    3,
                    630,
                    14,
                    870000,
                    "2017-05-27",
                    "Northern Metropolitan"
                  ],
                  [
                    "Glenroy",
                    "155 Hilton St",
                    3,
                    600,
                    11.2,
                    721000,
                    "2017-07-08",
                    "Northern Metropolitan"
                  ],
                  [
                    "Collingwood",
                    "157 Hotham St",
                    3,
                    521,
                    2,
                    870000,
                    "2017-07-08",
                    "Northern Metropolitan"
                  ],
                  [
                    "Rosanna",
                    "1/35 Millicent St",
                    3,
                    216,
                    11.4,
                    870000,
                    "2016-07-30",
                    "Eastern Metropolitan"
                  ],
                  [
                    "Bayswater",
                    "17 Orange Gr",
                    3,
                    509,
                    23.2,
                    700000,
                    "2017-06-03",
                    "Eastern Metropolitan"
                  ],
                  [
                    "Bellfield",
                    "124 Oriel Rd",
                    3,
                    680,
                    8.8,
                    780000,
                    "2017-05-27",
                    "Eastern Metropolitan"
                  ],
                  [
                    "Reservoir",
                    "1053 High St",
                    3,
                    952,
                    12,
                    732000,
                    "2017-08-12",
                    "Northern Metropolitan"
                  ],
                  [
                    "Thornbury",
                    "8/350 Gooch St",
                    3,
                    521,
                    6.5,
                    750000,
                    "2017-05-06",
                    "Northern Metropolitan"
                  ],
                  [
                    "Fawkner",
                    "3 Brian St",
                    3,
                    585,
                    12.4,
                    660000,
                    "2017-04-08",
                    "Northern Metropolitan"
                  ],
                  [
                    "Bundoora",
                    "74 Arthur St",
                    3,
                    534,
                    12.1,
                    796000,
                    "2017-06-24",
                    "Northern Metropolitan"
                  ],
                  [
                    "Watsonia",
                    "36 Powley Pde",
                    3,
                    828,
                    14.9,
                    838000,
                    "2016-07-30",
                    "Northern Metropolitan"
                  ],
                  [
                    "Mernda",
                    "14 Tarwin Dr",
                    3,
                    521,
                    25.4,
                    595000,
                    "2018-01-06",
                    "Northern Metropolitan"
                  ],
                  [
                    "Box Hill",
                    "837 Canterbury Rd",
                    3,
                    492,
                    13.1,
                    857000,
                    "2016-05-28",
                    "Eastern Metropolitan"
                  ],
                  [
                    "Watsonia",
                    "1/269 Nell St W",
                    3,
                    521,
                    14.5,
                    540000,
                    "2017-09-09",
                    "Northern Metropolitan"
                  ],
                  [
                    "Fawkner",
                    "73 Major Rd",
                    3,
                    404,
                    12.4,
                    526000,
                    "2016-11-07",
                    "Northern Metropolitan"
                  ],
                  [
                    "Pascoe Vale",
                    "14 View St",
                    3,
                    521,
                    8.5,
                    1000000,
                    "2017-12-09",
                    "Northern Metropolitan"
                  ],
                  [
                    "Meadow Heights",
                    "5 Elder Cl",
                    3,
                    521,
                    17.4,
                    870000,
                    "2017-11-11",
                    "Northern Metropolitan"
                  ],
                  [
                    "Greenvale",
                    "12 Dorrington St",
                    3,
                    200,
                    20.4,
                    516000,
                    "2018-03-03",
                    "Northern Metropolitan"
                  ],
                  [
                    "Northcote",
                    "130 Mitchell St",
                    3,
                    318,
                    5.5,
                    1090000,
                    "2016-09-24",
                    "Northern Metropolitan"
                  ],
                  [
                    "Glenroy",
                    "11/900 Pascoe Vale Rd",
                    3,
                    56,
                    13,
                    870000,
                    "2017-04-22",
                    "Northern Metropolitan"
                  ],
                  [
                    "Blackburn South",
                    "11A Donald St",
                    3,
                    345,
                    13.4,
                    870000,
                    "2018-03-03",
                    "Eastern Metropolitan"
                  ],
                  [
                    "Coburg North",
                    "2/5 Lake Gr",
                    3,
                    521,
                    6.7,
                    870000,
                    "2017-05-27",
                    "Northern Metropolitan"
                  ],
                  [
                    "Bellfield",
                    "293 Bell St",
                    3,
                    661,
                    9.5,
                    870000,
                    "2017-03-18",
                    "Eastern Metropolitan"
                  ],
                  [
                    "Campbellfield",
                    "10 Cheviot Rd",
                    3,
                    595,
                    16.6,
                    668000,
                    "2017-11-18",
                    "Northern Metropolitan"
                  ],
                  [
                    "Reservoir",
                    "42 Gellibrand Cr",
                    3,
                    521,
                    11.2,
                    634000,
                    "2016-10-15",
                    "Northern Metropolitan"
                  ],
                  [
                    "Reservoir",
                    "106 Miranda Rd",
                    3,
                    743,
                    12,
                    880000,
                    "2017-07-15",
                    "Northern Metropolitan"
                  ],
                  [
                    "Reservoir",
                    "14 MacKenzie St",
                    3,
                    767,
                    12,
                    780000,
                    "2017-11-25",
                    "Northern Metropolitan"
                  ],
                  [
                    "Pascoe Vale",
                    "2 Kirbister St",
                    3,
                    687,
                    9.9,
                    870000,
                    "2017-05-20",
                    "Northern Metropolitan"
                  ],
                  [
                    "Oak Park",
                    "25 Winifred St",
                    3,
                    588,
                    11.2,
                    891000,
                    "2017-11-25",
                    "Northern Metropolitan"
                  ],
                  [
                    "Epping",
                    "28 Supply Dr",
                    3,
                    553,
                    19.6,
                    678000,
                    "2017-08-19",
                    "Northern Metropolitan"
                  ],
                  [
                    "Burwood East",
                    "1/24 Barry Rd",
                    3,
                    521,
                    14.7,
                    825000,
                    "2018-02-03",
                    "Eastern Metropolitan"
                  ],
                  [
                    "Ringwood East",
                    "9 Alexandra Rd",
                    3,
                    959.5,
                    21.3,
                    870000,
                    "2017-10-07",
                    "Eastern Metropolitan"
                  ],
                  [
                    "The Basin",
                    "5 Democrat Dr",
                    3,
                    795,
                    25.4,
                    700000,
                    "2017-09-23",
                    "Eastern Metropolitan"
                  ],
                  [
                    "Doncaster",
                    "2 Louise Ct",
                    3,
                    827,
                    13.9,
                    1030000,
                    "2016-09-17",
                    "Eastern Metropolitan"
                  ],
                  [
                    "Brunswick",
                    "7 Garnet St",
                    3,
                    343,
                    5.2,
                    1053000,
                    "2016-06-27",
                    "Northern Metropolitan"
                  ],
                  [
                    "Heathmont",
                    "75 Campbell St",
                    3,
                    696,
                    21.3,
                    870000,
                    "2017-12-09",
                    "Eastern Metropolitan"
                  ],
                  [
                    "Bundoora",
                    "12 Janet Cr",
                    3,
                    521,
                    12.1,
                    853000,
                    "2017-11-18",
                    "Northern Metropolitan"
                  ],
                  [
                    "Ringwood",
                    "26 Major St",
                    3,
                    918,
                    19.9,
                    882500,
                    "2017-07-22",
                    "Eastern Metropolitan"
                  ],
                  [
                    "Ringwood",
                    "5 Neville St",
                    3,
                    367,
                    19.9,
                    870000,
                    "2017-07-22",
                    "Eastern Metropolitan"
                  ],
                  [
                    "Viewbank",
                    "28 Kuranga Rd",
                    3,
                    541,
                    8.9,
                    940000,
                    "2017-06-17",
                    "Eastern Metropolitan"
                  ],
                  [
                    "Craigieburn",
                    "5 Riverway Vw",
                    3,
                    521,
                    20.6,
                    500000,
                    "2018-03-03",
                    "Northern Metropolitan"
                  ],
                  [
                    "Forest Hill",
                    "309 Springvale Rd",
                    3,
                    617,
                    15.4,
                    800000,
                    "2017-06-24",
                    "Eastern Metropolitan"
                  ],
                  [
                    "Reservoir",
                    "15 George St",
                    3,
                    570,
                    11.2,
                    800000,
                    "2016-10-08",
                    "Northern Metropolitan"
                  ],
                  [
                    "Coburg",
                    "74 Linda St",
                    3,
                    521,
                    7.8,
                    800000,
                    "2016-09-24",
                    "Northern Metropolitan"
                  ],
                  [
                    "Ivanhoe",
                    "4/10 Oriel Rd",
                    3,
                    521,
                    7.8,
                    920000,
                    "2018-02-17",
                    "Eastern Metropolitan"
                  ],
                  [
                    "Chirnside Park",
                    "10 Parklands Av",
                    3,
                    521,
                    25.4,
                    786000,
                    "2017-06-24",
                    "Eastern Victoria"
                  ],
                  [
                    "Mill Park",
                    "29 Island Pl",
                    3,
                    300,
                    17.9,
                    660000,
                    "2017-11-11",
                    "Northern Metropolitan"
                  ],
                  [
                    "Collingwood",
                    "20 Mater St",
                    3,
                    521,
                    2,
                    1075000,
                    "2017-09-16",
                    "Northern Metropolitan"
                  ],
                  [
                    "Bulleen",
                    "40 Riverview Tce",
                    3,
                    701,
                    11.8,
                    980000,
                    "2016-06-04",
                    "Eastern Metropolitan"
                  ],
                  [
                    "Berwick",
                    "12 Redmore Ct",
                    3,
                    521,
                    25.4,
                    560000,
                    "2017-11-18",
                    "Eastern Victoria"
                  ],
                  [
                    "Viewbank",
                    "9/111 Martins La",
                    3,
                    521,
                    8.9,
                    870000,
                    "2017-10-28",
                    "Eastern Metropolitan"
                  ],
                  [
                    "Bellfield",
                    "19 Plunkett St",
                    3,
                    390,
                    9.5,
                    870000,
                    "2017-04-29",
                    "Eastern Metropolitan"
                  ],
                  [
                    "Craigieburn",
                    "4 Bertrand Ct",
                    3,
                    578,
                    20.6,
                    535000,
                    "2018-02-24",
                    "Northern Metropolitan"
                  ],
                  [
                    "Alphington",
                    "2c Hamilton St",
                    3,
                    180,
                    6.4,
                    865000,
                    "2016-05-22",
                    "Northern Metropolitan"
                  ],
                  [
                    "Ivanhoe",
                    "3/11 Oriel Rd",
                    3,
                    249,
                    7.9,
                    890000,
                    "2016-06-04",
                    "Eastern Metropolitan"
                  ],
                  [
                    "Blackburn North",
                    "58 Kett St",
                    3,
                    541,
                    13.4,
                    870000,
                    "2017-09-03",
                    "Eastern Metropolitan"
                  ],
                  [
                    "Preston",
                    "1/103 Bruce St",
                    3,
                    521,
                    8.4,
                    965000,
                    "2017-07-01",
                    "Northern Metropolitan"
                  ],
                  [
                    "Lower Plenty",
                    "3 Beckett Ct",
                    3,
                    521,
                    14.6,
                    870000,
                    "2017-09-23",
                    "Eastern Metropolitan"
                  ],
                  [
                    "Heidelberg",
                    "1/61 Brown St",
                    3,
                    521,
                    8.9,
                    780000,
                    "2018-02-17",
                    "Eastern Metropolitan"
                  ],
                  [
                    "Greensborough",
                    "3/15 Scotland Av",
                    3,
                    521,
                    16.1,
                    652500,
                    "2017-11-11",
                    "Northern Metropolitan"
                  ],
                  [
                    "Heidelberg West",
                    "18 Tobruk Av",
                    3,
                    521,
                    9.4,
                    675000,
                    "2016-11-12",
                    "Eastern Metropolitan"
                  ],
                  [
                    "Croydon Hills",
                    "4 Merrill Cr",
                    3,
                    659,
                    23,
                    790000,
                    "2017-09-03",
                    "Eastern Metropolitan"
                  ],
                  [
                    "Templestowe Lower",
                    "3/17 Howitt Dr",
                    3,
                    521,
                    13.8,
                    870000,
                    "2016-05-07",
                    "Eastern Metropolitan"
                  ],
                  [
                    "Knoxfield",
                    "12/33 Elliot St",
                    3,
                    521,
                    23.3,
                    870000,
                    "2017-10-07",
                    "Eastern Metropolitan"
                  ],
                  [
                    "Ringwood",
                    "3 Sang Ct",
                    3,
                    651,
                    19.9,
                    910000,
                    "2017-07-22",
                    "Eastern Metropolitan"
                  ],
                  [
                    "Fawkner",
                    "9 Selola Ct",
                    3,
                    593,
                    13.1,
                    783000,
                    "2018-01-06",
                    "Northern Metropolitan"
                  ],
                  [
                    "Ringwood East",
                    "9 Bronhill Rd",
                    3,
                    674,
                    21.3,
                    830000,
                    "2018-02-24",
                    "Eastern Metropolitan"
                  ],
                  [
                    "Croydon",
                    "2/7 Morris Rd",
                    3,
                    521,
                    23,
                    691000,
                    "2018-03-03",
                    "Eastern Metropolitan"
                  ],
                  [
                    "Box Hill",
                    "32 Sweetland Rd",
                    3,
                    414,
                    13.1,
                    910000,
                    "2017-05-13",
                    "Eastern Metropolitan"
                  ],
                  [
                    "Oak Park",
                    "69a Rhodes Pde",
                    3,
                    327,
                    11.5,
                    870000,
                    "2016-10-08",
                    "Northern Metropolitan"
                  ],
                  [
                    "Blackburn",
                    "2/10 Oliver Av",
                    3,
                    521,
                    13.4,
                    800000,
                    "2017-11-18",
                    "Eastern Metropolitan"
                  ],
                  [
                    "Mill Park",
                    "6 Carlita Cl",
                    3,
                    375,
                    17.9,
                    665000,
                    "2017-11-25",
                    "Northern Metropolitan"
                  ],
                  [
                    "Reservoir",
                    "70 Barry St",
                    3,
                    719,
                    11.2,
                    785000,
                    "2016-09-24",
                    "Northern Metropolitan"
                  ],
                  [
                    "Brunswick West",
                    "1/572 Moreland Rd",
                    3,
                    262,
                    5.9,
                    797500,
                    "2017-02-11",
                    "Northern Metropolitan"
                  ],
                  [
                    "Glenroy",
                    "23 Cromwell St",
                    3,
                    657,
                    13,
                    660000,
                    "2016-08-28",
                    "Northern Metropolitan"
                  ],
                  [
                    "Craigieburn",
                    "8 Woodgrove St",
                    3,
                    262,
                    20.6,
                    516000,
                    "2017-12-09",
                    "Northern Metropolitan"
                  ],
                  [
                    "Brunswick West",
                    "16 Foden St",
                    3,
                    378,
                    5.9,
                    870000,
                    "2016-05-22",
                    "Northern Metropolitan"
                  ],
                  [
                    "Kingsbury",
                    "2/20 Bradshaw St",
                    3,
                    521,
                    12.1,
                    660000,
                    "2017-09-23",
                    "Northern Metropolitan"
                  ]
                ],
                "hovertemplate": "<b>%{customdata[0]}</b><br>%{customdata[1]}<br>Rooms: %{customdata[2]} • Landsize: %{customdata[3]} m²<br>Distance: %{x} km • Price: $%{y}<br>Region: %{customdata[7]}<extra></extra>",
                "marker": {
                  "color": "#bebada",
                  "line": {
                    "color": "DimGray",
                    "width": 0.5
                  },
                  "opacity": 0.65,
                  "size": {
                    "dtype": "float64",
                    "shape": [
                      459
                    ]
                  }
                },
                "mode": "markers",
                "name": "Rooms 3",
                "selected": {
                  "marker": {
                    "color": "black",
                    "opacity": 1,
                    "size": 14
                  }
                },
                "unselected": {
                  "marker": {
                    "opacity": 0.15
                  }
                },
                "x": {
                  "dtype": "float64",
                  "shape": [
                    459
                  ]
                },
                "y": {
                  "dtype": "float64",
                  "shape": [
                    459
                  ]
                },
                "type": "scatter",
                "uid": "f35c944f-6482-4799-8135-2d3c6c625aaa"
              },
              {
                "customdata": [
                  [
                    "Coburg",
                    "36 Stockade Av",
                    4,
                    254,
                    6.7,
                    1082000,
                    "2018-02-24",
                    "Northern Metropolitan"
                  ],
                  [
                    "North Melbourne",
                    "306/720 Queensberry St",
                    4,
                    521,
                    1.8,
                    870000,
                    "2017-09-03",
                    "Northern Metropolitan"
                  ],
                  [
                    "Glenroy",
                    "33 Maude Av",
                    4,
                    521,
                    13,
                    640000,
                    "2016-05-28",
                    "Northern Metropolitan"
                  ],
                  [
                    "Knoxfield",
                    "8 Mistletoe Cl",
                    4,
                    620,
                    23.3,
                    1010000,
                    "2017-05-27",
                    "Eastern Metropolitan"
                  ],
                  [
                    "Wantirna",
                    "2/9 Koomba Rd",
                    4,
                    521,
                    14.7,
                    870000,
                    "2018-03-10",
                    "Eastern Metropolitan"
                  ],
                  [
                    "South Morang",
                    "23 Palisades Bvd",
                    4,
                    517,
                    20.5,
                    774000,
                    "2018-03-10",
                    "Northern Metropolitan"
                  ],
                  [
                    "Reservoir",
                    "78 Wilson Bvd",
                    4,
                    850,
                    12,
                    950000,
                    "2017-10-28",
                    "Northern Metropolitan"
                  ],
                  [
                    "Craigieburn",
                    "13 Nobility Rd",
                    4,
                    399,
                    20.6,
                    640000,
                    "2018-01-06",
                    "Northern Metropolitan"
                  ],
                  [
                    "Greensborough",
                    "40 Patrick Cl",
                    5,
                    959.5,
                    16.1,
                    870000,
                    "2017-07-22",
                    "Northern Metropolitan"
                  ],
                  [
                    "Reservoir",
                    "55 Lloyd Av",
                    4,
                    614,
                    12,
                    870000,
                    "2017-07-15",
                    "Northern Metropolitan"
                  ],
                  [
                    "Ivanhoe",
                    "134 Ivanhoe Pde",
                    4,
                    638,
                    7.8,
                    870000,
                    "2017-07-01",
                    "Eastern Metropolitan"
                  ],
                  [
                    "Mooroolbark",
                    "31 Andrew St",
                    4,
                    369,
                    25.4,
                    870000,
                    "2018-03-17",
                    "Eastern Victoria"
                  ],
                  [
                    "Yallambie",
                    "8 Ovata Cl",
                    4,
                    531,
                    15,
                    915000,
                    "2017-03-04",
                    "Northern Metropolitan"
                  ],
                  [
                    "Rosanna",
                    "5/53 Bellevue Av",
                    4,
                    521,
                    8.9,
                    895000,
                    "2017-05-27",
                    "Eastern Metropolitan"
                  ],
                  [
                    "Greenvale",
                    "5 Barrymore Rd",
                    6,
                    521,
                    20.4,
                    870000,
                    "2017-12-09",
                    "Northern Metropolitan"
                  ],
                  [
                    "Mernda",
                    "8 Kernaghan Dr",
                    4,
                    521,
                    25.4,
                    570000,
                    "2017-09-03",
                    "Northern Metropolitan"
                  ],
                  [
                    "Craigieburn",
                    "18 Pymble Gdns",
                    4,
                    448,
                    20.6,
                    590000,
                    "2017-10-07",
                    "Northern Metropolitan"
                  ],
                  [
                    "Boronia",
                    "5 Stoneleigh Av",
                    5,
                    959.5,
                    25,
                    995000,
                    "2018-03-17",
                    "Eastern Metropolitan"
                  ],
                  [
                    "South Morang",
                    "1/14 Kestrel Rd",
                    4,
                    272,
                    20.5,
                    870000,
                    "2017-07-29",
                    "Northern Metropolitan"
                  ],
                  [
                    "Ringwood North",
                    "6 Menzies Cr",
                    4,
                    521,
                    19.9,
                    965000,
                    "2017-08-26",
                    "Eastern Metropolitan"
                  ],
                  [
                    "Preston",
                    "1/56 Eton St",
                    4,
                    521,
                    8.4,
                    870000,
                    "2017-10-07",
                    "Northern Metropolitan"
                  ],
                  [
                    "Croydon",
                    "10 Dumosa Av",
                    4,
                    521,
                    23,
                    825000,
                    "2018-02-10",
                    "Eastern Metropolitan"
                  ],
                  [
                    "Warranwood",
                    "10 Nalinga Ct",
                    5,
                    521,
                    19.9,
                    1015000,
                    "2017-10-07",
                    "Eastern Metropolitan"
                  ],
                  [
                    "Greenvale",
                    "48 Glencairn Dr",
                    4,
                    652,
                    20.4,
                    690000,
                    "2018-01-06",
                    "Northern Metropolitan"
                  ],
                  [
                    "Warranwood",
                    "14 Landau Dr",
                    4,
                    521,
                    19.9,
                    870000,
                    "2017-05-27",
                    "Eastern Metropolitan"
                  ],
                  [
                    "Glenroy",
                    "19 Cromwell St",
                    4,
                    649,
                    11.2,
                    835000,
                    "2017-09-03",
                    "Northern Metropolitan"
                  ],
                  [
                    "Mill Park",
                    "1 Roycroft Av",
                    4,
                    589,
                    17.9,
                    665000,
                    "2017-11-11",
                    "Northern Metropolitan"
                  ],
                  [
                    "Mitcham",
                    "13 Nymph St",
                    4,
                    706,
                    17.2,
                    870000,
                    "2018-02-24",
                    "Eastern Metropolitan"
                  ],
                  [
                    "Abbotsford",
                    "17 Raphael St",
                    4,
                    230,
                    2.5,
                    870000,
                    "2016-11-07",
                    "Northern Metropolitan"
                  ],
                  [
                    "Blackburn",
                    "7 Patricia Rd",
                    4,
                    663,
                    13.4,
                    870000,
                    "2017-11-11",
                    "Eastern Metropolitan"
                  ],
                  [
                    "Rosanna",
                    "101 Ellesmere Pde",
                    4,
                    843,
                    11.4,
                    1020000,
                    "2016-05-07",
                    "Eastern Metropolitan"
                  ],
                  [
                    "Brunswick West",
                    "945 Park St",
                    4,
                    644,
                    5.2,
                    870000,
                    "2017-10-28",
                    "Northern Metropolitan"
                  ],
                  [
                    "Vermont South",
                    "560 Burwood Hwy",
                    4,
                    796,
                    17.2,
                    870000,
                    "2017-05-27",
                    "Eastern Metropolitan"
                  ],
                  [
                    "Kingsbury",
                    "55 The Fairway",
                    4,
                    464,
                    12.1,
                    830000,
                    "2018-02-24",
                    "Northern Metropolitan"
                  ],
                  [
                    "Mernda",
                    "6 Shura Dr",
                    4,
                    448,
                    25.4,
                    610000,
                    "2018-03-10",
                    "Northern Metropolitan"
                  ],
                  [
                    "Berwick",
                    "3 Thornley Dr",
                    4,
                    796,
                    25.4,
                    740000,
                    "2017-05-27",
                    "Eastern Victoria"
                  ],
                  [
                    "Coburg",
                    "223 Bell St",
                    4,
                    535,
                    6.7,
                    870000,
                    "2017-10-07",
                    "Northern Metropolitan"
                  ],
                  [
                    "Templestowe Lower",
                    "24 Corroboree Pl",
                    4,
                    369,
                    13.8,
                    870000,
                    "2016-06-04",
                    "Eastern Metropolitan"
                  ],
                  [
                    "Ringwood",
                    "42 Kalinda Rd",
                    4,
                    521,
                    19.9,
                    926000,
                    "2017-09-03",
                    "Eastern Metropolitan"
                  ],
                  [
                    "Glen Waverley",
                    "12 Kalonga Ct",
                    4,
                    818,
                    16.7,
                    870000,
                    "2017-11-18",
                    "Eastern Metropolitan"
                  ],
                  [
                    "Eltham",
                    "3 Adenmore Ct",
                    4,
                    851,
                    18,
                    870000,
                    "2017-12-09",
                    "Eastern Metropolitan"
                  ],
                  [
                    "Wollert",
                    "3 Chetwynd Gr",
                    4,
                    521,
                    25.4,
                    592000,
                    "2017-09-09",
                    "Northern Metropolitan"
                  ],
                  [
                    "Ringwood East",
                    "19 Eastfield Rd",
                    4,
                    844,
                    21.3,
                    870000,
                    "2017-11-25",
                    "Eastern Metropolitan"
                  ],
                  [
                    "Reservoir",
                    "69 Chauvel St",
                    5,
                    890,
                    12,
                    912000,
                    "2017-06-24",
                    "Northern Metropolitan"
                  ],
                  [
                    "Ringwood",
                    "4 Emerald St",
                    4,
                    521,
                    19.9,
                    870000,
                    "2017-10-21",
                    "Eastern Metropolitan"
                  ],
                  [
                    "Mitcham",
                    "2/8 Percy St",
                    4,
                    521,
                    17.2,
                    870000,
                    "2017-10-14",
                    "Eastern Metropolitan"
                  ],
                  [
                    "Thomastown",
                    "31 Lockwood Gr",
                    4,
                    527,
                    15.3,
                    750000,
                    "2017-10-14",
                    "Northern Metropolitan"
                  ],
                  [
                    "Reservoir",
                    "12 Nutwood St",
                    5,
                    548,
                    11.2,
                    762500,
                    "2016-05-28",
                    "Northern Metropolitan"
                  ],
                  [
                    "Bulleen",
                    "18 Gisborne St",
                    4,
                    521,
                    10.8,
                    870000,
                    "2017-11-25",
                    "Eastern Metropolitan"
                  ],
                  [
                    "Craigieburn",
                    "29 Waterford Av",
                    4,
                    521,
                    20.6,
                    622000,
                    "2017-06-03",
                    "Northern Metropolitan"
                  ],
                  [
                    "Templestowe",
                    "107 The Grange",
                    5,
                    521,
                    15.5,
                    870000,
                    "2017-10-07",
                    "Eastern Metropolitan"
                  ],
                  [
                    "Mill Park",
                    "7 Carlita Cl",
                    5,
                    652,
                    17.9,
                    800000,
                    "2017-10-28",
                    "Northern Metropolitan"
                  ],
                  [
                    "Blackburn",
                    "43 Rosalind Cr",
                    4,
                    521,
                    13.4,
                    870000,
                    "2017-10-14",
                    "Eastern Metropolitan"
                  ],
                  [
                    "Mooroolbark",
                    "4 Akima Tce",
                    4,
                    521,
                    25.4,
                    870000,
                    "2018-01-06",
                    "Eastern Victoria"
                  ],
                  [
                    "Bayswater",
                    "16 Orange Gr",
                    4,
                    521,
                    23.2,
                    860000,
                    "2017-11-25",
                    "Eastern Metropolitan"
                  ],
                  [
                    "Craigieburn",
                    "5 Blackbird Tce",
                    4,
                    771,
                    20.6,
                    735000,
                    "2017-09-23",
                    "Northern Metropolitan"
                  ],
                  [
                    "Mount Waverley",
                    "86 Headingley Rd",
                    4,
                    745,
                    14.2,
                    870000,
                    "2017-07-22",
                    "Eastern Metropolitan"
                  ],
                  [
                    "Blackburn",
                    "61 Maple St",
                    4,
                    521,
                    13.4,
                    870000,
                    "2017-10-07",
                    "Eastern Metropolitan"
                  ],
                  [
                    "Eltham North",
                    "36 Arcadia Wy",
                    4,
                    521,
                    18,
                    770000,
                    "2017-07-01",
                    "Eastern Metropolitan"
                  ],
                  [
                    "Rosanna",
                    "6 Simon Ct",
                    4,
                    959.5,
                    11.4,
                    870000,
                    "2017-05-20",
                    "Eastern Metropolitan"
                  ],
                  [
                    "Oak Park",
                    "61 Vincent St",
                    6,
                    849,
                    11.5,
                    870000,
                    "2016-11-19",
                    "Northern Metropolitan"
                  ],
                  [
                    "South Morang",
                    "6 Mercury Cct",
                    4,
                    512,
                    20.5,
                    870000,
                    "2017-12-09",
                    "Northern Metropolitan"
                  ],
                  [
                    "Preston",
                    "13 Grampian St",
                    4,
                    577,
                    8.8,
                    910000,
                    "2016-11-27",
                    "Northern Metropolitan"
                  ],
                  [
                    "Templestowe Lower",
                    "39 Hazel Dr",
                    5,
                    800,
                    13.8,
                    750000,
                    "2016-11-12",
                    "Eastern Metropolitan"
                  ],
                  [
                    "Watsonia North",
                    "6 Damien Ct",
                    4,
                    534,
                    14.5,
                    806000,
                    "2017-10-07",
                    "Northern Metropolitan"
                  ],
                  [
                    "Broadmeadows",
                    "55 Stanhope St",
                    4,
                    696,
                    14,
                    753000,
                    "2017-09-09",
                    "Northern Metropolitan"
                  ],
                  [
                    "Berwick",
                    "9 Cambridge Dr",
                    4,
                    521,
                    25.4,
                    1000000,
                    "2017-09-23",
                    "Eastern Victoria"
                  ],
                  [
                    "Greenvale",
                    "75 Horizon Bvd",
                    4,
                    521,
                    20.4,
                    870000,
                    "2017-05-27",
                    "Northern Metropolitan"
                  ],
                  [
                    "Richmond",
                    "299 Church St",
                    4,
                    521,
                    2.6,
                    870000,
                    "2017-04-29",
                    "Northern Metropolitan"
                  ],
                  [
                    "Glenroy",
                    "2 Ila St",
                    4,
                    715,
                    13,
                    1050000,
                    "2017-04-22",
                    "Northern Metropolitan"
                  ],
                  [
                    "Mitcham",
                    "52 Owen St",
                    4,
                    959,
                    17.2,
                    870000,
                    "2018-02-24",
                    "Eastern Metropolitan"
                  ],
                  [
                    "Heathmont",
                    "11 Atunga Ct",
                    4,
                    959.5,
                    21.3,
                    1031000,
                    "2017-08-12",
                    "Eastern Metropolitan"
                  ],
                  [
                    "Oak Park",
                    "107 New Rd",
                    5,
                    838,
                    11.2,
                    955000,
                    "2017-09-16",
                    "Northern Metropolitan"
                  ],
                  [
                    "Greenvale",
                    "48 Horizon Bvd",
                    4,
                    316,
                    20.4,
                    620000,
                    "2018-03-17",
                    "Northern Metropolitan"
                  ],
                  [
                    "Westmeadows",
                    "14 Duncan Ct",
                    4,
                    744,
                    16.5,
                    675000,
                    "2017-07-08",
                    "Northern Metropolitan"
                  ],
                  [
                    "Coburg",
                    "14 Grey Ct",
                    4,
                    694,
                    6.7,
                    800000,
                    "2017-10-07",
                    "Northern Metropolitan"
                  ],
                  [
                    "Bundoora",
                    "48 Zara Cl",
                    4,
                    300,
                    12.1,
                    755000,
                    "2017-06-17",
                    "Northern Metropolitan"
                  ],
                  [
                    "Mill Park",
                    "15 Heritage Dr",
                    4,
                    530,
                    17.9,
                    790000,
                    "2017-07-08",
                    "Northern Metropolitan"
                  ],
                  [
                    "Coburg",
                    "21 May St",
                    4,
                    393,
                    7.8,
                    870000,
                    "2016-07-26",
                    "Northern Metropolitan"
                  ],
                  [
                    "Langwarrin",
                    "14 Villosa Cl",
                    4,
                    640,
                    25.4,
                    672000,
                    "2017-10-07",
                    "Eastern Victoria"
                  ],
                  [
                    "Doncaster",
                    "4/98 Church Rd",
                    4,
                    182,
                    13.9,
                    985000,
                    "2017-03-18",
                    "Eastern Metropolitan"
                  ],
                  [
                    "Reservoir",
                    "51 Allenby Av",
                    4,
                    521,
                    11.2,
                    870000,
                    "2016-09-17",
                    "Northern Metropolitan"
                  ],
                  [
                    "Templestowe Lower",
                    "135 MacEdon Rd",
                    4,
                    654,
                    13.8,
                    1100000,
                    "2016-11-19",
                    "Eastern Metropolitan"
                  ],
                  [
                    "Eltham North",
                    "25 Dunbarton Dr",
                    4,
                    521,
                    18,
                    860000,
                    "2017-10-21",
                    "Eastern Metropolitan"
                  ],
                  [
                    "Templestowe Lower",
                    "2/257 Thompsons Rd",
                    4,
                    521,
                    13.8,
                    1100000,
                    "2017-02-25",
                    "Eastern Metropolitan"
                  ],
                  [
                    "Mooroolbark",
                    "95 Cardigan Rd",
                    4,
                    854,
                    25.4,
                    651000,
                    "2017-06-17",
                    "Eastern Victoria"
                  ],
                  [
                    "Viewbank",
                    "163 Martins La",
                    5,
                    641,
                    13.8,
                    870000,
                    "2016-12-03",
                    "Eastern Metropolitan"
                  ],
                  [
                    "Blackburn South",
                    "1a Wicking Ct",
                    4,
                    521,
                    13.4,
                    870000,
                    "2017-07-29",
                    "Eastern Metropolitan"
                  ],
                  [
                    "Croydon North",
                    "7 Susans Ct",
                    4,
                    895,
                    23,
                    870000,
                    "2018-03-17",
                    "Eastern Metropolitan"
                  ],
                  [
                    "Croydon",
                    "25 Norman Rd",
                    5,
                    521,
                    23,
                    965000,
                    "2017-11-18",
                    "Eastern Metropolitan"
                  ],
                  [
                    "Templestowe Lower",
                    "25 Foote St",
                    4,
                    799,
                    12.4,
                    1100000,
                    "2017-10-21",
                    "Eastern Metropolitan"
                  ],
                  [
                    "Templestowe Lower",
                    "24 Bilby St",
                    4,
                    668,
                    12.4,
                    1030000,
                    "2018-02-24",
                    "Eastern Metropolitan"
                  ],
                  [
                    "St Helena",
                    "23 Tyrone Ct",
                    4,
                    788,
                    16.1,
                    988000,
                    "2018-02-17",
                    "Eastern Metropolitan"
                  ],
                  [
                    "Bundoora",
                    "4 Nathan Ct",
                    5,
                    568,
                    12.1,
                    870000,
                    "2017-08-12",
                    "Northern Metropolitan"
                  ],
                  [
                    "Westmeadows",
                    "42 Pascoe St",
                    4,
                    813,
                    16.5,
                    791000,
                    "2017-09-30",
                    "Northern Metropolitan"
                  ],
                  [
                    "Montmorency",
                    "21 Sackville St",
                    4,
                    870,
                    16.2,
                    940000,
                    "2017-09-16",
                    "Eastern Metropolitan"
                  ],
                  [
                    "Templestowe Lower",
                    "4 Sylvia St",
                    4,
                    521,
                    12.4,
                    870000,
                    "2017-10-28",
                    "Eastern Metropolitan"
                  ],
                  [
                    "Box Hill",
                    "1089 Whitehorse Rd",
                    7,
                    860,
                    13.1,
                    870000,
                    "2016-09-10",
                    "Eastern Metropolitan"
                  ],
                  [
                    "Pascoe Vale",
                    "16 Hayes Pde",
                    5,
                    706,
                    9.9,
                    958000,
                    "2017-04-29",
                    "Northern Metropolitan"
                  ],
                  [
                    "Thornbury",
                    "269 Mansfield St",
                    4,
                    402,
                    6.5,
                    795000,
                    "2016-05-14",
                    "Northern Metropolitan"
                  ],
                  [
                    "Blackburn North",
                    "1 Gay St",
                    4,
                    617,
                    13.4,
                    870000,
                    "2017-07-15",
                    "Eastern Metropolitan"
                  ],
                  [
                    "Heidelberg Heights",
                    "2/32 Shelley St",
                    4,
                    225,
                    8.8,
                    870000,
                    "2017-05-27",
                    "Eastern Metropolitan"
                  ],
                  [
                    "Ivanhoe East",
                    "34 Charteris Dr",
                    4,
                    779,
                    9,
                    870000,
                    "2016-10-08",
                    "Eastern Metropolitan"
                  ],
                  [
                    "Greenvale",
                    "8 Bridlington Dr",
                    5,
                    521,
                    20.4,
                    870000,
                    "2017-11-11",
                    "Northern Metropolitan"
                  ],
                  [
                    "Craigieburn",
                    "27 Vantage Bvd",
                    4,
                    511,
                    20.6,
                    800000,
                    "2017-08-19",
                    "Northern Metropolitan"
                  ],
                  [
                    "Greenvale",
                    "2 Lysterfield Dr",
                    4,
                    566,
                    20.4,
                    679000,
                    "2018-01-06",
                    "Northern Metropolitan"
                  ],
                  [
                    "Brunswick East",
                    "15 Hickford St",
                    4,
                    405,
                    4.5,
                    870000,
                    "2017-05-13",
                    "Northern Metropolitan"
                  ],
                  [
                    "Craigieburn",
                    "37 Viewside Cr",
                    4,
                    350,
                    20.6,
                    580000,
                    "2017-10-28",
                    "Northern Metropolitan"
                  ],
                  [
                    "Glen Waverley",
                    "6 Silverwood Wy",
                    4,
                    521,
                    16.7,
                    995000,
                    "2017-06-24",
                    "Eastern Metropolitan"
                  ],
                  [
                    "Brunswick",
                    "27 Union St",
                    4,
                    161,
                    5.2,
                    870000,
                    "2016-07-16",
                    "Northern Metropolitan"
                  ],
                  [
                    "Hadfield",
                    "28 Gish Ct",
                    4,
                    672,
                    12.1,
                    815000,
                    "2017-02-25",
                    "Northern Metropolitan"
                  ],
                  [
                    "Ferntree Gully",
                    "24 Greenaway Dr",
                    4,
                    728,
                    24.8,
                    820000,
                    "2017-09-09",
                    "Eastern Metropolitan"
                  ],
                  [
                    "Roxburgh Park",
                    "8 Bonney Pl",
                    4,
                    521,
                    20.6,
                    566000,
                    "2017-10-14",
                    "Northern Metropolitan"
                  ],
                  [
                    "Fawkner",
                    "64 Dowding Cl",
                    4,
                    424,
                    12.4,
                    870000,
                    "2016-10-15",
                    "Northern Metropolitan"
                  ],
                  [
                    "Bundoora",
                    "22 Alma Rd",
                    4,
                    535,
                    12.1,
                    800000,
                    "2017-07-22",
                    "Northern Metropolitan"
                  ],
                  [
                    "Viewbank",
                    "44 Martins La",
                    4,
                    700,
                    13.8,
                    895000,
                    "2016-06-18",
                    "Eastern Metropolitan"
                  ],
                  [
                    "Preston",
                    "340 Plenty Rd",
                    4,
                    678,
                    8.4,
                    950000,
                    "2017-09-23",
                    "Northern Metropolitan"
                  ],
                  [
                    "Mernda",
                    "4 Kilburnie Dr",
                    4,
                    521,
                    25.4,
                    870000,
                    "2017-10-28",
                    "Northern Metropolitan"
                  ],
                  [
                    "South Morang",
                    "3 McArthurs Rd",
                    5,
                    582,
                    20.5,
                    597000,
                    "2017-08-19",
                    "Northern Metropolitan"
                  ],
                  [
                    "Mill Park",
                    "7 Fowler Ct",
                    4,
                    521,
                    17.9,
                    666000,
                    "2017-10-07",
                    "Northern Metropolitan"
                  ],
                  [
                    "Burwood East",
                    "18 Hale Ct",
                    4,
                    599,
                    14.7,
                    1032000,
                    "2017-06-03",
                    "Eastern Metropolitan"
                  ],
                  [
                    "Bayswater",
                    "7 Cousin Dr",
                    5,
                    521,
                    23.2,
                    875000,
                    "2017-11-18",
                    "Eastern Metropolitan"
                  ],
                  [
                    "Wantirna South",
                    "19 Piccadilly Av",
                    4,
                    746,
                    14.7,
                    870000,
                    "2017-09-03",
                    "Eastern Metropolitan"
                  ],
                  [
                    "Heidelberg",
                    "49 Halifax Av",
                    4,
                    521,
                    8.9,
                    870000,
                    "2017-11-11",
                    "Eastern Metropolitan"
                  ],
                  [
                    "Craigieburn",
                    "61 Bowral Lp",
                    4,
                    521,
                    20.6,
                    560000,
                    "2017-12-09",
                    "Northern Metropolitan"
                  ],
                  [
                    "Craigieburn",
                    "64 Newbury Bvd",
                    4,
                    502,
                    20.6,
                    700000,
                    "2018-03-10",
                    "Northern Metropolitan"
                  ],
                  [
                    "Rosanna",
                    "7 Douglas St",
                    4,
                    782,
                    11.4,
                    1021000,
                    "2016-07-30",
                    "Eastern Metropolitan"
                  ],
                  [
                    "Craigieburn",
                    "29 Abercarn Av",
                    4,
                    521,
                    20.6,
                    560000,
                    "2017-09-03",
                    "Northern Metropolitan"
                  ],
                  [
                    "Bayswater",
                    "16 Wiltshire Av",
                    4,
                    521,
                    23.2,
                    640000,
                    "2017-06-03",
                    "Eastern Metropolitan"
                  ],
                  [
                    "Craigieburn",
                    "76 Huntington Dr",
                    4,
                    350,
                    20.6,
                    870000,
                    "2017-06-03",
                    "Northern Metropolitan"
                  ],
                  [
                    "Ringwood East",
                    "5/9 Homebush Ct",
                    4,
                    868,
                    21.3,
                    870000,
                    "2017-07-22",
                    "Eastern Metropolitan"
                  ],
                  [
                    "Reservoir",
                    "12 Wilkinson St",
                    4,
                    646,
                    12,
                    1000000,
                    "2017-10-21",
                    "Northern Metropolitan"
                  ],
                  [
                    "Viewbank",
                    "3 The Nook",
                    4,
                    660,
                    13.8,
                    1050000,
                    "2016-07-26",
                    "Eastern Metropolitan"
                  ],
                  [
                    "Preston",
                    "4 Roseberry Av",
                    4,
                    521,
                    8.4,
                    800000,
                    "2018-01-06",
                    "Northern Metropolitan"
                  ],
                  [
                    "Reservoir",
                    "5 Legh St",
                    4,
                    959.5,
                    12,
                    870000,
                    "2018-01-06",
                    "Northern Metropolitan"
                  ],
                  [
                    "Mount Waverley",
                    "5 Eagle Ct",
                    4,
                    863,
                    14.2,
                    870000,
                    "2018-02-17",
                    "Eastern Metropolitan"
                  ],
                  [
                    "Eltham",
                    "6 Grove St",
                    4,
                    959.5,
                    18,
                    975000,
                    "2017-06-03",
                    "Eastern Metropolitan"
                  ],
                  [
                    "Langwarrin",
                    "12 Cranhaven Rd",
                    5,
                    660,
                    25.4,
                    690000,
                    "2018-03-03",
                    "Eastern Victoria"
                  ],
                  [
                    "Coburg",
                    "13 Kaye Ct",
                    4,
                    576,
                    7.8,
                    838000,
                    "2016-05-28",
                    "Northern Metropolitan"
                  ],
                  [
                    "Mernda",
                    "20 McCubbin Wy",
                    4,
                    335,
                    25.4,
                    870000,
                    "2017-07-08",
                    "Northern Metropolitan"
                  ],
                  [
                    "Glen Waverley",
                    "5 Wilfred Ct",
                    5,
                    895,
                    16.7,
                    815000,
                    "2018-03-10",
                    "Eastern Metropolitan"
                  ],
                  [
                    "Thomastown",
                    "274 Station St",
                    6,
                    646,
                    15.3,
                    931000,
                    "2017-09-09",
                    "Northern Metropolitan"
                  ],
                  [
                    "Mount Waverley",
                    "1 Pascall St",
                    4,
                    714,
                    14.2,
                    870000,
                    "2017-10-28",
                    "Eastern Metropolitan"
                  ],
                  [
                    "Mount Waverley",
                    "31 Valley Rd",
                    4,
                    721,
                    14.2,
                    870000,
                    "2017-07-29",
                    "Eastern Metropolitan"
                  ],
                  [
                    "MacLeod",
                    "3 Laing Pl",
                    4,
                    521,
                    12.7,
                    870000,
                    "2017-11-25",
                    "Northern Metropolitan"
                  ],
                  [
                    "Ringwood North",
                    "81 Kubis Dr",
                    4,
                    785,
                    19.9,
                    1005000,
                    "2017-07-29",
                    "Eastern Metropolitan"
                  ],
                  [
                    "Wantirna South",
                    "81 Sylphide Wy",
                    4,
                    772,
                    14.7,
                    1036000,
                    "2017-10-21",
                    "Eastern Metropolitan"
                  ],
                  [
                    "Jacana",
                    "29 Hendricks Cr",
                    4,
                    693,
                    14,
                    650000,
                    "2017-08-19",
                    "Northern Metropolitan"
                  ],
                  [
                    "Bundoora",
                    "13 Cher Av",
                    4,
                    287,
                    12.1,
                    685000,
                    "2017-08-12",
                    "Northern Metropolitan"
                  ],
                  [
                    "Fawkner",
                    "68 Queens Pde",
                    4,
                    687,
                    13.1,
                    874000,
                    "2017-08-19",
                    "Northern Metropolitan"
                  ],
                  [
                    "Thornbury",
                    "43 Wilmoth St",
                    5,
                    671,
                    6.5,
                    870000,
                    "2017-03-04",
                    "Northern Metropolitan"
                  ],
                  [
                    "Greensborough",
                    "34 Scotland Av",
                    4,
                    521,
                    16.1,
                    920000,
                    "2017-12-09",
                    "Northern Metropolitan"
                  ],
                  [
                    "Croydon Hills",
                    "10 Oxford Cl",
                    4,
                    777,
                    23,
                    870000,
                    "2017-07-29",
                    "Eastern Metropolitan"
                  ],
                  [
                    "MacLeod",
                    "117 Harborne St",
                    4,
                    521,
                    12.7,
                    760000,
                    "2017-11-04",
                    "Northern Metropolitan"
                  ],
                  [
                    "Boronia",
                    "27 Helene Ct",
                    4,
                    730,
                    25,
                    783000,
                    "2017-06-03",
                    "Eastern Metropolitan"
                  ],
                  [
                    "Thomastown",
                    "4 Tamara Ct",
                    4,
                    561,
                    15.3,
                    870000,
                    "2018-03-17",
                    "Northern Metropolitan"
                  ],
                  [
                    "Reservoir",
                    "7 Inverness St",
                    4,
                    836,
                    12,
                    900000,
                    "2017-07-01",
                    "Northern Metropolitan"
                  ],
                  [
                    "Brunswick",
                    "112 Moreland Rd",
                    4,
                    454,
                    5.2,
                    870000,
                    "2018-03-03",
                    "Northern Metropolitan"
                  ],
                  [
                    "Knoxfield",
                    "10 Lakewood Dr",
                    6,
                    521,
                    23.3,
                    870000,
                    "2017-07-15",
                    "Eastern Metropolitan"
                  ],
                  [
                    "Vermont",
                    "10 Abbey Wk",
                    5,
                    521,
                    17.2,
                    870000,
                    "2017-11-25",
                    "Eastern Metropolitan"
                  ],
                  [
                    "Ringwood East",
                    "5 Victoria St",
                    4,
                    521,
                    21.3,
                    1006000,
                    "2017-12-09",
                    "Eastern Metropolitan"
                  ],
                  [
                    "Rosanna",
                    "27 Thomson Dr",
                    4,
                    583,
                    11.4,
                    890000,
                    "2016-05-14",
                    "Eastern Metropolitan"
                  ],
                  [
                    "South Morang",
                    "19 Junor Ct",
                    4,
                    500,
                    20.5,
                    637500,
                    "2017-11-25",
                    "Northern Metropolitan"
                  ],
                  [
                    "Donvale",
                    "86 Darvall St",
                    4,
                    673,
                    16.1,
                    870000,
                    "2018-02-17",
                    "Eastern Metropolitan"
                  ],
                  [
                    "Lalor",
                    "8 Bataan Ct",
                    4,
                    541,
                    16.3,
                    766000,
                    "2017-09-23",
                    "Northern Metropolitan"
                  ],
                  [
                    "Montmorency",
                    "2/193 Rattray Rd",
                    4,
                    521,
                    16.2,
                    926000,
                    "2018-03-03",
                    "Eastern Metropolitan"
                  ],
                  [
                    "Templestowe Lower",
                    "67 Fyfe Dr",
                    4,
                    521,
                    12.4,
                    1075000,
                    "2017-08-26",
                    "Eastern Metropolitan"
                  ],
                  [
                    "Mount Waverley",
                    "70 Leeds Rd",
                    4,
                    819,
                    14.2,
                    870000,
                    "2017-10-28",
                    "Eastern Metropolitan"
                  ],
                  [
                    "Nunawading",
                    "8 Suffolk St",
                    4,
                    685,
                    15.4,
                    870000,
                    "2017-07-08",
                    "Eastern Metropolitan"
                  ],
                  [
                    "South Morang",
                    "43 Astair Av",
                    4,
                    521,
                    20.5,
                    630500,
                    "2017-06-17",
                    "Northern Metropolitan"
                  ],
                  [
                    "Bulleen",
                    "51 Golden Wy",
                    4,
                    521,
                    10.8,
                    870000,
                    "2017-11-25",
                    "Eastern Metropolitan"
                  ],
                  [
                    "Berwick",
                    "2 Greystoke Ct",
                    4,
                    792,
                    25.4,
                    667000,
                    "2017-05-27",
                    "Eastern Victoria"
                  ],
                  [
                    "Reservoir",
                    "39 Gertz Av",
                    5,
                    650,
                    12,
                    861000,
                    "2017-08-12",
                    "Northern Metropolitan"
                  ],
                  [
                    "Campbellfield",
                    "7 Augusta Av",
                    5,
                    521,
                    14.5,
                    870000,
                    "2016-10-15",
                    "Northern Metropolitan"
                  ],
                  [
                    "Templestowe Lower",
                    "5 Fairbank Cr",
                    5,
                    521,
                    13.8,
                    1097500,
                    "2016-11-27",
                    "Eastern Metropolitan"
                  ],
                  [
                    "Berwick",
                    "8 Claremont Gln",
                    4,
                    521,
                    25.4,
                    870000,
                    "2017-10-28",
                    "Eastern Victoria"
                  ],
                  [
                    "Fawkner",
                    "24 Maher St",
                    4,
                    732,
                    13.1,
                    870000,
                    "2017-05-27",
                    "Northern Metropolitan"
                  ],
                  [
                    "Reservoir",
                    "5 Jess St",
                    4,
                    771,
                    11.2,
                    801000,
                    "2016-09-24",
                    "Northern Metropolitan"
                  ],
                  [
                    "Reservoir",
                    "78 McMahon Rd",
                    4,
                    700,
                    12,
                    902000,
                    "2017-07-01",
                    "Northern Metropolitan"
                  ],
                  [
                    "Wantirna South",
                    "7 Sally Cl",
                    5,
                    521,
                    14.7,
                    870000,
                    "2018-01-06",
                    "Eastern Metropolitan"
                  ],
                  [
                    "St Helena",
                    "1 Natasha Cl",
                    5,
                    521,
                    16.1,
                    870000,
                    "2018-01-06",
                    "Eastern Metropolitan"
                  ],
                  [
                    "Epping",
                    "111 Peppercorn Pde",
                    4,
                    570,
                    19.6,
                    656000,
                    "2017-10-28",
                    "Northern Metropolitan"
                  ],
                  [
                    "Preston",
                    "38 Wilcox St",
                    4,
                    396,
                    8.8,
                    920000,
                    "2016-06-27",
                    "Northern Metropolitan"
                  ],
                  [
                    "Blackburn South",
                    "29 Shawlands Av",
                    4,
                    657,
                    13.4,
                    870000,
                    "2017-08-12",
                    "Eastern Metropolitan"
                  ],
                  [
                    "Heidelberg",
                    "137 Hawdon St",
                    5,
                    959.5,
                    10.6,
                    870000,
                    "2016-11-27",
                    "Eastern Metropolitan"
                  ],
                  [
                    "Craigieburn",
                    "22 Evergreen Cr",
                    4,
                    431,
                    20.6,
                    619500,
                    "2018-03-03",
                    "Northern Metropolitan"
                  ],
                  [
                    "Epping",
                    "16 Woodfull Wy",
                    4,
                    647,
                    19.6,
                    681000,
                    "2017-08-19",
                    "Northern Metropolitan"
                  ],
                  [
                    "MacLeod",
                    "69 Yallambie Rd",
                    4,
                    521,
                    12.7,
                    841000,
                    "2017-10-21",
                    "Northern Metropolitan"
                  ],
                  [
                    "Thornbury",
                    "285 Victoria Rd",
                    4,
                    486,
                    6.5,
                    870000,
                    "2016-05-28",
                    "Northern Metropolitan"
                  ],
                  [
                    "Roxburgh Park",
                    "10 Manton Pl",
                    4,
                    475,
                    20.6,
                    477000,
                    "2017-10-28",
                    "Northern Metropolitan"
                  ],
                  [
                    "Broadmeadows",
                    "6 Winton Ct",
                    4,
                    521,
                    14,
                    605000,
                    "2017-11-11",
                    "Northern Metropolitan"
                  ],
                  [
                    "Donvale",
                    "9 Kevin Ct",
                    4,
                    718,
                    16.1,
                    1025000,
                    "2017-10-07",
                    "Eastern Metropolitan"
                  ],
                  [
                    "Roxburgh Park",
                    "31 Aquila Gr",
                    4,
                    521,
                    20.6,
                    536000,
                    "2017-10-21",
                    "Northern Metropolitan"
                  ],
                  [
                    "Scoresby",
                    "35 Zarro St",
                    4,
                    781,
                    22.2,
                    952000,
                    "2018-03-03",
                    "Eastern Metropolitan"
                  ],
                  [
                    "Wantirna",
                    "17 Marlesford Av",
                    4,
                    874,
                    14.7,
                    1065800,
                    "2017-10-07",
                    "Eastern Metropolitan"
                  ],
                  [
                    "Richmond",
                    "5a Waltham Pl",
                    4,
                    521,
                    2.6,
                    870000,
                    "2016-08-22",
                    "Northern Metropolitan"
                  ],
                  [
                    "Preston",
                    "88 Bruce St",
                    4,
                    959.5,
                    8.8,
                    870000,
                    "2016-06-18",
                    "Northern Metropolitan"
                  ],
                  [
                    "Mernda",
                    "55 Sackville St",
                    4,
                    452,
                    25.4,
                    573500,
                    "2018-02-10",
                    "Northern Metropolitan"
                  ]
                ],
                "hovertemplate": "<b>%{customdata[0]}</b><br>%{customdata[1]}<br>Rooms: %{customdata[2]} • Landsize: %{customdata[3]} m²<br>Distance: %{x} km • Price: $%{y}<br>Region: %{customdata[7]}<extra></extra>",
                "marker": {
                  "color": "#fb8072",
                  "line": {
                    "color": "DimGray",
                    "width": 0.5
                  },
                  "opacity": 0.65,
                  "size": {
                    "dtype": "float64",
                    "shape": [
                      198
                    ]
                  }
                },
                "mode": "markers",
                "name": "Rooms 4+",
                "selected": {
                  "marker": {
                    "color": "black",
                    "opacity": 1,
                    "size": 14
                  }
                },
                "unselected": {
                  "marker": {
                    "opacity": 0.15
                  }
                },
                "x": {
                  "dtype": "float64",
                  "shape": [
                    198
                  ]
                },
                "y": {
                  "dtype": "float64",
                  "shape": [
                    198
                  ]
                },
                "type": "scatter",
                "uid": "729be36a-a703-4ae8-b476-15b7d187d595"
              }
            ],
            "_dom_classes": [],
            "_js2py_layoutDelta": null,
            "_js2py_pointsCallback": {},
            "_js2py_relayout": {},
            "_js2py_restyle": {},
            "_js2py_traceDeltas": null,
            "_js2py_update": {},
            "_last_layout_edit_id": 0,
            "_last_trace_edit_id": 0,
            "_layout": {
              "dragmode": "lasso",
              "height": 650,
              "legend": {
                "orientation": "h",
                "title": {
                  "text": "Rooms"
                },
                "y": -0.2
              },
              "paper_bgcolor": "rgba(250,250,250,1)",
              "plot_bgcolor": "rgba(245,245,245,0.95)",
              "title": {
                "font": {
                  "size": 20
                },
                "text": "<b>Pengaruh Distance, Landsize, dan Rooms terhadap Price</b>",
                "x": 0.5,
                "xanchor": "center"
              },
              "xaxis": {
                "gridcolor": "LightGrey",
                "title": {
                  "text": "Distance dari CBD (km)"
                }
              },
              "yaxis": {
                "gridcolor": "LightGrey",
                "tickprefix": "$",
                "title": {
                  "text": "Price (AUD)"
                }
              }
            },
            "_model_module": "jupyterlab-plotly",
            "_model_module_version": "^5.24.1",
            "_model_name": "FigureModel",
            "_py2js_addTraces": {},
            "_py2js_animate": {},
            "_py2js_deleteTraces": {},
            "_py2js_moveTraces": {},
            "_py2js_relayout": null,
            "_py2js_removeLayoutProps": {},
            "_py2js_removeTraceProps": {},
            "_py2js_restyle": {},
            "_py2js_update": {},
            "_view_count": 1,
            "_view_module": "jupyterlab-plotly",
            "_view_module_version": "^5.24.1",
            "_view_name": "FigureView"
          }
        }
      }
    }
  },
  "cells": [
    {
      "cell_type": "markdown",
      "source": [
        "## **Nama : Aqilah Jihan Nabila**\n",
        "## **Divisi : Junior Data Scientist**"
      ],
      "metadata": {
        "id": "AXjc2W4Pasjg"
      }
    },
    {
      "cell_type": "markdown",
      "source": [
        "## **Tugas Versi 2**\n",
        "### **Link Colab :** https://colab.research.google.com/drive/1nvKbg7U5MQZeuNfaGMcTzhFejRFCUcem?usp=sharing"
      ],
      "metadata": {
        "id": "vVqwX-CwbDkL"
      }
    },
    {
      "cell_type": "markdown",
      "source": [
        "# **Proses**"
      ],
      "metadata": {
        "id": "fLzDmMwtb_md"
      }
    },
    {
      "cell_type": "code",
      "execution_count": 17,
      "metadata": {
        "id": "O0E088GTYxPP"
      },
      "outputs": [],
      "source": [
        "# !pip install -q plotly pandas numpy ipywidgets"
      ]
    },
    {
      "cell_type": "code",
      "source": [
        "import pandas as pd\n",
        "import numpy as np\n",
        "import plotly.graph_objects as go\n",
        "from ipywidgets import widgets, HBox, VBox, Output\n",
        "from IPython.display import display\n",
        "\n",
        "df = pd.read_csv('/content/Melbourne_housing_Clean.csv')\n",
        "df.head()"
      ],
      "metadata": {
        "colab": {
          "base_uri": "https://localhost:8080/",
          "height": 360
        },
        "id": "ZzingtdWcZ5E",
        "outputId": "6c663b42-e414-45bd-ce2d-3afb88aa4f00"
      },
      "execution_count": 18,
      "outputs": [
        {
          "output_type": "execute_result",
          "data": {
            "text/plain": [
              "       Suburb             Address  Rooms Type      Price Method SellerG  \\\n",
              "0  Abbotsford       68 Studley St    2.0    h   870000.0     SS  Jellis   \n",
              "1  Abbotsford        85 Turner St    2.0    h  1480000.0      S  Biggin   \n",
              "2  Abbotsford     25 Bloomburg St    2.0    h  1035000.0      S  Biggin   \n",
              "3  Abbotsford  18/659 Victoria St    3.0    u   870000.0     VB  Rounds   \n",
              "4  Abbotsford        5 Charles St    3.0    h  1465000.0     SP  Biggin   \n",
              "\n",
              "         Date  Distance  Postcode  ...  Bathroom  Car  Landsize  BuildingArea  \\\n",
              "0  2016-09-03       2.5    3067.0  ...       1.0  1.0     126.0         136.0   \n",
              "1  2016-12-03       2.5    3067.0  ...       1.0  1.0     202.0         136.0   \n",
              "2  2016-02-04       2.5    3067.0  ...       1.0  0.0     156.0         136.0   \n",
              "3  2016-02-04       2.5    3067.0  ...       2.0  1.0       0.0         136.0   \n",
              "4  2017-03-04       2.5    3067.0  ...       2.0  0.0     134.0         136.0   \n",
              "\n",
              "   YearBuilt         CouncilArea Lattitude  Longtitude             Regionname  \\\n",
              "0     1970.0  Yarra City Council  -37.8014    144.9958  Northern Metropolitan   \n",
              "1     1970.0  Yarra City Council  -37.7996    144.9984  Northern Metropolitan   \n",
              "2     1970.0  Yarra City Council  -37.8079    144.9934  Northern Metropolitan   \n",
              "3     1970.0  Yarra City Council  -37.8114    145.0116  Northern Metropolitan   \n",
              "4     1970.0  Yarra City Council  -37.8093    144.9944  Northern Metropolitan   \n",
              "\n",
              "  Propertycount  \n",
              "0        4019.0  \n",
              "1        4019.0  \n",
              "2        4019.0  \n",
              "3        4019.0  \n",
              "4        4019.0  \n",
              "\n",
              "[5 rows x 21 columns]"
            ],
            "text/html": [
              "\n",
              "  <div id=\"df-521f3b96-6248-49d5-89d3-672d36c5d61b\" class=\"colab-df-container\">\n",
              "    <div>\n",
              "<style scoped>\n",
              "    .dataframe tbody tr th:only-of-type {\n",
              "        vertical-align: middle;\n",
              "    }\n",
              "\n",
              "    .dataframe tbody tr th {\n",
              "        vertical-align: top;\n",
              "    }\n",
              "\n",
              "    .dataframe thead th {\n",
              "        text-align: right;\n",
              "    }\n",
              "</style>\n",
              "<table border=\"1\" class=\"dataframe\">\n",
              "  <thead>\n",
              "    <tr style=\"text-align: right;\">\n",
              "      <th></th>\n",
              "      <th>Suburb</th>\n",
              "      <th>Address</th>\n",
              "      <th>Rooms</th>\n",
              "      <th>Type</th>\n",
              "      <th>Price</th>\n",
              "      <th>Method</th>\n",
              "      <th>SellerG</th>\n",
              "      <th>Date</th>\n",
              "      <th>Distance</th>\n",
              "      <th>Postcode</th>\n",
              "      <th>...</th>\n",
              "      <th>Bathroom</th>\n",
              "      <th>Car</th>\n",
              "      <th>Landsize</th>\n",
              "      <th>BuildingArea</th>\n",
              "      <th>YearBuilt</th>\n",
              "      <th>CouncilArea</th>\n",
              "      <th>Lattitude</th>\n",
              "      <th>Longtitude</th>\n",
              "      <th>Regionname</th>\n",
              "      <th>Propertycount</th>\n",
              "    </tr>\n",
              "  </thead>\n",
              "  <tbody>\n",
              "    <tr>\n",
              "      <th>0</th>\n",
              "      <td>Abbotsford</td>\n",
              "      <td>68 Studley St</td>\n",
              "      <td>2.0</td>\n",
              "      <td>h</td>\n",
              "      <td>870000.0</td>\n",
              "      <td>SS</td>\n",
              "      <td>Jellis</td>\n",
              "      <td>2016-09-03</td>\n",
              "      <td>2.5</td>\n",
              "      <td>3067.0</td>\n",
              "      <td>...</td>\n",
              "      <td>1.0</td>\n",
              "      <td>1.0</td>\n",
              "      <td>126.0</td>\n",
              "      <td>136.0</td>\n",
              "      <td>1970.0</td>\n",
              "      <td>Yarra City Council</td>\n",
              "      <td>-37.8014</td>\n",
              "      <td>144.9958</td>\n",
              "      <td>Northern Metropolitan</td>\n",
              "      <td>4019.0</td>\n",
              "    </tr>\n",
              "    <tr>\n",
              "      <th>1</th>\n",
              "      <td>Abbotsford</td>\n",
              "      <td>85 Turner St</td>\n",
              "      <td>2.0</td>\n",
              "      <td>h</td>\n",
              "      <td>1480000.0</td>\n",
              "      <td>S</td>\n",
              "      <td>Biggin</td>\n",
              "      <td>2016-12-03</td>\n",
              "      <td>2.5</td>\n",
              "      <td>3067.0</td>\n",
              "      <td>...</td>\n",
              "      <td>1.0</td>\n",
              "      <td>1.0</td>\n",
              "      <td>202.0</td>\n",
              "      <td>136.0</td>\n",
              "      <td>1970.0</td>\n",
              "      <td>Yarra City Council</td>\n",
              "      <td>-37.7996</td>\n",
              "      <td>144.9984</td>\n",
              "      <td>Northern Metropolitan</td>\n",
              "      <td>4019.0</td>\n",
              "    </tr>\n",
              "    <tr>\n",
              "      <th>2</th>\n",
              "      <td>Abbotsford</td>\n",
              "      <td>25 Bloomburg St</td>\n",
              "      <td>2.0</td>\n",
              "      <td>h</td>\n",
              "      <td>1035000.0</td>\n",
              "      <td>S</td>\n",
              "      <td>Biggin</td>\n",
              "      <td>2016-02-04</td>\n",
              "      <td>2.5</td>\n",
              "      <td>3067.0</td>\n",
              "      <td>...</td>\n",
              "      <td>1.0</td>\n",
              "      <td>0.0</td>\n",
              "      <td>156.0</td>\n",
              "      <td>136.0</td>\n",
              "      <td>1970.0</td>\n",
              "      <td>Yarra City Council</td>\n",
              "      <td>-37.8079</td>\n",
              "      <td>144.9934</td>\n",
              "      <td>Northern Metropolitan</td>\n",
              "      <td>4019.0</td>\n",
              "    </tr>\n",
              "    <tr>\n",
              "      <th>3</th>\n",
              "      <td>Abbotsford</td>\n",
              "      <td>18/659 Victoria St</td>\n",
              "      <td>3.0</td>\n",
              "      <td>u</td>\n",
              "      <td>870000.0</td>\n",
              "      <td>VB</td>\n",
              "      <td>Rounds</td>\n",
              "      <td>2016-02-04</td>\n",
              "      <td>2.5</td>\n",
              "      <td>3067.0</td>\n",
              "      <td>...</td>\n",
              "      <td>2.0</td>\n",
              "      <td>1.0</td>\n",
              "      <td>0.0</td>\n",
              "      <td>136.0</td>\n",
              "      <td>1970.0</td>\n",
              "      <td>Yarra City Council</td>\n",
              "      <td>-37.8114</td>\n",
              "      <td>145.0116</td>\n",
              "      <td>Northern Metropolitan</td>\n",
              "      <td>4019.0</td>\n",
              "    </tr>\n",
              "    <tr>\n",
              "      <th>4</th>\n",
              "      <td>Abbotsford</td>\n",
              "      <td>5 Charles St</td>\n",
              "      <td>3.0</td>\n",
              "      <td>h</td>\n",
              "      <td>1465000.0</td>\n",
              "      <td>SP</td>\n",
              "      <td>Biggin</td>\n",
              "      <td>2017-03-04</td>\n",
              "      <td>2.5</td>\n",
              "      <td>3067.0</td>\n",
              "      <td>...</td>\n",
              "      <td>2.0</td>\n",
              "      <td>0.0</td>\n",
              "      <td>134.0</td>\n",
              "      <td>136.0</td>\n",
              "      <td>1970.0</td>\n",
              "      <td>Yarra City Council</td>\n",
              "      <td>-37.8093</td>\n",
              "      <td>144.9944</td>\n",
              "      <td>Northern Metropolitan</td>\n",
              "      <td>4019.0</td>\n",
              "    </tr>\n",
              "  </tbody>\n",
              "</table>\n",
              "<p>5 rows × 21 columns</p>\n",
              "</div>\n",
              "    <div class=\"colab-df-buttons\">\n",
              "\n",
              "  <div class=\"colab-df-container\">\n",
              "    <button class=\"colab-df-convert\" onclick=\"convertToInteractive('df-521f3b96-6248-49d5-89d3-672d36c5d61b')\"\n",
              "            title=\"Convert this dataframe to an interactive table.\"\n",
              "            style=\"display:none;\">\n",
              "\n",
              "  <svg xmlns=\"http://www.w3.org/2000/svg\" height=\"24px\" viewBox=\"0 -960 960 960\">\n",
              "    <path d=\"M120-120v-720h720v720H120Zm60-500h600v-160H180v160Zm220 220h160v-160H400v160Zm0 220h160v-160H400v160ZM180-400h160v-160H180v160Zm440 0h160v-160H620v160ZM180-180h160v-160H180v160Zm440 0h160v-160H620v160Z\"/>\n",
              "  </svg>\n",
              "    </button>\n",
              "\n",
              "  <style>\n",
              "    .colab-df-container {\n",
              "      display:flex;\n",
              "      gap: 12px;\n",
              "    }\n",
              "\n",
              "    .colab-df-convert {\n",
              "      background-color: #E8F0FE;\n",
              "      border: none;\n",
              "      border-radius: 50%;\n",
              "      cursor: pointer;\n",
              "      display: none;\n",
              "      fill: #1967D2;\n",
              "      height: 32px;\n",
              "      padding: 0 0 0 0;\n",
              "      width: 32px;\n",
              "    }\n",
              "\n",
              "    .colab-df-convert:hover {\n",
              "      background-color: #E2EBFA;\n",
              "      box-shadow: 0px 1px 2px rgba(60, 64, 67, 0.3), 0px 1px 3px 1px rgba(60, 64, 67, 0.15);\n",
              "      fill: #174EA6;\n",
              "    }\n",
              "\n",
              "    .colab-df-buttons div {\n",
              "      margin-bottom: 4px;\n",
              "    }\n",
              "\n",
              "    [theme=dark] .colab-df-convert {\n",
              "      background-color: #3B4455;\n",
              "      fill: #D2E3FC;\n",
              "    }\n",
              "\n",
              "    [theme=dark] .colab-df-convert:hover {\n",
              "      background-color: #434B5C;\n",
              "      box-shadow: 0px 1px 3px 1px rgba(0, 0, 0, 0.15);\n",
              "      filter: drop-shadow(0px 1px 2px rgba(0, 0, 0, 0.3));\n",
              "      fill: #FFFFFF;\n",
              "    }\n",
              "  </style>\n",
              "\n",
              "    <script>\n",
              "      const buttonEl =\n",
              "        document.querySelector('#df-521f3b96-6248-49d5-89d3-672d36c5d61b button.colab-df-convert');\n",
              "      buttonEl.style.display =\n",
              "        google.colab.kernel.accessAllowed ? 'block' : 'none';\n",
              "\n",
              "      async function convertToInteractive(key) {\n",
              "        const element = document.querySelector('#df-521f3b96-6248-49d5-89d3-672d36c5d61b');\n",
              "        const dataTable =\n",
              "          await google.colab.kernel.invokeFunction('convertToInteractive',\n",
              "                                                    [key], {});\n",
              "        if (!dataTable) return;\n",
              "\n",
              "        const docLinkHtml = 'Like what you see? Visit the ' +\n",
              "          '<a target=\"_blank\" href=https://colab.research.google.com/notebooks/data_table.ipynb>data table notebook</a>'\n",
              "          + ' to learn more about interactive tables.';\n",
              "        element.innerHTML = '';\n",
              "        dataTable['output_type'] = 'display_data';\n",
              "        await google.colab.output.renderOutput(dataTable, element);\n",
              "        const docLink = document.createElement('div');\n",
              "        docLink.innerHTML = docLinkHtml;\n",
              "        element.appendChild(docLink);\n",
              "      }\n",
              "    </script>\n",
              "  </div>\n",
              "\n",
              "\n",
              "    <div id=\"df-bc4c48c3-29a3-4f98-8b17-a939e3fb5403\">\n",
              "      <button class=\"colab-df-quickchart\" onclick=\"quickchart('df-bc4c48c3-29a3-4f98-8b17-a939e3fb5403')\"\n",
              "                title=\"Suggest charts\"\n",
              "                style=\"display:none;\">\n",
              "\n",
              "<svg xmlns=\"http://www.w3.org/2000/svg\" height=\"24px\"viewBox=\"0 0 24 24\"\n",
              "     width=\"24px\">\n",
              "    <g>\n",
              "        <path d=\"M19 3H5c-1.1 0-2 .9-2 2v14c0 1.1.9 2 2 2h14c1.1 0 2-.9 2-2V5c0-1.1-.9-2-2-2zM9 17H7v-7h2v7zm4 0h-2V7h2v10zm4 0h-2v-4h2v4z\"/>\n",
              "    </g>\n",
              "</svg>\n",
              "      </button>\n",
              "\n",
              "<style>\n",
              "  .colab-df-quickchart {\n",
              "      --bg-color: #E8F0FE;\n",
              "      --fill-color: #1967D2;\n",
              "      --hover-bg-color: #E2EBFA;\n",
              "      --hover-fill-color: #174EA6;\n",
              "      --disabled-fill-color: #AAA;\n",
              "      --disabled-bg-color: #DDD;\n",
              "  }\n",
              "\n",
              "  [theme=dark] .colab-df-quickchart {\n",
              "      --bg-color: #3B4455;\n",
              "      --fill-color: #D2E3FC;\n",
              "      --hover-bg-color: #434B5C;\n",
              "      --hover-fill-color: #FFFFFF;\n",
              "      --disabled-bg-color: #3B4455;\n",
              "      --disabled-fill-color: #666;\n",
              "  }\n",
              "\n",
              "  .colab-df-quickchart {\n",
              "    background-color: var(--bg-color);\n",
              "    border: none;\n",
              "    border-radius: 50%;\n",
              "    cursor: pointer;\n",
              "    display: none;\n",
              "    fill: var(--fill-color);\n",
              "    height: 32px;\n",
              "    padding: 0;\n",
              "    width: 32px;\n",
              "  }\n",
              "\n",
              "  .colab-df-quickchart:hover {\n",
              "    background-color: var(--hover-bg-color);\n",
              "    box-shadow: 0 1px 2px rgba(60, 64, 67, 0.3), 0 1px 3px 1px rgba(60, 64, 67, 0.15);\n",
              "    fill: var(--button-hover-fill-color);\n",
              "  }\n",
              "\n",
              "  .colab-df-quickchart-complete:disabled,\n",
              "  .colab-df-quickchart-complete:disabled:hover {\n",
              "    background-color: var(--disabled-bg-color);\n",
              "    fill: var(--disabled-fill-color);\n",
              "    box-shadow: none;\n",
              "  }\n",
              "\n",
              "  .colab-df-spinner {\n",
              "    border: 2px solid var(--fill-color);\n",
              "    border-color: transparent;\n",
              "    border-bottom-color: var(--fill-color);\n",
              "    animation:\n",
              "      spin 1s steps(1) infinite;\n",
              "  }\n",
              "\n",
              "  @keyframes spin {\n",
              "    0% {\n",
              "      border-color: transparent;\n",
              "      border-bottom-color: var(--fill-color);\n",
              "      border-left-color: var(--fill-color);\n",
              "    }\n",
              "    20% {\n",
              "      border-color: transparent;\n",
              "      border-left-color: var(--fill-color);\n",
              "      border-top-color: var(--fill-color);\n",
              "    }\n",
              "    30% {\n",
              "      border-color: transparent;\n",
              "      border-left-color: var(--fill-color);\n",
              "      border-top-color: var(--fill-color);\n",
              "      border-right-color: var(--fill-color);\n",
              "    }\n",
              "    40% {\n",
              "      border-color: transparent;\n",
              "      border-right-color: var(--fill-color);\n",
              "      border-top-color: var(--fill-color);\n",
              "    }\n",
              "    60% {\n",
              "      border-color: transparent;\n",
              "      border-right-color: var(--fill-color);\n",
              "    }\n",
              "    80% {\n",
              "      border-color: transparent;\n",
              "      border-right-color: var(--fill-color);\n",
              "      border-bottom-color: var(--fill-color);\n",
              "    }\n",
              "    90% {\n",
              "      border-color: transparent;\n",
              "      border-bottom-color: var(--fill-color);\n",
              "    }\n",
              "  }\n",
              "</style>\n",
              "\n",
              "      <script>\n",
              "        async function quickchart(key) {\n",
              "          const quickchartButtonEl =\n",
              "            document.querySelector('#' + key + ' button');\n",
              "          quickchartButtonEl.disabled = true;  // To prevent multiple clicks.\n",
              "          quickchartButtonEl.classList.add('colab-df-spinner');\n",
              "          try {\n",
              "            const charts = await google.colab.kernel.invokeFunction(\n",
              "                'suggestCharts', [key], {});\n",
              "          } catch (error) {\n",
              "            console.error('Error during call to suggestCharts:', error);\n",
              "          }\n",
              "          quickchartButtonEl.classList.remove('colab-df-spinner');\n",
              "          quickchartButtonEl.classList.add('colab-df-quickchart-complete');\n",
              "        }\n",
              "        (() => {\n",
              "          let quickchartButtonEl =\n",
              "            document.querySelector('#df-bc4c48c3-29a3-4f98-8b17-a939e3fb5403 button');\n",
              "          quickchartButtonEl.style.display =\n",
              "            google.colab.kernel.accessAllowed ? 'block' : 'none';\n",
              "        })();\n",
              "      </script>\n",
              "    </div>\n",
              "\n",
              "    </div>\n",
              "  </div>\n"
            ],
            "application/vnd.google.colaboratory.intrinsic+json": {
              "type": "dataframe",
              "variable_name": "df"
            }
          },
          "metadata": {},
          "execution_count": 18
        }
      ]
    },
    {
      "cell_type": "code",
      "source": [
        "# Preprocessing\n",
        "\n",
        "# Kolom penting\n",
        "kolom = ['Price','Distance','Landsize','Rooms','Regionname','Suburb','Address','Date']\n",
        "df = df[kolom].dropna()\n",
        "\n",
        "# Ubah tipe numerik\n",
        "for c in ['Price','Distance','Landsize','Rooms']:\n",
        "    df[c] = pd.to_numeric(df[c], errors='coerce')\n",
        "\n",
        "# Buat variabel bantu\n",
        "df['Landsize_vis'] = np.sqrt(df['Landsize'].replace(0, np.nan).fillna(1))\n",
        "df['Rooms_cat'] = df['Rooms'].apply(lambda r: str(int(r)) if r < 4 else '4+')\n",
        "df.head()\n"
      ],
      "metadata": {
        "colab": {
          "base_uri": "https://localhost:8080/",
          "height": 206
        },
        "id": "NH7TxrwGcz1b",
        "outputId": "066cfed7-5f63-4936-89ad-8310d8bc5f2a"
      },
      "execution_count": 19,
      "outputs": [
        {
          "output_type": "execute_result",
          "data": {
            "text/plain": [
              "       Price  Distance  Landsize  Rooms             Regionname      Suburb  \\\n",
              "0   870000.0       2.5     126.0    2.0  Northern Metropolitan  Abbotsford   \n",
              "1  1480000.0       2.5     202.0    2.0  Northern Metropolitan  Abbotsford   \n",
              "2  1035000.0       2.5     156.0    2.0  Northern Metropolitan  Abbotsford   \n",
              "3   870000.0       2.5       0.0    3.0  Northern Metropolitan  Abbotsford   \n",
              "4  1465000.0       2.5     134.0    3.0  Northern Metropolitan  Abbotsford   \n",
              "\n",
              "              Address        Date  Landsize_vis Rooms_cat  \n",
              "0       68 Studley St  2016-09-03     11.224972         2  \n",
              "1        85 Turner St  2016-12-03     14.212670         2  \n",
              "2     25 Bloomburg St  2016-02-04     12.489996         2  \n",
              "3  18/659 Victoria St  2016-02-04      1.000000         3  \n",
              "4        5 Charles St  2017-03-04     11.575837         3  "
            ],
            "text/html": [
              "\n",
              "  <div id=\"df-c1f801c1-79c1-4a78-9d35-c5b6e854a0af\" class=\"colab-df-container\">\n",
              "    <div>\n",
              "<style scoped>\n",
              "    .dataframe tbody tr th:only-of-type {\n",
              "        vertical-align: middle;\n",
              "    }\n",
              "\n",
              "    .dataframe tbody tr th {\n",
              "        vertical-align: top;\n",
              "    }\n",
              "\n",
              "    .dataframe thead th {\n",
              "        text-align: right;\n",
              "    }\n",
              "</style>\n",
              "<table border=\"1\" class=\"dataframe\">\n",
              "  <thead>\n",
              "    <tr style=\"text-align: right;\">\n",
              "      <th></th>\n",
              "      <th>Price</th>\n",
              "      <th>Distance</th>\n",
              "      <th>Landsize</th>\n",
              "      <th>Rooms</th>\n",
              "      <th>Regionname</th>\n",
              "      <th>Suburb</th>\n",
              "      <th>Address</th>\n",
              "      <th>Date</th>\n",
              "      <th>Landsize_vis</th>\n",
              "      <th>Rooms_cat</th>\n",
              "    </tr>\n",
              "  </thead>\n",
              "  <tbody>\n",
              "    <tr>\n",
              "      <th>0</th>\n",
              "      <td>870000.0</td>\n",
              "      <td>2.5</td>\n",
              "      <td>126.0</td>\n",
              "      <td>2.0</td>\n",
              "      <td>Northern Metropolitan</td>\n",
              "      <td>Abbotsford</td>\n",
              "      <td>68 Studley St</td>\n",
              "      <td>2016-09-03</td>\n",
              "      <td>11.224972</td>\n",
              "      <td>2</td>\n",
              "    </tr>\n",
              "    <tr>\n",
              "      <th>1</th>\n",
              "      <td>1480000.0</td>\n",
              "      <td>2.5</td>\n",
              "      <td>202.0</td>\n",
              "      <td>2.0</td>\n",
              "      <td>Northern Metropolitan</td>\n",
              "      <td>Abbotsford</td>\n",
              "      <td>85 Turner St</td>\n",
              "      <td>2016-12-03</td>\n",
              "      <td>14.212670</td>\n",
              "      <td>2</td>\n",
              "    </tr>\n",
              "    <tr>\n",
              "      <th>2</th>\n",
              "      <td>1035000.0</td>\n",
              "      <td>2.5</td>\n",
              "      <td>156.0</td>\n",
              "      <td>2.0</td>\n",
              "      <td>Northern Metropolitan</td>\n",
              "      <td>Abbotsford</td>\n",
              "      <td>25 Bloomburg St</td>\n",
              "      <td>2016-02-04</td>\n",
              "      <td>12.489996</td>\n",
              "      <td>2</td>\n",
              "    </tr>\n",
              "    <tr>\n",
              "      <th>3</th>\n",
              "      <td>870000.0</td>\n",
              "      <td>2.5</td>\n",
              "      <td>0.0</td>\n",
              "      <td>3.0</td>\n",
              "      <td>Northern Metropolitan</td>\n",
              "      <td>Abbotsford</td>\n",
              "      <td>18/659 Victoria St</td>\n",
              "      <td>2016-02-04</td>\n",
              "      <td>1.000000</td>\n",
              "      <td>3</td>\n",
              "    </tr>\n",
              "    <tr>\n",
              "      <th>4</th>\n",
              "      <td>1465000.0</td>\n",
              "      <td>2.5</td>\n",
              "      <td>134.0</td>\n",
              "      <td>3.0</td>\n",
              "      <td>Northern Metropolitan</td>\n",
              "      <td>Abbotsford</td>\n",
              "      <td>5 Charles St</td>\n",
              "      <td>2017-03-04</td>\n",
              "      <td>11.575837</td>\n",
              "      <td>3</td>\n",
              "    </tr>\n",
              "  </tbody>\n",
              "</table>\n",
              "</div>\n",
              "    <div class=\"colab-df-buttons\">\n",
              "\n",
              "  <div class=\"colab-df-container\">\n",
              "    <button class=\"colab-df-convert\" onclick=\"convertToInteractive('df-c1f801c1-79c1-4a78-9d35-c5b6e854a0af')\"\n",
              "            title=\"Convert this dataframe to an interactive table.\"\n",
              "            style=\"display:none;\">\n",
              "\n",
              "  <svg xmlns=\"http://www.w3.org/2000/svg\" height=\"24px\" viewBox=\"0 -960 960 960\">\n",
              "    <path d=\"M120-120v-720h720v720H120Zm60-500h600v-160H180v160Zm220 220h160v-160H400v160Zm0 220h160v-160H400v160ZM180-400h160v-160H180v160Zm440 0h160v-160H620v160ZM180-180h160v-160H180v160Zm440 0h160v-160H620v160Z\"/>\n",
              "  </svg>\n",
              "    </button>\n",
              "\n",
              "  <style>\n",
              "    .colab-df-container {\n",
              "      display:flex;\n",
              "      gap: 12px;\n",
              "    }\n",
              "\n",
              "    .colab-df-convert {\n",
              "      background-color: #E8F0FE;\n",
              "      border: none;\n",
              "      border-radius: 50%;\n",
              "      cursor: pointer;\n",
              "      display: none;\n",
              "      fill: #1967D2;\n",
              "      height: 32px;\n",
              "      padding: 0 0 0 0;\n",
              "      width: 32px;\n",
              "    }\n",
              "\n",
              "    .colab-df-convert:hover {\n",
              "      background-color: #E2EBFA;\n",
              "      box-shadow: 0px 1px 2px rgba(60, 64, 67, 0.3), 0px 1px 3px 1px rgba(60, 64, 67, 0.15);\n",
              "      fill: #174EA6;\n",
              "    }\n",
              "\n",
              "    .colab-df-buttons div {\n",
              "      margin-bottom: 4px;\n",
              "    }\n",
              "\n",
              "    [theme=dark] .colab-df-convert {\n",
              "      background-color: #3B4455;\n",
              "      fill: #D2E3FC;\n",
              "    }\n",
              "\n",
              "    [theme=dark] .colab-df-convert:hover {\n",
              "      background-color: #434B5C;\n",
              "      box-shadow: 0px 1px 3px 1px rgba(0, 0, 0, 0.15);\n",
              "      filter: drop-shadow(0px 1px 2px rgba(0, 0, 0, 0.3));\n",
              "      fill: #FFFFFF;\n",
              "    }\n",
              "  </style>\n",
              "\n",
              "    <script>\n",
              "      const buttonEl =\n",
              "        document.querySelector('#df-c1f801c1-79c1-4a78-9d35-c5b6e854a0af button.colab-df-convert');\n",
              "      buttonEl.style.display =\n",
              "        google.colab.kernel.accessAllowed ? 'block' : 'none';\n",
              "\n",
              "      async function convertToInteractive(key) {\n",
              "        const element = document.querySelector('#df-c1f801c1-79c1-4a78-9d35-c5b6e854a0af');\n",
              "        const dataTable =\n",
              "          await google.colab.kernel.invokeFunction('convertToInteractive',\n",
              "                                                    [key], {});\n",
              "        if (!dataTable) return;\n",
              "\n",
              "        const docLinkHtml = 'Like what you see? Visit the ' +\n",
              "          '<a target=\"_blank\" href=https://colab.research.google.com/notebooks/data_table.ipynb>data table notebook</a>'\n",
              "          + ' to learn more about interactive tables.';\n",
              "        element.innerHTML = '';\n",
              "        dataTable['output_type'] = 'display_data';\n",
              "        await google.colab.output.renderOutput(dataTable, element);\n",
              "        const docLink = document.createElement('div');\n",
              "        docLink.innerHTML = docLinkHtml;\n",
              "        element.appendChild(docLink);\n",
              "      }\n",
              "    </script>\n",
              "  </div>\n",
              "\n",
              "\n",
              "    <div id=\"df-9cbf25b6-76f1-4c95-8508-ac39b08fc8e8\">\n",
              "      <button class=\"colab-df-quickchart\" onclick=\"quickchart('df-9cbf25b6-76f1-4c95-8508-ac39b08fc8e8')\"\n",
              "                title=\"Suggest charts\"\n",
              "                style=\"display:none;\">\n",
              "\n",
              "<svg xmlns=\"http://www.w3.org/2000/svg\" height=\"24px\"viewBox=\"0 0 24 24\"\n",
              "     width=\"24px\">\n",
              "    <g>\n",
              "        <path d=\"M19 3H5c-1.1 0-2 .9-2 2v14c0 1.1.9 2 2 2h14c1.1 0 2-.9 2-2V5c0-1.1-.9-2-2-2zM9 17H7v-7h2v7zm4 0h-2V7h2v10zm4 0h-2v-4h2v4z\"/>\n",
              "    </g>\n",
              "</svg>\n",
              "      </button>\n",
              "\n",
              "<style>\n",
              "  .colab-df-quickchart {\n",
              "      --bg-color: #E8F0FE;\n",
              "      --fill-color: #1967D2;\n",
              "      --hover-bg-color: #E2EBFA;\n",
              "      --hover-fill-color: #174EA6;\n",
              "      --disabled-fill-color: #AAA;\n",
              "      --disabled-bg-color: #DDD;\n",
              "  }\n",
              "\n",
              "  [theme=dark] .colab-df-quickchart {\n",
              "      --bg-color: #3B4455;\n",
              "      --fill-color: #D2E3FC;\n",
              "      --hover-bg-color: #434B5C;\n",
              "      --hover-fill-color: #FFFFFF;\n",
              "      --disabled-bg-color: #3B4455;\n",
              "      --disabled-fill-color: #666;\n",
              "  }\n",
              "\n",
              "  .colab-df-quickchart {\n",
              "    background-color: var(--bg-color);\n",
              "    border: none;\n",
              "    border-radius: 50%;\n",
              "    cursor: pointer;\n",
              "    display: none;\n",
              "    fill: var(--fill-color);\n",
              "    height: 32px;\n",
              "    padding: 0;\n",
              "    width: 32px;\n",
              "  }\n",
              "\n",
              "  .colab-df-quickchart:hover {\n",
              "    background-color: var(--hover-bg-color);\n",
              "    box-shadow: 0 1px 2px rgba(60, 64, 67, 0.3), 0 1px 3px 1px rgba(60, 64, 67, 0.15);\n",
              "    fill: var(--button-hover-fill-color);\n",
              "  }\n",
              "\n",
              "  .colab-df-quickchart-complete:disabled,\n",
              "  .colab-df-quickchart-complete:disabled:hover {\n",
              "    background-color: var(--disabled-bg-color);\n",
              "    fill: var(--disabled-fill-color);\n",
              "    box-shadow: none;\n",
              "  }\n",
              "\n",
              "  .colab-df-spinner {\n",
              "    border: 2px solid var(--fill-color);\n",
              "    border-color: transparent;\n",
              "    border-bottom-color: var(--fill-color);\n",
              "    animation:\n",
              "      spin 1s steps(1) infinite;\n",
              "  }\n",
              "\n",
              "  @keyframes spin {\n",
              "    0% {\n",
              "      border-color: transparent;\n",
              "      border-bottom-color: var(--fill-color);\n",
              "      border-left-color: var(--fill-color);\n",
              "    }\n",
              "    20% {\n",
              "      border-color: transparent;\n",
              "      border-left-color: var(--fill-color);\n",
              "      border-top-color: var(--fill-color);\n",
              "    }\n",
              "    30% {\n",
              "      border-color: transparent;\n",
              "      border-left-color: var(--fill-color);\n",
              "      border-top-color: var(--fill-color);\n",
              "      border-right-color: var(--fill-color);\n",
              "    }\n",
              "    40% {\n",
              "      border-color: transparent;\n",
              "      border-right-color: var(--fill-color);\n",
              "      border-top-color: var(--fill-color);\n",
              "    }\n",
              "    60% {\n",
              "      border-color: transparent;\n",
              "      border-right-color: var(--fill-color);\n",
              "    }\n",
              "    80% {\n",
              "      border-color: transparent;\n",
              "      border-right-color: var(--fill-color);\n",
              "      border-bottom-color: var(--fill-color);\n",
              "    }\n",
              "    90% {\n",
              "      border-color: transparent;\n",
              "      border-bottom-color: var(--fill-color);\n",
              "    }\n",
              "  }\n",
              "</style>\n",
              "\n",
              "      <script>\n",
              "        async function quickchart(key) {\n",
              "          const quickchartButtonEl =\n",
              "            document.querySelector('#' + key + ' button');\n",
              "          quickchartButtonEl.disabled = true;  // To prevent multiple clicks.\n",
              "          quickchartButtonEl.classList.add('colab-df-spinner');\n",
              "          try {\n",
              "            const charts = await google.colab.kernel.invokeFunction(\n",
              "                'suggestCharts', [key], {});\n",
              "          } catch (error) {\n",
              "            console.error('Error during call to suggestCharts:', error);\n",
              "          }\n",
              "          quickchartButtonEl.classList.remove('colab-df-spinner');\n",
              "          quickchartButtonEl.classList.add('colab-df-quickchart-complete');\n",
              "        }\n",
              "        (() => {\n",
              "          let quickchartButtonEl =\n",
              "            document.querySelector('#df-9cbf25b6-76f1-4c95-8508-ac39b08fc8e8 button');\n",
              "          quickchartButtonEl.style.display =\n",
              "            google.colab.kernel.accessAllowed ? 'block' : 'none';\n",
              "        })();\n",
              "      </script>\n",
              "    </div>\n",
              "\n",
              "    </div>\n",
              "  </div>\n"
            ],
            "application/vnd.google.colaboratory.intrinsic+json": {
              "type": "dataframe",
              "variable_name": "df",
              "summary": "{\n  \"name\": \"df\",\n  \"rows\": 34856,\n  \"fields\": [\n    {\n      \"column\": \"Price\",\n      \"properties\": {\n        \"dtype\": \"number\",\n        \"std\": 394580.47541509575,\n        \"min\": 85000.0,\n        \"max\": 1832500.0,\n        \"num_unique_values\": 2259,\n        \"samples\": [\n          321000.0,\n          1702000.0,\n          905500.0\n        ],\n        \"semantic_type\": \"\",\n        \"description\": \"\"\n      }\n    },\n    {\n      \"column\": \"Distance\",\n      \"properties\": {\n        \"dtype\": \"number\",\n        \"std\": 5.900951811071277,\n        \"min\": 0.0,\n        \"max\": 25.4,\n        \"num_unique_values\": 169,\n        \"samples\": [\n          21.5,\n          13.6,\n          1.3\n        ],\n        \"semantic_type\": \"\",\n        \"description\": \"\"\n      }\n    },\n    {\n      \"column\": \"Landsize\",\n      \"properties\": {\n        \"dtype\": \"number\",\n        \"std\": 229.75088602768335,\n        \"min\": 0.0,\n        \"max\": 959.5,\n        \"num_unique_values\": 936,\n        \"samples\": [\n          727.0,\n          167.0,\n          709.0\n        ],\n        \"semantic_type\": \"\",\n        \"description\": \"\"\n      }\n    },\n    {\n      \"column\": \"Rooms\",\n      \"properties\": {\n        \"dtype\": \"number\",\n        \"std\": 0.9581490346997955,\n        \"min\": 1.0,\n        \"max\": 7.0,\n        \"num_unique_values\": 7,\n        \"samples\": [\n          2.0,\n          3.0,\n          6.0\n        ],\n        \"semantic_type\": \"\",\n        \"description\": \"\"\n      }\n    },\n    {\n      \"column\": \"Regionname\",\n      \"properties\": {\n        \"dtype\": \"category\",\n        \"num_unique_values\": 8,\n        \"samples\": [\n          \"Western Metropolitan\",\n          \"Eastern Victoria\",\n          \"Northern Metropolitan\"\n        ],\n        \"semantic_type\": \"\",\n        \"description\": \"\"\n      }\n    },\n    {\n      \"column\": \"Suburb\",\n      \"properties\": {\n        \"dtype\": \"category\",\n        \"num_unique_values\": 351,\n        \"samples\": [\n          \"Cairnlea\",\n          \"Coldstream\",\n          \"Laverton\"\n        ],\n        \"semantic_type\": \"\",\n        \"description\": \"\"\n      }\n    },\n    {\n      \"column\": \"Address\",\n      \"properties\": {\n        \"dtype\": \"string\",\n        \"num_unique_values\": 34009,\n        \"samples\": [\n          \"7 Chavasse St\",\n          \"24 Steele St\",\n          \"2/102 Wood St\"\n        ],\n        \"semantic_type\": \"\",\n        \"description\": \"\"\n      }\n    },\n    {\n      \"column\": \"Date\",\n      \"properties\": {\n        \"dtype\": \"object\",\n        \"num_unique_values\": 78,\n        \"samples\": [\n          \"2016-06-12\",\n          \"2016-09-03\",\n          \"2017-03-11\"\n        ],\n        \"semantic_type\": \"\",\n        \"description\": \"\"\n      }\n    },\n    {\n      \"column\": \"Landsize_vis\",\n      \"properties\": {\n        \"dtype\": \"number\",\n        \"std\": 7.065681184019223,\n        \"min\": 1.0,\n        \"max\": 30.97579700346708,\n        \"num_unique_values\": 935,\n        \"samples\": [\n          26.962937525425527,\n          12.922847983320086,\n          26.627053911388696\n        ],\n        \"semantic_type\": \"\",\n        \"description\": \"\"\n      }\n    },\n    {\n      \"column\": \"Rooms_cat\",\n      \"properties\": {\n        \"dtype\": \"category\",\n        \"num_unique_values\": 4,\n        \"samples\": [\n          \"3\",\n          \"1\",\n          \"2\"\n        ],\n        \"semantic_type\": \"\",\n        \"description\": \"\"\n      }\n    }\n  ]\n}"
            }
          },
          "metadata": {},
          "execution_count": 19
        }
      ]
    },
    {
      "cell_type": "code",
      "source": [
        "# --- 1. Install & aktifkan widget ---\n",
        "!pip install -q plotly pandas numpy ipywidgets==8.1.1\n",
        "from google.colab import output\n",
        "output.enable_custom_widget_manager()\n",
        "\n",
        "# --- 2. Import library ---\n",
        "import pandas as pd\n",
        "import numpy as np\n",
        "import plotly.graph_objects as go\n",
        "from ipywidgets import widgets, HBox, VBox, Output\n",
        "from IPython.display import display\n",
        "from google.colab import files\n",
        "import io\n",
        "\n",
        "# --- 3. Upload dataset ---\n",
        "print(\"Silakan upload file dataset modul 4 (misalnya Melbourne_housing_Clean.csv)\")\n",
        "uploaded = files.upload()\n",
        "fname = list(uploaded.keys())[0]\n",
        "df = pd.read_csv(io.BytesIO(uploaded[fname]))\n",
        "print(\"Dataset berhasil dimuat:\", df.shape)\n",
        "\n",
        "# --- 4. Preprocessing & Sampling agar visual tidak padat ---\n",
        "kolom = ['Price','Distance','Landsize','Rooms','Regionname','Suburb','Address','Date']\n",
        "df = df[kolom].dropna()\n",
        "for c in ['Price','Distance','Landsize','Rooms']:\n",
        "    df[c] = pd.to_numeric(df[c], errors='coerce')\n",
        "df = df.dropna(subset=['Price','Distance','Landsize','Rooms'])\n",
        "\n",
        "# Ambil sample agar visual ringan (tanpa ubah distribusi)\n",
        "df = df.sample(3000, random_state=42)\n",
        "\n",
        "# Buat variabel bantu\n",
        "df['Landsize_vis'] = np.sqrt(df['Landsize'].replace(0, np.nan).fillna(1))\n",
        "df['Rooms_cat'] = df['Rooms'].apply(lambda r: str(int(r)) if r < 4 else '4+')\n",
        "\n",
        "# --- 5. Widget filter interaktif ---\n",
        "regions = sorted(df['Regionname'].unique())\n",
        "\n",
        "region_select = widgets.SelectMultiple(\n",
        "    options=regions,\n",
        "    value=tuple(regions[:3]),  # tampilkan subset awal\n",
        "    description='Region',\n",
        "    rows=5,\n",
        "    layout=widgets.Layout(width='260px')\n",
        ")\n",
        "\n",
        "price_min, price_max = int(df['Price'].min()), int(df['Price'].max())\n",
        "price_slider = widgets.IntRangeSlider(\n",
        "    value=[price_min, int(price_max*0.6)],\n",
        "    min=price_min,\n",
        "    max=price_max,\n",
        "    step=10000,\n",
        "    description='Price range',\n",
        "    layout=widgets.Layout(width='600px')\n",
        ")\n",
        "\n",
        "fig_out = Output()\n",
        "stats_out = Output()\n",
        "\n",
        "# --- 6. Fungsi membuat figure ---\n",
        "def make_figure(df_f):\n",
        "    # warna lembut (ColorBrewer-style)\n",
        "    colors = ['#8dd3c7','#ffffb3','#bebada','#fb8072','#80b1d3',\n",
        "              '#fdb462','#b3de69','#fccde5','#d9d9d9','#bc80bd']\n",
        "    rooms_sorted = sorted(df_f['Rooms_cat'].unique(), key=lambda x: (int(x[0]) if x!='4+' else 4))\n",
        "    traces = []\n",
        "\n",
        "    for i, r in enumerate(rooms_sorted):\n",
        "        sub = df_f[df_f['Rooms_cat']==r]\n",
        "        traces.append(go.Scatter(\n",
        "            x=sub['Distance'],\n",
        "            y=sub['Price'],\n",
        "            mode='markers',\n",
        "            name=f'Rooms {r}',\n",
        "            marker=dict(\n",
        "                size=np.clip(sub['Landsize_vis']/5, 4, 25),\n",
        "                color=colors[i % len(colors)],\n",
        "                opacity=0.65,\n",
        "                line=dict(width=0.5, color='DimGray')\n",
        "            ),\n",
        "            customdata=sub[['Suburb','Address','Rooms','Landsize','Distance','Price','Date','Regionname']].values,\n",
        "            hovertemplate=(\n",
        "                \"<b>%{customdata[0]}</b><br>%{customdata[1]}<br>\"\n",
        "                \"Rooms: %{customdata[2]} • Landsize: %{customdata[3]} m²<br>\"\n",
        "                \"Distance: %{x} km • Price: $%{y}<br>\"\n",
        "                \"Region: %{customdata[7]}<extra></extra>\"\n",
        "            ),\n",
        "            selected=dict(marker=dict(opacity=1, color='black', size=14)),\n",
        "            unselected=dict(marker=dict(opacity=0.15))\n",
        "        ))\n",
        "\n",
        "    layout = go.Layout(\n",
        "        title=dict(\n",
        "            text=\"<b>Pengaruh Distance, Landsize, dan Rooms terhadap Price</b>\",\n",
        "            x=0.5, xanchor='center', font=dict(size=20)\n",
        "        ),\n",
        "        xaxis=dict(title='Distance dari CBD (km)', gridcolor='LightGrey'),\n",
        "        yaxis=dict(title='Price (AUD)', tickprefix='$', gridcolor='LightGrey'),\n",
        "        plot_bgcolor='rgba(245,245,245,0.95)',\n",
        "        paper_bgcolor='rgba(250,250,250,1)',\n",
        "        dragmode='lasso',\n",
        "        height=650,\n",
        "        legend=dict(title='Rooms', orientation='h', y=-0.2)\n",
        "    )\n",
        "    return go.FigureWidget(data=traces, layout=layout)\n",
        "\n",
        "# --- 7. Fungsi filter & update ---\n",
        "def filter_df():\n",
        "    reg = list(region_select.value)\n",
        "    pmin, pmax = price_slider.value\n",
        "    return df[(df['Regionname'].isin(reg)) & (df['Price'].between(pmin, pmax))]\n",
        "\n",
        "def update(_=None):\n",
        "    dff = filter_df()\n",
        "    with fig_out:\n",
        "        fig_out.clear_output(wait=True)\n",
        "        fig = make_figure(dff)\n",
        "        display(fig)\n",
        "\n",
        "        def on_select(trace, points, selector):\n",
        "            idx = points.point_inds\n",
        "            if not idx:\n",
        "                with stats_out:\n",
        "                    stats_out.clear_output()\n",
        "                    print(\"Tidak ada titik yang dipilih.\")\n",
        "                return\n",
        "            rows = trace.customdata[idx]\n",
        "            s = pd.DataFrame(rows, columns=['Suburb','Address','Rooms','Landsize','Distance','Price','Date','Regionname'])\n",
        "            s[['Price','Distance','Landsize']] = s[['Price','Distance','Landsize']].apply(pd.to_numeric, errors='coerce')\n",
        "\n",
        "            with stats_out:\n",
        "                stats_out.clear_output()\n",
        "                print(f\"Jumlah titik terpilih: {len(s)}\")\n",
        "                print(f\"Rata-rata Price: ${s['Price'].mean():,.0f}\")\n",
        "                print(f\"Median Landsize: {s['Landsize'].median():,.0f} m²\")\n",
        "                print(f\"Rata-rata Distance: {s['Distance'].mean():.2f} km\")\n",
        "                print(\"Distribusi Rooms:\")\n",
        "                display(s['Rooms'].value_counts().sort_index())\n",
        "\n",
        "        for t in fig.data:\n",
        "            t.on_selection(on_select)\n",
        "\n",
        "region_select.observe(update, names='value')\n",
        "price_slider.observe(update, names='value')\n",
        "\n",
        "# --- 8. Render interface ---\n",
        "update()\n",
        "controls = HBox([region_select, price_slider])\n",
        "box = VBox([controls, fig_out, stats_out])\n",
        "display(box)\n"
      ],
      "metadata": {
        "colab": {
          "base_uri": "https://localhost:8080/",
          "height": 869,
          "referenced_widgets": [
            "bac3dec642354520b287f8f663f23208",
            "8d89c7f17a4749a194354622b6b1901d",
            "308d8afac0674bec98329a61ffa4c014",
            "0ad437fb9a3748f8919f074570a897ff",
            "e3b2b4dc2b104c39979936fc7bfa6b53",
            "90264187eed64e6db607d7baab0eb80c",
            "ca46c4669c1c4b02aa0ab660c01391c0",
            "85c7f025d090480b888d43d8d46af424",
            "47fc02ed07d746b6aafa2f1bcbb57a96",
            "af60750a0cb145b5b1dc96ca742ff2c4",
            "018132c748794bc989c2b409fcf689a9",
            "8cbeda3ee63c490bab1cb3dc1db95db5",
            "9e2673fc00134315816ccd6b01df3724",
            "32d9bee1fa61414a9fc09bf2e9a5ce91",
            "35dc168dc994437badf3a8c25e1a1d74",
            "5d5f322c4b4b4beda6bdd06b59def7ab"
          ]
        },
        "id": "6Cixf2kWeC2t",
        "outputId": "1e9eb0ad-2376-4f1e-a8f6-7dec1360b373"
      },
      "execution_count": 20,
      "outputs": [
        {
          "output_type": "stream",
          "name": "stdout",
          "text": [
            "Silakan upload file dataset modul 4 (misalnya Melbourne_housing_Clean.csv)\n"
          ]
        },
        {
          "output_type": "display_data",
          "data": {
            "text/plain": [
              "<IPython.core.display.HTML object>"
            ],
            "text/html": [
              "\n",
              "     <input type=\"file\" id=\"files-81638823-cb87-4325-b9dd-485bcf864b6b\" name=\"files[]\" multiple disabled\n",
              "        style=\"border:none\" />\n",
              "     <output id=\"result-81638823-cb87-4325-b9dd-485bcf864b6b\">\n",
              "      Upload widget is only available when the cell has been executed in the\n",
              "      current browser session. Please rerun this cell to enable.\n",
              "      </output>\n",
              "      <script>// Copyright 2017 Google LLC\n",
              "//\n",
              "// Licensed under the Apache License, Version 2.0 (the \"License\");\n",
              "// you may not use this file except in compliance with the License.\n",
              "// You may obtain a copy of the License at\n",
              "//\n",
              "//      http://www.apache.org/licenses/LICENSE-2.0\n",
              "//\n",
              "// Unless required by applicable law or agreed to in writing, software\n",
              "// distributed under the License is distributed on an \"AS IS\" BASIS,\n",
              "// WITHOUT WARRANTIES OR CONDITIONS OF ANY KIND, either express or implied.\n",
              "// See the License for the specific language governing permissions and\n",
              "// limitations under the License.\n",
              "\n",
              "/**\n",
              " * @fileoverview Helpers for google.colab Python module.\n",
              " */\n",
              "(function(scope) {\n",
              "function span(text, styleAttributes = {}) {\n",
              "  const element = document.createElement('span');\n",
              "  element.textContent = text;\n",
              "  for (const key of Object.keys(styleAttributes)) {\n",
              "    element.style[key] = styleAttributes[key];\n",
              "  }\n",
              "  return element;\n",
              "}\n",
              "\n",
              "// Max number of bytes which will be uploaded at a time.\n",
              "const MAX_PAYLOAD_SIZE = 100 * 1024;\n",
              "\n",
              "function _uploadFiles(inputId, outputId) {\n",
              "  const steps = uploadFilesStep(inputId, outputId);\n",
              "  const outputElement = document.getElementById(outputId);\n",
              "  // Cache steps on the outputElement to make it available for the next call\n",
              "  // to uploadFilesContinue from Python.\n",
              "  outputElement.steps = steps;\n",
              "\n",
              "  return _uploadFilesContinue(outputId);\n",
              "}\n",
              "\n",
              "// This is roughly an async generator (not supported in the browser yet),\n",
              "// where there are multiple asynchronous steps and the Python side is going\n",
              "// to poll for completion of each step.\n",
              "// This uses a Promise to block the python side on completion of each step,\n",
              "// then passes the result of the previous step as the input to the next step.\n",
              "function _uploadFilesContinue(outputId) {\n",
              "  const outputElement = document.getElementById(outputId);\n",
              "  const steps = outputElement.steps;\n",
              "\n",
              "  const next = steps.next(outputElement.lastPromiseValue);\n",
              "  return Promise.resolve(next.value.promise).then((value) => {\n",
              "    // Cache the last promise value to make it available to the next\n",
              "    // step of the generator.\n",
              "    outputElement.lastPromiseValue = value;\n",
              "    return next.value.response;\n",
              "  });\n",
              "}\n",
              "\n",
              "/**\n",
              " * Generator function which is called between each async step of the upload\n",
              " * process.\n",
              " * @param {string} inputId Element ID of the input file picker element.\n",
              " * @param {string} outputId Element ID of the output display.\n",
              " * @return {!Iterable<!Object>} Iterable of next steps.\n",
              " */\n",
              "function* uploadFilesStep(inputId, outputId) {\n",
              "  const inputElement = document.getElementById(inputId);\n",
              "  inputElement.disabled = false;\n",
              "\n",
              "  const outputElement = document.getElementById(outputId);\n",
              "  outputElement.innerHTML = '';\n",
              "\n",
              "  const pickedPromise = new Promise((resolve) => {\n",
              "    inputElement.addEventListener('change', (e) => {\n",
              "      resolve(e.target.files);\n",
              "    });\n",
              "  });\n",
              "\n",
              "  const cancel = document.createElement('button');\n",
              "  inputElement.parentElement.appendChild(cancel);\n",
              "  cancel.textContent = 'Cancel upload';\n",
              "  const cancelPromise = new Promise((resolve) => {\n",
              "    cancel.onclick = () => {\n",
              "      resolve(null);\n",
              "    };\n",
              "  });\n",
              "\n",
              "  // Wait for the user to pick the files.\n",
              "  const files = yield {\n",
              "    promise: Promise.race([pickedPromise, cancelPromise]),\n",
              "    response: {\n",
              "      action: 'starting',\n",
              "    }\n",
              "  };\n",
              "\n",
              "  cancel.remove();\n",
              "\n",
              "  // Disable the input element since further picks are not allowed.\n",
              "  inputElement.disabled = true;\n",
              "\n",
              "  if (!files) {\n",
              "    return {\n",
              "      response: {\n",
              "        action: 'complete',\n",
              "      }\n",
              "    };\n",
              "  }\n",
              "\n",
              "  for (const file of files) {\n",
              "    const li = document.createElement('li');\n",
              "    li.append(span(file.name, {fontWeight: 'bold'}));\n",
              "    li.append(span(\n",
              "        `(${file.type || 'n/a'}) - ${file.size} bytes, ` +\n",
              "        `last modified: ${\n",
              "            file.lastModifiedDate ? file.lastModifiedDate.toLocaleDateString() :\n",
              "                                    'n/a'} - `));\n",
              "    const percent = span('0% done');\n",
              "    li.appendChild(percent);\n",
              "\n",
              "    outputElement.appendChild(li);\n",
              "\n",
              "    const fileDataPromise = new Promise((resolve) => {\n",
              "      const reader = new FileReader();\n",
              "      reader.onload = (e) => {\n",
              "        resolve(e.target.result);\n",
              "      };\n",
              "      reader.readAsArrayBuffer(file);\n",
              "    });\n",
              "    // Wait for the data to be ready.\n",
              "    let fileData = yield {\n",
              "      promise: fileDataPromise,\n",
              "      response: {\n",
              "        action: 'continue',\n",
              "      }\n",
              "    };\n",
              "\n",
              "    // Use a chunked sending to avoid message size limits. See b/62115660.\n",
              "    let position = 0;\n",
              "    do {\n",
              "      const length = Math.min(fileData.byteLength - position, MAX_PAYLOAD_SIZE);\n",
              "      const chunk = new Uint8Array(fileData, position, length);\n",
              "      position += length;\n",
              "\n",
              "      const base64 = btoa(String.fromCharCode.apply(null, chunk));\n",
              "      yield {\n",
              "        response: {\n",
              "          action: 'append',\n",
              "          file: file.name,\n",
              "          data: base64,\n",
              "        },\n",
              "      };\n",
              "\n",
              "      let percentDone = fileData.byteLength === 0 ?\n",
              "          100 :\n",
              "          Math.round((position / fileData.byteLength) * 100);\n",
              "      percent.textContent = `${percentDone}% done`;\n",
              "\n",
              "    } while (position < fileData.byteLength);\n",
              "  }\n",
              "\n",
              "  // All done.\n",
              "  yield {\n",
              "    response: {\n",
              "      action: 'complete',\n",
              "    }\n",
              "  };\n",
              "}\n",
              "\n",
              "scope.google = scope.google || {};\n",
              "scope.google.colab = scope.google.colab || {};\n",
              "scope.google.colab._files = {\n",
              "  _uploadFiles,\n",
              "  _uploadFilesContinue,\n",
              "};\n",
              "})(self);\n",
              "</script> "
            ]
          },
          "metadata": {}
        },
        {
          "output_type": "stream",
          "name": "stdout",
          "text": [
            "Saving Melbourne_housing_Clean.csv to Melbourne_housing_Clean (5).csv\n",
            "Dataset berhasil dimuat: (34856, 21)\n"
          ]
        },
        {
          "output_type": "display_data",
          "data": {
            "text/plain": [
              "VBox(children=(HBox(children=(SelectMultiple(description='Region', index=(0, 1, 2), layout=Layout(width='260px…"
            ],
            "application/vnd.jupyter.widget-view+json": {
              "version_major": 2,
              "version_minor": 0,
              "model_id": "bac3dec642354520b287f8f663f23208"
            }
          },
          "metadata": {
            "application/vnd.jupyter.widget-view+json": {
              "colab": {
                "custom_widget_manager": {
                  "url": "https://ssl.gstatic.com/colaboratory-static/widgets/colab-cdn-widget-manager/2b70e893a8ba7c0f/manager.min.js"
                }
              }
            }
          }
        }
      ]
    },
    {
      "cell_type": "markdown",
      "source": [
        "# Laporan Visualisasi Interaktif Modul 5\n",
        "### *Implementasi Eksplorasi Multivariat dengan Plotly Graph Objects*\n",
        "\n",
        "> **Insight kompleks:** Hubungan antara **jarak ke pusat kota (Distance)**, **luas tanah (Landsize)**, dan **jumlah kamar (Rooms)** terhadap **harga properti (Price)** di wilayah metropolitan Melbourne.\n",
        "\n",
        "---\n",
        "\n",
        "## 1. Tujuan Visualisasi\n",
        "Visualisasi ini dirancang untuk **mendukung eksplorasi terbuka** terhadap data properti Melbourne agar pengguna dapat:\n",
        "- Mengamati **pola hubungan non-linear** antara *Distance* dan *Price*,  \n",
        "- Melihat pengaruh *Rooms* dan *Landsize* terhadap harga dalam konteks geografis (*Regionname*),  \n",
        "- Menyusun **hipotesis baru**, seperti:  \n",
        "  *“Apakah rumah besar dengan 4+ kamar tetap mahal meski jauh dari pusat kota?”*\n",
        "\n",
        "---\n",
        "\n",
        "## 2. Tujuan Kognitif Tiap Interaksi\n",
        "\n",
        "| Jenis Interaksi | Tujuan Kognitif | Variabel Terkait |\n",
        "|------------------|------------------|------------------|\n",
        "| **Hover** | Mendukung *data-driven attention* — pengguna fokus ke detail titik tertentu tanpa kehilangan konteks global. *(Ware, 2013)* | Menampilkan detail dari `Suburb`, `Rooms`, `Landsize`, `Price`, `Distance`, dan `Regionname`. |\n",
        "| **Filter (Region & Price range)** | Memungkinkan *comparison-by-subset* *(Shneiderman, 1996)* — membandingkan harga antar wilayah dan kisaran harga tertentu. | Variabel `Regionname` dan `Price`. |\n",
        "| **Selection (Lasso)** | Mendukung *analytical reasoning* — pengguna dapat memilih kelompok titik untuk menghitung statistik rata-rata dan distribusi. | Variabel `Rooms`, `Landsize`, `Distance`, dan `Price`. |\n",
        "\n",
        "Interaksi-interaksi ini mengikuti **hierarki eksplorasi data Shneiderman’s Mantra (1996)**:  \n",
        "> “Overview first, zoom and filter, then details-on-demand.”\n",
        "\n",
        "---\n",
        "\n",
        "## 3. Perbandingan dengan Alternatif Visual Encoding\n",
        "\n",
        "| Visual Encoding | Kelebihan | Kekurangan |\n",
        "|------------------|-----------|-------------|\n",
        "| **Bubble Scatter Plot (dipilih)** | Menampilkan empat variabel sekaligus (X, Y, warna, ukuran) dan cocok untuk data kontinu. | Dapat padat bila jumlah titik besar (diatasi dengan sampling dan transparansi). |\n",
        "| **Heatmap** | Jelas untuk distribusi kepadatan. | Tidak bisa menampilkan variabel numerik tambahan seperti *Landsize* dan *Rooms*. |\n",
        "| **3D Scatter Plot** | Menarik dan dinamis. | Persepsi kedalaman sering bias, sulit ditafsirkan (Ware, 2013). |\n",
        "\n",
        "Maka, **Bubble Scatter Plot** tetap menjadi pilihan paling efektif karena menyeimbangkan *complexity* dan *clarity*.\n",
        "\n",
        "---\n",
        "\n",
        "## 4. Justifikasi Ilmiah Desain Visual\n",
        "\n",
        "| Komponen Desain | Keputusan | Dasar Ilmiah |\n",
        "|------------------|------------|---------------|\n",
        "| **Jenis visual: Bubble Scatter Plot** | Menampilkan hubungan multivariat antara `Distance`, `Price`, `Landsize`, dan `Rooms`. | Posisi X-Y adalah encoding paling akurat untuk nilai kontinu. *(Cleveland & McGill, 1984)* |\n",
        "| **Skema warna pastel (ColorBrewer-style)** | Warna lembut membantu pembedaan kategori tanpa overstimulation. | Berdasarkan *ColorBrewer Guidelines* (Brewer, 1999). |\n",
        "| **Ukuran bubble ∝ √Landsize** | Menghindari bias persepsi area terhadap luas tanah. | Berdasarkan *Stevens’ Power Law* (1957) bahwa persepsi area bersifat non-linear. |\n",
        "| **Opacity 0.65 dan sampling 3000 titik** | Mengurangi overplotting dan meningkatkan keterbacaan. | Disarankan oleh *Heer & Bostock (2010)* untuk data besar. |\n",
        "| **Layout dengan legend horizontal & background abu lembut** | Menjaga fokus pengguna pada pola utama. | Prinsip *Gestalt Proximity* (Ware, 2013). |\n",
        "| **Interaksi Hover, Filter, Selection** | Meningkatkan eksplorasi berbasis hipotesis. | Berdasarkan *Information Visualization Pipeline* (Card et al., 1999). |\n",
        "\n",
        "---\n",
        "\n",
        "## 5. Kategori Ilmiah Interaksi\n",
        "\n",
        "| Interaksi | Kategori (Yi et al., 2007) |\n",
        "|------------|-----------------------------|\n",
        "| Hover | **Explore** – mengeksplorasi data dengan menyorot detail tertentu. |\n",
        "| Filter | **Select** – memilih subset data untuk fokus analisis. |\n",
        "| Selection (Lasso) | **Encode / Reconfigure** – menyesuaikan representasi berdasarkan subset yang dipilih. |\n",
        "\n",
        "📚 *Yi, J. S., Kang, Y. A., Stasko, J., & Jacko, J. A. (2007). Toward a deeper understanding of the role of interaction in information visualization. IEEE TVCG, 13(6), 1224–1231.*\n",
        "\n",
        "---\n",
        "\n",
        "## 6. Kesimpulan\n",
        "Visualisasi interaktif ini:\n",
        "- Menunjukkan bahwa **harga rumah (Price)** cenderung **menurun seiring bertambahnya Distance**,  \n",
        "- Namun **jumlah kamar (Rooms)** dan **luas tanah (Landsize)** memiliki efek peningkatan harga,  \n",
        "- Memberikan ruang eksplorasi melalui *hover*, *filter*, dan *selection*,  \n",
        "- Dirancang berdasarkan prinsip ilmiah untuk mendukung persepsi dan analisis yang efektif.\n",
        "\n",
        "Visual ini bukan hanya menyampaikan insight, tetapi juga **memfasilitasi pengguna untuk merumuskan hipotesis baru** tentang dinamika harga properti di Melbourne.\n",
        "\n",
        "---\n",
        "\n",
        "## 7. Daftar Referensi Akademik\n",
        "- Brewer, C. A. (1999). *Color Use Guidelines for Mapping and Visualization.*  \n",
        "- Card, S., Mackinlay, J., & Shneiderman, B. (1999). *Readings in Information Visualization: Using Vision to Think.*  \n",
        "- Cleveland, W. S., & McGill, R. (1984). *Graphical Perception: Theory, Experimentation, and Application to the Development of Graphical Methods.*  \n",
        "- Heer, J., & Bostock, M. (2010). *Crowdsourcing Graphical Perception: Using Mechanical Turk to Assess Visualization Design.*  \n",
        "- Shneiderman, B. (1996). *The Eyes Have It: A Task by Data Type Taxonomy for Information Visualizations.*  \n",
        "- Stevens, S. S. (1957). *On the Psychophysical Law.* Psychological Review, 64(3), 153–181.  \n",
        "- Ware, C. (2013). *Information Visualization: Perception for Design.*  \n",
        "- Yi, J. S., Kang, Y. A., Stasko, J., & Jacko, J. A. (2007). *Toward a deeper understanding of the role of interaction in information visualization.*\n",
        "\n",
        "---\n"
      ],
      "metadata": {
        "id": "Tl07X9IcgYkl"
      }
    },
    {
      "cell_type": "code",
      "source": [
        "import nbformat\n",
        "\n",
        "path = '/content/Modul 5_Visualisasi Interaktif.ipynb'  # ubah sesuai nama filenya\n",
        "nb = nbformat.read(path, as_version=4)\n",
        "\n",
        "# Hapus metadata ipywidgets biar valid di GitHub/NBViewer\n",
        "if 'widgets' in nb['metadata']:\n",
        "    del nb['metadata']['widgets']\n",
        "\n",
        "nbformat.write(nb, path)\n",
        "print(\"✅ Metadata widgets dihapus. File siap diupload ke GitHub.\")\n"
      ],
      "metadata": {
        "colab": {
          "base_uri": "https://localhost:8080/"
        },
        "id": "mxYo-6eCnOHz",
        "outputId": "a28441d4-1deb-43cb-cf08-1e295079ae7e"
      },
      "execution_count": 21,
      "outputs": [
        {
          "output_type": "stream",
          "name": "stdout",
          "text": [
            "✅ Metadata widgets dihapus. File siap diupload ke GitHub.\n"
          ]
        }
      ]
    }
  ]
}